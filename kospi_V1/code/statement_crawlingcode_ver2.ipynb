{
 "cells": [
  {
   "cell_type": "code",
   "execution_count": 1,
   "metadata": {
    "scrolled": true
   },
   "outputs": [],
   "source": [
    "import requests # 웹 페이지 소스를 얻기 위한 패키지(기본 내장 패키지이다.)\n",
    "from bs4 import BeautifulSoup # 웹 페이지 소스를 얻기 위한 패키지, 더 간단히 얻을 수 있다는 장점이 있다고 한다.\n",
    "from datetime import datetime                                # (!pip install beautifulsoup4 으로 다운받을 수 있다.)\n",
    "import pandas as pd # 데이터를 처리하기 위한 가장 기본적인 패키지\n",
    "import time # 사이트를 불러올 때, 작업 지연시간을 지정해주기 위한 패키지이다. (사이트가 늦게 켜지면 에러가 발생하기 때문)\n",
    "import urllib.request #\n",
    "from selenium.webdriver import Chrome\n",
    "from selenium import webdriver\n",
    "import json\n",
    "import re     \n",
    "from selenium.webdriver.chrome.options import Options\n",
    "from selenium.webdriver.common.keys import Keys\n",
    "import datetime as dt"
   ]
  },
  {
   "cell_type": "code",
   "execution_count": 2,
   "metadata": {},
   "outputs": [
    {
     "name": "stdout",
     "output_type": "stream",
     "text": [
      "['https://finance.naver.com/item/coinfo.nhn?code=017670&target=finsum_more']\n",
      "['https://finance.naver.com/item/coinfo.nhn?code=017670&target=finsum_more', 'https://finance.naver.com/item/coinfo.nhn?code=066570&target=finsum_more']\n",
      "['https://finance.naver.com/item/coinfo.nhn?code=017670&target=finsum_more', 'https://finance.naver.com/item/coinfo.nhn?code=066570&target=finsum_more', 'https://finance.naver.com/item/coinfo.nhn?code=139480&target=finsum_more']\n",
      "['https://finance.naver.com/item/coinfo.nhn?code=017670&target=finsum_more', 'https://finance.naver.com/item/coinfo.nhn?code=066570&target=finsum_more', 'https://finance.naver.com/item/coinfo.nhn?code=139480&target=finsum_more', 'https://finance.naver.com/item/coinfo.nhn?code=000270&target=finsum_more']\n",
      "['https://finance.naver.com/item/coinfo.nhn?code=017670&target=finsum_more', 'https://finance.naver.com/item/coinfo.nhn?code=066570&target=finsum_more', 'https://finance.naver.com/item/coinfo.nhn?code=139480&target=finsum_more', 'https://finance.naver.com/item/coinfo.nhn?code=000270&target=finsum_more', 'https://finance.naver.com/item/coinfo.nhn?code=000660&target=finsum_more']\n",
      "['https://finance.naver.com/item/coinfo.nhn?code=017670&target=finsum_more', 'https://finance.naver.com/item/coinfo.nhn?code=066570&target=finsum_more', 'https://finance.naver.com/item/coinfo.nhn?code=139480&target=finsum_more', 'https://finance.naver.com/item/coinfo.nhn?code=000270&target=finsum_more', 'https://finance.naver.com/item/coinfo.nhn?code=000660&target=finsum_more', 'https://finance.naver.com/item/coinfo.nhn?code=015760&target=finsum_more']\n",
      "['https://finance.naver.com/item/coinfo.nhn?code=017670&target=finsum_more', 'https://finance.naver.com/item/coinfo.nhn?code=066570&target=finsum_more', 'https://finance.naver.com/item/coinfo.nhn?code=139480&target=finsum_more', 'https://finance.naver.com/item/coinfo.nhn?code=000270&target=finsum_more', 'https://finance.naver.com/item/coinfo.nhn?code=000660&target=finsum_more', 'https://finance.naver.com/item/coinfo.nhn?code=015760&target=finsum_more', 'https://finance.naver.com/item/coinfo.nhn?code=069960&target=finsum_more']\n",
      "['https://finance.naver.com/item/coinfo.nhn?code=017670&target=finsum_more', 'https://finance.naver.com/item/coinfo.nhn?code=066570&target=finsum_more', 'https://finance.naver.com/item/coinfo.nhn?code=139480&target=finsum_more', 'https://finance.naver.com/item/coinfo.nhn?code=000270&target=finsum_more', 'https://finance.naver.com/item/coinfo.nhn?code=000660&target=finsum_more', 'https://finance.naver.com/item/coinfo.nhn?code=015760&target=finsum_more', 'https://finance.naver.com/item/coinfo.nhn?code=069960&target=finsum_more', 'https://finance.naver.com/item/coinfo.nhn?code=068270&target=finsum_more']\n",
      "['https://finance.naver.com/item/coinfo.nhn?code=017670&target=finsum_more', 'https://finance.naver.com/item/coinfo.nhn?code=066570&target=finsum_more', 'https://finance.naver.com/item/coinfo.nhn?code=139480&target=finsum_more', 'https://finance.naver.com/item/coinfo.nhn?code=000270&target=finsum_more', 'https://finance.naver.com/item/coinfo.nhn?code=000660&target=finsum_more', 'https://finance.naver.com/item/coinfo.nhn?code=015760&target=finsum_more', 'https://finance.naver.com/item/coinfo.nhn?code=069960&target=finsum_more', 'https://finance.naver.com/item/coinfo.nhn?code=068270&target=finsum_more', 'https://finance.naver.com/item/coinfo.nhn?code=105560&target=finsum_more']\n",
      "['https://finance.naver.com/item/coinfo.nhn?code=017670&target=finsum_more', 'https://finance.naver.com/item/coinfo.nhn?code=066570&target=finsum_more', 'https://finance.naver.com/item/coinfo.nhn?code=139480&target=finsum_more', 'https://finance.naver.com/item/coinfo.nhn?code=000270&target=finsum_more', 'https://finance.naver.com/item/coinfo.nhn?code=000660&target=finsum_more', 'https://finance.naver.com/item/coinfo.nhn?code=015760&target=finsum_more', 'https://finance.naver.com/item/coinfo.nhn?code=069960&target=finsum_more', 'https://finance.naver.com/item/coinfo.nhn?code=068270&target=finsum_more', 'https://finance.naver.com/item/coinfo.nhn?code=105560&target=finsum_more', 'https://finance.naver.com/item/coinfo.nhn?code=051910&target=finsum_more']\n",
      "['https://finance.naver.com/item/coinfo.nhn?code=017670&target=finsum_more', 'https://finance.naver.com/item/coinfo.nhn?code=066570&target=finsum_more', 'https://finance.naver.com/item/coinfo.nhn?code=139480&target=finsum_more', 'https://finance.naver.com/item/coinfo.nhn?code=000270&target=finsum_more', 'https://finance.naver.com/item/coinfo.nhn?code=000660&target=finsum_more', 'https://finance.naver.com/item/coinfo.nhn?code=015760&target=finsum_more', 'https://finance.naver.com/item/coinfo.nhn?code=069960&target=finsum_more', 'https://finance.naver.com/item/coinfo.nhn?code=068270&target=finsum_more', 'https://finance.naver.com/item/coinfo.nhn?code=105560&target=finsum_more', 'https://finance.naver.com/item/coinfo.nhn?code=051910&target=finsum_more', 'https://finance.naver.com/item/coinfo.nhn?code=090430&target=finsum_more']\n",
      "['https://finance.naver.com/item/coinfo.nhn?code=017670&target=finsum_more', 'https://finance.naver.com/item/coinfo.nhn?code=066570&target=finsum_more', 'https://finance.naver.com/item/coinfo.nhn?code=139480&target=finsum_more', 'https://finance.naver.com/item/coinfo.nhn?code=000270&target=finsum_more', 'https://finance.naver.com/item/coinfo.nhn?code=000660&target=finsum_more', 'https://finance.naver.com/item/coinfo.nhn?code=015760&target=finsum_more', 'https://finance.naver.com/item/coinfo.nhn?code=069960&target=finsum_more', 'https://finance.naver.com/item/coinfo.nhn?code=068270&target=finsum_more', 'https://finance.naver.com/item/coinfo.nhn?code=105560&target=finsum_more', 'https://finance.naver.com/item/coinfo.nhn?code=051910&target=finsum_more', 'https://finance.naver.com/item/coinfo.nhn?code=090430&target=finsum_more', 'https://finance.naver.com/item/coinfo.nhn?code=024110&target=finsum_more']\n",
      "['https://finance.naver.com/item/coinfo.nhn?code=017670&target=finsum_more', 'https://finance.naver.com/item/coinfo.nhn?code=066570&target=finsum_more', 'https://finance.naver.com/item/coinfo.nhn?code=139480&target=finsum_more', 'https://finance.naver.com/item/coinfo.nhn?code=000270&target=finsum_more', 'https://finance.naver.com/item/coinfo.nhn?code=000660&target=finsum_more', 'https://finance.naver.com/item/coinfo.nhn?code=015760&target=finsum_more', 'https://finance.naver.com/item/coinfo.nhn?code=069960&target=finsum_more', 'https://finance.naver.com/item/coinfo.nhn?code=068270&target=finsum_more', 'https://finance.naver.com/item/coinfo.nhn?code=105560&target=finsum_more', 'https://finance.naver.com/item/coinfo.nhn?code=051910&target=finsum_more', 'https://finance.naver.com/item/coinfo.nhn?code=090430&target=finsum_more', 'https://finance.naver.com/item/coinfo.nhn?code=024110&target=finsum_more', 'https://finance.naver.com/item/coinfo.nhn?code=012330&target=finsum_more']\n",
      "['https://finance.naver.com/item/coinfo.nhn?code=017670&target=finsum_more', 'https://finance.naver.com/item/coinfo.nhn?code=066570&target=finsum_more', 'https://finance.naver.com/item/coinfo.nhn?code=139480&target=finsum_more', 'https://finance.naver.com/item/coinfo.nhn?code=000270&target=finsum_more', 'https://finance.naver.com/item/coinfo.nhn?code=000660&target=finsum_more', 'https://finance.naver.com/item/coinfo.nhn?code=015760&target=finsum_more', 'https://finance.naver.com/item/coinfo.nhn?code=069960&target=finsum_more', 'https://finance.naver.com/item/coinfo.nhn?code=068270&target=finsum_more', 'https://finance.naver.com/item/coinfo.nhn?code=105560&target=finsum_more', 'https://finance.naver.com/item/coinfo.nhn?code=051910&target=finsum_more', 'https://finance.naver.com/item/coinfo.nhn?code=090430&target=finsum_more', 'https://finance.naver.com/item/coinfo.nhn?code=024110&target=finsum_more', 'https://finance.naver.com/item/coinfo.nhn?code=012330&target=finsum_more', 'https://finance.naver.com/item/coinfo.nhn?code=042660&target=finsum_more']\n",
      "['https://finance.naver.com/item/coinfo.nhn?code=017670&target=finsum_more', 'https://finance.naver.com/item/coinfo.nhn?code=066570&target=finsum_more', 'https://finance.naver.com/item/coinfo.nhn?code=139480&target=finsum_more', 'https://finance.naver.com/item/coinfo.nhn?code=000270&target=finsum_more', 'https://finance.naver.com/item/coinfo.nhn?code=000660&target=finsum_more', 'https://finance.naver.com/item/coinfo.nhn?code=015760&target=finsum_more', 'https://finance.naver.com/item/coinfo.nhn?code=069960&target=finsum_more', 'https://finance.naver.com/item/coinfo.nhn?code=068270&target=finsum_more', 'https://finance.naver.com/item/coinfo.nhn?code=105560&target=finsum_more', 'https://finance.naver.com/item/coinfo.nhn?code=051910&target=finsum_more', 'https://finance.naver.com/item/coinfo.nhn?code=090430&target=finsum_more', 'https://finance.naver.com/item/coinfo.nhn?code=024110&target=finsum_more', 'https://finance.naver.com/item/coinfo.nhn?code=012330&target=finsum_more', 'https://finance.naver.com/item/coinfo.nhn?code=042660&target=finsum_more', 'https://finance.naver.com/item/coinfo.nhn?code=006360&target=finsum_more']\n",
      "['https://finance.naver.com/item/coinfo.nhn?code=017670&target=finsum_more', 'https://finance.naver.com/item/coinfo.nhn?code=066570&target=finsum_more', 'https://finance.naver.com/item/coinfo.nhn?code=139480&target=finsum_more', 'https://finance.naver.com/item/coinfo.nhn?code=000270&target=finsum_more', 'https://finance.naver.com/item/coinfo.nhn?code=000660&target=finsum_more', 'https://finance.naver.com/item/coinfo.nhn?code=015760&target=finsum_more', 'https://finance.naver.com/item/coinfo.nhn?code=069960&target=finsum_more', 'https://finance.naver.com/item/coinfo.nhn?code=068270&target=finsum_more', 'https://finance.naver.com/item/coinfo.nhn?code=105560&target=finsum_more', 'https://finance.naver.com/item/coinfo.nhn?code=051910&target=finsum_more', 'https://finance.naver.com/item/coinfo.nhn?code=090430&target=finsum_more', 'https://finance.naver.com/item/coinfo.nhn?code=024110&target=finsum_more', 'https://finance.naver.com/item/coinfo.nhn?code=012330&target=finsum_more', 'https://finance.naver.com/item/coinfo.nhn?code=042660&target=finsum_more', 'https://finance.naver.com/item/coinfo.nhn?code=006360&target=finsum_more', 'https://finance.naver.com/item/coinfo.nhn?code=010950&target=finsum_more']\n",
      "['https://finance.naver.com/item/coinfo.nhn?code=017670&target=finsum_more', 'https://finance.naver.com/item/coinfo.nhn?code=066570&target=finsum_more', 'https://finance.naver.com/item/coinfo.nhn?code=139480&target=finsum_more', 'https://finance.naver.com/item/coinfo.nhn?code=000270&target=finsum_more', 'https://finance.naver.com/item/coinfo.nhn?code=000660&target=finsum_more', 'https://finance.naver.com/item/coinfo.nhn?code=015760&target=finsum_more', 'https://finance.naver.com/item/coinfo.nhn?code=069960&target=finsum_more', 'https://finance.naver.com/item/coinfo.nhn?code=068270&target=finsum_more', 'https://finance.naver.com/item/coinfo.nhn?code=105560&target=finsum_more', 'https://finance.naver.com/item/coinfo.nhn?code=051910&target=finsum_more', 'https://finance.naver.com/item/coinfo.nhn?code=090430&target=finsum_more', 'https://finance.naver.com/item/coinfo.nhn?code=024110&target=finsum_more', 'https://finance.naver.com/item/coinfo.nhn?code=012330&target=finsum_more', 'https://finance.naver.com/item/coinfo.nhn?code=042660&target=finsum_more', 'https://finance.naver.com/item/coinfo.nhn?code=006360&target=finsum_more', 'https://finance.naver.com/item/coinfo.nhn?code=010950&target=finsum_more', 'https://finance.naver.com/item/coinfo.nhn?code=097950&target=finsum_more']\n",
      "['https://finance.naver.com/item/coinfo.nhn?code=017670&target=finsum_more', 'https://finance.naver.com/item/coinfo.nhn?code=066570&target=finsum_more', 'https://finance.naver.com/item/coinfo.nhn?code=139480&target=finsum_more', 'https://finance.naver.com/item/coinfo.nhn?code=000270&target=finsum_more', 'https://finance.naver.com/item/coinfo.nhn?code=000660&target=finsum_more', 'https://finance.naver.com/item/coinfo.nhn?code=015760&target=finsum_more', 'https://finance.naver.com/item/coinfo.nhn?code=069960&target=finsum_more', 'https://finance.naver.com/item/coinfo.nhn?code=068270&target=finsum_more', 'https://finance.naver.com/item/coinfo.nhn?code=105560&target=finsum_more', 'https://finance.naver.com/item/coinfo.nhn?code=051910&target=finsum_more', 'https://finance.naver.com/item/coinfo.nhn?code=090430&target=finsum_more', 'https://finance.naver.com/item/coinfo.nhn?code=024110&target=finsum_more', 'https://finance.naver.com/item/coinfo.nhn?code=012330&target=finsum_more', 'https://finance.naver.com/item/coinfo.nhn?code=042660&target=finsum_more', 'https://finance.naver.com/item/coinfo.nhn?code=006360&target=finsum_more', 'https://finance.naver.com/item/coinfo.nhn?code=010950&target=finsum_more', 'https://finance.naver.com/item/coinfo.nhn?code=097950&target=finsum_more', 'https://finance.naver.com/item/coinfo.nhn?code=005930&target=finsum_more']\n",
      "['https://finance.naver.com/item/coinfo.nhn?code=017670&target=finsum_more', 'https://finance.naver.com/item/coinfo.nhn?code=066570&target=finsum_more', 'https://finance.naver.com/item/coinfo.nhn?code=139480&target=finsum_more', 'https://finance.naver.com/item/coinfo.nhn?code=000270&target=finsum_more', 'https://finance.naver.com/item/coinfo.nhn?code=000660&target=finsum_more', 'https://finance.naver.com/item/coinfo.nhn?code=015760&target=finsum_more', 'https://finance.naver.com/item/coinfo.nhn?code=069960&target=finsum_more', 'https://finance.naver.com/item/coinfo.nhn?code=068270&target=finsum_more', 'https://finance.naver.com/item/coinfo.nhn?code=105560&target=finsum_more', 'https://finance.naver.com/item/coinfo.nhn?code=051910&target=finsum_more', 'https://finance.naver.com/item/coinfo.nhn?code=090430&target=finsum_more', 'https://finance.naver.com/item/coinfo.nhn?code=024110&target=finsum_more', 'https://finance.naver.com/item/coinfo.nhn?code=012330&target=finsum_more', 'https://finance.naver.com/item/coinfo.nhn?code=042660&target=finsum_more', 'https://finance.naver.com/item/coinfo.nhn?code=006360&target=finsum_more', 'https://finance.naver.com/item/coinfo.nhn?code=010950&target=finsum_more', 'https://finance.naver.com/item/coinfo.nhn?code=097950&target=finsum_more', 'https://finance.naver.com/item/coinfo.nhn?code=005930&target=finsum_more', 'https://finance.naver.com/item/coinfo.nhn?code=005380&target=finsum_more']\n",
      "['https://finance.naver.com/item/coinfo.nhn?code=017670&target=finsum_more', 'https://finance.naver.com/item/coinfo.nhn?code=066570&target=finsum_more', 'https://finance.naver.com/item/coinfo.nhn?code=139480&target=finsum_more', 'https://finance.naver.com/item/coinfo.nhn?code=000270&target=finsum_more', 'https://finance.naver.com/item/coinfo.nhn?code=000660&target=finsum_more', 'https://finance.naver.com/item/coinfo.nhn?code=015760&target=finsum_more', 'https://finance.naver.com/item/coinfo.nhn?code=069960&target=finsum_more', 'https://finance.naver.com/item/coinfo.nhn?code=068270&target=finsum_more', 'https://finance.naver.com/item/coinfo.nhn?code=105560&target=finsum_more', 'https://finance.naver.com/item/coinfo.nhn?code=051910&target=finsum_more', 'https://finance.naver.com/item/coinfo.nhn?code=090430&target=finsum_more', 'https://finance.naver.com/item/coinfo.nhn?code=024110&target=finsum_more', 'https://finance.naver.com/item/coinfo.nhn?code=012330&target=finsum_more', 'https://finance.naver.com/item/coinfo.nhn?code=042660&target=finsum_more', 'https://finance.naver.com/item/coinfo.nhn?code=006360&target=finsum_more', 'https://finance.naver.com/item/coinfo.nhn?code=010950&target=finsum_more', 'https://finance.naver.com/item/coinfo.nhn?code=097950&target=finsum_more', 'https://finance.naver.com/item/coinfo.nhn?code=005930&target=finsum_more', 'https://finance.naver.com/item/coinfo.nhn?code=005380&target=finsum_more', 'https://finance.naver.com/item/coinfo.nhn?code=003490&target=finsum_more']\n"
     ]
    }
   ],
   "source": [
    "name = ['017670','066570','139480','000270','000660','015760','069960','068270','105560','051910','090430','024110','012330','042660','006360','010950','097950','005930','005380','003490']\n",
    "domain=[]\n",
    "for i in name:\n",
    "    base_url = 'https://finance.naver.com/item/coinfo.nhn?code='+ i + '&target=finsum_more'\n",
    "    domain.append(base_url)\n",
    "    print(domain)"
   ]
  },
  {
   "cell_type": "code",
   "execution_count": 90,
   "metadata": {},
   "outputs": [
    {
     "name": "stderr",
     "output_type": "stream",
     "text": [
      "<ipython-input-90-4a6a7b3f9de2>:8: DeprecationWarning: use driver.switch_to.frame instead\n",
      "  browser.switch_to_frame(browser.find_element_by_id('coinfo_cp'))# frame구조\n"
     ]
    }
   ],
   "source": [
    "browser  = webdriver.Chrome('C:/Users/12/Desktop/chromedriver_win32/chromedriver.exe')\n",
    "name = ['017670','066570','139480','000270','000660','015760','069960','068270','105560','051910','090430','024110','012330','042660','006360','010950','097950','005930','005380','003490']\n",
    "date=[]\n",
    "\n",
    "for i in range(len(domain)):\n",
    "    browser.get(domain[i])\n",
    "    time.sleep(3)\n",
    "    browser.switch_to_frame(browser.find_element_by_id('coinfo_cp'))# frame구조 \n",
    "    time.sleep(1)\n",
    "    browser.find_elements_by_xpath('//*[@class=\"schtab\"][1]/tbody/tr/td[3]')[0].click()\n",
    "    time.sleep(1)\n",
    "    html0 = browser.page_source #지금 현 상태의 page source불러오기\n",
    "    html1 = BeautifulSoup(html0,'html.parser')\n",
    "\n",
    "\n",
    "    # 날짜 부분만 따로 저장\n",
    "    #     date.append(\"\".join(re.findall('[0-9/]',domain[i])))\n",
    "\n",
    "    #기업 title불러오기\n",
    "    title0 = html1.find('head').find('title').text\n",
    "    title0 = title0.split('-')[-1]\n",
    "\n",
    "    html22 = html1.find('table',{'class':'gHead01 all-width','summary':'주요재무정보를 제공합니다.'})\n",
    "    thead0 = html22.find('thead') #날짜가 재무제표영역의 head부분에 들어가 있기 때문에 thead를 불러와야 한다.\n",
    "    tr0 = thead0.find_all('tr')[1] #존재하고 있는 날짜대로 findall로 모두 수집\n",
    "    th0 = tr0.find_all('th')\n",
    "    date = []\n",
    "\n",
    "    for i in range(len(th0)):\n",
    "        date.append(''.join(re.findall('[0-9]', th0[i].text)))\n",
    "    tbody0 = html22.find('tbody') #tbody에 column으로 사용할 데이터와 본문 데이터가 모두 담겨져 있다.\n",
    "    tr0 = tbody0.find_all('tr')\n",
    "\n",
    "    #columns 수집\n",
    "    col = []\n",
    "    for i in range(len(tr0)):\n",
    "\n",
    "        if '\\xa0' in tr0[i].find('th').text:\n",
    "            tx = re.sub('\\xa0','',tr0[i].find('th').text)\n",
    "        else:\n",
    "            tx = tr0[i].find('th').text\n",
    "\n",
    "        col.append(tx)\n",
    "\n",
    "    #본문데아터 수집\n",
    "    td = []\n",
    "    for i in range(len(tr0)):\n",
    "        td0 = tr0[i].find_all('td')\n",
    "        td1 = []\n",
    "        for j in range(len(td0)):\n",
    "            if td0[j].text == '':\n",
    "                td1.append('0')\n",
    "            else:\n",
    "                td1.append(td0[j].text)\n",
    "        td.append(td1)\n",
    "\n",
    "    td2 = list(map(list,zip(*td)))\n",
    "    td3 = pd.DataFrame(td2, columns = col, index = date)\n",
    "    \n",
    "    title0 = title0.split('-')[                                                                                            -1]\n",
    "    filename = './financial_crawling/{}'.format(title0)\n",
    "\n",
    "    td3.to_csv(filename)\n",
    "\n",
    "    #     finance_df=pd.DataFrame(columns=['','','',''])"
   ]
  },
  {
   "cell_type": "code",
   "execution_count": 88,
   "metadata": {},
   "outputs": [],
   "source": [
    "td3 = pd.DataFrame(td2, columns = col, index = date)\n",
    "title0 = title0.split('-')[-1]\n",
    "filename = './{}'.format(title0)\n",
    "\n",
    "td3.to_csv(filename)"
   ]
  },
  {
   "cell_type": "code",
   "execution_count": 91,
   "metadata": {
    "scrolled": false
   },
   "outputs": [
    {
     "data": {
      "text/plain": [
       "'./제무재표 크로울링/ 기업개요(대한항공)'"
      ]
     },
     "execution_count": 91,
     "metadata": {},
     "output_type": "execute_result"
    }
   ],
   "source": [
    "filename"
   ]
  },
  {
   "cell_type": "code",
   "execution_count": 94,
   "metadata": {},
   "outputs": [],
   "source": [
    "soil=pd.read_csv('C:/Users/12/Desktop/financial_crawling/기업개요(S-Oil)')"
   ]
  },
  {
   "cell_type": "code",
   "execution_count": 97,
   "metadata": {},
   "outputs": [
    {
     "data": {
      "text/plain": [
       "0     14.67\n",
       "1      8.19\n",
       "2     10.94\n",
       "3     44.15\n",
       "4    169.84\n",
       "5       NaN\n",
       "6     12.00\n",
       "7     10.11\n",
       "Name: PER(배), dtype: float64"
      ]
     },
     "execution_count": 97,
     "metadata": {},
     "output_type": "execute_result"
    }
   ],
   "source": [
    "soil['PER(배)']"
   ]
  },
  {
   "cell_type": "code",
   "execution_count": 100,
   "metadata": {},
   "outputs": [
    {
     "data": {
      "text/html": [
       "<div>\n",
       "<style scoped>\n",
       "    .dataframe tbody tr th:only-of-type {\n",
       "        vertical-align: middle;\n",
       "    }\n",
       "\n",
       "    .dataframe tbody tr th {\n",
       "        vertical-align: top;\n",
       "    }\n",
       "\n",
       "    .dataframe thead th {\n",
       "        text-align: right;\n",
       "    }\n",
       "</style>\n",
       "<table border=\"1\" class=\"dataframe\">\n",
       "  <thead>\n",
       "    <tr style=\"text-align: right;\">\n",
       "      <th></th>\n",
       "      <th>PER(배)</th>\n",
       "      <th>PBR(배)</th>\n",
       "      <th>ROE(%)</th>\n",
       "    </tr>\n",
       "  </thead>\n",
       "  <tbody>\n",
       "    <tr>\n",
       "      <th>0</th>\n",
       "      <td>14.67</td>\n",
       "      <td>1.72</td>\n",
       "      <td>12.26</td>\n",
       "    </tr>\n",
       "    <tr>\n",
       "      <th>1</th>\n",
       "      <td>8.19</td>\n",
       "      <td>1.54</td>\n",
       "      <td>20.46</td>\n",
       "    </tr>\n",
       "    <tr>\n",
       "      <th>2</th>\n",
       "      <td>10.94</td>\n",
       "      <td>1.99</td>\n",
       "      <td>18.84</td>\n",
       "    </tr>\n",
       "    <tr>\n",
       "      <th>3</th>\n",
       "      <td>44.15</td>\n",
       "      <td>1.76</td>\n",
       "      <td>3.88</td>\n",
       "    </tr>\n",
       "    <tr>\n",
       "      <th>4</th>\n",
       "      <td>169.84</td>\n",
       "      <td>1.71</td>\n",
       "      <td>1.01</td>\n",
       "    </tr>\n",
       "    <tr>\n",
       "      <th>5</th>\n",
       "      <td>NaN</td>\n",
       "      <td>1.18</td>\n",
       "      <td>-13.95</td>\n",
       "    </tr>\n",
       "    <tr>\n",
       "      <th>6</th>\n",
       "      <td>12.00</td>\n",
       "      <td>1.09</td>\n",
       "      <td>9.46</td>\n",
       "    </tr>\n",
       "    <tr>\n",
       "      <th>7</th>\n",
       "      <td>10.11</td>\n",
       "      <td>1.01</td>\n",
       "      <td>10.41</td>\n",
       "    </tr>\n",
       "  </tbody>\n",
       "</table>\n",
       "</div>"
      ],
      "text/plain": [
       "   PER(배)  PBR(배)  ROE(%)\n",
       "0   14.67    1.72   12.26\n",
       "1    8.19    1.54   20.46\n",
       "2   10.94    1.99   18.84\n",
       "3   44.15    1.76    3.88\n",
       "4  169.84    1.71    1.01\n",
       "5     NaN    1.18  -13.95\n",
       "6   12.00    1.09    9.46\n",
       "7   10.11    1.01   10.41"
      ]
     },
     "execution_count": 100,
     "metadata": {},
     "output_type": "execute_result"
    }
   ],
   "source": [
    "soil[['PER(배)','PBR(배)','ROE(%)']]"
   ]
  },
  {
   "cell_type": "code",
   "execution_count": 33,
   "metadata": {},
   "outputs": [],
   "source": [
    "cj=pd.read_csv(\"C:/Users/12/Desktop/재무제표 데이터/financial_crawling/기업개요(기업은행)\")"
   ]
  },
  {
   "cell_type": "code",
   "execution_count": 34,
   "metadata": {},
   "outputs": [
    {
     "data": {
      "text/html": [
       "<div>\n",
       "<style scoped>\n",
       "    .dataframe tbody tr th:only-of-type {\n",
       "        vertical-align: middle;\n",
       "    }\n",
       "\n",
       "    .dataframe tbody tr th {\n",
       "        vertical-align: top;\n",
       "    }\n",
       "\n",
       "    .dataframe thead th {\n",
       "        text-align: right;\n",
       "    }\n",
       "</style>\n",
       "<table border=\"1\" class=\"dataframe\">\n",
       "  <thead>\n",
       "    <tr style=\"text-align: right;\">\n",
       "      <th></th>\n",
       "      <th>Unnamed: 0</th>\n",
       "      <th>ROE(%)</th>\n",
       "      <th>PER(배)</th>\n",
       "      <th>PBR(배)</th>\n",
       "    </tr>\n",
       "  </thead>\n",
       "  <tbody>\n",
       "    <tr>\n",
       "      <th>0</th>\n",
       "      <td>201512</td>\n",
       "      <td>6.98</td>\n",
       "      <td>7.07</td>\n",
       "      <td>0.47</td>\n",
       "    </tr>\n",
       "    <tr>\n",
       "      <th>1</th>\n",
       "      <td>201612</td>\n",
       "      <td>6.59</td>\n",
       "      <td>7.21</td>\n",
       "      <td>0.47</td>\n",
       "    </tr>\n",
       "    <tr>\n",
       "      <th>2</th>\n",
       "      <td>201712</td>\n",
       "      <td>7.98</td>\n",
       "      <td>7.21</td>\n",
       "      <td>0.55</td>\n",
       "    </tr>\n",
       "    <tr>\n",
       "      <th>3</th>\n",
       "      <td>201812</td>\n",
       "      <td>8.63</td>\n",
       "      <td>5.27</td>\n",
       "      <td>0.44</td>\n",
       "    </tr>\n",
       "    <tr>\n",
       "      <th>4</th>\n",
       "      <td>201912</td>\n",
       "      <td>7.36</td>\n",
       "      <td>4.93</td>\n",
       "      <td>0.35</td>\n",
       "    </tr>\n",
       "    <tr>\n",
       "      <th>5</th>\n",
       "      <td>202012</td>\n",
       "      <td>6.12</td>\n",
       "      <td>4.41</td>\n",
       "      <td>0.28</td>\n",
       "    </tr>\n",
       "    <tr>\n",
       "      <th>6</th>\n",
       "      <td>202112</td>\n",
       "      <td>5.94</td>\n",
       "      <td>4.64</td>\n",
       "      <td>0.27</td>\n",
       "    </tr>\n",
       "    <tr>\n",
       "      <th>7</th>\n",
       "      <td>202212</td>\n",
       "      <td>6.03</td>\n",
       "      <td>4.35</td>\n",
       "      <td>0.26</td>\n",
       "    </tr>\n",
       "  </tbody>\n",
       "</table>\n",
       "</div>"
      ],
      "text/plain": [
       "   Unnamed: 0  ROE(%)  PER(배)  PBR(배)\n",
       "0      201512    6.98    7.07    0.47\n",
       "1      201612    6.59    7.21    0.47\n",
       "2      201712    7.98    7.21    0.55\n",
       "3      201812    8.63    5.27    0.44\n",
       "4      201912    7.36    4.93    0.35\n",
       "5      202012    6.12    4.41    0.28\n",
       "6      202112    5.94    4.64    0.27\n",
       "7      202212    6.03    4.35    0.26"
      ]
     },
     "execution_count": 34,
     "metadata": {},
     "output_type": "execute_result"
    }
   ],
   "source": [
    "cj[[\"Unnamed: 0\",'ROE(%)','PER(배)','PBR(배)']]"
   ]
  },
  {
   "cell_type": "code",
   "execution_count": 8,
   "metadata": {},
   "outputs": [
    {
     "ename": "KeyError",
     "evalue": "\"['unnamed'] not in index\"",
     "output_type": "error",
     "traceback": [
      "\u001b[1;31m---------------------------------------------------------------------------\u001b[0m",
      "\u001b[1;31mKeyError\u001b[0m                                  Traceback (most recent call last)",
      "\u001b[1;32m<ipython-input-8-f08f2ab6ad7e>\u001b[0m in \u001b[0;36m<module>\u001b[1;34m\u001b[0m\n\u001b[1;32m----> 1\u001b[1;33m \u001b[0mcj\u001b[0m\u001b[1;33m[\u001b[0m\u001b[1;33m[\u001b[0m\u001b[1;34m'unnamed'\u001b[0m\u001b[1;33m,\u001b[0m\u001b[1;34m'PER(배)'\u001b[0m\u001b[1;33m,\u001b[0m\u001b[1;34m'PBR(배)'\u001b[0m\u001b[1;33m,\u001b[0m\u001b[1;34m'ROE(%)'\u001b[0m\u001b[1;33m]\u001b[0m\u001b[1;33m]\u001b[0m\u001b[1;33m\u001b[0m\u001b[1;33m\u001b[0m\u001b[0m\n\u001b[0m",
      "\u001b[1;32m~\\anaconda3ver2\\lib\\site-packages\\pandas\\core\\frame.py\u001b[0m in \u001b[0;36m__getitem__\u001b[1;34m(self, key)\u001b[0m\n\u001b[0;32m   2804\u001b[0m             \u001b[1;32mif\u001b[0m \u001b[0mis_iterator\u001b[0m\u001b[1;33m(\u001b[0m\u001b[0mkey\u001b[0m\u001b[1;33m)\u001b[0m\u001b[1;33m:\u001b[0m\u001b[1;33m\u001b[0m\u001b[1;33m\u001b[0m\u001b[0m\n\u001b[0;32m   2805\u001b[0m                 \u001b[0mkey\u001b[0m \u001b[1;33m=\u001b[0m \u001b[0mlist\u001b[0m\u001b[1;33m(\u001b[0m\u001b[0mkey\u001b[0m\u001b[1;33m)\u001b[0m\u001b[1;33m\u001b[0m\u001b[1;33m\u001b[0m\u001b[0m\n\u001b[1;32m-> 2806\u001b[1;33m             \u001b[0mindexer\u001b[0m \u001b[1;33m=\u001b[0m \u001b[0mself\u001b[0m\u001b[1;33m.\u001b[0m\u001b[0mloc\u001b[0m\u001b[1;33m.\u001b[0m\u001b[0m_get_listlike_indexer\u001b[0m\u001b[1;33m(\u001b[0m\u001b[0mkey\u001b[0m\u001b[1;33m,\u001b[0m \u001b[0maxis\u001b[0m\u001b[1;33m=\u001b[0m\u001b[1;36m1\u001b[0m\u001b[1;33m,\u001b[0m \u001b[0mraise_missing\u001b[0m\u001b[1;33m=\u001b[0m\u001b[1;32mTrue\u001b[0m\u001b[1;33m)\u001b[0m\u001b[1;33m[\u001b[0m\u001b[1;36m1\u001b[0m\u001b[1;33m]\u001b[0m\u001b[1;33m\u001b[0m\u001b[1;33m\u001b[0m\u001b[0m\n\u001b[0m\u001b[0;32m   2807\u001b[0m \u001b[1;33m\u001b[0m\u001b[0m\n\u001b[0;32m   2808\u001b[0m         \u001b[1;31m# take() does not accept boolean indexers\u001b[0m\u001b[1;33m\u001b[0m\u001b[1;33m\u001b[0m\u001b[1;33m\u001b[0m\u001b[0m\n",
      "\u001b[1;32m~\\anaconda3ver2\\lib\\site-packages\\pandas\\core\\indexing.py\u001b[0m in \u001b[0;36m_get_listlike_indexer\u001b[1;34m(self, key, axis, raise_missing)\u001b[0m\n\u001b[0;32m   1550\u001b[0m             \u001b[0mkeyarr\u001b[0m\u001b[1;33m,\u001b[0m \u001b[0mindexer\u001b[0m\u001b[1;33m,\u001b[0m \u001b[0mnew_indexer\u001b[0m \u001b[1;33m=\u001b[0m \u001b[0max\u001b[0m\u001b[1;33m.\u001b[0m\u001b[0m_reindex_non_unique\u001b[0m\u001b[1;33m(\u001b[0m\u001b[0mkeyarr\u001b[0m\u001b[1;33m)\u001b[0m\u001b[1;33m\u001b[0m\u001b[1;33m\u001b[0m\u001b[0m\n\u001b[0;32m   1551\u001b[0m \u001b[1;33m\u001b[0m\u001b[0m\n\u001b[1;32m-> 1552\u001b[1;33m         self._validate_read_indexer(\n\u001b[0m\u001b[0;32m   1553\u001b[0m             \u001b[0mkeyarr\u001b[0m\u001b[1;33m,\u001b[0m \u001b[0mindexer\u001b[0m\u001b[1;33m,\u001b[0m \u001b[0mo\u001b[0m\u001b[1;33m.\u001b[0m\u001b[0m_get_axis_number\u001b[0m\u001b[1;33m(\u001b[0m\u001b[0maxis\u001b[0m\u001b[1;33m)\u001b[0m\u001b[1;33m,\u001b[0m \u001b[0mraise_missing\u001b[0m\u001b[1;33m=\u001b[0m\u001b[0mraise_missing\u001b[0m\u001b[1;33m\u001b[0m\u001b[1;33m\u001b[0m\u001b[0m\n\u001b[0;32m   1554\u001b[0m         )\n",
      "\u001b[1;32m~\\anaconda3ver2\\lib\\site-packages\\pandas\\core\\indexing.py\u001b[0m in \u001b[0;36m_validate_read_indexer\u001b[1;34m(self, key, indexer, axis, raise_missing)\u001b[0m\n\u001b[0;32m   1644\u001b[0m             \u001b[1;32mif\u001b[0m \u001b[1;32mnot\u001b[0m \u001b[1;33m(\u001b[0m\u001b[0mself\u001b[0m\u001b[1;33m.\u001b[0m\u001b[0mname\u001b[0m \u001b[1;33m==\u001b[0m \u001b[1;34m\"loc\"\u001b[0m \u001b[1;32mand\u001b[0m \u001b[1;32mnot\u001b[0m \u001b[0mraise_missing\u001b[0m\u001b[1;33m)\u001b[0m\u001b[1;33m:\u001b[0m\u001b[1;33m\u001b[0m\u001b[1;33m\u001b[0m\u001b[0m\n\u001b[0;32m   1645\u001b[0m                 \u001b[0mnot_found\u001b[0m \u001b[1;33m=\u001b[0m \u001b[0mlist\u001b[0m\u001b[1;33m(\u001b[0m\u001b[0mset\u001b[0m\u001b[1;33m(\u001b[0m\u001b[0mkey\u001b[0m\u001b[1;33m)\u001b[0m \u001b[1;33m-\u001b[0m \u001b[0mset\u001b[0m\u001b[1;33m(\u001b[0m\u001b[0max\u001b[0m\u001b[1;33m)\u001b[0m\u001b[1;33m)\u001b[0m\u001b[1;33m\u001b[0m\u001b[1;33m\u001b[0m\u001b[0m\n\u001b[1;32m-> 1646\u001b[1;33m                 \u001b[1;32mraise\u001b[0m \u001b[0mKeyError\u001b[0m\u001b[1;33m(\u001b[0m\u001b[1;34mf\"{not_found} not in index\"\u001b[0m\u001b[1;33m)\u001b[0m\u001b[1;33m\u001b[0m\u001b[1;33m\u001b[0m\u001b[0m\n\u001b[0m\u001b[0;32m   1647\u001b[0m \u001b[1;33m\u001b[0m\u001b[0m\n\u001b[0;32m   1648\u001b[0m             \u001b[1;31m# we skip the warning on Categorical/Interval\u001b[0m\u001b[1;33m\u001b[0m\u001b[1;33m\u001b[0m\u001b[1;33m\u001b[0m\u001b[0m\n",
      "\u001b[1;31mKeyError\u001b[0m: \"['unnamed'] not in index\""
     ]
    }
   ],
   "source": [
    "cj[['unnamed','PER(배)','PBR(배)','ROE(%)']]"
   ]
  }
 ],
 "metadata": {
  "kernelspec": {
   "display_name": "Python 3",
   "language": "python",
   "name": "python3"
  },
  "language_info": {
   "codemirror_mode": {
    "name": "ipython",
    "version": 3
   },
   "file_extension": ".py",
   "mimetype": "text/x-python",
   "name": "python",
   "nbconvert_exporter": "python",
   "pygments_lexer": "ipython3",
   "version": "3.8.3"
  }
 },
 "nbformat": 4,
 "nbformat_minor": 4
}
