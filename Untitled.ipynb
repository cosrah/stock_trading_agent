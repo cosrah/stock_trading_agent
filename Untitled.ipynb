{
 "cells": [
  {
   "cell_type": "code",
   "execution_count": 66,
   "metadata": {},
   "outputs": [],
   "source": [
    "import time\n",
    "from selenium import webdriver\n",
    "from bs4 import BeautifulSoup\n",
    "import pandas as pd\n",
    "import numpy as np"
   ]
  },
  {
   "cell_type": "code",
   "execution_count": 142,
   "metadata": {},
   "outputs": [],
   "source": [
    "driver = webdriver.Chrome('chromedriver.exe')\n",
    "\n",
    "url = 'https://www.asiae.co.kr/'\n",
    "\n",
    "# 페이지 이동\n",
    "driver.get(url)\n",
    "time.sleep(1)\n",
    "\n",
    "driver.find_element_by_css_selector('#main_wrap > div.main_header > div.top_head > div.area_fstare > div > div > div.search_wrap > form > fieldset > a').click()"
   ]
  },
  {
   "cell_type": "code",
   "execution_count": 143,
   "metadata": {},
   "outputs": [],
   "source": [
    "#리스트 추가 # 리스트 목록으로 만들어서 for 문으로 돌리자\n",
    "kospi200 = '삼성전자'"
   ]
  },
  {
   "cell_type": "code",
   "execution_count": 144,
   "metadata": {},
   "outputs": [],
   "source": [
    "# 검색목록에 넣기\n",
    "e = driver.find_element_by_css_selector('#search1')\n",
    "e.send_keys(kospi200)\n",
    "# 검색버튼 누르기\n",
    "driver.find_element_by_css_selector('#main_wrap > div.main_header > div.top_head > div.area_fstare > div > div > div.search_wrap > form > fieldset > div > input').click()"
   ]
  },
  {
   "cell_type": "code",
   "execution_count": 141,
   "metadata": {},
   "outputs": [],
   "source": [
    "#검색옵션 설정 - 기간 6년\n",
    "\n"
   ]
  },
  {
   "cell_type": "code",
   "execution_count": 145,
   "metadata": {},
   "outputs": [],
   "source": [
    "#뉴스 목록 선택\n",
    "driver.find_element_by_css_selector('#type_news > a > span').click()"
   ]
  },
  {
   "cell_type": "code",
   "execution_count": 146,
   "metadata": {},
   "outputs": [],
   "source": [
    "driver.find_element_by_css_selector('#container > div.content > div > div > h3 > div.ns_btn > a').click()\n",
    "driver.find_element_by_css_selector('#container > div.content > div > div > h3 > div.ns_wrap > ul > li:nth-child(4) > a').click()"
   ]
  },
  {
   "cell_type": "code",
   "execution_count": 75,
   "metadata": {},
   "outputs": [],
   "source": [
    "#beautifulsoup으로 크롤링하기\n",
    "html = driver.page_source"
   ]
  },
  {
   "cell_type": "code",
   "execution_count": 77,
   "metadata": {},
   "outputs": [],
   "source": [
    "soup = BeautifulSoup(html, 'html.parser')"
   ]
  },
  {
   "cell_type": "code",
   "execution_count": 133,
   "metadata": {},
   "outputs": [],
   "source": [
    "total_count = soup.body.select_one('#container > div.content > div > div > h3 > span')"
   ]
  },
  {
   "cell_type": "code",
   "execution_count": 134,
   "metadata": {},
   "outputs": [],
   "source": [
    "total_count = int(total_count.string[2:-1].replace(\",\",\"\"))"
   ]
  },
  {
   "cell_type": "code",
   "execution_count": 138,
   "metadata": {},
   "outputs": [
    {
     "data": {
      "text/plain": [
       "2535.133333333333"
      ]
     },
     "execution_count": 138,
     "metadata": {},
     "output_type": "execute_result"
    }
   ],
   "source": [
    "pages = total_count/15\n",
    "pages"
   ]
  },
  {
   "cell_type": "code",
   "execution_count": 139,
   "metadata": {},
   "outputs": [],
   "source": [
    "leng = soup.body.select('#container > div > div > div > ul')\n",
    "a = leng[0].find_all('li')\n",
    "article_df = pd.DataFrame(columns = ['Title', 'Date'])\n",
    "for i in a:\n",
    "    temp_t = i.select('li > span.txt_box > span.tit > a')[0].text.strip()\n",
    "    temp_d =i.select('span.txt_box > em > span.dt_t')[0].string[:10]\n",
    "    article_df = temp_df.append({'Title' : temp_t, 'Date':temp_d}, ignore_index = True)\n"
   ]
  },
  {
   "cell_type": "code",
   "execution_count": 140,
   "metadata": {},
   "outputs": [
    {
     "data": {
      "text/html": [
       "<div>\n",
       "<style scoped>\n",
       "    .dataframe tbody tr th:only-of-type {\n",
       "        vertical-align: middle;\n",
       "    }\n",
       "\n",
       "    .dataframe tbody tr th {\n",
       "        vertical-align: top;\n",
       "    }\n",
       "\n",
       "    .dataframe thead th {\n",
       "        text-align: right;\n",
       "    }\n",
       "</style>\n",
       "<table border=\"1\" class=\"dataframe\">\n",
       "  <thead>\n",
       "    <tr style=\"text-align: right;\">\n",
       "      <th></th>\n",
       "      <th>Title</th>\n",
       "      <th>Date</th>\n",
       "    </tr>\n",
       "  </thead>\n",
       "  <tbody>\n",
       "    <tr>\n",
       "      <th>0</th>\n",
       "      <td>'갤럭시S20 FE' 89만원대 유력…S20보다 나은 점은</td>\n",
       "      <td>2020.09.26</td>\n",
       "    </tr>\n",
       "    <tr>\n",
       "      <th>1</th>\n",
       "      <td>로봇청소기 프리미엄 시대…삼성·LG 폼팩터 경쟁</td>\n",
       "      <td>2020.09.26</td>\n",
       "    </tr>\n",
       "    <tr>\n",
       "      <th>2</th>\n",
       "      <td>반도체 파운드리, 올해 19% 급성장 전망</td>\n",
       "      <td>2020.09.26</td>\n",
       "    </tr>\n",
       "    <tr>\n",
       "      <th>3</th>\n",
       "      <td>6개월내 자연분해 6out 포장재 \"내년엔 매출 10배 이상 뛸 것\"</td>\n",
       "      <td>2020.09.24</td>\n",
       "    </tr>\n",
       "    <tr>\n",
       "      <th>4</th>\n",
       "      <td>3대 동시에 충전…무선충전 트리오·PD배터리팩 출시</td>\n",
       "      <td>2020.09.24</td>\n",
       "    </tr>\n",
       "    <tr>\n",
       "      <th>5</th>\n",
       "      <td>삼성전자, 브라질에 무풍에어컨 신모델 출시…프리미엄 시장 공략</td>\n",
       "      <td>2020.09.24</td>\n",
       "    </tr>\n",
       "    <tr>\n",
       "      <th>6</th>\n",
       "      <td>'합리적인 플래그십 폰' 전략…FE 버전 매년 나온다</td>\n",
       "      <td>2020.09.24</td>\n",
       "    </tr>\n",
       "    <tr>\n",
       "      <th>7</th>\n",
       "      <td>\"갤S20 FE, 매력적 사양…中원플러스 입지 무너뜨릴것\"</td>\n",
       "      <td>2020.09.24</td>\n",
       "    </tr>\n",
       "    <tr>\n",
       "      <th>8</th>\n",
       "      <td>\"좋아할 기능 다 담았다\" 갤럭시S20 FE 출격(종합)</td>\n",
       "      <td>2020.09.24</td>\n",
       "    </tr>\n",
       "    <tr>\n",
       "      <th>9</th>\n",
       "      <td>가격 내리고 핵심 기능만…'갤럭시S20 FE' 10월 출시</td>\n",
       "      <td>2020.09.23</td>\n",
       "    </tr>\n",
       "    <tr>\n",
       "      <th>10</th>\n",
       "      <td>갤럭시S20 FE VS 갤럭시S20…가격·배터리 '승'</td>\n",
       "      <td>2020.09.23</td>\n",
       "    </tr>\n",
       "    <tr>\n",
       "      <th>11</th>\n",
       "      <td>\"韓, 5G 리더십 유지하려면 B2B가 관건\" SKT 기술세미나 개최</td>\n",
       "      <td>2020.09.23</td>\n",
       "    </tr>\n",
       "    <tr>\n",
       "      <th>12</th>\n",
       "      <td>8개월 만에 만난 4대 그룹 총수…모임 정례화하나</td>\n",
       "      <td>2020.09.23</td>\n",
       "    </tr>\n",
       "    <tr>\n",
       "      <th>13</th>\n",
       "      <td>삼성전자, 실적 책임질 'SSD' 또 한번 초격차</td>\n",
       "      <td>2020.09.23</td>\n",
       "    </tr>\n",
       "    <tr>\n",
       "      <th>14</th>\n",
       "      <td>삼성전자, 日 KDDI와 5G 네트워크 슬라이싱 기술 검증 성공</td>\n",
       "      <td>2020.09.23</td>\n",
       "    </tr>\n",
       "    <tr>\n",
       "      <th>15</th>\n",
       "      <td>삼성전자, 日 KDDI와 5G 네트워크 슬라이싱 기술 검증 성공</td>\n",
       "      <td>2020.09.23</td>\n",
       "    </tr>\n",
       "  </tbody>\n",
       "</table>\n",
       "</div>"
      ],
      "text/plain": [
       "                                     Title        Date\n",
       "0         '갤럭시S20 FE' 89만원대 유력…S20보다 나은 점은  2020.09.26\n",
       "1               로봇청소기 프리미엄 시대…삼성·LG 폼팩터 경쟁  2020.09.26\n",
       "2                  반도체 파운드리, 올해 19% 급성장 전망  2020.09.26\n",
       "3   6개월내 자연분해 6out 포장재 \"내년엔 매출 10배 이상 뛸 것\"  2020.09.24\n",
       "4             3대 동시에 충전…무선충전 트리오·PD배터리팩 출시  2020.09.24\n",
       "5       삼성전자, 브라질에 무풍에어컨 신모델 출시…프리미엄 시장 공략  2020.09.24\n",
       "6            '합리적인 플래그십 폰' 전략…FE 버전 매년 나온다  2020.09.24\n",
       "7         \"갤S20 FE, 매력적 사양…中원플러스 입지 무너뜨릴것\"  2020.09.24\n",
       "8          \"좋아할 기능 다 담았다\" 갤럭시S20 FE 출격(종합)  2020.09.24\n",
       "9         가격 내리고 핵심 기능만…'갤럭시S20 FE' 10월 출시  2020.09.23\n",
       "10          갤럭시S20 FE VS 갤럭시S20…가격·배터리 '승'  2020.09.23\n",
       "11  \"韓, 5G 리더십 유지하려면 B2B가 관건\" SKT 기술세미나 개최  2020.09.23\n",
       "12             8개월 만에 만난 4대 그룹 총수…모임 정례화하나  2020.09.23\n",
       "13             삼성전자, 실적 책임질 'SSD' 또 한번 초격차  2020.09.23\n",
       "14     삼성전자, 日 KDDI와 5G 네트워크 슬라이싱 기술 검증 성공  2020.09.23\n",
       "15     삼성전자, 日 KDDI와 5G 네트워크 슬라이싱 기술 검증 성공  2020.09.23"
      ]
     },
     "execution_count": 140,
     "metadata": {},
     "output_type": "execute_result"
    }
   ],
   "source": [
    "article_df"
   ]
  },
  {
   "cell_type": "code",
   "execution_count": null,
   "metadata": {},
   "outputs": [],
   "source": []
  }
 ],
 "metadata": {
  "kernelspec": {
   "display_name": "Python 3",
   "language": "python",
   "name": "python3"
  },
  "language_info": {
   "codemirror_mode": {
    "name": "ipython",
    "version": 3
   },
   "file_extension": ".py",
   "mimetype": "text/x-python",
   "name": "python",
   "nbconvert_exporter": "python",
   "pygments_lexer": "ipython3",
   "version": "3.8.3"
  }
 },
 "nbformat": 4,
 "nbformat_minor": 4
}
