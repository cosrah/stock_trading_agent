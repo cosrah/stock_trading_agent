{
 "cells": [
  {
   "cell_type": "code",
   "execution_count": 1,
   "metadata": {},
   "outputs": [],
   "source": [
    "import time\n",
    "from selenium import webdriver\n",
    "from bs4 import BeautifulSoup"
   ]
  },
  {
   "cell_type": "code",
   "execution_count": 2,
   "metadata": {},
   "outputs": [],
   "source": [
    "import pandas as pd\n",
    "import numpy as np"
   ]
  },
  {
   "cell_type": "code",
   "execution_count": null,
   "metadata": {},
   "outputs": [],
   "source": [
    "def setDate(self):\n",
    "    "
   ]
  },
  {
   "cell_type": "code",
   "execution_count": 28,
   "metadata": {},
   "outputs": [],
   "source": [
    "driver = webdriver.Chrome('chromedriver.exe')"
   ]
  },
  {
   "cell_type": "code",
   "execution_count": 29,
   "metadata": {},
   "outputs": [],
   "source": [
    "url = 'https://www.asiae.co.kr/'"
   ]
  },
  {
   "cell_type": "code",
   "execution_count": 30,
   "metadata": {},
   "outputs": [],
   "source": [
    "# 페이지 이동\n",
    "driver.get(url)\n",
    "time.sleep(1)"
   ]
  },
  {
   "cell_type": "code",
   "execution_count": 31,
   "metadata": {},
   "outputs": [],
   "source": [
    "driver.find_element_by_css_selector('#main_wrap > div.main_header > div.top_head > div.area_fstare > div > div > div.search_wrap > form > fieldset > a').click()"
   ]
  },
  {
   "cell_type": "code",
   "execution_count": 32,
   "metadata": {},
   "outputs": [],
   "source": [
    "#리스트 추가\n",
    "kospi200 = '삼성전자'"
   ]
  },
  {
   "cell_type": "code",
   "execution_count": 33,
   "metadata": {},
   "outputs": [],
   "source": [
    "# 검색목록에 넣기\n",
    "e = driver.find_element_by_css_selector('#search1')\n",
    "e.send_keys(kospi200)\n",
    "# 검색버튼 누르기\n",
    "driver.find_element_by_css_selector('#main_wrap > div.main_header > div.top_head > div.area_fstare > div > div > div.search_wrap > form > fieldset > div > input').click()"
   ]
  },
  {
   "cell_type": "code",
   "execution_count": 34,
   "metadata": {},
   "outputs": [],
   "source": [
    "#뉴스 목록 선택\n",
    "driver.find_element_by_css_selector('#type_news > a > span').click()"
   ]
  },
  {
   "cell_type": "code",
   "execution_count": 50,
   "metadata": {},
   "outputs": [],
   "source": [
    "#검색옵션 선택\n",
    "driver.find_element_by_css_selector(\"#wrap > div.seo_lnb > div.sch_lnb > div > a > span\").click()"
   ]
  },
  {
   "cell_type": "code",
   "execution_count": 51,
   "metadata": {},
   "outputs": [],
   "source": [
    "#기간 필터 클릭\n",
    "driver.find_element_by_css_selector(\"#wrap > div.seo_lnb > div.sch_lst > div > div > ul > li.title_tab.tab02 > a > span\").click()"
   ]
  },
  {
   "cell_type": "code",
   "execution_count": 53,
   "metadata": {},
   "outputs": [],
   "source": [
    "#기간 입력 및 적용\n",
    "\n",
    "inputsDate = driver.find_element_by_css_selector('#sDate')\n",
    "inputsDate.send_keys('2014.09.01')\n",
    "driver.find_element_by_css_selector(\"#ui-datepicker-div > div.ui-datepicker-buttonpane.ui-widget-content > button.ui-datepicker-close.ui-state-default.ui-priority-primary.ui-corner-all\").click()\n",
    "\n",
    "inputeDate = driver.find_element_by_css_selector('#eDate')\n",
    "inputeDate.send_keys('2020.08.31')\n",
    "driver.find_element_by_css_selector(\"#ui-datepicker-div > div.ui-datepicker-buttonpane.ui-widget-content > button.ui-datepicker-close.ui-state-default.ui-priority-primary.ui-corner-all\").click()\n",
    "\n",
    "time.sleep(0.5)\n",
    "\n",
    "driver.find_element_by_css_selector(\"#wrap > div.seo_lnb > div.sch_lst > div > div > div > ul.tcont.tabcont02.on > li.inp_box > div > a\").click()"
   ]
  },
  {
   "cell_type": "code",
   "execution_count": 54,
   "metadata": {
    "scrolled": true
   },
   "outputs": [],
   "source": [
    "#섹션 선택\n",
    "driver.find_element_by_css_selector('#container > div.content > div > div > h3 > div.ns_btn > a').click()"
   ]
  },
  {
   "cell_type": "code",
   "execution_count": 71,
   "metadata": {},
   "outputs": [],
   "source": [
    "#정치\n",
    "driver.find_element_by_css_selector('#container > div.content > div > div > h3 > div.ns_wrap > ul > li:nth-child(2) > a').click()"
   ]
  },
  {
   "cell_type": "code",
   "execution_count": 61,
   "metadata": {},
   "outputs": [],
   "source": [
    "#beautifulsoup으로 크롤링하기\n",
    "html = driver.page_source"
   ]
  },
  {
   "cell_type": "code",
   "execution_count": 62,
   "metadata": {},
   "outputs": [],
   "source": [
    "soup = BeautifulSoup(html, 'html.parser')"
   ]
  },
  {
   "cell_type": "code",
   "execution_count": 64,
   "metadata": {},
   "outputs": [],
   "source": [
    "total_count = soup.body.select_one('#container > div.content > div > div > h3 > span')"
   ]
  },
  {
   "cell_type": "code",
   "execution_count": 65,
   "metadata": {},
   "outputs": [],
   "source": [
    "total_count = int(total_count.string[2:-1].replace(\",\",\"\"))"
   ]
  },
  {
   "cell_type": "code",
   "execution_count": 66,
   "metadata": {},
   "outputs": [
    {
     "data": {
      "text/plain": [
       "16591"
      ]
     },
     "execution_count": 66,
     "metadata": {},
     "output_type": "execute_result"
    }
   ],
   "source": [
    "total_count"
   ]
  },
  {
   "cell_type": "code",
   "execution_count": 67,
   "metadata": {
    "scrolled": true
   },
   "outputs": [],
   "source": [
    "title = []\n",
    "date = []\n",
    "\n",
    "leng = soup.body.select('#container > div > div > div > ul')\n",
    "a = leng[0].find_all('li')\n",
    "for i in a:\n",
    "    temp = i.select('li > span.txt_box > span.tit > a')\n",
    "    title.append(temp[0].text.strip())\n",
    "    temp_d =i.select('span.txt_box > em > span.dt_t')\n",
    "    date.append(temp_d[0].string)"
   ]
  },
  {
   "cell_type": "code",
   "execution_count": 68,
   "metadata": {},
   "outputs": [
    {
     "name": "stdout",
     "output_type": "stream",
     "text": [
      "['삼성전자 우면사업장 내 카페 직원 확진…\"건물 일부 폐쇄 후 방역\"', \"이씨에스, 재택근무 확대에 비대면솔루션 '날개'\", '코로나 뚫고 판매 급증한 TV…온라인 구매 인기', '삼성·LG전자, 하반기 김치냉장고 신제품 맞대결', '[아시아초대석] “大·中企 동반성장, 포스트 코로나 시대의 경제민주화”', \"삼성전자, 도어 패널 19종 확대…'비스포크 김치플러스' 신제품 출시\", \"'부진' 알뜰폰 살릴까…내일부터 U+ 결합할인, 전용 할인카드도 출시\", \"삼성페이로 신청·발급…'삼성페이카드' 31일 출시\", \"괴물 배터리 탑재한 50만원대 '갤럭시M51', 유럽 출시\", \"거리두기 '2.5단계'에 삼성도 재택근무 확대…SK텔레콤은 1주 연장\", '가전업계, 코로나19 재확산에도 호실적 전망', '삼성디플, 쑤저우 LCD 공장 中 업체 CSOT에 매각', \"삼성전자, 평택 2라인 가동 시작…'업계 최초' EUV 적용 모바일 D램 양산\", '재계, 코로나 재확산에 재택근무 강화', '화웨이냐 미국이냐..또 미중 사이에 낀 韓'] 15\n",
      "['2020.08.31 14:27:24', '2020.08.31 13:01:00', '2020.08.31 11:34:27', '2020.08.31 11:05:00', '2020.08.31 11:00:00', '2020.08.31 11:00:00', '2020.08.31 09:50:35', '2020.08.31 09:00:00', '2020.08.31 07:51:14', '2020.08.30 20:25:50', '2020.08.30 12:36:21', '2020.08.30 11:14:20', '2020.08.30 11:00:00', '2020.08.29 13:18:41', '2020.08.29 12:39:11'] 15\n"
     ]
    }
   ],
   "source": [
    "print(title, len(title))\n",
    "print(date, len(date))"
   ]
  },
  {
   "cell_type": "code",
   "execution_count": 72,
   "metadata": {},
   "outputs": [],
   "source": [
    "#경제\n",
    "driver.find_element_by_css_selector('#container > div.content > div > div > h3 > div.ns_wrap > ul > li:nth-child(3) > a').click()"
   ]
  },
  {
   "cell_type": "code",
   "execution_count": 73,
   "metadata": {},
   "outputs": [],
   "source": [
    "# 산업,IT\n",
    "driver.find_element_by_css_selector('#container > div.content > div > div > h3 > div.ns_wrap > ul > li:nth-child(4) > a').click()"
   ]
  },
  {
   "cell_type": "code",
   "execution_count": 74,
   "metadata": {},
   "outputs": [],
   "source": [
    "# 증권\n",
    "driver.find_element_by_css_selector('#container > div.content > div > div > h3 > div.ns_wrap > ul > li:nth-child(5) > a').click()"
   ]
  },
  {
   "cell_type": "code",
   "execution_count": 75,
   "metadata": {},
   "outputs": [],
   "source": [
    "# 부동산\n",
    "driver.find_element_by_css_selector('#container > div.content > div > div > h3 > div.ns_wrap > ul > li:nth-child(6) > a').click()"
   ]
  },
  {
   "cell_type": "code",
   "execution_count": 76,
   "metadata": {},
   "outputs": [],
   "source": [
    "# 국제\n",
    "driver.find_element_by_css_selector('#container > div.content > div > div > h3 > div.ns_wrap > ul > li:nth-child(7) > a').click()"
   ]
  },
  {
   "cell_type": "code",
   "execution_count": 78,
   "metadata": {},
   "outputs": [],
   "source": [
    "# 사회\n",
    "driver.find_element_by_css_selector('#container > div.content > div > div > h3 > div.ns_wrap > ul > li:nth-child(8) > a').click()\n",
    "#document.querySelector(\"#container > div > div > div > h3 > div.ns_wrap > ul > li:nth-child(8) > a\")"
   ]
  },
  {
   "cell_type": "code",
   "execution_count": 81,
   "metadata": {},
   "outputs": [],
   "source": [
    "# 라이프\n",
    "driver.find_element_by_css_selector('#container > div.content > div > div > h3 > div.ns_wrap > ul > li:nth-child(9) > a').click()"
   ]
  },
  {
   "cell_type": "code",
   "execution_count": 82,
   "metadata": {},
   "outputs": [],
   "source": [
    "# 골프\n",
    "driver.find_element_by_css_selector('#container > div.content > div > div > h3 > div.ns_wrap > ul > li:nth-child(10) > a').click()"
   ]
  },
  {
   "cell_type": "code",
   "execution_count": 83,
   "metadata": {},
   "outputs": [],
   "source": [
    "# 연예,스포츠\n",
    "driver.find_element_by_css_selector('#container > div.content > div > div > h3 > div.ns_wrap > ul > li:nth-child(11) > a').click()"
   ]
  },
  {
   "cell_type": "code",
   "execution_count": null,
   "metadata": {},
   "outputs": [],
   "source": []
  },
  {
   "cell_type": "code",
   "execution_count": null,
   "metadata": {},
   "outputs": [],
   "source": []
  }
 ],
 "metadata": {
  "kernelspec": {
   "display_name": "Python 3",
   "language": "python",
   "name": "python3"
  },
  "language_info": {
   "codemirror_mode": {
    "name": "ipython",
    "version": 3
   },
   "file_extension": ".py",
   "mimetype": "text/x-python",
   "name": "python",
   "nbconvert_exporter": "python",
   "pygments_lexer": "ipython3",
   "version": "3.7.6"
  }
 },
 "nbformat": 4,
 "nbformat_minor": 4
}
