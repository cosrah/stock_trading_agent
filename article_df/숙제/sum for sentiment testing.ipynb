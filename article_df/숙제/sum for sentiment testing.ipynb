{
 "cells": [
  {
   "cell_type": "code",
   "execution_count": 1,
   "metadata": {},
   "outputs": [],
   "source": [
    "import pandas as pd"
   ]
  },
  {
   "cell_type": "code",
   "execution_count": 2,
   "metadata": {},
   "outputs": [],
   "source": [
    "min=pd.read_csv('./민수.csv')"
   ]
  },
  {
   "cell_type": "code",
   "execution_count": 3,
   "metadata": {},
   "outputs": [
    {
     "data": {
      "text/html": [
       "<div>\n",
       "<style scoped>\n",
       "    .dataframe tbody tr th:only-of-type {\n",
       "        vertical-align: middle;\n",
       "    }\n",
       "\n",
       "    .dataframe tbody tr th {\n",
       "        vertical-align: top;\n",
       "    }\n",
       "\n",
       "    .dataframe thead th {\n",
       "        text-align: right;\n",
       "    }\n",
       "</style>\n",
       "<table border=\"1\" class=\"dataframe\">\n",
       "  <thead>\n",
       "    <tr style=\"text-align: right;\">\n",
       "      <th></th>\n",
       "      <th>Title</th>\n",
       "      <th>label</th>\n",
       "    </tr>\n",
       "  </thead>\n",
       "  <tbody>\n",
       "    <tr>\n",
       "      <th>0</th>\n",
       "      <td>국민안전로봇 2021년까지 개발…'로봇물고기' 전철 피할까?</td>\n",
       "      <td>0</td>\n",
       "    </tr>\n",
       "    <tr>\n",
       "      <th>1</th>\n",
       "      <td>'국정원 해킹 의혹' 상임위 앞두고 與野 전초전</td>\n",
       "      <td>0</td>\n",
       "    </tr>\n",
       "    <tr>\n",
       "      <th>2</th>\n",
       "      <td>인터넷티비(TV)결합상품, 인터넷가입 비교사이트 통해 통신사별 장단점 비교해야 유리</td>\n",
       "      <td>0</td>\n",
       "    </tr>\n",
       "    <tr>\n",
       "      <th>3</th>\n",
       "      <td>SKT, LG, KT 인터넷가입 비교사이트 ‘펭귄통신’ 설치 당일 현금지원 이벤트</td>\n",
       "      <td>0</td>\n",
       "    </tr>\n",
       "    <tr>\n",
       "      <th>4</th>\n",
       "      <td>설 연휴 고향 가는 길, 언제 출발해야 덜 막힐까</td>\n",
       "      <td>0</td>\n",
       "    </tr>\n",
       "    <tr>\n",
       "      <th>...</th>\n",
       "      <td>...</td>\n",
       "      <td>...</td>\n",
       "    </tr>\n",
       "    <tr>\n",
       "      <th>95</th>\n",
       "      <td>최태원 SK 회장 다보스서 '사회적 가치' 설파</td>\n",
       "      <td>0</td>\n",
       "    </tr>\n",
       "    <tr>\n",
       "      <th>96</th>\n",
       "      <td>항공사부터 박물관까지 MS의 클라우드 세상 한 눈에… '애저 에브리웨어'</td>\n",
       "      <td>0</td>\n",
       "    </tr>\n",
       "    <tr>\n",
       "      <th>97</th>\n",
       "      <td>반사이익 '톡톡' 티맵택시 120만 돌파…12배 '폭증'</td>\n",
       "      <td>0</td>\n",
       "    </tr>\n",
       "    <tr>\n",
       "      <th>98</th>\n",
       "      <td>'카풀 논란'에도 카카오택시 호출 12월 최다 ↑</td>\n",
       "      <td>0</td>\n",
       "    </tr>\n",
       "    <tr>\n",
       "      <th>99</th>\n",
       "      <td>LGU+가 시작한 5G 속도전.. 갈길이 멀다</td>\n",
       "      <td>0</td>\n",
       "    </tr>\n",
       "  </tbody>\n",
       "</table>\n",
       "<p>100 rows × 2 columns</p>\n",
       "</div>"
      ],
      "text/plain": [
       "                                             Title  label\n",
       "0                국민안전로봇 2021년까지 개발…'로봇물고기' 전철 피할까?      0\n",
       "1                       '국정원 해킹 의혹' 상임위 앞두고 與野 전초전      0\n",
       "2   인터넷티비(TV)결합상품, 인터넷가입 비교사이트 통해 통신사별 장단점 비교해야 유리      0\n",
       "3    SKT, LG, KT 인터넷가입 비교사이트 ‘펭귄통신’ 설치 당일 현금지원 이벤트      0\n",
       "4                      설 연휴 고향 가는 길, 언제 출발해야 덜 막힐까      0\n",
       "..                                             ...    ...\n",
       "95                      최태원 SK 회장 다보스서 '사회적 가치' 설파      0\n",
       "96        항공사부터 박물관까지 MS의 클라우드 세상 한 눈에… '애저 에브리웨어'      0\n",
       "97                 반사이익 '톡톡' 티맵택시 120만 돌파…12배 '폭증'      0\n",
       "98                     '카풀 논란'에도 카카오택시 호출 12월 최다 ↑      0\n",
       "99                       LGU+가 시작한 5G 속도전.. 갈길이 멀다      0\n",
       "\n",
       "[100 rows x 2 columns]"
      ]
     },
     "execution_count": 3,
     "metadata": {},
     "output_type": "execute_result"
    }
   ],
   "source": [
    "min.iloc[:,1:3]"
   ]
  },
  {
   "cell_type": "code",
   "execution_count": 4,
   "metadata": {},
   "outputs": [
    {
     "data": {
      "text/html": [
       "<div>\n",
       "<style scoped>\n",
       "    .dataframe tbody tr th:only-of-type {\n",
       "        vertical-align: middle;\n",
       "    }\n",
       "\n",
       "    .dataframe tbody tr th {\n",
       "        vertical-align: top;\n",
       "    }\n",
       "\n",
       "    .dataframe thead th {\n",
       "        text-align: right;\n",
       "    }\n",
       "</style>\n",
       "<table border=\"1\" class=\"dataframe\">\n",
       "  <thead>\n",
       "    <tr style=\"text-align: right;\">\n",
       "      <th></th>\n",
       "      <th>Title</th>\n",
       "      <th>label</th>\n",
       "    </tr>\n",
       "  </thead>\n",
       "  <tbody>\n",
       "    <tr>\n",
       "      <th>0</th>\n",
       "      <td>타임워너, 국내 PP 지분 100%로 확대</td>\n",
       "      <td>0</td>\n",
       "    </tr>\n",
       "    <tr>\n",
       "      <th>1</th>\n",
       "      <td>한국서 자율주행차 토론회 열린다</td>\n",
       "      <td>0</td>\n",
       "    </tr>\n",
       "    <tr>\n",
       "      <th>2</th>\n",
       "      <td>내일 'LG 워치' 조기출격…'65만원' 이유는?(종합)</td>\n",
       "      <td>0</td>\n",
       "    </tr>\n",
       "    <tr>\n",
       "      <th>3</th>\n",
       "      <td>26일 '체험존' 여는 '갤S6'…SKT 영업정지가 복병(종합)</td>\n",
       "      <td>-1</td>\n",
       "    </tr>\n",
       "    <tr>\n",
       "      <th>4</th>\n",
       "      <td>AK몰, 4일간의 특가쇼핑찬스 ‘크레이지 4데이즈’</td>\n",
       "      <td>0</td>\n",
       "    </tr>\n",
       "    <tr>\n",
       "      <th>...</th>\n",
       "      <td>...</td>\n",
       "      <td>...</td>\n",
       "    </tr>\n",
       "    <tr>\n",
       "      <th>95</th>\n",
       "      <td>[김영무 칼럼]17년 만의 팍스넷 상장</td>\n",
       "      <td>0</td>\n",
       "    </tr>\n",
       "    <tr>\n",
       "      <th>96</th>\n",
       "      <td>[마감시황]코스피, 7거래일만에 '숨고르기'…1990선 아래로</td>\n",
       "      <td>0</td>\n",
       "    </tr>\n",
       "    <tr>\n",
       "      <th>97</th>\n",
       "      <td>[뉴아시아,지나온 10년 다가올 10년]증시 알파고가 종목 추천</td>\n",
       "      <td>0</td>\n",
       "    </tr>\n",
       "    <tr>\n",
       "      <th>98</th>\n",
       "      <td>코스피, 外人 매도세 거세지며 '2000선' 위협</td>\n",
       "      <td>0</td>\n",
       "    </tr>\n",
       "    <tr>\n",
       "      <th>99</th>\n",
       "      <td>코스피, 대형주 부진에 하락 출발</td>\n",
       "      <td>-1</td>\n",
       "    </tr>\n",
       "  </tbody>\n",
       "</table>\n",
       "<p>100 rows × 2 columns</p>\n",
       "</div>"
      ],
      "text/plain": [
       "                                  Title  label\n",
       "0               타임워너, 국내 PP 지분 100%로 확대      0\n",
       "1                     한국서 자율주행차 토론회 열린다      0\n",
       "2       내일 'LG 워치' 조기출격…'65만원' 이유는?(종합)      0\n",
       "3   26일 '체험존' 여는 '갤S6'…SKT 영업정지가 복병(종합)     -1\n",
       "4          AK몰, 4일간의 특가쇼핑찬스 ‘크레이지 4데이즈’      0\n",
       "..                                  ...    ...\n",
       "95                [김영무 칼럼]17년 만의 팍스넷 상장      0\n",
       "96   [마감시황]코스피, 7거래일만에 '숨고르기'…1990선 아래로      0\n",
       "97  [뉴아시아,지나온 10년 다가올 10년]증시 알파고가 종목 추천      0\n",
       "98          코스피, 外人 매도세 거세지며 '2000선' 위협      0\n",
       "99                   코스피, 대형주 부진에 하락 출발     -1\n",
       "\n",
       "[100 rows x 2 columns]"
      ]
     },
     "execution_count": 4,
     "metadata": {},
     "output_type": "execute_result"
    }
   ],
   "source": [
    "you=pd.read_csv('./유희.csv')\n",
    "you\n",
    "you.iloc[:,1:3]"
   ]
  },
  {
   "cell_type": "code",
   "execution_count": 5,
   "metadata": {},
   "outputs": [
    {
     "data": {
      "text/html": [
       "<div>\n",
       "<style scoped>\n",
       "    .dataframe tbody tr th:only-of-type {\n",
       "        vertical-align: middle;\n",
       "    }\n",
       "\n",
       "    .dataframe tbody tr th {\n",
       "        vertical-align: top;\n",
       "    }\n",
       "\n",
       "    .dataframe thead th {\n",
       "        text-align: right;\n",
       "    }\n",
       "</style>\n",
       "<table border=\"1\" class=\"dataframe\">\n",
       "  <thead>\n",
       "    <tr style=\"text-align: right;\">\n",
       "      <th></th>\n",
       "      <th>Title</th>\n",
       "      <th>label</th>\n",
       "    </tr>\n",
       "  </thead>\n",
       "  <tbody>\n",
       "    <tr>\n",
       "      <th>0</th>\n",
       "      <td>정부, 구글 지도 해외 반출 불허 구글이 보완책 수용 안해 (상보)</td>\n",
       "      <td>0</td>\n",
       "    </tr>\n",
       "    <tr>\n",
       "      <th>1</th>\n",
       "      <td>미래부, 2차 유료방송 발전방안 공개토론회 개최</td>\n",
       "      <td>0</td>\n",
       "    </tr>\n",
       "    <tr>\n",
       "      <th>2</th>\n",
       "      <td>SKT, 전용폰 구입 고객에 T1 롤드컵 우승 기념품 증정</td>\n",
       "      <td>1</td>\n",
       "    </tr>\n",
       "    <tr>\n",
       "      <th>3</th>\n",
       "      <td>'갤S7'사면 페이백 50만원 준다더니제2의 거성 모바일 사태?</td>\n",
       "      <td>0</td>\n",
       "    </tr>\n",
       "    <tr>\n",
       "      <th>4</th>\n",
       "      <td>케이블TV 가입자도 내년 1월부터 SKT 요금할인받는다</td>\n",
       "      <td>1</td>\n",
       "    </tr>\n",
       "    <tr>\n",
       "      <th>...</th>\n",
       "      <td>...</td>\n",
       "      <td>...</td>\n",
       "    </tr>\n",
       "    <tr>\n",
       "      <th>95</th>\n",
       "      <td>이통3사, LG G4 예약판매 돌입'혜택·이벤트' 듬뿍</td>\n",
       "      <td>1</td>\n",
       "    </tr>\n",
       "    <tr>\n",
       "      <th>96</th>\n",
       "      <td>'LG G4' 22일부터 이통3사 예판 액정 무상교체</td>\n",
       "      <td>1</td>\n",
       "    </tr>\n",
       "    <tr>\n",
       "      <th>97</th>\n",
       "      <td>'갤S6'로 승부 건 KT지원금 '상한액 수준' 올려</td>\n",
       "      <td>0</td>\n",
       "    </tr>\n",
       "    <tr>\n",
       "      <th>98</th>\n",
       "      <td>\"엣지 없습니다  S6 품귀에 이통사 이벤트도 '연장'\"</td>\n",
       "      <td>1</td>\n",
       "    </tr>\n",
       "    <tr>\n",
       "      <th>99</th>\n",
       "      <td>LG유플러스, 용산 신사옥 시대</td>\n",
       "      <td>0</td>\n",
       "    </tr>\n",
       "  </tbody>\n",
       "</table>\n",
       "<p>100 rows × 2 columns</p>\n",
       "</div>"
      ],
      "text/plain": [
       "                                    Title  label\n",
       "0   정부, 구글 지도 해외 반출 불허 구글이 보완책 수용 안해 (상보)      0\n",
       "1              미래부, 2차 유료방송 발전방안 공개토론회 개최      0\n",
       "2        SKT, 전용폰 구입 고객에 T1 롤드컵 우승 기념품 증정      1\n",
       "3     '갤S7'사면 페이백 50만원 준다더니제2의 거성 모바일 사태?      0\n",
       "4          케이블TV 가입자도 내년 1월부터 SKT 요금할인받는다      1\n",
       "..                                    ...    ...\n",
       "95         이통3사, LG G4 예약판매 돌입'혜택·이벤트' 듬뿍      1\n",
       "96         'LG G4' 22일부터 이통3사 예판 액정 무상교체       1\n",
       "97          '갤S6'로 승부 건 KT지원금 '상한액 수준' 올려      0\n",
       "98        \"엣지 없습니다  S6 품귀에 이통사 이벤트도 '연장'\"      1\n",
       "99                      LG유플러스, 용산 신사옥 시대      0\n",
       "\n",
       "[100 rows x 2 columns]"
      ]
     },
     "execution_count": 5,
     "metadata": {},
     "output_type": "execute_result"
    }
   ],
   "source": [
    "sora=pd.read_csv('./소라.csv')\n",
    "sora\n",
    "sora.iloc[:,1:3]"
   ]
  },
  {
   "cell_type": "code",
   "execution_count": 6,
   "metadata": {},
   "outputs": [
    {
     "data": {
      "text/plain": [
       "'0     정부, 구글 지도 해외 반출 불허 구글이 보완책 수용 안해 (상보)\\n1                미래부, 2차 유료방송 발전방안 공개토론회 개최\\n2          SKT, 전용폰 구입 고객에 T1 롤드컵 우승 기념품 증정\\n3       \\'갤S7\\'사면 페이백 50만원 준다더니제2의 거성 모바일 사태?\\n4            케이블TV 가입자도 내년 1월부터 SKT 요금할인받는다\\n                      ...                  \\n95           이통3사, LG G4 예약판매 돌입\\'혜택·이벤트\\' 듬뿍\\n96           \\'LG G4\\' 22일부터 이통3사 예판 액정 무상교체 \\n97            \\'갤S6\\'로 승부 건 KT지원금 \\'상한액 수준\\' 올려\\n98          \"엣지 없습니다  S6 품귀에 이통사 이벤트도 \\'연장\\'\"\\n99                        LG유플러스, 용산 신사옥 시대\\nName: Title, Length: 100, dtype: object'"
      ]
     },
     "execution_count": 6,
     "metadata": {},
     "output_type": "execute_result"
    }
   ],
   "source": [
    "str(sora['Title'])"
   ]
  },
  {
   "cell_type": "code",
   "execution_count": 7,
   "metadata": {
    "scrolled": true
   },
   "outputs": [],
   "source": [
    "hye=pd.read_csv('./혜지.csv')"
   ]
  },
  {
   "cell_type": "code",
   "execution_count": 8,
   "metadata": {
    "scrolled": true
   },
   "outputs": [],
   "source": [
    "hye\n",
    "hye=hye.iloc[:,1:3]"
   ]
  },
  {
   "cell_type": "code",
   "execution_count": 9,
   "metadata": {},
   "outputs": [
    {
     "data": {
      "text/html": [
       "<div>\n",
       "<style scoped>\n",
       "    .dataframe tbody tr th:only-of-type {\n",
       "        vertical-align: middle;\n",
       "    }\n",
       "\n",
       "    .dataframe tbody tr th {\n",
       "        vertical-align: top;\n",
       "    }\n",
       "\n",
       "    .dataframe thead th {\n",
       "        text-align: right;\n",
       "    }\n",
       "</style>\n",
       "<table border=\"1\" class=\"dataframe\">\n",
       "  <thead>\n",
       "    <tr style=\"text-align: right;\">\n",
       "      <th></th>\n",
       "      <th>Title</th>\n",
       "      <th>label</th>\n",
       "    </tr>\n",
       "  </thead>\n",
       "  <tbody>\n",
       "    <tr>\n",
       "      <th>0</th>\n",
       "      <td>[굿모닝 증시]마이너스 금리·환율에 대처하는 우리의 자세</td>\n",
       "      <td>0.0</td>\n",
       "    </tr>\n",
       "    <tr>\n",
       "      <th>1</th>\n",
       "      <td>현대건설 SK텔레콤과 스마트홈 사업협력 MOU</td>\n",
       "      <td>1.0</td>\n",
       "    </tr>\n",
       "    <tr>\n",
       "      <th>2</th>\n",
       "      <td>유비벨록스 자회사 라임아이 디오인터랙티브 합병안 주주총회 승인</td>\n",
       "      <td>0.0</td>\n",
       "    </tr>\n",
       "    <tr>\n",
       "      <th>3</th>\n",
       "      <td>[특징주]SGA솔루션즈 애플의 FIDO 인증 제품 지원소식…↑</td>\n",
       "      <td>0.0</td>\n",
       "    </tr>\n",
       "    <tr>\n",
       "      <th>4</th>\n",
       "      <td>SK텔레콤 3분기 영업익 4662억..전년비 7.82% 감소</td>\n",
       "      <td>-1.0</td>\n",
       "    </tr>\n",
       "    <tr>\n",
       "      <th>...</th>\n",
       "      <td>...</td>\n",
       "      <td>...</td>\n",
       "    </tr>\n",
       "    <tr>\n",
       "      <th>95</th>\n",
       "      <td>박태환·안세현 2019 광주세계수영선수권 홍보대사로 임명</td>\n",
       "      <td>0.0</td>\n",
       "    </tr>\n",
       "    <tr>\n",
       "      <th>96</th>\n",
       "      <td>애플 아이폰6s 23일 국내 출시…이전보다 10만원 이상 비싸</td>\n",
       "      <td>0.0</td>\n",
       "    </tr>\n",
       "    <tr>\n",
       "      <th>97</th>\n",
       "      <td>SKT '연결의 힘' 캠페인…첫 프로젝트는 '정우 무전여행'</td>\n",
       "      <td>1.0</td>\n",
       "    </tr>\n",
       "    <tr>\n",
       "      <th>98</th>\n",
       "      <td>롤챔스 '버프걸' 채림, \"인형이야, 사람이야?\"</td>\n",
       "      <td>0.0</td>\n",
       "    </tr>\n",
       "    <tr>\n",
       "      <th>99</th>\n",
       "      <td>안세현 박태환 코치 '빨' 좀 받을까</td>\n",
       "      <td>0.0</td>\n",
       "    </tr>\n",
       "  </tbody>\n",
       "</table>\n",
       "<p>100 rows × 2 columns</p>\n",
       "</div>"
      ],
      "text/plain": [
       "                                 Title  label\n",
       "0      [굿모닝 증시]마이너스 금리·환율에 대처하는 우리의 자세    0.0\n",
       "1            현대건설 SK텔레콤과 스마트홈 사업협력 MOU    1.0\n",
       "2   유비벨록스 자회사 라임아이 디오인터랙티브 합병안 주주총회 승인    0.0\n",
       "3   [특징주]SGA솔루션즈 애플의 FIDO 인증 제품 지원소식…↑    0.0\n",
       "4    SK텔레콤 3분기 영업익 4662억..전년비 7.82% 감소   -1.0\n",
       "..                                 ...    ...\n",
       "95     박태환·안세현 2019 광주세계수영선수권 홍보대사로 임명    0.0\n",
       "96  애플 아이폰6s 23일 국내 출시…이전보다 10만원 이상 비싸    0.0\n",
       "97   SKT '연결의 힘' 캠페인…첫 프로젝트는 '정우 무전여행'    1.0\n",
       "98         롤챔스 '버프걸' 채림, \"인형이야, 사람이야?\"    0.0\n",
       "99                안세현 박태환 코치 '빨' 좀 받을까    0.0\n",
       "\n",
       "[100 rows x 2 columns]"
      ]
     },
     "execution_count": 9,
     "metadata": {},
     "output_type": "execute_result"
    }
   ],
   "source": [
    "hye"
   ]
  },
  {
   "cell_type": "code",
   "execution_count": 10,
   "metadata": {},
   "outputs": [],
   "source": [
    "import numpy as np"
   ]
  },
  {
   "cell_type": "code",
   "execution_count": 11,
   "metadata": {},
   "outputs": [
    {
     "data": {
      "text/plain": [
       "array([98,  2], dtype=int64)"
      ]
     },
     "execution_count": 11,
     "metadata": {},
     "output_type": "execute_result"
    }
   ],
   "source": [
    "np.bincount(hye['label'].isna())"
   ]
  },
  {
   "cell_type": "code",
   "execution_count": 111,
   "metadata": {},
   "outputs": [
    {
     "data": {
      "text/plain": [
       " 0.0    87\n",
       " 1.0    10\n",
       "-1.0     1\n",
       "Name: label, dtype: int64"
      ]
     },
     "execution_count": 111,
     "metadata": {},
     "output_type": "execute_result"
    }
   ],
   "source": [
    "hye['label'].value_counts()"
   ]
  },
  {
   "cell_type": "code",
   "execution_count": 106,
   "metadata": {},
   "outputs": [
    {
     "data": {
      "text/plain": [
       "array([ 0.,  1., -1., nan])"
      ]
     },
     "execution_count": 106,
     "metadata": {},
     "output_type": "execute_result"
    }
   ],
   "source": [
    "hye['label'].unique()"
   ]
  },
  {
   "cell_type": "code",
   "execution_count": 112,
   "metadata": {},
   "outputs": [
    {
     "name": "stdout",
     "output_type": "stream",
     "text": [
      "<class 'pandas.core.frame.DataFrame'>\n",
      "RangeIndex: 100 entries, 0 to 99\n",
      "Data columns (total 2 columns):\n",
      " #   Column  Non-Null Count  Dtype  \n",
      "---  ------  --------------  -----  \n",
      " 0   Title   100 non-null    object \n",
      " 1   label   98 non-null     float64\n",
      "dtypes: float64(1), object(1)\n",
      "memory usage: 1.7+ KB\n"
     ]
    }
   ],
   "source": [
    "hye.info()"
   ]
  },
  {
   "cell_type": "code",
   "execution_count": 63,
   "metadata": {
    "collapsed": true
   },
   "outputs": [
    {
     "data": {
      "text/html": [
       "<div>\n",
       "<style scoped>\n",
       "    .dataframe tbody tr th:only-of-type {\n",
       "        vertical-align: middle;\n",
       "    }\n",
       "\n",
       "    .dataframe tbody tr th {\n",
       "        vertical-align: top;\n",
       "    }\n",
       "\n",
       "    .dataframe thead th {\n",
       "        text-align: right;\n",
       "    }\n",
       "</style>\n",
       "<table border=\"1\" class=\"dataframe\">\n",
       "  <thead>\n",
       "    <tr style=\"text-align: right;\">\n",
       "      <th></th>\n",
       "      <th>Unnamed: 0</th>\n",
       "      <th>Title</th>\n",
       "      <th>label</th>\n",
       "    </tr>\n",
       "  </thead>\n",
       "  <tbody>\n",
       "    <tr>\n",
       "      <th>0</th>\n",
       "      <td>2379</td>\n",
       "      <td>로봇세상에서 돋보인 '엣지컴퓨팅'</td>\n",
       "      <td>1</td>\n",
       "    </tr>\n",
       "    <tr>\n",
       "      <th>1</th>\n",
       "      <td>2383</td>\n",
       "      <td>삼성전자 SKT 등 5G 스마트 팩토리 동맹 '맞손'</td>\n",
       "      <td>1</td>\n",
       "    </tr>\n",
       "    <tr>\n",
       "      <th>2</th>\n",
       "      <td>2399</td>\n",
       "      <td>5G 주도권 삼성전자 반전 노린다</td>\n",
       "      <td>1</td>\n",
       "    </tr>\n",
       "    <tr>\n",
       "      <th>3</th>\n",
       "      <td>2407</td>\n",
       "      <td>SKT 5G자율주행車 첫선.. K-CITY를 달리다</td>\n",
       "      <td>1</td>\n",
       "    </tr>\n",
       "    <tr>\n",
       "      <th>4</th>\n",
       "      <td>2413</td>\n",
       "      <td>젊어진 SK그룹…...4050 전진 앞으로</td>\n",
       "      <td>1</td>\n",
       "    </tr>\n",
       "    <tr>\n",
       "      <th>...</th>\n",
       "      <td>...</td>\n",
       "      <td>...</td>\n",
       "      <td>...</td>\n",
       "    </tr>\n",
       "    <tr>\n",
       "      <th>78</th>\n",
       "      <td>4176</td>\n",
       "      <td>스웨덴 에릭슨\"4차 산업혁명 협력할 韓 스타트업 찾습니다 ,0\\r\\n4187,SKT...</td>\n",
       "      <td>1</td>\n",
       "    </tr>\n",
       "    <tr>\n",
       "      <th>79</th>\n",
       "      <td>4202</td>\n",
       "      <td>CJ헬로비전 작년 영업이익 59.4% 감소한 429억원…\"M&amp;A 등 불확실성 해소,...</td>\n",
       "      <td>1</td>\n",
       "    </tr>\n",
       "    <tr>\n",
       "      <th>80</th>\n",
       "      <td>4259</td>\n",
       "      <td>SKT 2019년까지 11조원 투자</td>\n",
       "      <td>1</td>\n",
       "    </tr>\n",
       "    <tr>\n",
       "      <th>81</th>\n",
       "      <td>4282</td>\n",
       "      <td>통신사 커버리지맵 정확도 SKT 1위 '오차 0%'</td>\n",
       "      <td>1</td>\n",
       "    </tr>\n",
       "    <tr>\n",
       "      <th>82</th>\n",
       "      <td>4310</td>\n",
       "      <td>크리스마스 맞이 스마트폰 가격 인하…\"연말 특수 기대,1\\r\\n4384,CJ헬로비전...</td>\n",
       "      <td>1</td>\n",
       "    </tr>\n",
       "  </tbody>\n",
       "</table>\n",
       "<p>83 rows × 3 columns</p>\n",
       "</div>"
      ],
      "text/plain": [
       "    Unnamed: 0                                              Title  label\n",
       "0         2379                                 로봇세상에서 돋보인 '엣지컴퓨팅'      1\n",
       "1         2383                      삼성전자 SKT 등 5G 스마트 팩토리 동맹 '맞손'      1\n",
       "2         2399                                 5G 주도권 삼성전자 반전 노린다      1\n",
       "3         2407                       SKT 5G자율주행車 첫선.. K-CITY를 달리다      1\n",
       "4         2413                            젊어진 SK그룹…...4050 전진 앞으로      1\n",
       "..         ...                                                ...    ...\n",
       "78        4176  스웨덴 에릭슨\"4차 산업혁명 협력할 韓 스타트업 찾습니다 ,0\\r\\n4187,SKT...      1\n",
       "79        4202  CJ헬로비전 작년 영업이익 59.4% 감소한 429억원…\"M&A 등 불확실성 해소,...      1\n",
       "80        4259                                SKT 2019년까지 11조원 투자      1\n",
       "81        4282                       통신사 커버리지맵 정확도 SKT 1위 '오차 0%'      1\n",
       "82        4310  크리스마스 맞이 스마트폰 가격 인하…\"연말 특수 기대,1\\r\\n4384,CJ헬로비전...      1\n",
       "\n",
       "[83 rows x 3 columns]"
      ]
     },
     "execution_count": 63,
     "metadata": {},
     "output_type": "execute_result"
    }
   ],
   "source": [
    "hjae=pd.read_csv('./희재.csv')\n",
    "hjae"
   ]
  },
  {
   "cell_type": "code",
   "execution_count": 72,
   "metadata": {},
   "outputs": [],
   "source": [
    "hjae=hjae.iloc[:,1:3]"
   ]
  },
  {
   "cell_type": "code",
   "execution_count": null,
   "metadata": {},
   "outputs": [],
   "source": [
    "min=pd.read_csv('./민수.csv')\n",
    "you=pd.read_csv('./유희.csv')\n",
    "sora=pd.read_csv('./소라.csv')\n",
    "hye=pd.read_csv('./혜지.csv')\n",
    "hjae=pd.read_csv('./희재.csv')"
   ]
  }
 ],
 "metadata": {
  "kernelspec": {
   "display_name": "Python 3",
   "language": "python",
   "name": "python3"
  },
  "language_info": {
   "codemirror_mode": {
    "name": "ipython",
    "version": 3
   },
   "file_extension": ".py",
   "mimetype": "text/x-python",
   "name": "python",
   "nbconvert_exporter": "python",
   "pygments_lexer": "ipython3",
   "version": "3.8.3"
  }
 },
 "nbformat": 4,
 "nbformat_minor": 4
}
