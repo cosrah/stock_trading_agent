{
 "cells": [
  {
   "cell_type": "code",
   "execution_count": null,
   "metadata": {},
   "outputs": [],
   "source": [
    "import time\n",
    "from selenium import webdriver\n",
    "from bs4 import BeautifulSoup\n",
    "import pandas as pd\n",
    "import numpy as np\n"
   ]
  },
  {
   "cell_type": "code",
   "execution_count": 44,
   "metadata": {},
   "outputs": [],
   "source": [
    "class MyCrawler:\n",
    "    def __init__(self, url='https://www.asiae.co.kr/'):\n",
    "        self.driver = webdriver.Chrome('chromedriver.exe')\n",
    "        # 페이지 이동\n",
    "        self.driver.get(url)\n",
    "        time.sleep(1)\n",
    "        print(\"객체 주소는 \" + url + \"입니다.\")\n",
    " \n",
    "    def force_init(self, url='https://www.asiae.co.kr/'):\n",
    "        self.driver = webdriver.Chrome('chromedriver.exe')\n",
    "        # 페이지 이동\\\n",
    "        self.driver.get(url)\n",
    "        time.sleep(1)\n",
    "    #리스트 추가\n",
    "    def search_topic(self, topic = '삼성전자'):\n",
    "        try:\n",
    "            self.driver.find_element_by_css_selector('#main_wrap > div.main_header > div.top_head > div.area_fstare > div > div > div.search_wrap > form > fieldset > a').click()\n",
    "            # 검색목록에 넣기\n",
    "            self.driver.find_element_by_css_selector('#search1').send_keys(topic)\n",
    "            # 검색버튼 누르기\n",
    "            self.driver.find_element_by_css_selector('#main_wrap > div.main_header > div.top_head > div.area_fstare > div > div > div.search_wrap > form > fieldset > div > input').click()\n",
    "        except Exception as err:\n",
    "            time.sleep(2)\n",
    "            print(\"searching too fast\")\n",
    "            self.search_topic(topic)\n",
    "    # 날자 범위 선택\n",
    "    def set_date(self):\n",
    "        try:\n",
    "            #검색 옵션 선택\n",
    "            self.driver.find_element_by_css_selector('#wrap > div.seo_lnb > div.sch_lnb > div > a').click()\n",
    "            #기간 선택\n",
    "            self.driver.find_element_by_css_selector('#wrap > div.seo_lnb > div.sch_lst > div > div > ul > li.title_tab.tab02 > a').click()\n",
    "            #날자 설정\n",
    "            self.driver.find_element_by_css_selector('#sDate').send_keys('2015.03.01')\n",
    "            self.driver.find_element_by_css_selector('#eDate').send_keys('2020.09.01')\n",
    "            # 검색버튼 누르기\n",
    "            self.driver.find_element_by_css_selector('#wrap > div.seo_lnb > div.sch_lst > div > div > div > ul.tcont.tabcont02.on > li.inp_box > div > a').click()\n",
    "        except Exception as err:\n",
    "            time.sleep(2)\n",
    "            print(\"setting too fast\")\n",
    "            self.set_date() \n",
    "              \n",
    "    def move2news(self):\n",
    "        try:\n",
    "            #검색 옵션 선택\n",
    "            self.driver.find_element_by_css_selector('#type_news > a > span').click()\n",
    "        except Exception as err:\n",
    "            time.sleep(2)\n",
    "            print(\"moving too fast\")\n",
    "            self.move2news()      \n",
    "\n",
    "    # 분야 선택하기\n",
    "    # Param: category\n",
    "    # [0,1,2,3,4,5,6,7,8,9]\n",
    "    # [정치, 경제, 산업·IT, 증권, 부동산, 국제, 사회, 라이프, 골프, 연예·스포츠]\n",
    "    def change_category(self,category = 0): \n",
    "        self.driver.find_element_by_css_selector('#container > div.content > div > div > h3 > div.ns_btn > a').click()\n",
    "        self.driver.find_element_by_css_selector('#container > div > div > div > h3 > div.ns_wrap > ul > li:nth-child(' + str(category+2) +') > a').click()"
   ]
  },
  {
   "cell_type": "code",
   "execution_count": 45,
   "metadata": {},
   "outputs": [
    {
     "name": "stdout",
     "output_type": "stream",
     "text": [
      "객체 주소는 https://www.asiae.co.kr/입니다.\n"
     ]
    }
   ],
   "source": [
    "cr = MyCrawler()\n",
    "cr.search_topic()\n",
    "cr.set_date()"
   ]
  },
  {
   "cell_type": "code",
   "execution_count": 46,
   "metadata": {},
   "outputs": [],
   "source": [
    "cr.move2news()\n",
    "cr.change_category(3)"
   ]
  },
  {
   "cell_type": "code",
   "execution_count": 47,
   "metadata": {},
   "outputs": [],
   "source": [
    "title = []\n",
    "dates = []"
   ]
  },
  {
   "cell_type": "code",
   "execution_count": 48,
   "metadata": {},
   "outputs": [],
   "source": [
    "article_df = pd.DataFrame(columns = ['Title', 'Date','Category'])\n",
    "for section in range(0,9):\n",
    "    cr.change_category(section)\n",
    "    #beautifulsoup으로 크롤링하기\n",
    "    html = cr.driver.page_source\n",
    "    soup = BeautifulSoup(html, 'html.parser')\n",
    "#     total_count = soup.body.select_one('#container > div.content > div > div > h3 > span')\n",
    "#     total_count = int(total_count.string[2:-1].replace(\",\",\"\"))\n",
    "#     pages = total_count/15\n",
    "    leng = soup.body.select('#container > div > div > div > ul')\n",
    "    a = leng[0].find_all('li')\n",
    "    for i in a:\n",
    "        temp_t = i.find('span', class_='tit')\n",
    "        temp_d =i.find('span',class_='dt_t')\n",
    "        # category 는 후에 위에 다른 변수에서 설정해서 퍼와야할듯\n",
    "        article_df = article_df.append({'Title' : temp_t.a.text.strip(), 'Date':temp_d.string[:10], 'Category':section}, ignore_index = True)\n",
    "\n",
    "    "
   ]
  },
  {
   "cell_type": "code",
   "execution_count": 49,
   "metadata": {},
   "outputs": [
    {
     "data": {
      "text/html": [
       "<div>\n",
       "<style scoped>\n",
       "    .dataframe tbody tr th:only-of-type {\n",
       "        vertical-align: middle;\n",
       "    }\n",
       "\n",
       "    .dataframe tbody tr th {\n",
       "        vertical-align: top;\n",
       "    }\n",
       "\n",
       "    .dataframe thead th {\n",
       "        text-align: right;\n",
       "    }\n",
       "</style>\n",
       "<table border=\"1\" class=\"dataframe\">\n",
       "  <thead>\n",
       "    <tr style=\"text-align: right;\">\n",
       "      <th></th>\n",
       "      <th>Title</th>\n",
       "      <th>Date</th>\n",
       "      <th>Category</th>\n",
       "    </tr>\n",
       "  </thead>\n",
       "  <tbody>\n",
       "    <tr>\n",
       "      <th>0</th>\n",
       "      <td>통합당 '국민의힘' 개명 논란 속 추진…'의원 4연임 금지'는 제외</td>\n",
       "      <td>2020.09.01</td>\n",
       "      <td>0</td>\n",
       "    </tr>\n",
       "    <tr>\n",
       "      <th>1</th>\n",
       "      <td>[민주 全大] 민주당 신임 최고위원 선출…‘친문’ ‘지자체장’ ‘4선 중진’ 등 당선</td>\n",
       "      <td>2020.08.29</td>\n",
       "      <td>0</td>\n",
       "    </tr>\n",
       "    <tr>\n",
       "      <th>2</th>\n",
       "      <td>삼성 출신 양향자, 산재 신청 못한단 보도에 \"참담하다…일류 삼성\"</td>\n",
       "      <td>2020.07.31</td>\n",
       "      <td>0</td>\n",
       "    </tr>\n",
       "    <tr>\n",
       "      <th>3</th>\n",
       "      <td>공공기관 전용 지방대 학과·병역특례 추진</td>\n",
       "      <td>2020.07.30</td>\n",
       "      <td>0</td>\n",
       "    </tr>\n",
       "    <tr>\n",
       "      <th>4</th>\n",
       "      <td>수사심의위 '손보기' 나선 與…\"명단 달라\", \"시스템 문제 아니냐\"</td>\n",
       "      <td>2020.07.27</td>\n",
       "      <td>0</td>\n",
       "    </tr>\n",
       "    <tr>\n",
       "      <th>...</th>\n",
       "      <td>...</td>\n",
       "      <td>...</td>\n",
       "      <td>...</td>\n",
       "    </tr>\n",
       "    <tr>\n",
       "      <th>127</th>\n",
       "      <td>오크밸리 \"필드에서 짜릿한 캠핑축제를\"</td>\n",
       "      <td>2016.06.21</td>\n",
       "      <td>8</td>\n",
       "    </tr>\n",
       "    <tr>\n",
       "      <th>128</th>\n",
       "      <td>[김현준이 만난 사람] \"서비스는 100점이 없다\" 강지영 베어즈베스트청라 대표</td>\n",
       "      <td>2015.12.09</td>\n",
       "      <td>8</td>\n",
       "    </tr>\n",
       "    <tr>\n",
       "      <th>129</th>\n",
       "      <td>\"골프실력으로 美 대통령됐나?\" 이분들</td>\n",
       "      <td>2015.10.12</td>\n",
       "      <td>8</td>\n",
       "    </tr>\n",
       "    <tr>\n",
       "      <th>130</th>\n",
       "      <td>[뉴스카페] 휘슬링락 vs 트리니티 \"한국의 명코스 전쟁\"</td>\n",
       "      <td>2015.07.27</td>\n",
       "      <td>8</td>\n",
       "    </tr>\n",
       "    <tr>\n",
       "      <th>131</th>\n",
       "      <td>[마스터스 이모저모] \"스피스와 이재용 부회장의 같은 패션\"</td>\n",
       "      <td>2015.04.13</td>\n",
       "      <td>8</td>\n",
       "    </tr>\n",
       "  </tbody>\n",
       "</table>\n",
       "<p>132 rows × 3 columns</p>\n",
       "</div>"
      ],
      "text/plain": [
       "                                               Title        Date Category\n",
       "0              통합당 '국민의힘' 개명 논란 속 추진…'의원 4연임 금지'는 제외  2020.09.01        0\n",
       "1    [민주 全大] 민주당 신임 최고위원 선출…‘친문’ ‘지자체장’ ‘4선 중진’ 등 당선  2020.08.29        0\n",
       "2              삼성 출신 양향자, 산재 신청 못한단 보도에 \"참담하다…일류 삼성\"  2020.07.31        0\n",
       "3                             공공기관 전용 지방대 학과·병역특례 추진  2020.07.30        0\n",
       "4             수사심의위 '손보기' 나선 與…\"명단 달라\", \"시스템 문제 아니냐\"  2020.07.27        0\n",
       "..                                               ...         ...      ...\n",
       "127                            오크밸리 \"필드에서 짜릿한 캠핑축제를\"  2016.06.21        8\n",
       "128     [김현준이 만난 사람] \"서비스는 100점이 없다\" 강지영 베어즈베스트청라 대표  2015.12.09        8\n",
       "129                            \"골프실력으로 美 대통령됐나?\" 이분들  2015.10.12        8\n",
       "130                 [뉴스카페] 휘슬링락 vs 트리니티 \"한국의 명코스 전쟁\"  2015.07.27        8\n",
       "131                [마스터스 이모저모] \"스피스와 이재용 부회장의 같은 패션\"  2015.04.13        8\n",
       "\n",
       "[132 rows x 3 columns]"
      ]
     },
     "execution_count": 49,
     "metadata": {},
     "output_type": "execute_result"
    }
   ],
   "source": [
    "article_df"
   ]
  },
  {
   "cell_type": "code",
   "execution_count": 51,
   "metadata": {},
   "outputs": [],
   "source": [
    "article_df.to_csv('test')"
   ]
  },
  {
   "cell_type": "code",
   "execution_count": null,
   "metadata": {},
   "outputs": [],
   "source": [
    "df_LEFT_JOIN = pd.merge(원본, article_df, left_on='key', right_on='Date', how='left')\n",
    "print(df_LEFT_JOIN)"
   ]
  }
 ],
 "metadata": {
  "kernelspec": {
   "display_name": "Python 3",
   "language": "python",
   "name": "python3"
  },
  "language_info": {
   "codemirror_mode": {
    "name": "ipython",
    "version": 3
   },
   "file_extension": ".py",
   "mimetype": "text/x-python",
   "name": "python",
   "nbconvert_exporter": "python",
   "pygments_lexer": "ipython3",
   "version": "3.8.3"
  }
 },
 "nbformat": 4,
 "nbformat_minor": 4
}
