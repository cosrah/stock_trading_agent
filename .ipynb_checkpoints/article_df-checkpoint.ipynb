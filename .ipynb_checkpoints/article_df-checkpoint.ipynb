{
 "cells": [
  {
   "cell_type": "code",
   "execution_count": 1,
   "metadata": {},
   "outputs": [],
   "source": [
    "import time\n",
    "from selenium import webdriver\n",
    "from bs4 import BeautifulSoup\n",
    "import pandas as pd\n",
    "import numpy as np\n"
   ]
  },
  {
   "cell_type": "code",
   "execution_count": null,
   "metadata": {},
   "outputs": [],
   "source": [
    "# kospi200_csv = pd.read_csv('KOSPI200_LIST.csv',names = ['index', 'name'], header = None)\n",
    "# kospi200_csv = kospi200_csv.drop(index = 0)\n",
    "# kospi200 = kospi200_csv['name']\n",
    "# kospi200"
   ]
  },
  {
   "cell_type": "code",
   "execution_count": 25,
   "metadata": {},
   "outputs": [],
   "source": [
    "# driver = webdriver.Chrome('chromedriver.exe')\n",
    "\n",
    "# url = 'https://www.asiae.co.kr/'\n",
    "\n",
    "# # 페이지 이동\n",
    "# driver.get(url)\n",
    "# time.sleep(1)\n",
    "\n",
    "# driver.find_element_by_css_selector('#main_wrap > div.main_header > div.top_head > div.area_fstare > div > div > div.search_wrap > form > fieldset > a').click()\n",
    "# time.sleep(1)"
   ]
  },
  {
   "cell_type": "code",
   "execution_count": 4,
   "metadata": {},
   "outputs": [],
   "source": [
    "# #리스트 추가 # 리스트 목록으로 만들어서 for 문으로 돌리자\n",
    "# kospi200 = '한라홀딩스'"
   ]
  },
  {
   "cell_type": "code",
   "execution_count": 5,
   "metadata": {},
   "outputs": [],
   "source": [
    "# # 검색목록에 넣기\n",
    "# e = driver.find_element_by_css_selector('#search1')\n",
    "# e.send_keys(kospi200)\n",
    "# # 검색버튼 누르기\n",
    "# driver.find_element_by_css_selector('#main_wrap > div.main_header > div.top_head > div.area_fstare > div > div > div.search_wrap > form > fieldset > div > input').click()"
   ]
  },
  {
   "cell_type": "code",
   "execution_count": 6,
   "metadata": {},
   "outputs": [],
   "source": [
    "# #뉴스 목록 선택\n",
    "# driver.find_element_by_css_selector('#type_news > a > span').click()"
   ]
  },
  {
   "cell_type": "code",
   "execution_count": 7,
   "metadata": {},
   "outputs": [],
   "source": [
    "# #검색옵션 선택\n",
    "# driver.find_element_by_css_selector(\"#wrap > div.seo_lnb > div.sch_lnb > div > a > span\").click()\n",
    "# time.sleep(0.5)\n",
    "# #기간 필터 클릭\n",
    "# driver.find_element_by_css_selector(\"#wrap > div.seo_lnb > div.sch_lst > div > div > ul > li.title_tab.tab02 > a > span\").click()"
   ]
  },
  {
   "cell_type": "code",
   "execution_count": 8,
   "metadata": {},
   "outputs": [],
   "source": [
    "# #기간 입력 및 적용\n",
    "\n",
    "# inputsDate = driver.find_element_by_css_selector('#sDate')\n",
    "# inputsDate.send_keys('2014.09.01')\n",
    "# driver.find_element_by_css_selector(\"#ui-datepicker-div > div.ui-datepicker-buttonpane.ui-widget-content > button.ui-datepicker-close.ui-state-default.ui-priority-primary.ui-corner-all\").click()\n",
    "# time.sleep(0.5)\n",
    "# inputeDate = driver.find_element_by_css_selector('#eDate')\n",
    "# inputeDate.send_keys('2020.08.31')\n",
    "# driver.find_element_by_css_selector(\"#ui-datepicker-div > div.ui-datepicker-buttonpane.ui-widget-content > button.ui-datepicker-close.ui-state-default.ui-priority-primary.ui-corner-all\").click()\n",
    "\n",
    "# time.sleep(0.5)\n",
    "\n",
    "# driver.find_element_by_css_selector(\"#wrap > div.seo_lnb > div.sch_lst > div > div > div > ul.tcont.tabcont02.on > li.inp_box > div > a\").click()"
   ]
  },
  {
   "cell_type": "code",
   "execution_count": 9,
   "metadata": {},
   "outputs": [],
   "source": [
    "# #섹션 선택\n",
    "# driver.find_element_by_css_selector('#container > div.content > div > div > h3 > div.ns_btn > a').click()"
   ]
  },
  {
   "cell_type": "code",
   "execution_count": 10,
   "metadata": {},
   "outputs": [],
   "source": [
    "# driver.find_element_by_css_selector('#container > div.content > div > div > h3 > div.ns_btn > a > span').click()"
   ]
  },
  {
   "cell_type": "code",
   "execution_count": 11,
   "metadata": {
    "scrolled": true
   },
   "outputs": [],
   "source": [
    "# article_df = pd.DataFrame(columns = ['Title', 'Date','Category'])\n",
    "# for section in range(2,12):\n",
    "#     #섹션 선택\n",
    "#     driver.find_element_by_css_selector('#container > div.content > div > div > h3 > div.ns_btn > a > span').click()\n",
    "#     time.sleep(0.5)\n",
    "#     driver.find_element_by_css_selector('#container > div.content > div > div > h3 > div.ns_wrap > ul > li:nth-child({}) > a'.format(section)).click()\n",
    "#     time.sleep(2)\n",
    "#     #beautifulsoup으로 크롤링하기\n",
    "#     html = driver.page_source\n",
    "#     soup = BeautifulSoup(html, 'html.parser')\n",
    "# #     total_count = soup.body.select_one('#container > div.content > div > div > h3 > span')\n",
    "# #     total_count = int(total_count.string[2:-1].replace(\",\",\"\"))\n",
    "# #     pages = total_count/15\n",
    "#     leng = soup.body.select('#container > div > div > div > ul')\n",
    "#     a = leng[0].find_all('li')\n",
    "#     for i in a:\n",
    "#         temp_t = i.find('span', class_='tit')\n",
    "#         temp_d =i.find('span',class_='dt_t')\n",
    "#         # category 는 후에 위에 다른 변수에서 설정해서 퍼와야할듯\n",
    "#         article_df = article_df.append({'Title' : temp_t.a.text.strip(), 'Date':temp_d.string[:10], 'Category':section}, ignore_index = True)\n",
    "\n",
    "    "
   ]
  },
  {
   "cell_type": "code",
   "execution_count": 12,
   "metadata": {},
   "outputs": [],
   "source": [
    "# article_df = pd.DataFrame(columns = ['Title', 'Date','Category'])\n",
    "# for section in range(5,12):\n",
    "#     #섹션 선택\n",
    "#     driver.find_element_by_css_selector('#container > div.content > div > div > h3 > div.ns_btn > a > span').click()\n",
    "#     time.sleep(0.5)\n",
    "#     driver.find_element_by_css_selector('#container > div.content > div > div > h3 > div.ns_wrap > ul > li:nth-child({}) > a'.format(section)).click()\n",
    "#     time.sleep(2)\n",
    "#     #beautifulsoup으로 크롤링하기\n",
    "#     html = driver.page_source\n",
    "#     soup = BeautifulSoup(html, 'html.parser')\n",
    "#     total_count = soup.body.select_one('#container > div.content > div > div > h3 > span')\n",
    "#     total_count = int(total_count.string[2:-1].replace(\",\",\"\"))\n",
    "#     pages = total_count//15 +1\n",
    "#     leng = soup.body.select('#container > div > div > div > ul')\n",
    "#     a = leng[0].find_all('li')\n",
    "#     for page in range(2, pages +1):\n",
    "#         # 1페이지 크롤링\n",
    "#         for i in a:\n",
    "#             temp_t = i.find('span', class_='tit')\n",
    "#             temp_d =i.find('span',class_='dt_t')\n",
    "#             # category 는 후에 위에 다른 변수에서 설정해서 퍼와야할듯\n",
    "#             article_df = article_df.append({'Title' : temp_t.a.text.strip(), 'Date':temp_d.string[:10], 'Category':section}, ignore_index = True)\n",
    "#         # 페이지가 1페이지밖에 없다면 다음 페이지 실행 안함\n",
    "#         if pages != 1:\n",
    "#             if int(page) %10 != 1 :\n",
    "#                 driver.find_element_by_link_text(str(page)).click()\n",
    "#                 time.sleep(1)\n",
    "#                 #페이지 변경 후 parser\n",
    "#                 html = driver.page_source\n",
    "#                 soup = BeautifulSoup(html, 'html.parser')\n",
    "#                 for i in a:\n",
    "#                     temp_t = i.find('span', class_='tit')\n",
    "#                     temp_d =i.find('span',class_='dt_t')\n",
    "#                     # category 는 후에 위에 다른 변수에서 설정해서 퍼와야할듯\n",
    "#                     article_df = article_df.append({'Title' : temp_t.a.text.strip(), 'Date':temp_d.string[:10], 'Category':section}, ignore_index = True)\n",
    "#             else:\n",
    "                \n",
    "#             # 10단위 페이지 이후 다음 버튼 클릭\n",
    "#                 driver.find_element_by_css_selector('#container > div > div > div > em > div > span > a.btn_paging.btn_next').click()\n",
    "#                 time.sleep(0.5)\n",
    "#                 for i in a:\n",
    "#                     temp_t = i.find('span', class_='tit')\n",
    "#                     temp_d =i.find('span',class_='dt_t')\n",
    "#                     # category 는 후에 위에 다른 변수에서 설정해서 퍼와야할듯\n",
    "#                     article_df = article_df.append({'Title' : temp_t.a.text.strip(), 'Date':temp_d.string[:10], 'Category':section}, ignore_index = True)\n",
    "#             time.sleep(1)\n",
    "#             page +=1"
   ]
  },
  {
   "cell_type": "code",
   "execution_count": 14,
   "metadata": {
    "scrolled": true
   },
   "outputs": [],
   "source": [
    "# article_df = pd.DataFrame(columns = ['Title', 'Date','Category'])\n",
    "# for section in range(2,12):\n",
    "#     #섹션 선택\n",
    "#     driver.find_element_by_css_selector('#container > div.content > div > div > h3 > div.ns_btn > a > span').click()\n",
    "#     time.sleep(0.5)\n",
    "#     driver.find_element_by_css_selector('#container > div.content > div > div > h3 > div.ns_wrap > ul > li:nth-child({}) > a'.format(section)).click()\n",
    "#     time.sleep(2)\n",
    "#     # total count를 크롤링해서 전체 페이지 수를 체킹\n",
    "#     html = driver.page_source\n",
    "#     soup = BeautifulSoup(html, 'html.parser')\n",
    "#     total_count = soup.body.select_one('#container > div.content > div > div > h3 > span')\n",
    "#     #섹션에 뉴스가 없을 경우 다음 섹션으로 이동\n",
    "#     if total_count is None:\n",
    "#         driver.back()\n",
    "#         time.sleep(1)\n",
    "#         article_df = article_df.append({'Title' : None, 'Date':None, 'Category':section}, ignore_index = True)\n",
    "#         continue\n",
    "#     #페이지 수 구하기\n",
    "#     total_count = int(total_count.string[2:-1].replace(\",\",\"\"))\n",
    "#     pages = total_count//15 + 1\n",
    "#     for page in range(pages):\n",
    "#         # 페이지 바에 대한 셀레늄을 리스트로 가져와서 페이지에 따라 선택\n",
    "#         page_bar = driver.find_elements_by_css_selector('div.paging_comm > span.inner_paging > *')\n",
    "#         # 처음 시작할때는 페이지바 안누르기\n",
    "#         if page != 0:\n",
    "#             if page%10 != 0:\n",
    "#                 page_bar[page%10].click()\n",
    "#             else :\n",
    "#                 page_bar[len(page_bar)-1].click()\n",
    "#         time.sleep(0.5)\n",
    "#         #beautifulsoup으로 크롤링하기\n",
    "#         html = driver.page_source\n",
    "#         soup = BeautifulSoup(html, 'html.parser')\n",
    "#         leng = soup.body.select('#container > div > div > div > ul')\n",
    "#         a = leng[0].find_all('li')\n",
    "#         for i in a:\n",
    "#             temp_t = i.find('span', class_='tit')\n",
    "#             temp_d =i.find('span',class_='dt_t')\n",
    "#             # category 는 후에 위에 다른 변수에서 설정해서 퍼와야할듯\n",
    "#             article_df = article_df.append({'Title' : temp_t.a.text.strip(), 'Date':temp_d.string[:10], 'Category':section}, ignore_index = True)\n",
    "\n",
    "    "
   ]
  },
  {
   "cell_type": "code",
   "execution_count": 22,
   "metadata": {},
   "outputs": [],
   "source": [
    "# article_df.to_csv('{}_df.csv'.format('한라홀딩스'))"
   ]
  },
  {
   "cell_type": "code",
   "execution_count": null,
   "metadata": {},
   "outputs": [],
   "source": [
    "kospi200_csv = pd.read_csv('KOSPI200_LIST.csv',names = ['index', 'name'], header = None)\n",
    "kospi200_csv = kospi200_csv.drop(index = 0)\n",
    "kospi200 = kospi200_csv['name']\n",
    "kospi200"
   ]
  },
  {
   "cell_type": "code",
   "execution_count": 32,
   "metadata": {
    "collapsed": true
   },
   "outputs": [
    {
     "ename": "ElementNotInteractableException",
     "evalue": "Message: element not interactable\n  (Session info: chrome=85.0.4183.121)\n",
     "output_type": "error",
     "traceback": [
      "\u001b[1;31m---------------------------------------------------------------------------\u001b[0m",
      "\u001b[1;31mElementNotInteractableException\u001b[0m           Traceback (most recent call last)",
      "\u001b[1;32m<ipython-input-32-687a739aa8af>\u001b[0m in \u001b[0;36m<module>\u001b[1;34m\u001b[0m\n\u001b[0;32m     48\u001b[0m         \u001b[0mdriver\u001b[0m\u001b[1;33m.\u001b[0m\u001b[0mfind_element_by_css_selector\u001b[0m\u001b[1;33m(\u001b[0m\u001b[1;34m'#container > div.content > div > div > h3 > div.ns_btn > a > span'\u001b[0m\u001b[1;33m)\u001b[0m\u001b[1;33m.\u001b[0m\u001b[0mclick\u001b[0m\u001b[1;33m(\u001b[0m\u001b[1;33m)\u001b[0m\u001b[1;33m\u001b[0m\u001b[1;33m\u001b[0m\u001b[0m\n\u001b[0;32m     49\u001b[0m         \u001b[0mtime\u001b[0m\u001b[1;33m.\u001b[0m\u001b[0msleep\u001b[0m\u001b[1;33m(\u001b[0m\u001b[1;36m0.5\u001b[0m\u001b[1;33m)\u001b[0m\u001b[1;33m\u001b[0m\u001b[1;33m\u001b[0m\u001b[0m\n\u001b[1;32m---> 50\u001b[1;33m         \u001b[0mdriver\u001b[0m\u001b[1;33m.\u001b[0m\u001b[0mfind_element_by_css_selector\u001b[0m\u001b[1;33m(\u001b[0m\u001b[1;34m'#container > div.content > div > div > h3 > div.ns_wrap > ul > li:nth-child({}) > a'\u001b[0m\u001b[1;33m.\u001b[0m\u001b[0mformat\u001b[0m\u001b[1;33m(\u001b[0m\u001b[0msection\u001b[0m\u001b[1;33m)\u001b[0m\u001b[1;33m)\u001b[0m\u001b[1;33m.\u001b[0m\u001b[0mclick\u001b[0m\u001b[1;33m(\u001b[0m\u001b[1;33m)\u001b[0m\u001b[1;33m\u001b[0m\u001b[1;33m\u001b[0m\u001b[0m\n\u001b[0m\u001b[0;32m     51\u001b[0m         \u001b[0mtime\u001b[0m\u001b[1;33m.\u001b[0m\u001b[0msleep\u001b[0m\u001b[1;33m(\u001b[0m\u001b[1;36m2\u001b[0m\u001b[1;33m)\u001b[0m\u001b[1;33m\u001b[0m\u001b[1;33m\u001b[0m\u001b[0m\n\u001b[0;32m     52\u001b[0m         \u001b[1;31m# total count를 크롤링해서 전체 페이지 수를 체킹\u001b[0m\u001b[1;33m\u001b[0m\u001b[1;33m\u001b[0m\u001b[1;33m\u001b[0m\u001b[0m\n",
      "\u001b[1;32m~\\anaconda3\\lib\\site-packages\\selenium\\webdriver\\remote\\webelement.py\u001b[0m in \u001b[0;36mclick\u001b[1;34m(self)\u001b[0m\n\u001b[0;32m     78\u001b[0m     \u001b[1;32mdef\u001b[0m \u001b[0mclick\u001b[0m\u001b[1;33m(\u001b[0m\u001b[0mself\u001b[0m\u001b[1;33m)\u001b[0m\u001b[1;33m:\u001b[0m\u001b[1;33m\u001b[0m\u001b[1;33m\u001b[0m\u001b[0m\n\u001b[0;32m     79\u001b[0m         \u001b[1;34m\"\"\"Clicks the element.\"\"\"\u001b[0m\u001b[1;33m\u001b[0m\u001b[1;33m\u001b[0m\u001b[0m\n\u001b[1;32m---> 80\u001b[1;33m         \u001b[0mself\u001b[0m\u001b[1;33m.\u001b[0m\u001b[0m_execute\u001b[0m\u001b[1;33m(\u001b[0m\u001b[0mCommand\u001b[0m\u001b[1;33m.\u001b[0m\u001b[0mCLICK_ELEMENT\u001b[0m\u001b[1;33m)\u001b[0m\u001b[1;33m\u001b[0m\u001b[1;33m\u001b[0m\u001b[0m\n\u001b[0m\u001b[0;32m     81\u001b[0m \u001b[1;33m\u001b[0m\u001b[0m\n\u001b[0;32m     82\u001b[0m     \u001b[1;32mdef\u001b[0m \u001b[0msubmit\u001b[0m\u001b[1;33m(\u001b[0m\u001b[0mself\u001b[0m\u001b[1;33m)\u001b[0m\u001b[1;33m:\u001b[0m\u001b[1;33m\u001b[0m\u001b[1;33m\u001b[0m\u001b[0m\n",
      "\u001b[1;32m~\\anaconda3\\lib\\site-packages\\selenium\\webdriver\\remote\\webelement.py\u001b[0m in \u001b[0;36m_execute\u001b[1;34m(self, command, params)\u001b[0m\n\u001b[0;32m    631\u001b[0m             \u001b[0mparams\u001b[0m \u001b[1;33m=\u001b[0m \u001b[1;33m{\u001b[0m\u001b[1;33m}\u001b[0m\u001b[1;33m\u001b[0m\u001b[1;33m\u001b[0m\u001b[0m\n\u001b[0;32m    632\u001b[0m         \u001b[0mparams\u001b[0m\u001b[1;33m[\u001b[0m\u001b[1;34m'id'\u001b[0m\u001b[1;33m]\u001b[0m \u001b[1;33m=\u001b[0m \u001b[0mself\u001b[0m\u001b[1;33m.\u001b[0m\u001b[0m_id\u001b[0m\u001b[1;33m\u001b[0m\u001b[1;33m\u001b[0m\u001b[0m\n\u001b[1;32m--> 633\u001b[1;33m         \u001b[1;32mreturn\u001b[0m \u001b[0mself\u001b[0m\u001b[1;33m.\u001b[0m\u001b[0m_parent\u001b[0m\u001b[1;33m.\u001b[0m\u001b[0mexecute\u001b[0m\u001b[1;33m(\u001b[0m\u001b[0mcommand\u001b[0m\u001b[1;33m,\u001b[0m \u001b[0mparams\u001b[0m\u001b[1;33m)\u001b[0m\u001b[1;33m\u001b[0m\u001b[1;33m\u001b[0m\u001b[0m\n\u001b[0m\u001b[0;32m    634\u001b[0m \u001b[1;33m\u001b[0m\u001b[0m\n\u001b[0;32m    635\u001b[0m     \u001b[1;32mdef\u001b[0m \u001b[0mfind_element\u001b[0m\u001b[1;33m(\u001b[0m\u001b[0mself\u001b[0m\u001b[1;33m,\u001b[0m \u001b[0mby\u001b[0m\u001b[1;33m=\u001b[0m\u001b[0mBy\u001b[0m\u001b[1;33m.\u001b[0m\u001b[0mID\u001b[0m\u001b[1;33m,\u001b[0m \u001b[0mvalue\u001b[0m\u001b[1;33m=\u001b[0m\u001b[1;32mNone\u001b[0m\u001b[1;33m)\u001b[0m\u001b[1;33m:\u001b[0m\u001b[1;33m\u001b[0m\u001b[1;33m\u001b[0m\u001b[0m\n",
      "\u001b[1;32m~\\anaconda3\\lib\\site-packages\\selenium\\webdriver\\remote\\webdriver.py\u001b[0m in \u001b[0;36mexecute\u001b[1;34m(self, driver_command, params)\u001b[0m\n\u001b[0;32m    319\u001b[0m         \u001b[0mresponse\u001b[0m \u001b[1;33m=\u001b[0m \u001b[0mself\u001b[0m\u001b[1;33m.\u001b[0m\u001b[0mcommand_executor\u001b[0m\u001b[1;33m.\u001b[0m\u001b[0mexecute\u001b[0m\u001b[1;33m(\u001b[0m\u001b[0mdriver_command\u001b[0m\u001b[1;33m,\u001b[0m \u001b[0mparams\u001b[0m\u001b[1;33m)\u001b[0m\u001b[1;33m\u001b[0m\u001b[1;33m\u001b[0m\u001b[0m\n\u001b[0;32m    320\u001b[0m         \u001b[1;32mif\u001b[0m \u001b[0mresponse\u001b[0m\u001b[1;33m:\u001b[0m\u001b[1;33m\u001b[0m\u001b[1;33m\u001b[0m\u001b[0m\n\u001b[1;32m--> 321\u001b[1;33m             \u001b[0mself\u001b[0m\u001b[1;33m.\u001b[0m\u001b[0merror_handler\u001b[0m\u001b[1;33m.\u001b[0m\u001b[0mcheck_response\u001b[0m\u001b[1;33m(\u001b[0m\u001b[0mresponse\u001b[0m\u001b[1;33m)\u001b[0m\u001b[1;33m\u001b[0m\u001b[1;33m\u001b[0m\u001b[0m\n\u001b[0m\u001b[0;32m    322\u001b[0m             response['value'] = self._unwrap_value(\n\u001b[0;32m    323\u001b[0m                 response.get('value', None))\n",
      "\u001b[1;32m~\\anaconda3\\lib\\site-packages\\selenium\\webdriver\\remote\\errorhandler.py\u001b[0m in \u001b[0;36mcheck_response\u001b[1;34m(self, response)\u001b[0m\n\u001b[0;32m    240\u001b[0m                 \u001b[0malert_text\u001b[0m \u001b[1;33m=\u001b[0m \u001b[0mvalue\u001b[0m\u001b[1;33m[\u001b[0m\u001b[1;34m'alert'\u001b[0m\u001b[1;33m]\u001b[0m\u001b[1;33m.\u001b[0m\u001b[0mget\u001b[0m\u001b[1;33m(\u001b[0m\u001b[1;34m'text'\u001b[0m\u001b[1;33m)\u001b[0m\u001b[1;33m\u001b[0m\u001b[1;33m\u001b[0m\u001b[0m\n\u001b[0;32m    241\u001b[0m             \u001b[1;32mraise\u001b[0m \u001b[0mexception_class\u001b[0m\u001b[1;33m(\u001b[0m\u001b[0mmessage\u001b[0m\u001b[1;33m,\u001b[0m \u001b[0mscreen\u001b[0m\u001b[1;33m,\u001b[0m \u001b[0mstacktrace\u001b[0m\u001b[1;33m,\u001b[0m \u001b[0malert_text\u001b[0m\u001b[1;33m)\u001b[0m\u001b[1;33m\u001b[0m\u001b[1;33m\u001b[0m\u001b[0m\n\u001b[1;32m--> 242\u001b[1;33m         \u001b[1;32mraise\u001b[0m \u001b[0mexception_class\u001b[0m\u001b[1;33m(\u001b[0m\u001b[0mmessage\u001b[0m\u001b[1;33m,\u001b[0m \u001b[0mscreen\u001b[0m\u001b[1;33m,\u001b[0m \u001b[0mstacktrace\u001b[0m\u001b[1;33m)\u001b[0m\u001b[1;33m\u001b[0m\u001b[1;33m\u001b[0m\u001b[0m\n\u001b[0m\u001b[0;32m    243\u001b[0m \u001b[1;33m\u001b[0m\u001b[0m\n\u001b[0;32m    244\u001b[0m     \u001b[1;32mdef\u001b[0m \u001b[0m_value_or_default\u001b[0m\u001b[1;33m(\u001b[0m\u001b[0mself\u001b[0m\u001b[1;33m,\u001b[0m \u001b[0mobj\u001b[0m\u001b[1;33m,\u001b[0m \u001b[0mkey\u001b[0m\u001b[1;33m,\u001b[0m \u001b[0mdefault\u001b[0m\u001b[1;33m)\u001b[0m\u001b[1;33m:\u001b[0m\u001b[1;33m\u001b[0m\u001b[1;33m\u001b[0m\u001b[0m\n",
      "\u001b[1;31mElementNotInteractableException\u001b[0m: Message: element not interactable\n  (Session info: chrome=85.0.4183.121)\n"
     ]
    }
   ],
   "source": [
    "driver = webdriver.Chrome('chromedriver.exe')\n",
    "url = 'https://www.asiae.co.kr/'\n",
    "\n",
    "# 페이지 이동\n",
    "driver.get(url)\n",
    "time.sleep(1)\n",
    "\n",
    "for kospi in kospi200[4:40]: # 요기 수정해서 크롤링하기!\n",
    "    #돋보기 버튼 누르기\n",
    "    driver.find_element_by_css_selector('#main_wrap > div.main_header > div.top_head > div.area_fstare > div > div > div.search_wrap > form > fieldset > a').click()\n",
    "    time.sleep(1)\n",
    "    # 검색목록에 넣기\n",
    "    e = driver.find_element_by_css_selector('#search1')\n",
    "    e.send_keys(kospi)\n",
    "    # 검색버튼 누르기\n",
    "    driver.find_element_by_css_selector('#main_wrap > div.main_header > div.top_head > div.area_fstare > div > div > div.search_wrap > form > fieldset > div > input').click()\n",
    "    time.sleep(1)\n",
    "    \n",
    "    #뉴스 목록 선택\n",
    "    driver.find_element_by_css_selector('#type_news > a > span').click()\n",
    "    time.sleep(0.5)\n",
    "    \n",
    "    #검색옵션 선택\n",
    "    driver.find_element_by_css_selector(\"#wrap > div.seo_lnb > div.sch_lnb > div > a > span\").click()\n",
    "    time.sleep(0.5)\n",
    "    \n",
    "    #기간 필터 클릭\n",
    "    driver.find_element_by_css_selector(\"#wrap > div.seo_lnb > div.sch_lst > div > div > ul > li.title_tab.tab02 > a > span\").click()\n",
    "    time.sleep(0.1)\n",
    "    \n",
    "    #기간 입력 및 적용\n",
    "    inputsDate = driver.find_element_by_css_selector('#sDate')\n",
    "    inputsDate.send_keys('2014.09.01')\n",
    "    driver.find_element_by_css_selector(\"#ui-datepicker-div > div.ui-datepicker-buttonpane.ui-widget-content > button.ui-datepicker-close.ui-state-default.ui-priority-primary.ui-corner-all\").click()\n",
    "    time.sleep(0.5)\n",
    "    \n",
    "    inputeDate = driver.find_element_by_css_selector('#eDate')\n",
    "    inputeDate.send_keys('2020.08.31')\n",
    "    driver.find_element_by_css_selector(\"#ui-datepicker-div > div.ui-datepicker-buttonpane.ui-widget-content > button.ui-datepicker-close.ui-state-default.ui-priority-primary.ui-corner-all\").click()\n",
    "    time.sleep(0.5)\n",
    "    driver.find_element_by_css_selector(\"#wrap > div.seo_lnb > div.sch_lst > div > div > div > ul.tcont.tabcont02.on > li.inp_box > div > a\").click()    \n",
    "    time.sleep(0.1)\n",
    "    \n",
    "    #article_df 초기화\n",
    "    article_df = pd.DataFrame(columns = ['Title', 'Date','Category'])\n",
    "    for section in range(2,12):\n",
    "        #섹션 선택\n",
    "        driver.find_element_by_css_selector('#container > div.content > div > div > h3 > div.ns_btn > a > span').click()\n",
    "        time.sleep(0.5)\n",
    "        driver.find_element_by_css_selector('#container > div.content > div > div > h3 > div.ns_wrap > ul > li:nth-child({}) > a'.format(section)).click()\n",
    "        time.sleep(2)\n",
    "        # total count를 크롤링해서 전체 페이지 수를 체킹\n",
    "        html = driver.page_source\n",
    "        soup = BeautifulSoup(html, 'html.parser')\n",
    "        total_count = soup.body.select_one('#container > div.content > div > div > h3 > span')\n",
    "        #섹션에 뉴스가 없을 경우 다음 섹션으로 이동\n",
    "        if total_count is None:\n",
    "            driver.back()\n",
    "            time.sleep(1)\n",
    "            article_df = article_df.append({'Title' : None, 'Date':None, 'Category':section}, ignore_index = True)\n",
    "            continue\n",
    "        #페이지 수 구하기\n",
    "        total_count = int(total_count.string[2:-1].replace(\",\",\"\"))\n",
    "        pages = total_count//15 + 1\n",
    "        for page in range(pages):\n",
    "            # 페이지 바에 대한 셀레늄을 리스트로 가져와서 페이지에 따라 선택\n",
    "            page_bar = driver.find_elements_by_css_selector('div.paging_comm > span.inner_paging > *')\n",
    "            # 처음 시작할때는 페이지바 안누르기\n",
    "            if page != 0:\n",
    "                if page%10 != 0:\n",
    "                    page_bar[page%10].click()\n",
    "                else :\n",
    "                    page_bar[len(page_bar)-1].click()\n",
    "            time.sleep(0.5)\n",
    "            #beautifulsoup으로 크롤링하기\n",
    "            html = driver.page_source\n",
    "            soup = BeautifulSoup(html, 'html.parser')\n",
    "            leng = soup.body.select('#container > div > div > div > ul')\n",
    "            a = leng[0].find_all('li')\n",
    "            for i in a:\n",
    "                temp_t = i.find('span', class_='tit')\n",
    "                temp_d =i.find('span',class_='dt_t')\n",
    "                # category 는 후에 위에 다른 변수에서 설정해서 퍼와야할듯\n",
    "                article_df = article_df.append({'Title' : temp_t.a.text.strip(), 'Date':temp_d.string[:10], 'Category':section}, ignore_index = True)\n",
    "    #파일 csv로 내보내기\n",
    "    article_df.to_csv('./article_df/{}_df.csv'.format(kospi))     \n",
    "    #첫페이지로 이동\n",
    "    driver.find_element_by_css_selector('#wrap > div.header > div.top_head > div > div.menu_ci > h1 > a > img').click()"
   ]
  },
  {
   "cell_type": "code",
   "execution_count": 43,
   "metadata": {},
   "outputs": [],
   "source": [
    "# # 오류시 이번 섹션 처음부터 크롤링\n",
    "# for page in range(pages+1):\n",
    "#     # 페이지 바에 대한 셀레늄을 리스트로 가져와서 페이지에 따라 선택\n",
    "#     page_bar = driver.find_elements_by_css_selector('div.paging_comm > span.inner_paging > *')\n",
    "#     # 처음 시작할때는 페이지바 안누르기\n",
    "#     if page != 0:\n",
    "#         if page%10 != 0:\n",
    "#             page_bar[page%10].click()\n",
    "#         else :\n",
    "#             page_bar[len(page_bar)-1].click()\n",
    "#     time.sleep(0.5)\n",
    "#     #beautifulsoup으로 크롤링하기\n",
    "#     html = driver.page_source\n",
    "#     soup = BeautifulSoup(html, 'html.parser')\n",
    "#     leng = soup.body.select('#container > div > div > div > ul')\n",
    "#     a = leng[0].find_all('li')\n",
    "#     for i in a:\n",
    "#         temp_t = i.find('span', class_='tit')\n",
    "#         temp_d =i.find('span',class_='dt_t')\n",
    "#         # category 는 후에 위에 다른 변수에서 설정해서 퍼와야할듯\n",
    "#         article_df = article_df.append({'Title' : temp_t.a.text.strip(), 'Date':temp_d.string[:10], 'Category':section}, ignore_index = True)"
   ]
  },
  {
   "cell_type": "code",
   "execution_count": 38,
   "metadata": {},
   "outputs": [],
   "source": [
    "# # 오류시 이번 페이지만 수동으로 크롤링\n",
    "# html = driver.page_source\n",
    "# soup = BeautifulSoup(html, 'html.parser')\n",
    "# leng = soup.body.select('#container > div > div > div > ul')\n",
    "# a = leng[0].find_all('li')\n",
    "# for i in a:\n",
    "#     temp_t = i.find('span', class_='tit')\n",
    "#     temp_d =i.find('span',class_='dt_t')\n",
    "#     # category 는 후에 위에 다른 변수에서 설정해서 퍼와야할듯\n",
    "#     article_df = article_df.append({'Title' : temp_t.a.text.strip(), 'Date':temp_d.string[:10], 'Category':section}, ignore_index = True)"
   ]
  },
  {
   "cell_type": "code",
   "execution_count": null,
   "metadata": {},
   "outputs": [],
   "source": [
    "# article_df.to_csv('./article_df/{}_df.csv'.format(kospi))"
   ]
  }
 ],
 "metadata": {
  "kernelspec": {
   "display_name": "Python 3",
   "language": "python",
   "name": "python3"
  },
  "language_info": {
   "codemirror_mode": {
    "name": "ipython",
    "version": 3
   },
   "file_extension": ".py",
   "mimetype": "text/x-python",
   "name": "python",
   "nbconvert_exporter": "python",
   "pygments_lexer": "ipython3",
   "version": "3.7.6"
  }
 },
 "nbformat": 4,
 "nbformat_minor": 4
}
