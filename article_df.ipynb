{
 "cells": [
  {
   "cell_type": "code",
   "execution_count": 220,
   "metadata": {},
   "outputs": [],
   "source": [
    "import time\n",
    "from selenium import webdriver\n",
    "from bs4 import BeautifulSoup\n",
    "import pandas as pd\n",
    "import numpy as np"
   ]
  },
  {
   "cell_type": "code",
   "execution_count": 304,
   "metadata": {},
   "outputs": [],
   "source": [
    "driver = webdriver.Chrome('chromedriver.exe')\n",
    "\n",
    "url = 'https://www.asiae.co.kr/'\n",
    "\n",
    "# 페이지 이동\n",
    "driver.get(url)\n",
    "time.sleep(1)\n",
    "\n",
    "driver.find_element_by_css_selector('#main_wrap > div.main_header > div.top_head > div.area_fstare > div > div > div.search_wrap > form > fieldset > a').click()"
   ]
  },
  {
   "cell_type": "code",
   "execution_count": 305,
   "metadata": {},
   "outputs": [],
   "source": [
    "#리스트 추가 # 리스트 목록으로 만들어서 for 문으로 돌리자\n",
    "kospi200 = '펄어비스'"
   ]
  },
  {
   "cell_type": "code",
   "execution_count": 306,
   "metadata": {},
   "outputs": [],
   "source": [
    "# 검색목록에 넣기\n",
    "e = driver.find_element_by_css_selector('#search1')\n",
    "e.send_keys(kospi200)\n",
    "# 검색버튼 누르기\n",
    "driver.find_element_by_css_selector('#main_wrap > div.main_header > div.top_head > div.area_fstare > div > div > div.search_wrap > form > fieldset > div > input').click()"
   ]
  },
  {
   "cell_type": "code",
   "execution_count": 307,
   "metadata": {},
   "outputs": [],
   "source": [
    "#뉴스 목록 선택\n",
    "driver.find_element_by_css_selector('#type_news > a > span').click()"
   ]
  },
  {
   "cell_type": "code",
   "execution_count": 308,
   "metadata": {},
   "outputs": [],
   "source": [
    "#검색옵션 선택\n",
    "driver.find_element_by_css_selector(\"#wrap > div.seo_lnb > div.sch_lnb > div > a > span\").click()\n",
    "time.sleep(0.5)\n",
    "#기간 필터 클릭\n",
    "driver.find_element_by_css_selector(\"#wrap > div.seo_lnb > div.sch_lst > div > div > ul > li.title_tab.tab02 > a > span\").click()"
   ]
  },
  {
   "cell_type": "code",
   "execution_count": 309,
   "metadata": {},
   "outputs": [],
   "source": [
    "#기간 입력 및 적용\n",
    "\n",
    "inputsDate = driver.find_element_by_css_selector('#sDate')\n",
    "inputsDate.send_keys('2014.09.01')\n",
    "driver.find_element_by_css_selector(\"#ui-datepicker-div > div.ui-datepicker-buttonpane.ui-widget-content > button.ui-datepicker-close.ui-state-default.ui-priority-primary.ui-corner-all\").click()\n",
    "time.sleep(0.5)\n",
    "inputeDate = driver.find_element_by_css_selector('#eDate')\n",
    "inputeDate.send_keys('2020.08.31')\n",
    "driver.find_element_by_css_selector(\"#ui-datepicker-div > div.ui-datepicker-buttonpane.ui-widget-content > button.ui-datepicker-close.ui-state-default.ui-priority-primary.ui-corner-all\").click()\n",
    "\n",
    "time.sleep(0.5)\n",
    "\n",
    "driver.find_element_by_css_selector(\"#wrap > div.seo_lnb > div.sch_lst > div > div > div > ul.tcont.tabcont02.on > li.inp_box > div > a\").click()"
   ]
  },
  {
   "cell_type": "code",
   "execution_count": 233,
   "metadata": {},
   "outputs": [],
   "source": [
    "# #섹션 선택\n",
    "# driver.find_element_by_css_selector('#container > div.content > div > div > h3 > div.ns_btn > a').click()"
   ]
  },
  {
   "cell_type": "code",
   "execution_count": 274,
   "metadata": {},
   "outputs": [],
   "source": [
    "# driver.find_element_by_css_selector('#container > div.content > div > div > h3 > div.ns_btn > a > span').click()"
   ]
  },
  {
   "cell_type": "code",
   "execution_count": 277,
   "metadata": {
    "scrolled": true
   },
   "outputs": [],
   "source": [
    "# article_df = pd.DataFrame(columns = ['Title', 'Date','Category'])\n",
    "# for section in range(2,12):\n",
    "#     #섹션 선택\n",
    "#     driver.find_element_by_css_selector('#container > div.content > div > div > h3 > div.ns_btn > a > span').click()\n",
    "#     time.sleep(0.5)\n",
    "#     driver.find_element_by_css_selector('#container > div.content > div > div > h3 > div.ns_wrap > ul > li:nth-child({}) > a'.format(section)).click()\n",
    "#     time.sleep(2)\n",
    "#     #beautifulsoup으로 크롤링하기\n",
    "#     html = driver.page_source\n",
    "#     soup = BeautifulSoup(html, 'html.parser')\n",
    "# #     total_count = soup.body.select_one('#container > div.content > div > div > h3 > span')\n",
    "# #     total_count = int(total_count.string[2:-1].replace(\",\",\"\"))\n",
    "# #     pages = total_count/15\n",
    "#     leng = soup.body.select('#container > div > div > div > ul')\n",
    "#     a = leng[0].find_all('li')\n",
    "#     for i in a:\n",
    "#         temp_t = i.find('span', class_='tit')\n",
    "#         temp_d =i.find('span',class_='dt_t')\n",
    "#         # category 는 후에 위에 다른 변수에서 설정해서 퍼와야할듯\n",
    "#         article_df = article_df.append({'Title' : temp_t.a.text.strip(), 'Date':temp_d.string[:10], 'Category':section}, ignore_index = True)\n",
    "\n",
    "    "
   ]
  },
  {
   "cell_type": "code",
   "execution_count": 310,
   "metadata": {
    "scrolled": true
   },
   "outputs": [
    {
     "ename": "NoSuchElementException",
     "evalue": "Message: no such element: Unable to locate element: {\"method\":\"css selector\",\"selector\":\"#container > div > div > div > em > div > span > a.btn_paging.btn_next\"}\n  (Session info: chrome=85.0.4183.121)\n",
     "output_type": "error",
     "traceback": [
      "\u001b[1;31m---------------------------------------------------------------------------\u001b[0m",
      "\u001b[1;31mNoSuchElementException\u001b[0m                    Traceback (most recent call last)",
      "\u001b[1;32m<ipython-input-310-ad3759ec2582>\u001b[0m in \u001b[0;36m<module>\u001b[1;34m\u001b[0m\n\u001b[0;32m     37\u001b[0m             \u001b[1;31m# 10단위 페이지 이후 다음 버튼 클릭\u001b[0m\u001b[1;33m\u001b[0m\u001b[1;33m\u001b[0m\u001b[1;33m\u001b[0m\u001b[0m\n\u001b[0;32m     38\u001b[0m                \u001b[1;31m# driver.find_element_by_css_selector('.container > div.content > div > div > div > span > a.btn_paging btn_next').click()\u001b[0m\u001b[1;33m\u001b[0m\u001b[1;33m\u001b[0m\u001b[1;33m\u001b[0m\u001b[0m\n\u001b[1;32m---> 39\u001b[1;33m                 \u001b[0mdriver\u001b[0m\u001b[1;33m.\u001b[0m\u001b[0mfind_element_by_css_selector\u001b[0m\u001b[1;33m(\u001b[0m\u001b[1;34m'#container > div > div > div > em > div > span > a.btn_paging.btn_next'\u001b[0m\u001b[1;33m)\u001b[0m\u001b[1;33m.\u001b[0m\u001b[0mclick\u001b[0m\u001b[1;33m(\u001b[0m\u001b[1;33m)\u001b[0m\u001b[1;33m\u001b[0m\u001b[1;33m\u001b[0m\u001b[0m\n\u001b[0m\u001b[0;32m     40\u001b[0m \u001b[1;33m\u001b[0m\u001b[0m\n\u001b[0;32m     41\u001b[0m                 \u001b[0mtime\u001b[0m\u001b[1;33m.\u001b[0m\u001b[0msleep\u001b[0m\u001b[1;33m(\u001b[0m\u001b[1;36m0.5\u001b[0m\u001b[1;33m)\u001b[0m\u001b[1;33m\u001b[0m\u001b[1;33m\u001b[0m\u001b[0m\n",
      "\u001b[1;32m~\\anaconda3\\lib\\site-packages\\selenium\\webdriver\\remote\\webdriver.py\u001b[0m in \u001b[0;36mfind_element_by_css_selector\u001b[1;34m(self, css_selector)\u001b[0m\n\u001b[0;32m    596\u001b[0m             \u001b[0melement\u001b[0m \u001b[1;33m=\u001b[0m \u001b[0mdriver\u001b[0m\u001b[1;33m.\u001b[0m\u001b[0mfind_element_by_css_selector\u001b[0m\u001b[1;33m(\u001b[0m\u001b[1;34m'#foo'\u001b[0m\u001b[1;33m)\u001b[0m\u001b[1;33m\u001b[0m\u001b[1;33m\u001b[0m\u001b[0m\n\u001b[0;32m    597\u001b[0m         \"\"\"\n\u001b[1;32m--> 598\u001b[1;33m         \u001b[1;32mreturn\u001b[0m \u001b[0mself\u001b[0m\u001b[1;33m.\u001b[0m\u001b[0mfind_element\u001b[0m\u001b[1;33m(\u001b[0m\u001b[0mby\u001b[0m\u001b[1;33m=\u001b[0m\u001b[0mBy\u001b[0m\u001b[1;33m.\u001b[0m\u001b[0mCSS_SELECTOR\u001b[0m\u001b[1;33m,\u001b[0m \u001b[0mvalue\u001b[0m\u001b[1;33m=\u001b[0m\u001b[0mcss_selector\u001b[0m\u001b[1;33m)\u001b[0m\u001b[1;33m\u001b[0m\u001b[1;33m\u001b[0m\u001b[0m\n\u001b[0m\u001b[0;32m    599\u001b[0m \u001b[1;33m\u001b[0m\u001b[0m\n\u001b[0;32m    600\u001b[0m     \u001b[1;32mdef\u001b[0m \u001b[0mfind_elements_by_css_selector\u001b[0m\u001b[1;33m(\u001b[0m\u001b[0mself\u001b[0m\u001b[1;33m,\u001b[0m \u001b[0mcss_selector\u001b[0m\u001b[1;33m)\u001b[0m\u001b[1;33m:\u001b[0m\u001b[1;33m\u001b[0m\u001b[1;33m\u001b[0m\u001b[0m\n",
      "\u001b[1;32m~\\anaconda3\\lib\\site-packages\\selenium\\webdriver\\remote\\webdriver.py\u001b[0m in \u001b[0;36mfind_element\u001b[1;34m(self, by, value)\u001b[0m\n\u001b[0;32m    976\u001b[0m         return self.execute(Command.FIND_ELEMENT, {\n\u001b[0;32m    977\u001b[0m             \u001b[1;34m'using'\u001b[0m\u001b[1;33m:\u001b[0m \u001b[0mby\u001b[0m\u001b[1;33m,\u001b[0m\u001b[1;33m\u001b[0m\u001b[1;33m\u001b[0m\u001b[0m\n\u001b[1;32m--> 978\u001b[1;33m             'value': value})['value']\n\u001b[0m\u001b[0;32m    979\u001b[0m \u001b[1;33m\u001b[0m\u001b[0m\n\u001b[0;32m    980\u001b[0m     \u001b[1;32mdef\u001b[0m \u001b[0mfind_elements\u001b[0m\u001b[1;33m(\u001b[0m\u001b[0mself\u001b[0m\u001b[1;33m,\u001b[0m \u001b[0mby\u001b[0m\u001b[1;33m=\u001b[0m\u001b[0mBy\u001b[0m\u001b[1;33m.\u001b[0m\u001b[0mID\u001b[0m\u001b[1;33m,\u001b[0m \u001b[0mvalue\u001b[0m\u001b[1;33m=\u001b[0m\u001b[1;32mNone\u001b[0m\u001b[1;33m)\u001b[0m\u001b[1;33m:\u001b[0m\u001b[1;33m\u001b[0m\u001b[1;33m\u001b[0m\u001b[0m\n",
      "\u001b[1;32m~\\anaconda3\\lib\\site-packages\\selenium\\webdriver\\remote\\webdriver.py\u001b[0m in \u001b[0;36mexecute\u001b[1;34m(self, driver_command, params)\u001b[0m\n\u001b[0;32m    319\u001b[0m         \u001b[0mresponse\u001b[0m \u001b[1;33m=\u001b[0m \u001b[0mself\u001b[0m\u001b[1;33m.\u001b[0m\u001b[0mcommand_executor\u001b[0m\u001b[1;33m.\u001b[0m\u001b[0mexecute\u001b[0m\u001b[1;33m(\u001b[0m\u001b[0mdriver_command\u001b[0m\u001b[1;33m,\u001b[0m \u001b[0mparams\u001b[0m\u001b[1;33m)\u001b[0m\u001b[1;33m\u001b[0m\u001b[1;33m\u001b[0m\u001b[0m\n\u001b[0;32m    320\u001b[0m         \u001b[1;32mif\u001b[0m \u001b[0mresponse\u001b[0m\u001b[1;33m:\u001b[0m\u001b[1;33m\u001b[0m\u001b[1;33m\u001b[0m\u001b[0m\n\u001b[1;32m--> 321\u001b[1;33m             \u001b[0mself\u001b[0m\u001b[1;33m.\u001b[0m\u001b[0merror_handler\u001b[0m\u001b[1;33m.\u001b[0m\u001b[0mcheck_response\u001b[0m\u001b[1;33m(\u001b[0m\u001b[0mresponse\u001b[0m\u001b[1;33m)\u001b[0m\u001b[1;33m\u001b[0m\u001b[1;33m\u001b[0m\u001b[0m\n\u001b[0m\u001b[0;32m    322\u001b[0m             response['value'] = self._unwrap_value(\n\u001b[0;32m    323\u001b[0m                 response.get('value', None))\n",
      "\u001b[1;32m~\\anaconda3\\lib\\site-packages\\selenium\\webdriver\\remote\\errorhandler.py\u001b[0m in \u001b[0;36mcheck_response\u001b[1;34m(self, response)\u001b[0m\n\u001b[0;32m    240\u001b[0m                 \u001b[0malert_text\u001b[0m \u001b[1;33m=\u001b[0m \u001b[0mvalue\u001b[0m\u001b[1;33m[\u001b[0m\u001b[1;34m'alert'\u001b[0m\u001b[1;33m]\u001b[0m\u001b[1;33m.\u001b[0m\u001b[0mget\u001b[0m\u001b[1;33m(\u001b[0m\u001b[1;34m'text'\u001b[0m\u001b[1;33m)\u001b[0m\u001b[1;33m\u001b[0m\u001b[1;33m\u001b[0m\u001b[0m\n\u001b[0;32m    241\u001b[0m             \u001b[1;32mraise\u001b[0m \u001b[0mexception_class\u001b[0m\u001b[1;33m(\u001b[0m\u001b[0mmessage\u001b[0m\u001b[1;33m,\u001b[0m \u001b[0mscreen\u001b[0m\u001b[1;33m,\u001b[0m \u001b[0mstacktrace\u001b[0m\u001b[1;33m,\u001b[0m \u001b[0malert_text\u001b[0m\u001b[1;33m)\u001b[0m\u001b[1;33m\u001b[0m\u001b[1;33m\u001b[0m\u001b[0m\n\u001b[1;32m--> 242\u001b[1;33m         \u001b[1;32mraise\u001b[0m \u001b[0mexception_class\u001b[0m\u001b[1;33m(\u001b[0m\u001b[0mmessage\u001b[0m\u001b[1;33m,\u001b[0m \u001b[0mscreen\u001b[0m\u001b[1;33m,\u001b[0m \u001b[0mstacktrace\u001b[0m\u001b[1;33m)\u001b[0m\u001b[1;33m\u001b[0m\u001b[1;33m\u001b[0m\u001b[0m\n\u001b[0m\u001b[0;32m    243\u001b[0m \u001b[1;33m\u001b[0m\u001b[0m\n\u001b[0;32m    244\u001b[0m     \u001b[1;32mdef\u001b[0m \u001b[0m_value_or_default\u001b[0m\u001b[1;33m(\u001b[0m\u001b[0mself\u001b[0m\u001b[1;33m,\u001b[0m \u001b[0mobj\u001b[0m\u001b[1;33m,\u001b[0m \u001b[0mkey\u001b[0m\u001b[1;33m,\u001b[0m \u001b[0mdefault\u001b[0m\u001b[1;33m)\u001b[0m\u001b[1;33m:\u001b[0m\u001b[1;33m\u001b[0m\u001b[1;33m\u001b[0m\u001b[0m\n",
      "\u001b[1;31mNoSuchElementException\u001b[0m: Message: no such element: Unable to locate element: {\"method\":\"css selector\",\"selector\":\"#container > div > div > div > em > div > span > a.btn_paging.btn_next\"}\n  (Session info: chrome=85.0.4183.121)\n"
     ]
    }
   ],
   "source": [
    "article_df = pd.DataFrame(columns = ['Title', 'Date','Category'])\n",
    "for section in range(2,12):\n",
    "    #섹션 선택\n",
    "    driver.find_element_by_css_selector('#container > div.content > div > div > h3 > div.ns_btn > a > span').click()\n",
    "    time.sleep(0.5)\n",
    "    driver.find_element_by_css_selector('#container > div.content > div > div > h3 > div.ns_wrap > ul > li:nth-child({}) > a'.format(section)).click()\n",
    "    time.sleep(2)\n",
    "    #beautifulsoup으로 크롤링하기\n",
    "    html = driver.page_source\n",
    "    soup = BeautifulSoup(html, 'html.parser')\n",
    "    total_count = soup.body.select_one('#container > div.content > div > div > h3 > span')\n",
    "    total_count = int(total_count.string[2:-1].replace(\",\",\"\"))\n",
    "    pages = total_count//15 +1\n",
    "    leng = soup.body.select('#container > div > div > div > ul')\n",
    "    a = leng[0].find_all('li')\n",
    "    for page in range(2, pages +1):\n",
    "        # 1페이지 크롤링\n",
    "        for i in a:\n",
    "            temp_t = i.find('span', class_='tit')\n",
    "            temp_d =i.find('span',class_='dt_t')\n",
    "            # category 는 후에 위에 다른 변수에서 설정해서 퍼와야할듯\n",
    "            article_df = article_df.append({'Title' : temp_t.a.text.strip(), 'Date':temp_d.string[:10], 'Category':section}, ignore_index = True)\n",
    "        # 페이지가 1페이지밖에 없다면 다음 페이지 실행 안함\n",
    "        if pages != 1:\n",
    "            if int(page) %10 != 1 :\n",
    "                driver.find_element_by_link_text(str(page)).click()\n",
    "                time.sleep(1)\n",
    "                #페이지 변경 후 parser\n",
    "                html = driver.page_source\n",
    "                soup = BeautifulSoup(html, 'html.parser')\n",
    "                for i in a:\n",
    "                    temp_t = i.find('span', class_='tit')\n",
    "                    temp_d =i.find('span',class_='dt_t')\n",
    "                    # category 는 후에 위에 다른 변수에서 설정해서 퍼와야할듯\n",
    "                    article_df = article_df.append({'Title' : temp_t.a.text.strip(), 'Date':temp_d.string[:10], 'Category':section}, ignore_index = True)\n",
    "            else:\n",
    "            # 10단위 페이지 이후 다음 버튼 클릭\n",
    "               # driver.find_element_by_css_selector('.container > div.content > div > div > div > span > a.btn_paging btn_next').click()\n",
    "                driver.find_element_by_css_selector('#container > div > div > div > em > div > span > a.btn_paging.btn_next').click()\n",
    "                \n",
    "                time.sleep(0.5)\n",
    "                for i in a:\n",
    "                    temp_t = i.find('span', class_='tit')\n",
    "                    temp_d =i.find('span',class_='dt_t')\n",
    "                    # category 는 후에 위에 다른 변수에서 설정해서 퍼와야할듯\n",
    "                    article_df = article_df.append({'Title' : temp_t.a.text.strip(), 'Date':temp_d.string[:10], 'Category':section}, ignore_index = True)\n",
    "            time.sleep(1)\n",
    "            page +=1"
   ]
  },
  {
   "cell_type": "code",
   "execution_count": 311,
   "metadata": {},
   "outputs": [
    {
     "data": {
      "text/html": [
       "<div>\n",
       "<style scoped>\n",
       "    .dataframe tbody tr th:only-of-type {\n",
       "        vertical-align: middle;\n",
       "    }\n",
       "\n",
       "    .dataframe tbody tr th {\n",
       "        vertical-align: top;\n",
       "    }\n",
       "\n",
       "    .dataframe thead th {\n",
       "        text-align: right;\n",
       "    }\n",
       "</style>\n",
       "<table border=\"1\" class=\"dataframe\">\n",
       "  <thead>\n",
       "    <tr style=\"text-align: right;\">\n",
       "      <th></th>\n",
       "      <th>Title</th>\n",
       "      <th>Date</th>\n",
       "      <th>Category</th>\n",
       "    </tr>\n",
       "  </thead>\n",
       "  <tbody>\n",
       "    <tr>\n",
       "      <th>0</th>\n",
       "      <td>\"지포스나우하면 '게임 아이템' 쏜다\" LG유플, 온국민 오픈 이벤트</td>\n",
       "      <td>2020.08.23</td>\n",
       "      <td>4</td>\n",
       "    </tr>\n",
       "    <tr>\n",
       "      <th>1</th>\n",
       "      <td>코로나19 2차 대유행에 다시 멈춰선 '판교'</td>\n",
       "      <td>2020.08.18</td>\n",
       "      <td>4</td>\n",
       "    </tr>\n",
       "    <tr>\n",
       "      <th>2</th>\n",
       "      <td>펄어비스-인텔 e스포츠 파트너십…'섀도우 아레나' 대회 연다</td>\n",
       "      <td>2020.08.13</td>\n",
       "      <td>4</td>\n",
       "    </tr>\n",
       "    <tr>\n",
       "      <th>3</th>\n",
       "      <td>펄어비스, 2Q 영업익 2.3% 감소…'검은사막 모바일' 주춤(종합)</td>\n",
       "      <td>2020.08.13</td>\n",
       "      <td>4</td>\n",
       "    </tr>\n",
       "    <tr>\n",
       "      <th>4</th>\n",
       "      <td>펄어비스, 2Q 영업이익 506억…전년대비 2.3% 감소</td>\n",
       "      <td>2020.08.13</td>\n",
       "      <td>4</td>\n",
       "    </tr>\n",
       "    <tr>\n",
       "      <th>...</th>\n",
       "      <td>...</td>\n",
       "      <td>...</td>\n",
       "      <td>...</td>\n",
       "    </tr>\n",
       "    <tr>\n",
       "      <th>820</th>\n",
       "      <td>또 다시 요동치는 코스닥 시총 상위주</td>\n",
       "      <td>2020.07.28</td>\n",
       "      <td>5</td>\n",
       "    </tr>\n",
       "    <tr>\n",
       "      <th>821</th>\n",
       "      <td>주춤한 코스피, 다시 2200 밑으로…2198에 마감</td>\n",
       "      <td>2020.07.20</td>\n",
       "      <td>5</td>\n",
       "    </tr>\n",
       "    <tr>\n",
       "      <th>822</th>\n",
       "      <td>외국인 순매수세에 코스피 2200선 회복…코스닥 1% 상승</td>\n",
       "      <td>2020.07.17</td>\n",
       "      <td>5</td>\n",
       "    </tr>\n",
       "    <tr>\n",
       "      <th>823</th>\n",
       "      <td>주춤한 코스피…0.8% 떨어진 2183에 마감</td>\n",
       "      <td>2020.07.16</td>\n",
       "      <td>5</td>\n",
       "    </tr>\n",
       "    <tr>\n",
       "      <th>824</th>\n",
       "      <td>코스피, 장 초반 보합세 2200선</td>\n",
       "      <td>2020.07.16</td>\n",
       "      <td>5</td>\n",
       "    </tr>\n",
       "  </tbody>\n",
       "</table>\n",
       "<p>825 rows × 3 columns</p>\n",
       "</div>"
      ],
      "text/plain": [
       "                                      Title        Date Category\n",
       "0    \"지포스나우하면 '게임 아이템' 쏜다\" LG유플, 온국민 오픈 이벤트  2020.08.23        4\n",
       "1                 코로나19 2차 대유행에 다시 멈춰선 '판교'  2020.08.18        4\n",
       "2         펄어비스-인텔 e스포츠 파트너십…'섀도우 아레나' 대회 연다  2020.08.13        4\n",
       "3    펄어비스, 2Q 영업익 2.3% 감소…'검은사막 모바일' 주춤(종합)  2020.08.13        4\n",
       "4           펄어비스, 2Q 영업이익 506억…전년대비 2.3% 감소  2020.08.13        4\n",
       "..                                      ...         ...      ...\n",
       "820                    또 다시 요동치는 코스닥 시총 상위주  2020.07.28        5\n",
       "821           주춤한 코스피, 다시 2200 밑으로…2198에 마감  2020.07.20        5\n",
       "822        외국인 순매수세에 코스피 2200선 회복…코스닥 1% 상승  2020.07.17        5\n",
       "823               주춤한 코스피…0.8% 떨어진 2183에 마감  2020.07.16        5\n",
       "824                     코스피, 장 초반 보합세 2200선  2020.07.16        5\n",
       "\n",
       "[825 rows x 3 columns]"
      ]
     },
     "execution_count": 311,
     "metadata": {},
     "output_type": "execute_result"
    }
   ],
   "source": [
    "article_df"
   ]
  }
 ],
 "metadata": {
  "kernelspec": {
   "display_name": "Python 3",
   "language": "python",
   "name": "python3"
  },
  "language_info": {
   "codemirror_mode": {
    "name": "ipython",
    "version": 3
   },
   "file_extension": ".py",
   "mimetype": "text/x-python",
   "name": "python",
   "nbconvert_exporter": "python",
   "pygments_lexer": "ipython3",
   "version": "3.8.3"
  }
 },
 "nbformat": 4,
 "nbformat_minor": 4
}
