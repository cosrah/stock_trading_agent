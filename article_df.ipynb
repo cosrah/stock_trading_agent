{
 "cells": [
  {
   "cell_type": "code",
   "execution_count": 220,
   "metadata": {},
   "outputs": [],
   "source": [
    "import time\n",
    "from selenium import webdriver\n",
    "from bs4 import BeautifulSoup\n",
    "import pandas as pd\n",
    "import numpy as np"
   ]
  },
  {
   "cell_type": "code",
   "execution_count": 268,
   "metadata": {},
   "outputs": [],
   "source": [
    "driver = webdriver.Chrome('chromedriver.exe')\n",
    "\n",
    "url = 'https://www.asiae.co.kr/'\n",
    "\n",
    "# 페이지 이동\n",
    "driver.get(url)\n",
    "time.sleep(1)\n",
    "\n",
    "driver.find_element_by_css_selector('#main_wrap > div.main_header > div.top_head > div.area_fstare > div > div > div.search_wrap > form > fieldset > a').click()"
   ]
  },
  {
   "cell_type": "code",
   "execution_count": 269,
   "metadata": {},
   "outputs": [],
   "source": [
    "#리스트 추가 # 리스트 목록으로 만들어서 for 문으로 돌리자\n",
    "kospi200 = '삼성전자'"
   ]
  },
  {
   "cell_type": "code",
   "execution_count": 270,
   "metadata": {},
   "outputs": [],
   "source": [
    "# 검색목록에 넣기\n",
    "e = driver.find_element_by_css_selector('#search1')\n",
    "e.send_keys(kospi200)\n",
    "# 검색버튼 누르기\n",
    "driver.find_element_by_css_selector('#main_wrap > div.main_header > div.top_head > div.area_fstare > div > div > div.search_wrap > form > fieldset > div > input').click()"
   ]
  },
  {
   "cell_type": "code",
   "execution_count": 271,
   "metadata": {},
   "outputs": [],
   "source": [
    "#뉴스 목록 선택\n",
    "driver.find_element_by_css_selector('#type_news > a > span').click()"
   ]
  },
  {
   "cell_type": "code",
   "execution_count": 272,
   "metadata": {},
   "outputs": [],
   "source": [
    "#검색옵션 선택\n",
    "driver.find_element_by_css_selector(\"#wrap > div.seo_lnb > div.sch_lnb > div > a > span\").click()\n",
    "time.sleep(0.5)\n",
    "#기간 필터 클릭\n",
    "driver.find_element_by_css_selector(\"#wrap > div.seo_lnb > div.sch_lst > div > div > ul > li.title_tab.tab02 > a > span\").click()"
   ]
  },
  {
   "cell_type": "code",
   "execution_count": 273,
   "metadata": {},
   "outputs": [],
   "source": [
    "#기간 입력 및 적용\n",
    "\n",
    "inputsDate = driver.find_element_by_css_selector('#sDate')\n",
    "inputsDate.send_keys('2014.09.01')\n",
    "driver.find_element_by_css_selector(\"#ui-datepicker-div > div.ui-datepicker-buttonpane.ui-widget-content > button.ui-datepicker-close.ui-state-default.ui-priority-primary.ui-corner-all\").click()\n",
    "time.sleep(0.5)\n",
    "inputeDate = driver.find_element_by_css_selector('#eDate')\n",
    "inputeDate.send_keys('2020.08.31')\n",
    "driver.find_element_by_css_selector(\"#ui-datepicker-div > div.ui-datepicker-buttonpane.ui-widget-content > button.ui-datepicker-close.ui-state-default.ui-priority-primary.ui-corner-all\").click()\n",
    "\n",
    "time.sleep(0.5)\n",
    "\n",
    "driver.find_element_by_css_selector(\"#wrap > div.seo_lnb > div.sch_lst > div > div > div > ul.tcont.tabcont02.on > li.inp_box > div > a\").click()"
   ]
  },
  {
   "cell_type": "code",
   "execution_count": 233,
   "metadata": {},
   "outputs": [],
   "source": [
    "# #섹션 선택\n",
    "# driver.find_element_by_css_selector('#container > div.content > div > div > h3 > div.ns_btn > a').click()"
   ]
  },
  {
   "cell_type": "code",
   "execution_count": 274,
   "metadata": {},
   "outputs": [],
   "source": [
    "# driver.find_element_by_css_selector('#container > div.content > div > div > h3 > div.ns_btn > a > span').click()"
   ]
  },
  {
   "cell_type": "code",
   "execution_count": 277,
   "metadata": {
    "scrolled": true
   },
   "outputs": [],
   "source": [
    "article_df = pd.DataFrame(columns = ['Title', 'Date','Category'])\n",
    "for section in range(2,12):\n",
    "    #섹션 선택\n",
    "    driver.find_element_by_css_selector('#container > div.content > div > div > h3 > div.ns_btn > a > span').click()\n",
    "    time.sleep(0.5)\n",
    "    driver.find_element_by_css_selector('#container > div.content > div > div > h3 > div.ns_wrap > ul > li:nth-child({}) > a'.format(section)).click()\n",
    "    time.sleep(2)\n",
    "    #beautifulsoup으로 크롤링하기\n",
    "    html = driver.page_source\n",
    "    soup = BeautifulSoup(html, 'html.parser')\n",
    "#     total_count = soup.body.select_one('#container > div.content > div > div > h3 > span')\n",
    "#     total_count = int(total_count.string[2:-1].replace(\",\",\"\"))\n",
    "#     pages = total_count/15\n",
    "    leng = soup.body.select('#container > div > div > div > ul')\n",
    "    a = leng[0].find_all('li')\n",
    "    for i in a:\n",
    "        temp_t = i.find('span', class_='tit')\n",
    "        temp_d =i.find('span',class_='dt_t')\n",
    "        # category 는 후에 위에 다른 변수에서 설정해서 퍼와야할듯\n",
    "        article_df = article_df.append({'Title' : temp_t.a.text.strip(), 'Date':temp_d.string[:10], 'Category':section}, ignore_index = True)\n",
    "\n",
    "    "
   ]
  },
  {
   "cell_type": "code",
   "execution_count": 278,
   "metadata": {},
   "outputs": [
    {
     "data": {
      "text/html": [
       "<div>\n",
       "<style scoped>\n",
       "    .dataframe tbody tr th:only-of-type {\n",
       "        vertical-align: middle;\n",
       "    }\n",
       "\n",
       "    .dataframe tbody tr th {\n",
       "        vertical-align: top;\n",
       "    }\n",
       "\n",
       "    .dataframe thead th {\n",
       "        text-align: right;\n",
       "    }\n",
       "</style>\n",
       "<table border=\"1\" class=\"dataframe\">\n",
       "  <thead>\n",
       "    <tr style=\"text-align: right;\">\n",
       "      <th></th>\n",
       "      <th>Title</th>\n",
       "      <th>Date</th>\n",
       "      <th>Category</th>\n",
       "    </tr>\n",
       "  </thead>\n",
       "  <tbody>\n",
       "    <tr>\n",
       "      <th>0</th>\n",
       "      <td>[민주 全大] 민주당 신임 최고위원 선출…‘친문’ ‘지자체장’ ‘4선 중진’ 등 당선</td>\n",
       "      <td>2020.08.29</td>\n",
       "      <td>2</td>\n",
       "    </tr>\n",
       "    <tr>\n",
       "      <th>1</th>\n",
       "      <td>삼성 출신 양향자, 산재 신청 못한단 보도에 \"참담하다…일류 삼성\"</td>\n",
       "      <td>2020.07.31</td>\n",
       "      <td>2</td>\n",
       "    </tr>\n",
       "    <tr>\n",
       "      <th>2</th>\n",
       "      <td>공공기관 전용 지방대 학과·병역특례 추진</td>\n",
       "      <td>2020.07.30</td>\n",
       "      <td>2</td>\n",
       "    </tr>\n",
       "    <tr>\n",
       "      <th>3</th>\n",
       "      <td>수사심의위 '손보기' 나선 與…\"명단 달라\", \"시스템 문제 아니냐\"</td>\n",
       "      <td>2020.07.27</td>\n",
       "      <td>2</td>\n",
       "    </tr>\n",
       "    <tr>\n",
       "      <th>4</th>\n",
       "      <td>삼성 출신 양향자 \"최고위원 숙고…뉴딜시대, 기업과의 가교 적임자 역할\"</td>\n",
       "      <td>2020.07.15</td>\n",
       "      <td>2</td>\n",
       "    </tr>\n",
       "    <tr>\n",
       "      <th>...</th>\n",
       "      <td>...</td>\n",
       "      <td>...</td>\n",
       "      <td>...</td>\n",
       "    </tr>\n",
       "    <tr>\n",
       "      <th>143</th>\n",
       "      <td>\"서경배, IOC위원 추천\" 둘러싸고 국회 舌戰</td>\n",
       "      <td>2018.08.27</td>\n",
       "      <td>11</td>\n",
       "    </tr>\n",
       "    <tr>\n",
       "      <th>144</th>\n",
       "      <td>\"韓 IOC위원 늘리자\" 논의 불거지는데..인물난에 제자리걸음</td>\n",
       "      <td>2018.08.02</td>\n",
       "      <td>11</td>\n",
       "    </tr>\n",
       "    <tr>\n",
       "      <th>145</th>\n",
       "      <td>삼성, 빙상 손뗀다..연맹 후원 안하기로</td>\n",
       "      <td>2018.07.09</td>\n",
       "      <td>11</td>\n",
       "    </tr>\n",
       "    <tr>\n",
       "      <th>146</th>\n",
       "      <td>러시아 월드컵으로 보는 '중국 스마트폰 굴기'</td>\n",
       "      <td>2018.06.17</td>\n",
       "      <td>11</td>\n",
       "    </tr>\n",
       "    <tr>\n",
       "      <th>147</th>\n",
       "      <td>‘그것이 알고싶다’ 故염호석 시신 탈취 사건 “가족장하면 6억 준다고 해”</td>\n",
       "      <td>2018.05.27</td>\n",
       "      <td>11</td>\n",
       "    </tr>\n",
       "  </tbody>\n",
       "</table>\n",
       "<p>148 rows × 3 columns</p>\n",
       "</div>"
      ],
      "text/plain": [
       "                                               Title        Date Category\n",
       "0    [민주 全大] 민주당 신임 최고위원 선출…‘친문’ ‘지자체장’ ‘4선 중진’ 등 당선  2020.08.29        2\n",
       "1              삼성 출신 양향자, 산재 신청 못한단 보도에 \"참담하다…일류 삼성\"  2020.07.31        2\n",
       "2                             공공기관 전용 지방대 학과·병역특례 추진  2020.07.30        2\n",
       "3             수사심의위 '손보기' 나선 與…\"명단 달라\", \"시스템 문제 아니냐\"  2020.07.27        2\n",
       "4           삼성 출신 양향자 \"최고위원 숙고…뉴딜시대, 기업과의 가교 적임자 역할\"  2020.07.15        2\n",
       "..                                               ...         ...      ...\n",
       "143                       \"서경배, IOC위원 추천\" 둘러싸고 국회 舌戰  2018.08.27       11\n",
       "144               \"韓 IOC위원 늘리자\" 논의 불거지는데..인물난에 제자리걸음  2018.08.02       11\n",
       "145                           삼성, 빙상 손뗀다..연맹 후원 안하기로  2018.07.09       11\n",
       "146                        러시아 월드컵으로 보는 '중국 스마트폰 굴기'  2018.06.17       11\n",
       "147        ‘그것이 알고싶다’ 故염호석 시신 탈취 사건 “가족장하면 6억 준다고 해”  2018.05.27       11\n",
       "\n",
       "[148 rows x 3 columns]"
      ]
     },
     "execution_count": 278,
     "metadata": {},
     "output_type": "execute_result"
    }
   ],
   "source": [
    "article_df"
   ]
  }
 ],
 "metadata": {
  "kernelspec": {
   "display_name": "Python 3",
   "language": "python",
   "name": "python3"
  },
  "language_info": {
   "codemirror_mode": {
    "name": "ipython",
    "version": 3
   },
   "file_extension": ".py",
   "mimetype": "text/x-python",
   "name": "python",
   "nbconvert_exporter": "python",
   "pygments_lexer": "ipython3",
   "version": "3.7.6"
  }
 },
 "nbformat": 4,
 "nbformat_minor": 4
}
