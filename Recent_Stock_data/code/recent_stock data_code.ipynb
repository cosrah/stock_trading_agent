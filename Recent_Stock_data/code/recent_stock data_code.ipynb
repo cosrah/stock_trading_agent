{
 "cells": [
  {
   "cell_type": "markdown",
   "metadata": {},
   "source": [
    "## 최신 주가 데이터 & 차트 확인"
   ]
  },
  {
   "cell_type": "code",
   "execution_count": 1,
   "metadata": {},
   "outputs": [
    {
     "name": "stdout",
     "output_type": "stream",
     "text": [
      "Requirement already up-to-date: finance-datareader in c:\\users\\12\\anaconda3ver2\\lib\\site-packages (0.9.10)\n",
      "Requirement already satisfied, skipping upgrade: requests-file in c:\\users\\12\\anaconda3ver2\\lib\\site-packages (from finance-datareader) (1.5.1)\n",
      "Requirement already satisfied, skipping upgrade: pandas>=0.19.2 in c:\\users\\12\\anaconda3ver2\\lib\\site-packages (from finance-datareader) (1.0.5)\n",
      "Requirement already satisfied, skipping upgrade: tqdm in c:\\users\\12\\anaconda3ver2\\lib\\site-packages (from finance-datareader) (4.47.0)\n",
      "Requirement already satisfied, skipping upgrade: lxml in c:\\users\\12\\anaconda3ver2\\lib\\site-packages (from finance-datareader) (4.5.2)\n",
      "Requirement already satisfied, skipping upgrade: requests>=2.3.0 in c:\\users\\12\\anaconda3ver2\\lib\\site-packages (from finance-datareader) (2.18.4)\n",
      "Requirement already satisfied, skipping upgrade: six in c:\\users\\12\\appdata\\roaming\\python\\python38\\site-packages (from requests-file->finance-datareader) (1.15.0)\n",
      "Requirement already satisfied, skipping upgrade: pytz>=2017.2 in c:\\users\\12\\anaconda3ver2\\lib\\site-packages (from pandas>=0.19.2->finance-datareader) (2020.1)\n",
      "Requirement already satisfied, skipping upgrade: python-dateutil>=2.6.1 in c:\\users\\12\\anaconda3ver2\\lib\\site-packages (from pandas>=0.19.2->finance-datareader) (2.8.1)\n",
      "Requirement already satisfied, skipping upgrade: numpy>=1.13.3 in c:\\users\\12\\anaconda3ver2\\lib\\site-packages (from pandas>=0.19.2->finance-datareader) (1.18.5)\n",
      "Requirement already satisfied, skipping upgrade: certifi>=2017.4.17 in c:\\users\\12\\anaconda3ver2\\lib\\site-packages (from requests>=2.3.0->finance-datareader) (2020.6.20)\n",
      "Requirement already satisfied, skipping upgrade: urllib3<1.23,>=1.21.1 in c:\\users\\12\\anaconda3ver2\\lib\\site-packages (from requests>=2.3.0->finance-datareader) (1.22)\n",
      "Requirement already satisfied, skipping upgrade: idna<2.7,>=2.5 in c:\\users\\12\\anaconda3ver2\\lib\\site-packages (from requests>=2.3.0->finance-datareader) (2.6)\n",
      "Requirement already satisfied, skipping upgrade: chardet<3.1.0,>=3.0.2 in c:\\users\\12\\anaconda3ver2\\lib\\site-packages (from requests>=2.3.0->finance-datareader) (3.0.4)\n",
      "Note: you may need to restart the kernel to use updated packages.\n"
     ]
    }
   ],
   "source": [
    "pip install -U finance-datareader"
   ]
  },
  {
   "cell_type": "code",
   "execution_count": 2,
   "metadata": {},
   "outputs": [],
   "source": [
    "import FinanceDataReader as fdr"
   ]
  },
  {
   "cell_type": "code",
   "execution_count": 4,
   "metadata": {},
   "outputs": [],
   "source": [
    "import pandas as pd"
   ]
  },
  {
   "cell_type": "markdown",
   "metadata": {},
   "source": [
    "## 2014년도 부터 삼성전자 주가 데이터"
   ]
  },
  {
   "cell_type": "code",
   "execution_count": 14,
   "metadata": {},
   "outputs": [
    {
     "data": {
      "text/plain": [
       "<matplotlib.axes._subplots.AxesSubplot at 0x22c397623d0>"
      ]
     },
     "execution_count": 14,
     "metadata": {},
     "output_type": "execute_result"
    },
    {
     "data": {
      "image/png": "[encoded data removed]",
      "text/plain": [
       "<Figure size 432x288 with 1 Axes>"
      ]
     },
     "metadata": {
      "needs_background": "light"
     },
     "output_type": "display_data"
    }
   ],
   "source": [
    "df=fdr.DataReader('005930','2014')\n",
    "df.head(10)\n",
    "# Volum 확인\n",
    "df['Volume'].plot()"
   ]
  },
  {
   "cell_type": "code",
   "execution_count": 15,
   "metadata": {},
   "outputs": [
    {
     "data": {
      "text/html": [
       "<div>\n",
       "<style scoped>\n",
       "    .dataframe tbody tr th:only-of-type {\n",
       "        vertical-align: middle;\n",
       "    }\n",
       "\n",
       "    .dataframe tbody tr th {\n",
       "        vertical-align: top;\n",
       "    }\n",
       "\n",
       "    .dataframe thead th {\n",
       "        text-align: right;\n",
       "    }\n",
       "</style>\n",
       "<table border=\"1\" class=\"dataframe\">\n",
       "  <thead>\n",
       "    <tr style=\"text-align: right;\">\n",
       "      <th></th>\n",
       "      <th>Open</th>\n",
       "      <th>High</th>\n",
       "      <th>Low</th>\n",
       "      <th>Close</th>\n",
       "      <th>Volume</th>\n",
       "      <th>Change</th>\n",
       "    </tr>\n",
       "    <tr>\n",
       "      <th>Date</th>\n",
       "      <th></th>\n",
       "      <th></th>\n",
       "      <th></th>\n",
       "      <th></th>\n",
       "      <th></th>\n",
       "      <th></th>\n",
       "    </tr>\n",
       "  </thead>\n",
       "  <tbody>\n",
       "    <tr>\n",
       "      <th>2014-01-02</th>\n",
       "      <td>26960</td>\n",
       "      <td>27100</td>\n",
       "      <td>26040</td>\n",
       "      <td>26180</td>\n",
       "      <td>620500</td>\n",
       "      <td>-0.045918</td>\n",
       "    </tr>\n",
       "    <tr>\n",
       "      <th>2014-01-03</th>\n",
       "      <td>26000</td>\n",
       "      <td>26220</td>\n",
       "      <td>25740</td>\n",
       "      <td>25920</td>\n",
       "      <td>529932</td>\n",
       "      <td>-0.009931</td>\n",
       "    </tr>\n",
       "    <tr>\n",
       "      <th>2014-01-06</th>\n",
       "      <td>26060</td>\n",
       "      <td>26399</td>\n",
       "      <td>25920</td>\n",
       "      <td>26140</td>\n",
       "      <td>394716</td>\n",
       "      <td>0.008488</td>\n",
       "    </tr>\n",
       "    <tr>\n",
       "      <th>2014-01-07</th>\n",
       "      <td>26000</td>\n",
       "      <td>26360</td>\n",
       "      <td>25900</td>\n",
       "      <td>26080</td>\n",
       "      <td>395264</td>\n",
       "      <td>-0.002295</td>\n",
       "    </tr>\n",
       "    <tr>\n",
       "      <th>2014-01-08</th>\n",
       "      <td>26000</td>\n",
       "      <td>26080</td>\n",
       "      <td>25740</td>\n",
       "      <td>25820</td>\n",
       "      <td>409493</td>\n",
       "      <td>-0.009969</td>\n",
       "    </tr>\n",
       "    <tr>\n",
       "      <th>...</th>\n",
       "      <td>...</td>\n",
       "      <td>...</td>\n",
       "      <td>...</td>\n",
       "      <td>...</td>\n",
       "      <td>...</td>\n",
       "      <td>...</td>\n",
       "    </tr>\n",
       "    <tr>\n",
       "      <th>2020-10-26</th>\n",
       "      <td>60400</td>\n",
       "      <td>61100</td>\n",
       "      <td>60100</td>\n",
       "      <td>60400</td>\n",
       "      <td>13268226</td>\n",
       "      <td>0.003322</td>\n",
       "    </tr>\n",
       "    <tr>\n",
       "      <th>2020-10-27</th>\n",
       "      <td>60300</td>\n",
       "      <td>60300</td>\n",
       "      <td>59500</td>\n",
       "      <td>59800</td>\n",
       "      <td>17260416</td>\n",
       "      <td>-0.009934</td>\n",
       "    </tr>\n",
       "    <tr>\n",
       "      <th>2020-10-28</th>\n",
       "      <td>59400</td>\n",
       "      <td>59400</td>\n",
       "      <td>58800</td>\n",
       "      <td>59000</td>\n",
       "      <td>14428882</td>\n",
       "      <td>-0.013378</td>\n",
       "    </tr>\n",
       "    <tr>\n",
       "      <th>2020-10-29</th>\n",
       "      <td>58200</td>\n",
       "      <td>58500</td>\n",
       "      <td>57500</td>\n",
       "      <td>58100</td>\n",
       "      <td>22636966</td>\n",
       "      <td>-0.015254</td>\n",
       "    </tr>\n",
       "    <tr>\n",
       "      <th>2020-10-30</th>\n",
       "      <td>58000</td>\n",
       "      <td>58000</td>\n",
       "      <td>56600</td>\n",
       "      <td>56600</td>\n",
       "      <td>26279439</td>\n",
       "      <td>-0.025818</td>\n",
       "    </tr>\n",
       "  </tbody>\n",
       "</table>\n",
       "<p>1678 rows × 6 columns</p>\n",
       "</div>"
      ],
      "text/plain": [
       "             Open   High    Low  Close    Volume    Change\n",
       "Date                                                      \n",
       "2014-01-02  26960  27100  26040  26180    620500 -0.045918\n",
       "2014-01-03  26000  26220  25740  25920    529932 -0.009931\n",
       "2014-01-06  26060  26399  25920  26140    394716  0.008488\n",
       "2014-01-07  26000  26360  25900  26080    395264 -0.002295\n",
       "2014-01-08  26000  26080  25740  25820    409493 -0.009969\n",
       "...           ...    ...    ...    ...       ...       ...\n",
       "2020-10-26  60400  61100  60100  60400  13268226  0.003322\n",
       "2020-10-27  60300  60300  59500  59800  17260416 -0.009934\n",
       "2020-10-28  59400  59400  58800  59000  14428882 -0.013378\n",
       "2020-10-29  58200  58500  57500  58100  22636966 -0.015254\n",
       "2020-10-30  58000  58000  56600  56600  26279439 -0.025818\n",
       "\n",
       "[1678 rows x 6 columns]"
      ]
     },
     "execution_count": 15,
     "metadata": {},
     "output_type": "execute_result"
    }
   ],
   "source": [
    "df"
   ]
  }
 ],
 "metadata": {
  "kernelspec": {
   "display_name": "Python 3",
   "language": "python",
   "name": "python3"
  },
  "language_info": {
   "codemirror_mode": {
    "name": "ipython",
    "version": 3
   },
   "file_extension": ".py",
   "mimetype": "text/x-python",
   "name": "python",
   "nbconvert_exporter": "python",
   "pygments_lexer": "ipython3",
   "version": "3.8.3"
  }
 },
 "nbformat": 4,
 "nbformat_minor": 4
}
