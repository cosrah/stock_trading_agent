{
 "cells": [
  {
   "cell_type": "code",
   "execution_count": 1,
   "metadata": {},
   "outputs": [],
   "source": [
    "import time\n",
    "from selenium import webdriver\n",
    "from bs4 import BeautifulSoup\n",
    "import pandas as pd\n",
    "import numpy as np\n"
   ]
  },
  {
   "cell_type": "code",
   "execution_count": 2,
   "metadata": {},
   "outputs": [],
   "source": [
    "driver = webdriver.Chrome('chromedriver.exe')\n",
    "url = 'https://www.google.com/search?q=cj+cheiljedang&sxsrf=ALeKk00yqli5eJ5iL85bxG844NNZfcX9ig:1604976074246&source=lnms&tbm=nws&sa=X&ved=2ahUKEwjy0pzm-fbsAhVJa94KHf1lB24Q_AUoAXoECAYQAw&biw=1140&bih=793&dpr=1.13'\n"
   ]
  },
  {
   "cell_type": "code",
   "execution_count": 3,
   "metadata": {},
   "outputs": [],
   "source": [
    "driver.get(url)\n",
    "time.sleep(1)"
   ]
  },
  {
   "cell_type": "code",
   "execution_count": 6,
   "metadata": {},
   "outputs": [],
   "source": [
    "driver.find_element_by_css_selector('#hdtb-tls').click()"
   ]
  },
  {
   "cell_type": "code",
   "execution_count": 7,
   "metadata": {},
   "outputs": [],
   "source": [
    "driver.find_element_by_css_selector('#ow18 > div.rIbAWc.hide-focus-ring > div > div').click()"
   ]
  },
  {
   "cell_type": "code",
   "execution_count": 9,
   "metadata": {},
   "outputs": [],
   "source": [
    "driver.find_element_by_css_selector('#cdrlnk').click()"
   ]
  },
  {
   "cell_type": "code",
   "execution_count": 48,
   "metadata": {},
   "outputs": [],
   "source": [
    "driver.find_element_by_css_selector('#OouJcb').send_keys('1/2/2014')\n",
    "driver.find_element_by_css_selector('#rzG2be').send_keys('12/30/2019')\n",
    "driver.find_element_by_css_selector('#T3kYXe > g-button').click()"
   ]
  },
  {
   "cell_type": "code",
   "execution_count": 15,
   "metadata": {},
   "outputs": [],
   "source": [
    "article_df = pd.DataFrame(columns = ['Date','Title','Summary'])"
   ]
  },
  {
   "cell_type": "code",
   "execution_count": 17,
   "metadata": {},
   "outputs": [],
   "source": [
    "html = driver.page_source\n",
    "soup  = BeautifulSoup(html, 'html.parser')"
   ]
  },
  {
   "cell_type": "code",
   "execution_count": 51,
   "metadata": {},
   "outputs": [],
   "source": [
    "title = soup.select('#rso > div > g-card > div > div > div.dbsr > a > div > div.hI5pFf > div.JheGif.nDgy9d')"
   ]
  },
  {
   "cell_type": "code",
   "execution_count": 52,
   "metadata": {},
   "outputs": [],
   "source": [
    "summary = soup.select('#rso > div > g-card > div > div > div.dbsr > a > div > div.hI5pFf > div.yJHHTd > div.Y3v8qd')"
   ]
  },
  {
   "cell_type": "code",
   "execution_count": 53,
   "metadata": {},
   "outputs": [],
   "source": [
    "date = soup.select('#rso > div > g-card > div > div > div.dbsr > a > div > div.hI5pFf > div.yJHHTd > div.wxp1Sb > span > span > span')"
   ]
  },
  {
   "cell_type": "code",
   "execution_count": 74,
   "metadata": {},
   "outputs": [],
   "source": [
    "ijk = zip(title, summary, date)\n",
    "\n",
    "    "
   ]
  },
  {
   "cell_type": "code",
   "execution_count": 75,
   "metadata": {},
   "outputs": [],
   "source": [
    "for i,j,k in ijk:\n",
    "    article_df = article_df.append({'Date':k.text, 'Title':i.text, 'Summary':j.text}, ignore_index = True)\n",
    "#     print(i.text, j.text, k.text)\n",
    "    "
   ]
  },
  {
   "cell_type": "code",
   "execution_count": 76,
   "metadata": {},
   "outputs": [
    {
     "data": {
      "text/html": [
       "<div>\n",
       "<style scoped>\n",
       "    .dataframe tbody tr th:only-of-type {\n",
       "        vertical-align: middle;\n",
       "    }\n",
       "\n",
       "    .dataframe tbody tr th {\n",
       "        vertical-align: top;\n",
       "    }\n",
       "\n",
       "    .dataframe thead th {\n",
       "        text-align: right;\n",
       "    }\n",
       "</style>\n",
       "<table border=\"1\" class=\"dataframe\">\n",
       "  <thead>\n",
       "    <tr style=\"text-align: right;\">\n",
       "      <th></th>\n",
       "      <th>Date</th>\n",
       "      <th>Title</th>\n",
       "      <th>Summary</th>\n",
       "    </tr>\n",
       "  </thead>\n",
       "  <tbody>\n",
       "    <tr>\n",
       "      <th>0</th>\n",
       "      <td>1주 전</td>\n",
       "      <td>CJ CheilJedang selected as the global best gro...</td>\n",
       "      <td>CJ CheilJedang has been selected as the best g...</td>\n",
       "    </tr>\n",
       "    <tr>\n",
       "      <th>1</th>\n",
       "      <td>2018. 11. 15.</td>\n",
       "      <td>CJ CheilJedang to acquire Schwan's for $1.84 b</td>\n",
       "      <td>[THE INVESTOR] Korean food giant CJ CheilJedan...</td>\n",
       "    </tr>\n",
       "    <tr>\n",
       "      <th>2</th>\n",
       "      <td>2020. 4. 3.</td>\n",
       "      <td>‘비상경영’ CJ제일제당, 재무구조 개선방안 통했다</td>\n",
       "      <td>\"비상경영에 돌입하지 않았다면 큰일 날 뻔 했습니다.\" CJ제일제당 고위관계자의 말...</td>\n",
       "    </tr>\n",
       "    <tr>\n",
       "      <th>3</th>\n",
       "      <td>2020. 8. 11.</td>\n",
       "      <td>코로나도 이긴 '집밥' 열풍... CJ제일제당, 사상 최대 실적 달성 (종합)</td>\n",
       "      <td>국내외서 식품 부문 매출이 모두 늘고, 바이오와 사료 부문도 건실하게 성장했다. C...</td>\n",
       "    </tr>\n",
       "    <tr>\n",
       "      <th>4</th>\n",
       "      <td>2020. 7. 26.</td>\n",
       "      <td>'집냉' 인기에…CJ제일제당 냉면, 누적 매출 250억원 돌파</td>\n",
       "      <td>CJ제일제당은 냉면 성수기 시즌인 지난 5월부터 이달 24일까지 냉면 제품 누적 매...</td>\n",
       "    </tr>\n",
       "    <tr>\n",
       "      <th>5</th>\n",
       "      <td>2020. 9. 11.</td>\n",
       "      <td>국내 최고 자본시장(Capital Markets) 미디어</td>\n",
       "      <td>CJ제일제당은 글로벌 경쟁사로 꼽히는 일본 아지노모토와 사업 구조가 놀랍도록 닮았다...</td>\n",
       "    </tr>\n",
       "    <tr>\n",
       "      <th>6</th>\n",
       "      <td>2019. 5. 23.</td>\n",
       "      <td>CJ Cheiljedang receives $320 mln investment fr...</td>\n",
       "      <td>SEOUL, May 23 (Yonhap) -- CJ Cheiljedang Corp....</td>\n",
       "    </tr>\n",
       "    <tr>\n",
       "      <th>7</th>\n",
       "      <td>2020. 5. 28.</td>\n",
       "      <td>CJ CheilJedang aims to secure a $1.6 million m...</td>\n",
       "      <td>CJ CheilJedang is set to launch its next-gener...</td>\n",
       "    </tr>\n",
       "    <tr>\n",
       "      <th>8</th>\n",
       "      <td>2019. 4. 23.</td>\n",
       "      <td>CJ CheilJedang makes home-cooked meals a littl...</td>\n",
       "      <td>Korea's largest food company CJ CheilJedang ha...</td>\n",
       "    </tr>\n",
       "    <tr>\n",
       "      <th>9</th>\n",
       "      <td>2019. 5. 13.</td>\n",
       "      <td>CJ Cheiljedang Q1 net plunges 43.3 pct</td>\n",
       "      <td>SEOUL, May 13 (Yonhap) -- CJ Cheiljedang Corp....</td>\n",
       "    </tr>\n",
       "  </tbody>\n",
       "</table>\n",
       "</div>"
      ],
      "text/plain": [
       "            Date                                              Title  \\\n",
       "0           1주 전  CJ CheilJedang selected as the global best gro...   \n",
       "1  2018. 11. 15.     CJ CheilJedang to acquire Schwan's for $1.84 b   \n",
       "2    2020. 4. 3.                       ‘비상경영’ CJ제일제당, 재무구조 개선방안 통했다   \n",
       "3   2020. 8. 11.        코로나도 이긴 '집밥' 열풍... CJ제일제당, 사상 최대 실적 달성 (종합)   \n",
       "4   2020. 7. 26.                 '집냉' 인기에…CJ제일제당 냉면, 누적 매출 250억원 돌파   \n",
       "5   2020. 9. 11.                    국내 최고 자본시장(Capital Markets) 미디어   \n",
       "6   2019. 5. 23.  CJ Cheiljedang receives $320 mln investment fr...   \n",
       "7   2020. 5. 28.  CJ CheilJedang aims to secure a $1.6 million m...   \n",
       "8   2019. 4. 23.  CJ CheilJedang makes home-cooked meals a littl...   \n",
       "9   2019. 5. 13.             CJ Cheiljedang Q1 net plunges 43.3 pct   \n",
       "\n",
       "                                             Summary  \n",
       "0  CJ CheilJedang has been selected as the best g...  \n",
       "1  [THE INVESTOR] Korean food giant CJ CheilJedan...  \n",
       "2  \"비상경영에 돌입하지 않았다면 큰일 날 뻔 했습니다.\" CJ제일제당 고위관계자의 말...  \n",
       "3  국내외서 식품 부문 매출이 모두 늘고, 바이오와 사료 부문도 건실하게 성장했다. C...  \n",
       "4  CJ제일제당은 냉면 성수기 시즌인 지난 5월부터 이달 24일까지 냉면 제품 누적 매...  \n",
       "5  CJ제일제당은 글로벌 경쟁사로 꼽히는 일본 아지노모토와 사업 구조가 놀랍도록 닮았다...  \n",
       "6  SEOUL, May 23 (Yonhap) -- CJ Cheiljedang Corp....  \n",
       "7  CJ CheilJedang is set to launch its next-gener...  \n",
       "8  Korea's largest food company CJ CheilJedang ha...  \n",
       "9  SEOUL, May 13 (Yonhap) -- CJ Cheiljedang Corp....  "
      ]
     },
     "execution_count": 76,
     "metadata": {},
     "output_type": "execute_result"
    }
   ],
   "source": [
    "article_df"
   ]
  },
  {
   "cell_type": "code",
   "execution_count": 87,
   "metadata": {},
   "outputs": [],
   "source": [
    "#페이지 접근\n",
    "driver = webdriver.Chrome('chromedriver.exe')\n",
    "url = 'https://www.google.com/search?q=cj+cheiljedang&sxsrf=ALeKk00yqli5eJ5iL85bxG844NNZfcX9ig:1604976074246&source=lnms&tbm=nws&sa=X&ved=2ahUKEwjy0pzm-fbsAhVJa94KHf1lB24Q_AUoAXoECAYQAw&biw=1140&bih=793&dpr=1.13'\n",
    "time.sleep(1)\n",
    "\n",
    "driver.get(url)\n",
    "time.sleep(1)\n",
    "\n",
    "driver.find_element_by_css_selector('#hdtb-tls').click()\n",
    "\n",
    "driver.find_element_by_css_selector('#ow18 > div.rIbAWc.hide-focus-ring > div > div').click()\n",
    "\n",
    "driver.find_element_by_css_selector('#cdrlnk').click()\n",
    "\n",
    "driver.find_element_by_css_selector('#OouJcb').send_keys('1/2/2014')\n",
    "driver.find_element_by_css_selector('#rzG2be').send_keys('12/30/2019')\n",
    "driver.find_element_by_css_selector('#T3kYXe > g-button').click()\n",
    "\n",
    "article_df = pd.DataFrame(columns = ['Date','Title','Summary'])\n",
    "\n",
    "\n",
    "# 페이지넘기기\n",
    "while True:\n",
    "    try : \n",
    "        driver.find_element_by_css_selector('#pnnext > span.SJajHc.NVbCr').click()\n",
    "        time.sleep(1)\n",
    "        # 페이지 소스 불러오기\n",
    "        html = driver.page_source\n",
    "        soup  = BeautifulSoup(html, 'html.parser')\n",
    "        #제목 추출\n",
    "        title = soup.select('#rso > div > g-card > div > div > div.dbsr > a > div > div.hI5pFf > div.JheGif.nDgy9d')\n",
    "        #요약문 추출\n",
    "        summary = soup.select('#rso > div > g-card > div > div > div.dbsr > a > div > div.hI5pFf > div.yJHHTd > div.Y3v8qd')\n",
    "        #닐짜 추출\n",
    "        date = soup.select('#rso > div > g-card > div > div > div.dbsr > a > div > div.hI5pFf > div.yJHHTd > div.wxp1Sb > span > span > span')\n",
    "        #for 문으로 한번에 dataframe에 넣기 위해서 zip형식으로 만듦\n",
    "        ijk = zip(title, summary, date)\n",
    "        for i,j,k in ijk:\n",
    "            article_df = article_df.append({'Date':k.text, 'Title':i.text, 'Summary':j.text}, ignore_index = True)\n",
    "    \n",
    "    #마지막 페이지일 경우 다음을 누르지 않고 끝낸다.\n",
    "    except: \n",
    "        pd.to_csv(article_df, 'cj_article.csv')\n",
    "        break\n",
    "        "
   ]
  },
  {
   "cell_type": "code",
   "execution_count": null,
   "metadata": {},
   "outputs": [],
   "source": []
  }
 ],
 "metadata": {
  "kernelspec": {
   "display_name": "Python 3",
   "language": "python",
   "name": "python3"
  },
  "language_info": {
   "codemirror_mode": {
    "name": "ipython",
    "version": 3
   },
   "file_extension": ".py",
   "mimetype": "text/x-python",
   "name": "python",
   "nbconvert_exporter": "python",
   "pygments_lexer": "ipython3",
   "version": "3.7.6"
  }
 },
 "nbformat": 4,
 "nbformat_minor": 4
}
