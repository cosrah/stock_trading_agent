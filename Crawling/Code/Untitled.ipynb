{
 "cells": [
  {
   "cell_type": "code",
   "execution_count": 2,
   "metadata": {},
   "outputs": [],
   "source": [
    "import time\n",
    "from selenium import webdriver\n",
    "from bs4 import BeautifulSoup\n",
    "import pandas as pd\n",
    "import numpy as np\n"
   ]
  },
  {
   "cell_type": "code",
   "execution_count": 4,
   "metadata": {},
   "outputs": [],
   "source": [
    "driver = webdriver.Chrome('chromedriver.exe')\n",
    "\n",
    "for i in range(1,5):\n",
    "    url = 'https://www.koreatimes.co.kr/www2/common/search.asp?kwd=samsung+electronics&pageNum={}&pageSize=10&category=TOTAL&sort=&startDate=20140102&endDate=20201118&date=select&srchFd=&range=&author=all&authorData=&mysrchFd=%2FDate'.format(i)\n",
    "    driver.get(url)\n",
    "    time.sleep(1)\n"
   ]
  },
  {
   "cell_type": "code",
   "execution_count": null,
   "metadata": {},
   "outputs": [],
   "source": [
    "페이지 접근\n",
    "driver = webdriver.Chrome('chromedriver.exe')\n",
    "url = 'https://www.google.com/search?q=cj+cheiljedang&sxsrf=ALeKk00yqli5eJ5iL85bxG844NNZfcX9ig:1604976074246&source=lnms&tbm=nws&sa=X&ved=2ahUKEwjy0pzm-fbsAhVJa94KHf1lB24Q_AUoAXoECAYQAw&biw=1140&bih=793&dpr=1.13'\n",
    "time.sleep(1)\n",
    "\n",
    "driver.get(url)\n",
    "time.sleep(1)\n",
    "\n",
    "driver.find_element_by_css_selector('#hdtb-tls').click()\n",
    "\n",
    "driver.find_element_by_css_selector('#ow18 > div.rIbAWc.hide-focus-ring > div > div').click()\n",
    "\n",
    "driver.find_element_by_css_selector('#cdrlnk').click()\n",
    "\n",
    "driver.find_element_by_css_selector('#OouJcb').send_keys('1/2/2014')\n",
    "driver.find_element_by_css_selector('#rzG2be').send_keys('12/30/2019')\n",
    "driver.find_element_by_css_selector('#T3kYXe > g-button').click()\n",
    "\n",
    "article_df = pd.DataFrame(columns = ['Date','Title','Summary'])\n",
    "\n",
    "\n",
    "# 페이지넘기기\n",
    "while True:\n",
    "    try : \n",
    "        driver.find_element_by_css_selector('#pnnext > span.SJajHc.NVbCr').click()\n",
    "        time.sleep(1)\n",
    "        # 페이지 소스 불러오기\n",
    "        html = driver.page_source\n",
    "        soup  = BeautifulSoup(html, 'html.parser')\n",
    "        #제목 추출\n",
    "        title = soup.select('#rso > div > g-card > div > div > div.dbsr > a > div > div.hI5pFf > div.JheGif.nDgy9d')\n",
    "        #요약문 추출\n",
    "        summary = soup.select('#rso > div > g-card > div > div > div.dbsr > a > div > div.hI5pFf > div.yJHHTd > div.Y3v8qd')\n",
    "        #닐짜 추출\n",
    "        date = soup.select('#rso > div > g-card > div > div > div.dbsr > a > div > div.hI5pFf > div.yJHHTd > div.wxp1Sb > span > span > span')\n",
    "        #for 문으로 한번에 dataframe에 넣기 위해서 zip형식으로 만듦\n",
    "        ijk = zip(title, summary, date)\n",
    "        for i,j,k in ijk:\n",
    "            article_df = article_df.append({'Date':k.text, 'Title':i.text, 'Summary':j.text}, ignore_index = True)\n",
    "    \n",
    "    #마지막 페이지일 경우 다음을 누르지 않고 끝낸다.\n",
    "    except: \n",
    "        pd.to_csv(article_df, 'cj_article.csv')\n",
    "        break\n",
    "        "
   ]
  }
 ],
 "metadata": {
  "kernelspec": {
   "display_name": "Python 3",
   "language": "python",
   "name": "python3"
  },
  "language_info": {
   "codemirror_mode": {
    "name": "ipython",
    "version": 3
   },
   "file_extension": ".py",
   "mimetype": "text/x-python",
   "name": "python",
   "nbconvert_exporter": "python",
   "pygments_lexer": "ipython3",
   "version": "3.7.6"
  }
 },
 "nbformat": 4,
 "nbformat_minor": 4
}
