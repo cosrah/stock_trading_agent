{
 "cells": [
  {
   "cell_type": "code",
   "execution_count": 28,
   "metadata": {},
   "outputs": [],
   "source": [
    "import numpy as np\n",
    "import pandas as pd\n",
    "import random"
   ]
  },
  {
   "cell_type": "code",
   "execution_count": 29,
   "metadata": {},
   "outputs": [
    {
     "name": "stdout",
     "output_type": "stream",
     "text": [
      "16 1\n"
     ]
    }
   ],
   "source": [
    "num_stocks = random.randint(0,25)\n",
    "action = random.randint(0,2)\n",
    "print(num_stocks, action)"
   ]
  },
  {
   "cell_type": "code",
   "execution_count": 41,
   "metadata": {},
   "outputs": [
    {
     "data": {
      "text/plain": [
       "[[0, 7], [1, 16], [0, 1], [0, 25], [0, 1]]"
      ]
     },
     "execution_count": 41,
     "metadata": {},
     "output_type": "execute_result"
    }
   ],
   "source": [
    "monkey_trader = []\n",
    "init_stock = 25\n",
    "\n",
    "for i in range(5):\n",
    "    action = random.randint(0,1)\n",
    "#     if action == 2:\n",
    "#         num_stocks = 0\n",
    "    if action == 0:\n",
    "        num_stocks = random.randint(1,25)\n",
    "        init_stock += num_stocks\n",
    "    elif action == 1:\n",
    "        if init_stock == 0:\n",
    "            action = 2\n",
    "            num_stocks = 0\n",
    "        else:\n",
    "            num_stocks = random.randint(1,25)\n",
    "            if num_stocks > init_stock:\n",
    "                num_stocks = init_stock\n",
    "                init_stock -= num_stocks\n",
    "            else:\n",
    "                init_stock -= num_stocks\n",
    "    monkey_trader.append([action,num_stocks])\n",
    "monkey_trader"
   ]
  }
 ],
 "metadata": {
  "kernelspec": {
   "display_name": "Python 3",
   "language": "python",
   "name": "python3"
  },
  "language_info": {
   "codemirror_mode": {
    "name": "ipython",
    "version": 3
   },
   "file_extension": ".py",
   "mimetype": "text/x-python",
   "name": "python",
   "nbconvert_exporter": "python",
   "pygments_lexer": "ipython3",
   "version": "3.7.6"
  }
 },
 "nbformat": 4,
 "nbformat_minor": 4
}
