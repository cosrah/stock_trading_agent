{
 "cells": [
  {
   "cell_type": "code",
   "execution_count": 1,
   "metadata": {},
   "outputs": [],
   "source": [
    "import pandas as pd\n",
    "import numpy as np\n",
    "import datetime"
   ]
  },
  {
   "cell_type": "markdown",
   "metadata": {},
   "source": [
    "# 주가변동에 따른 뉴스기사 labeling"
   ]
  },
  {
   "cell_type": "code",
   "execution_count": 2,
   "metadata": {},
   "outputs": [],
   "source": [
    "# 주식장 오픈 날짜 데이터 불러오기\n",
    "date_df = pd.read_csv('../../../Stock_Data/Data/stock_df/date_list.csv')\n",
    "del date_df['Unnamed: 0']\n",
    "del date_df['article']\n",
    "date_df = date_df[date_df['Date'] <= '2019-12-31']"
   ]
  },
  {
   "cell_type": "markdown",
   "metadata": {},
   "source": [
    "### 여러개 종목 labeling"
   ]
  },
  {
   "cell_type": "code",
   "execution_count": 4,
   "metadata": {
    "scrolled": true
   },
   "outputs": [
    {
     "name": "stderr",
     "output_type": "stream",
     "text": [
      "C:\\Users\\admin\\anaconda3\\lib\\site-packages\\ipykernel_launcher.py:19: SettingWithCopyWarning: \n",
      "A value is trying to be set on a copy of a slice from a DataFrame.\n",
      "Try using .loc[row_indexer,col_indexer] = value instead\n",
      "\n",
      "See the caveats in the documentation: https://pandas.pydata.org/pandas-docs/stable/user_guide/indexing.html#returning-a-view-versus-a-copy\n",
      "C:\\Users\\admin\\anaconda3\\lib\\site-packages\\ipykernel_launcher.py:21: SettingWithCopyWarning: \n",
      "A value is trying to be set on a copy of a slice from a DataFrame.\n",
      "Try using .loc[row_indexer,col_indexer] = value instead\n",
      "\n",
      "See the caveats in the documentation: https://pandas.pydata.org/pandas-docs/stable/user_guide/indexing.html#returning-a-view-versus-a-copy\n",
      "C:\\Users\\admin\\anaconda3\\lib\\site-packages\\pandas\\core\\indexing.py:670: SettingWithCopyWarning: \n",
      "A value is trying to be set on a copy of a slice from a DataFrame\n",
      "\n",
      "See the caveats in the documentation: https://pandas.pydata.org/pandas-docs/stable/user_guide/indexing.html#returning-a-view-versus-a-copy\n",
      "  self._setitem_with_indexer(indexer, value)\n",
      "C:\\Users\\admin\\anaconda3\\lib\\site-packages\\ipykernel_launcher.py:22: SettingWithCopyWarning: \n",
      "A value is trying to be set on a copy of a slice from a DataFrame\n",
      "\n",
      "See the caveats in the documentation: https://pandas.pydata.org/pandas-docs/stable/user_guide/indexing.html#returning-a-view-versus-a-copy\n",
      "C:\\Users\\admin\\anaconda3\\lib\\site-packages\\ipykernel_launcher.py:23: SettingWithCopyWarning: \n",
      "A value is trying to be set on a copy of a slice from a DataFrame\n",
      "\n",
      "See the caveats in the documentation: https://pandas.pydata.org/pandas-docs/stable/user_guide/indexing.html#returning-a-view-versus-a-copy\n",
      "C:\\Users\\admin\\anaconda3\\lib\\site-packages\\ipykernel_launcher.py:25: SettingWithCopyWarning: \n",
      "A value is trying to be set on a copy of a slice from a DataFrame\n",
      "\n",
      "See the caveats in the documentation: https://pandas.pydata.org/pandas-docs/stable/user_guide/indexing.html#returning-a-view-versus-a-copy\n",
      "C:\\Users\\admin\\anaconda3\\lib\\site-packages\\IPython\\core\\interactiveshell.py:3331: SettingWithCopyWarning: \n",
      "A value is trying to be set on a copy of a slice from a DataFrame\n",
      "\n",
      "See the caveats in the documentation: https://pandas.pydata.org/pandas-docs/stable/user_guide/indexing.html#returning-a-view-versus-a-copy\n",
      "  exec(code_obj, self.user_global_ns, self.user_ns)\n",
      "C:\\Users\\admin\\anaconda3\\lib\\site-packages\\ipykernel_launcher.py:29: SettingWithCopyWarning: \n",
      "A value is trying to be set on a copy of a slice from a DataFrame\n",
      "\n",
      "See the caveats in the documentation: https://pandas.pydata.org/pandas-docs/stable/user_guide/indexing.html#returning-a-view-versus-a-copy\n",
      "C:\\Users\\admin\\anaconda3\\lib\\site-packages\\ipykernel_launcher.py:38: SettingWithCopyWarning: \n",
      "A value is trying to be set on a copy of a slice from a DataFrame\n",
      "\n",
      "See the caveats in the documentation: https://pandas.pydata.org/pandas-docs/stable/user_guide/indexing.html#returning-a-view-versus-a-copy\n",
      "C:\\Users\\admin\\anaconda3\\lib\\site-packages\\ipykernel_launcher.py:52: SettingWithCopyWarning: \n",
      "A value is trying to be set on a copy of a slice from a DataFrame\n",
      "\n",
      "See the caveats in the documentation: https://pandas.pydata.org/pandas-docs/stable/user_guide/indexing.html#returning-a-view-versus-a-copy\n"
     ]
    }
   ],
   "source": [
    "# 데이터 불러오기, 전처리\n",
    "kospis = ['GS건설','KB금융','아모레퍼시픽','삼성전자','이마트'] \n",
    "\n",
    "for kospi in kospis:\n",
    "   \n",
    "    # 주가 데이터 불러오기\n",
    "    stock_df = pd.read_csv('../../../Stock_Data/Data/stock_df/stock_df/{}_stock.csv'.format(kospi))\n",
    "    change_df = stock_df[['Date','Close']]\n",
    "    # 주가 변동률 컬럼 생성\n",
    "    rocs = []\n",
    "    for i in range(len(change_df)):\n",
    "        if i != 0:\n",
    "            yesterday = change_df['Close'][(i-1)]\n",
    "            today = change_df['Close'][i]\n",
    "            roc = (today-yesterday)/yesterday\n",
    "            rocs.append(roc)\n",
    "        else:\n",
    "            rocs.append(0)\n",
    "    change_df['RateofChange'] = rocs\n",
    "    # 변동률 < 0: -1, 변동률 > 0: 1로 인코딩\n",
    "    change_df['Label'] = np.zeros(len(change_df),)\n",
    "    change_df['Label'].loc[change_df['RateofChange'] < 0] = -1\n",
    "    change_df['Label'].loc[change_df['RateofChange'] > 0] = 1\n",
    "    # 첫날(2014/01/02)는 전날 데이터가 없으므로 다음날과 동일하게 설정\n",
    "    change_df['Label'][0] = change_df['Label'][1]\n",
    "    # 변동률이 0일 경우, 전날 변동 추이 반영\n",
    "    for i in range(len(change_df)):\n",
    "        if change_df['Label'][i]==0:\n",
    "            change_df['Label'][i] = change_df['Label'][(i-1)]\n",
    "\n",
    "    # 기사데이터 불러오기\n",
    "    article_df = pd.read_csv('../../../Crawling/Data/kospi20/{}_df.csv'.format(kospi))\n",
    "    article_df = article_df.drop_duplicates('Title',keep = 'first')\n",
    "    article_df = article_df.drop(article_df[article_df['Date'] == '2019.12.31'].index)\n",
    "    article_df = article_df.dropna(axis=0)\n",
    "    article_df = article_df.reset_index(drop=True)\n",
    "    for i in range(len(article_df)):\n",
    "        article_df['Date'][i] = article_df['Date'][i].replace('.','-')\n",
    "    del article_df['Unnamed: 0']\n",
    "    # 휴장 날짜 변경\n",
    "    while True:\n",
    "        index = article_df['Date'].isin(date_df['Date']) == False\n",
    "        holidays = article_df['Date'][index]\n",
    "        if len(holidays) == 0:\n",
    "            break\n",
    "        else:\n",
    "            for i in range(len(holidays)):\n",
    "                holiday = holidays.iloc[i]\n",
    "                conv_hd = datetime.datetime.strptime(holiday,'%Y-%m-%d')\n",
    "                not_holiday = str(conv_hd + datetime.timedelta(days=1))[:10]\n",
    "                holidays.iloc[i] = not_holiday\n",
    "            article_df['Date'][index] = holidays \n",
    "    \n",
    "    # 기사와 변동률 테이블 조인 후 내보내기\n",
    "    merge_df = pd.merge(change_df, article_df, left_on=['Date'], right_on=['Date'], how='right')\n",
    "    merge_df.to_csv('../../Data/PriceChange/{}_roc_traindata.csv'.format(kospi))"
   ]
  },
  {
   "cell_type": "markdown",
   "metadata": {},
   "source": [
    "### 한종목 labeling"
   ]
  },
  {
   "cell_type": "code",
   "execution_count": 88,
   "metadata": {
    "scrolled": true
   },
   "outputs": [
    {
     "name": "stderr",
     "output_type": "stream",
     "text": [
      "C:\\Users\\admin\\anaconda3\\lib\\site-packages\\ipykernel_launcher.py:12: SettingWithCopyWarning: \n",
      "A value is trying to be set on a copy of a slice from a DataFrame\n",
      "\n",
      "See the caveats in the documentation: https://pandas.pydata.org/pandas-docs/stable/user_guide/indexing.html#returning-a-view-versus-a-copy\n",
      "  if sys.path[0] == '':\n"
     ]
    }
   ],
   "source": [
    "kospi = ['CJ제일제당']\n",
    "\n",
    "# 주가 데이터 불러오기\n",
    "stock_df = pd.read_csv('../../../Stock_Data/Data/stock_df/stock_df/{}_stock.csv'.format(kospi))\n",
    "change_df = stock_df[['Date','Close']]\n",
    "# 주가 변동률 컬럼 생성\n",
    "rocs = []\n",
    "for i in range(len(change_df)):\n",
    "    if i != 0:\n",
    "        yesterday = change_df['Close'][(i-1)]\n",
    "        today = change_df['Close'][i]\n",
    "        roc = (today-yesterday)/yesterday\n",
    "        rocs.append(roc)\n",
    "    else:\n",
    "        rocs.append(0)\n",
    "change_df['RateofChange'] = rocs\n",
    "# 변동률 < 0: -1, 변동률 > 0: 1로 인코딩\n",
    "change_df['Label'] = np.zeros(len(change_df),)\n",
    "change_df['Label'].loc[change_df['RateofChange'] < 0] = -1\n",
    "change_df['Label'].loc[change_df['RateofChange'] > 0] = 1\n",
    "# 첫날(2014/01/02)는 전날 데이터가 없으므로 다음날과 동일하게 설정\n",
    "change_df['Label'][0] = change_df['Label'][1]\n",
    "# 변동률이 0일 경우, 전날 변동 추이 반영\n",
    "for i in range(len(change_df)):\n",
    "    if change_df['Label'][i]==0:\n",
    "        change_df['Label'][i] = change_df['Label'][(i-1)]\n",
    "\n",
    "# 기사데이터 불러오기\n",
    "article_df = pd.read_csv('../../../Crawling/Data/kospi20/{}_df.csv'.format(kospi))\n",
    "article_df = article_df.drop_duplicates('Title',keep = 'first')\n",
    "article_df = article_df.drop(article_df[article_df['Date'] == '2019.12.31'].index)\n",
    "article_df = article_df.dropna(axis=0)\n",
    "article_df = article_df.reset_index(drop=True)\n",
    "for i in range(len(article_df)):\n",
    "    article_df['Date'][i] = article_df['Date'][i].replace('.','-')\n",
    "del article_df['Unnamed: 0']\n",
    "# 휴장 날짜 변경\n",
    "while True:\n",
    "    index = article_df['Date'].isin(date_df['Date']) == False\n",
    "    holidays = article_df['Date'][index]\n",
    "    if len(holidays) == 0:\n",
    "        break\n",
    "    else:\n",
    "        for i in range(len(holidays)):\n",
    "            holiday = holidays.iloc[i]\n",
    "            conv_hd = datetime.datetime.strptime(holiday,'%Y-%m-%d')\n",
    "            not_holiday = str(conv_hd + datetime.timedelta(days=1))[:10]\n",
    "            holidays.iloc[i] = not_holiday\n",
    "        article_df['Date'][index] = holidays \n",
    "\n",
    "# 기사와 변동률 테이블 조인 후 내보내기\n",
    "merge_df = pd.merge(change_df, article_df, left_on=['Date'], right_on=['Date'], how='right')\n",
    "merge_df.to_csv('../../Data/PriceChange/{}_roc_traindata.csv'.format(kospi))"
   ]
  },
  {
   "cell_type": "code",
   "execution_count": null,
   "metadata": {},
   "outputs": [],
   "source": []
  },
  {
   "cell_type": "code",
   "execution_count": null,
   "metadata": {},
   "outputs": [],
   "source": []
  }
 ],
 "metadata": {
  "kernelspec": {
   "display_name": "Python 3",
   "language": "python",
   "name": "python3"
  },
  "language_info": {
   "codemirror_mode": {
    "name": "ipython",
    "version": 3
   },
   "file_extension": ".py",
   "mimetype": "text/x-python",
   "name": "python",
   "nbconvert_exporter": "python",
   "pygments_lexer": "ipython3",
   "version": "3.7.6"
  }
 },
 "nbformat": 4,
 "nbformat_minor": 4
}
