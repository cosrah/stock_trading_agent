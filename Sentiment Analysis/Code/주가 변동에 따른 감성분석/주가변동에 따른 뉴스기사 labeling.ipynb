{
 "cells": [
  {
   "cell_type": "code",
   "execution_count": 103,
   "metadata": {},
   "outputs": [],
   "source": [
    "import pandas as pd\n",
    "import numpy as np\n",
    "import datetime"
   ]
  },
  {
   "cell_type": "markdown",
   "metadata": {},
   "source": [
    "### 주가변동에 따른 뉴스기사 labeling"
   ]
  },
  {
   "cell_type": "code",
   "execution_count": 88,
   "metadata": {
    "scrolled": true
   },
   "outputs": [
    {
     "name": "stderr",
     "output_type": "stream",
     "text": [
      "C:\\Users\\admin\\anaconda3\\lib\\site-packages\\ipykernel_launcher.py:12: SettingWithCopyWarning: \n",
      "A value is trying to be set on a copy of a slice from a DataFrame\n",
      "\n",
      "See the caveats in the documentation: https://pandas.pydata.org/pandas-docs/stable/user_guide/indexing.html#returning-a-view-versus-a-copy\n",
      "  if sys.path[0] == '':\n"
     ]
    }
   ],
   "source": [
    "# 데이터 불러오기, 전처리\n",
    "kospi = 'CJ제일제당'\n",
    "stock_df = pd.read_csv('../../../Stock_Data/Data/stock_df/stock_df/{}_stock.csv'.format(kospi))\n",
    "change_df = stock_df[['Date','Close']]\n",
    "\n",
    "article_df = pd.read_csv('../../../Crawling/Data/kospi20/{}_df.csv'.format(kospi))\n",
    "article_df = article_df.drop_duplicates('Title',keep = 'first')\n",
    "article_df = article_df.drop(article_df[article_df['Date'] == '2019.12.31'].index)\n",
    "article_df = article_df.dropna(axis=0)\n",
    "article_df = article_df.reset_index(drop=True)\n",
    "for i in range(len(article_df)):\n",
    "    article_df['Date'][i] = article_df['Date'][i].replace('.','-')\n",
    "del article_df['Unnamed: 0']\n"
   ]
  },
  {
   "cell_type": "code",
   "execution_count": 104,
   "metadata": {},
   "outputs": [
    {
     "name": "stderr",
     "output_type": "stream",
     "text": [
      "C:\\Users\\admin\\anaconda3\\lib\\site-packages\\ipykernel_launcher.py:19: SettingWithCopyWarning: \n",
      "A value is trying to be set on a copy of a slice from a DataFrame\n",
      "\n",
      "See the caveats in the documentation: https://pandas.pydata.org/pandas-docs/stable/user_guide/indexing.html#returning-a-view-versus-a-copy\n"
     ]
    }
   ],
   "source": [
    "# 워킹데이 리스트 불러오기\n",
    "date_df = pd.read_csv('../../../Stock_Data/Data/stock_df/date_list.csv')\n",
    "del date_df['Unnamed: 0']\n",
    "del date_df['article']\n",
    "date_df = date_df[date_df['Date'] <= '2019-12-31']\n",
    "\n",
    "while True:\n",
    "    index = article_df['Date'].isin(date_df['Date']) == False\n",
    "    holidays = article_df['Date'][index]\n",
    "    #print(len(holidays))\n",
    "    if len(holidays) == 0:\n",
    "        break\n",
    "    else:\n",
    "        for i in range(len(holidays)):\n",
    "            holiday = holidays.iloc[i]\n",
    "            conv_hd = datetime.datetime.strptime(holiday,'%Y-%m-%d')\n",
    "            not_holiday = str(conv_hd + datetime.timedelta(days=1))[:10]\n",
    "            holidays.iloc[i] = not_holiday\n",
    "        article_df['Date'][index] = holidays "
   ]
  },
  {
   "cell_type": "code",
   "execution_count": 112,
   "metadata": {},
   "outputs": [
    {
     "data": {
      "text/html": [
       "<div>\n",
       "<style scoped>\n",
       "    .dataframe tbody tr th:only-of-type {\n",
       "        vertical-align: middle;\n",
       "    }\n",
       "\n",
       "    .dataframe tbody tr th {\n",
       "        vertical-align: top;\n",
       "    }\n",
       "\n",
       "    .dataframe thead th {\n",
       "        text-align: right;\n",
       "    }\n",
       "</style>\n",
       "<table border=\"1\" class=\"dataframe\">\n",
       "  <thead>\n",
       "    <tr style=\"text-align: right;\">\n",
       "      <th></th>\n",
       "      <th>Title</th>\n",
       "      <th>Date</th>\n",
       "      <th>Category</th>\n",
       "    </tr>\n",
       "  </thead>\n",
       "  <tbody>\n",
       "    <tr>\n",
       "      <th>0</th>\n",
       "      <td>에너지공단, '2019년 ESP 성과공유 워크숍' 개최</td>\n",
       "      <td>2019-11-22</td>\n",
       "      <td>2.0</td>\n",
       "    </tr>\n",
       "    <tr>\n",
       "      <th>1</th>\n",
       "      <td>[공직자 재산공개] 조국 민정수석, '1800만원 VS 1억원' 아까운 선택(종합)</td>\n",
       "      <td>2018-03-29</td>\n",
       "      <td>2.0</td>\n",
       "    </tr>\n",
       "    <tr>\n",
       "      <th>2</th>\n",
       "      <td>[공직자 재산공개] 조국 민정수석, '1800만원 VS 1억원' 아까운 선택</td>\n",
       "      <td>2018-03-29</td>\n",
       "      <td>2.0</td>\n",
       "    </tr>\n",
       "    <tr>\n",
       "      <th>3</th>\n",
       "      <td>CJ제일제당, 임산부 직원 배려하는 조직문화 강화</td>\n",
       "      <td>2018-03-12</td>\n",
       "      <td>2.0</td>\n",
       "    </tr>\n",
       "    <tr>\n",
       "      <th>4</th>\n",
       "      <td>'이건희 동영상' 촬영·협박 CJ 前부장 1심서 징역 4년6개월</td>\n",
       "      <td>2017-08-25</td>\n",
       "      <td>2.0</td>\n",
       "    </tr>\n",
       "    <tr>\n",
       "      <th>...</th>\n",
       "      <td>...</td>\n",
       "      <td>...</td>\n",
       "      <td>...</td>\n",
       "    </tr>\n",
       "    <tr>\n",
       "      <th>2413</th>\n",
       "      <td>CJ家 장남 이선호 씨, 이다희 전 아나운서와 비공개 결혼…지인 소개로 만나</td>\n",
       "      <td>2018-10-08</td>\n",
       "      <td>11.0</td>\n",
       "    </tr>\n",
       "    <tr>\n",
       "      <th>2414</th>\n",
       "      <td>'윰블리' 정유미, 광고계 블루칩 등극, 윤식당 효과 '톡톡'</td>\n",
       "      <td>2017-05-24</td>\n",
       "      <td>11.0</td>\n",
       "    </tr>\n",
       "    <tr>\n",
       "      <th>2415</th>\n",
       "      <td>[동계 AG] 권이준, 스노보드 남자 하프파이프 은메달</td>\n",
       "      <td>2017-02-27</td>\n",
       "      <td>11.0</td>\n",
       "    </tr>\n",
       "    <tr>\n",
       "      <th>2416</th>\n",
       "      <td>CJ 채용, 18일 오후 6시 마감…지원 자격과 채용 분야는?</td>\n",
       "      <td>2014-03-17</td>\n",
       "      <td>11.0</td>\n",
       "    </tr>\n",
       "    <tr>\n",
       "      <th>2417</th>\n",
       "      <td>[소치]이광기·김호준, 스노보드 하프파이프 준결선행 좌절</td>\n",
       "      <td>2014-02-11</td>\n",
       "      <td>11.0</td>\n",
       "    </tr>\n",
       "  </tbody>\n",
       "</table>\n",
       "<p>2418 rows × 3 columns</p>\n",
       "</div>"
      ],
      "text/plain": [
       "                                               Title        Date  Category\n",
       "0                     에너지공단, '2019년 ESP 성과공유 워크숍' 개최  2019-11-22       2.0\n",
       "1     [공직자 재산공개] 조국 민정수석, '1800만원 VS 1억원' 아까운 선택(종합)  2018-03-29       2.0\n",
       "2         [공직자 재산공개] 조국 민정수석, '1800만원 VS 1억원' 아까운 선택  2018-03-29       2.0\n",
       "3                        CJ제일제당, 임산부 직원 배려하는 조직문화 강화  2018-03-12       2.0\n",
       "4                '이건희 동영상' 촬영·협박 CJ 前부장 1심서 징역 4년6개월  2017-08-25       2.0\n",
       "...                                              ...         ...       ...\n",
       "2413      CJ家 장남 이선호 씨, 이다희 전 아나운서와 비공개 결혼…지인 소개로 만나  2018-10-08      11.0\n",
       "2414              '윰블리' 정유미, 광고계 블루칩 등극, 윤식당 효과 '톡톡'  2017-05-24      11.0\n",
       "2415                  [동계 AG] 권이준, 스노보드 남자 하프파이프 은메달  2017-02-27      11.0\n",
       "2416              CJ 채용, 18일 오후 6시 마감…지원 자격과 채용 분야는?  2014-03-17      11.0\n",
       "2417                 [소치]이광기·김호준, 스노보드 하프파이프 준결선행 좌절  2014-02-11      11.0\n",
       "\n",
       "[2418 rows x 3 columns]"
      ]
     },
     "execution_count": 112,
     "metadata": {},
     "output_type": "execute_result"
    }
   ],
   "source": [
    "article_df"
   ]
  },
  {
   "cell_type": "code",
   "execution_count": 89,
   "metadata": {},
   "outputs": [
    {
     "name": "stderr",
     "output_type": "stream",
     "text": [
      "C:\\Users\\admin\\anaconda3\\lib\\site-packages\\ipykernel_launcher.py:12: SettingWithCopyWarning: \n",
      "A value is trying to be set on a copy of a slice from a DataFrame.\n",
      "Try using .loc[row_indexer,col_indexer] = value instead\n",
      "\n",
      "See the caveats in the documentation: https://pandas.pydata.org/pandas-docs/stable/user_guide/indexing.html#returning-a-view-versus-a-copy\n",
      "  if sys.path[0] == '':\n"
     ]
    }
   ],
   "source": [
    "# 주가 변동률 컬럼 생성\n",
    "\n",
    "rocs = []\n",
    "for i in range(len(change_df)):\n",
    "    if i != 0:\n",
    "        yesterday = change_df['Close'][(i-1)]\n",
    "        today = change_df['Close'][i]\n",
    "        roc = (today-yesterday)/yesterday\n",
    "        rocs.append(roc)\n",
    "    else:\n",
    "        rocs.append(0)\n",
    "change_df['RateofChange'] = rocs"
   ]
  },
  {
   "cell_type": "code",
   "execution_count": 96,
   "metadata": {},
   "outputs": [
    {
     "name": "stderr",
     "output_type": "stream",
     "text": [
      "C:\\Users\\admin\\anaconda3\\lib\\site-packages\\ipykernel_launcher.py:2: SettingWithCopyWarning: \n",
      "A value is trying to be set on a copy of a slice from a DataFrame.\n",
      "Try using .loc[row_indexer,col_indexer] = value instead\n",
      "\n",
      "See the caveats in the documentation: https://pandas.pydata.org/pandas-docs/stable/user_guide/indexing.html#returning-a-view-versus-a-copy\n",
      "  \n",
      "C:\\Users\\admin\\anaconda3\\lib\\site-packages\\ipykernel_launcher.py:3: SettingWithCopyWarning: \n",
      "A value is trying to be set on a copy of a slice from a DataFrame\n",
      "\n",
      "See the caveats in the documentation: https://pandas.pydata.org/pandas-docs/stable/user_guide/indexing.html#returning-a-view-versus-a-copy\n",
      "  This is separate from the ipykernel package so we can avoid doing imports until\n",
      "C:\\Users\\admin\\anaconda3\\lib\\site-packages\\ipykernel_launcher.py:4: SettingWithCopyWarning: \n",
      "A value is trying to be set on a copy of a slice from a DataFrame\n",
      "\n",
      "See the caveats in the documentation: https://pandas.pydata.org/pandas-docs/stable/user_guide/indexing.html#returning-a-view-versus-a-copy\n",
      "  after removing the cwd from sys.path.\n",
      "C:\\Users\\admin\\anaconda3\\lib\\site-packages\\ipykernel_launcher.py:7: SettingWithCopyWarning: \n",
      "A value is trying to be set on a copy of a slice from a DataFrame\n",
      "\n",
      "See the caveats in the documentation: https://pandas.pydata.org/pandas-docs/stable/user_guide/indexing.html#returning-a-view-versus-a-copy\n",
      "  import sys\n",
      "C:\\Users\\admin\\anaconda3\\lib\\site-packages\\ipykernel_launcher.py:12: SettingWithCopyWarning: \n",
      "A value is trying to be set on a copy of a slice from a DataFrame\n",
      "\n",
      "See the caveats in the documentation: https://pandas.pydata.org/pandas-docs/stable/user_guide/indexing.html#returning-a-view-versus-a-copy\n",
      "  if sys.path[0] == '':\n"
     ]
    }
   ],
   "source": [
    "# 변동률 < 0: -1, 변동률 > 0: 1로 인코딩\n",
    "change_df['Label'] = np.zeros(len(change_df),)\n",
    "change_df['Label'].loc[change_df['RateofChange'] < 0] = -1\n",
    "change_df['Label'].loc[change_df['RateofChange'] > 0] = 1\n",
    "\n",
    "# 첫날(2014/01/02)는 전날 데이터가 없으므로 다음날과 동일하게 설정\n",
    "change_df['Label'][0] = change_df['Label'][1]\n",
    "\n",
    "# 변동률이 0일 경우, 전날 변동 추이 반영\n",
    "for i in range(len(change_df)):\n",
    "    if change_df['Label'][i]==0:\n",
    "        change_df['Label'][i] = change_df['Label'][(i-1)]"
   ]
  },
  {
   "cell_type": "code",
   "execution_count": 97,
   "metadata": {
    "scrolled": true
   },
   "outputs": [
    {
     "data": {
      "text/plain": [
       "array([-1.,  1.])"
      ]
     },
     "execution_count": 97,
     "metadata": {},
     "output_type": "execute_result"
    }
   ],
   "source": [
    "np.unique(change_df.Label)"
   ]
  },
  {
   "cell_type": "code",
   "execution_count": 116,
   "metadata": {},
   "outputs": [],
   "source": [
    "merge_df = pd.merge(change_df, article_df, left_on=['Date'], right_on=['Date'], how='right')"
   ]
  },
  {
   "cell_type": "code",
   "execution_count": 120,
   "metadata": {
    "scrolled": true
   },
   "outputs": [],
   "source": [
    "df_cj = merge_df[['Title','Label']]\n",
    "df_cj.to_csv('../../Data/PriceChange/CJ_PC_traindata.csv')"
   ]
  },
  {
   "cell_type": "code",
   "execution_count": 115,
   "metadata": {},
   "outputs": [],
   "source": [
    "from keras.models import Sequential\n",
    "from keras.layers import Embedding, Dense, LSTM\n",
    "from sklearn.preprocessing import LabelEncoder\n",
    "from sklearn.model_selection import KFold\n",
    "from keras.preprocessing.sequence import pad_sequences\n",
    "import tensorflow as tf"
   ]
  },
  {
   "cell_type": "code",
   "execution_count": 119,
   "metadata": {},
   "outputs": [
    {
     "data": {
      "text/plain": [
       "2419"
      ]
     },
     "execution_count": 119,
     "metadata": {},
     "output_type": "execute_result"
    }
   ],
   "source": [
    "len(df_cj)"
   ]
  },
  {
   "cell_type": "code",
   "execution_count": null,
   "metadata": {},
   "outputs": [],
   "source": []
  },
  {
   "cell_type": "code",
   "execution_count": null,
   "metadata": {},
   "outputs": [],
   "source": []
  }
 ],
 "metadata": {
  "kernelspec": {
   "display_name": "Python 3",
   "language": "python",
   "name": "python3"
  },
  "language_info": {
   "codemirror_mode": {
    "name": "ipython",
    "version": 3
   },
   "file_extension": ".py",
   "mimetype": "text/x-python",
   "name": "python",
   "nbconvert_exporter": "python",
   "pygments_lexer": "ipython3",
   "version": "3.7.6"
  }
 },
 "nbformat": 4,
 "nbformat_minor": 4
}
