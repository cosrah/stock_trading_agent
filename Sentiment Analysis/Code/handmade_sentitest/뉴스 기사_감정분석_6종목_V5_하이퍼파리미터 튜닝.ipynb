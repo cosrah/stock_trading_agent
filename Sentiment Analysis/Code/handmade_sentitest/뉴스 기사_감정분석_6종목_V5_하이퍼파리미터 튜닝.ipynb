{
 "cells": [
  {
   "cell_type": "code",
   "execution_count": 76,
   "metadata": {},
   "outputs": [],
   "source": [
    "from keras.models import Sequential\n",
    "from keras.layers import Embedding, Dense, LSTM\n",
    "from sklearn.preprocessing import LabelEncoder\n",
    "from sklearn.model_selection import KFold\n",
    "from keras.preprocessing.sequence import pad_sequences"
   ]
  },
  {
   "cell_type": "code",
   "execution_count": 77,
   "metadata": {},
   "outputs": [],
   "source": [
    "import pandas as pd\n",
    "import numpy as np\n",
    "import tensorflow as tf"
   ]
  },
  {
   "cell_type": "markdown",
   "metadata": {},
   "source": [
    "# 데이터 불러오기\n",
    "\n",
    "- Human Labeling된 데이터인 SKT , 현대백화점, 현대모비스, S-Oil, 기업은행, 셀트리온 데이터 셋을 이용하여 각 정확도를 올린다.\n",
    "\n",
    "- 순서\n",
    "    1. 데이터 불러오기\n",
    "    2. 데이터 분리\n",
    "    3. Title 의 토큰화 및 불용어 제거\n",
    "    4. Label 의 원핫인코딩\n",
    "    5. 길이가 다른 title의 정형화\n",
    "    6. LSTM을 통한 딥러닝\n",
    "    7. 정확도 확인"
   ]
  },
  {
   "cell_type": "code",
   "execution_count": 86,
   "metadata": {},
   "outputs": [],
   "source": [
    "#df_cj = pd.read_csv('./trainingset/CJ제일제당_traintestdata_3300.csv')"
   ]
  },
  {
   "cell_type": "code",
   "execution_count": 88,
   "metadata": {},
   "outputs": [],
   "source": [
    "# import sklearn\n",
    "# from sklearn.utils import shuffle"
   ]
  },
  {
   "cell_type": "code",
   "execution_count": 89,
   "metadata": {},
   "outputs": [],
   "source": [
    "# df_cj = shuffle(df_cj)"
   ]
  },
  {
   "cell_type": "code",
   "execution_count": 91,
   "metadata": {},
   "outputs": [
    {
     "data": {
      "text/html": [
       "<div>\n",
       "<style scoped>\n",
       "    .dataframe tbody tr th:only-of-type {\n",
       "        vertical-align: middle;\n",
       "    }\n",
       "\n",
       "    .dataframe tbody tr th {\n",
       "        vertical-align: top;\n",
       "    }\n",
       "\n",
       "    .dataframe thead th {\n",
       "        text-align: right;\n",
       "    }\n",
       "</style>\n",
       "<table border=\"1\" class=\"dataframe\">\n",
       "  <thead>\n",
       "    <tr style=\"text-align: right;\">\n",
       "      <th></th>\n",
       "      <th>Unnamed: 0</th>\n",
       "      <th>Title</th>\n",
       "      <th>Date</th>\n",
       "      <th>Category</th>\n",
       "      <th>label</th>\n",
       "    </tr>\n",
       "  </thead>\n",
       "  <tbody>\n",
       "    <tr>\n",
       "      <th>2306</th>\n",
       "      <td>2306</td>\n",
       "      <td>CJ제일제당, 농협중앙회와 상생협력 양해각서 체결</td>\n",
       "      <td>2015.03.23</td>\n",
       "      <td>4</td>\n",
       "      <td>1</td>\n",
       "    </tr>\n",
       "    <tr>\n",
       "      <th>1144</th>\n",
       "      <td>1144</td>\n",
       "      <td>CJ제일제당 “글로벌 톱 수준 경영 인프라 구축”…세계 1위 목표</td>\n",
       "      <td>2019.07.04</td>\n",
       "      <td>4</td>\n",
       "      <td>1</td>\n",
       "    </tr>\n",
       "    <tr>\n",
       "      <th>2066</th>\n",
       "      <td>2066</td>\n",
       "      <td>햇반 컵반, 제주항공 운항 노선에 판매 개시</td>\n",
       "      <td>2015.12.02</td>\n",
       "      <td>4</td>\n",
       "      <td>0</td>\n",
       "    </tr>\n",
       "    <tr>\n",
       "      <th>2031</th>\n",
       "      <td>2031</td>\n",
       "      <td>새해 결심, 아침밥으로 건강 챙기기</td>\n",
       "      <td>2016.01.10</td>\n",
       "      <td>4</td>\n",
       "      <td>0</td>\n",
       "    </tr>\n",
       "    <tr>\n",
       "      <th>893</th>\n",
       "      <td>893</td>\n",
       "      <td>CJ제일제당, ‘한뿌리 맛있는 건강즙’ 4종 출시</td>\n",
       "      <td>2016.04.27</td>\n",
       "      <td>3</td>\n",
       "      <td>1</td>\n",
       "    </tr>\n",
       "    <tr>\n",
       "      <th>...</th>\n",
       "      <td>...</td>\n",
       "      <td>...</td>\n",
       "      <td>...</td>\n",
       "      <td>...</td>\n",
       "      <td>...</td>\n",
       "    </tr>\n",
       "    <tr>\n",
       "      <th>2581</th>\n",
       "      <td>2581</td>\n",
       "      <td>CJ제일제당, 마케팅리서치센터 'Trend전략팀'으로 개편</td>\n",
       "      <td>2014.03.10</td>\n",
       "      <td>4</td>\n",
       "      <td>1</td>\n",
       "    </tr>\n",
       "    <tr>\n",
       "      <th>3242</th>\n",
       "      <td>3242</td>\n",
       "      <td>전남대 동물자원학부, 레드 &amp; 화이트 페스티벌 ‘눈길’</td>\n",
       "      <td>2017.09.28</td>\n",
       "      <td>8</td>\n",
       "      <td>0</td>\n",
       "    </tr>\n",
       "    <tr>\n",
       "      <th>2803</th>\n",
       "      <td>2803</td>\n",
       "      <td>‘비비고 가정간편식’으로 든든한 아침식사…체험단에 제품 증정</td>\n",
       "      <td>2018.03.26</td>\n",
       "      <td>5</td>\n",
       "      <td>0</td>\n",
       "    </tr>\n",
       "    <tr>\n",
       "      <th>1368</th>\n",
       "      <td>1368</td>\n",
       "      <td>[신년사]손경식 CJ 회장 “압도적 역량을 바탕으로 공격적인 해외사업?M&amp;A 추진”</td>\n",
       "      <td>2018.01.02</td>\n",
       "      <td>4</td>\n",
       "      <td>1</td>\n",
       "    </tr>\n",
       "    <tr>\n",
       "      <th>897</th>\n",
       "      <td>897</td>\n",
       "      <td>식품업계, '영양 성분·제품 개발 스토리' 담은 이색 제품 인기</td>\n",
       "      <td>2016.04.24</td>\n",
       "      <td>3</td>\n",
       "      <td>0</td>\n",
       "    </tr>\n",
       "  </tbody>\n",
       "</table>\n",
       "<p>2700 rows × 5 columns</p>\n",
       "</div>"
      ],
      "text/plain": [
       "      Unnamed: 0                                           Title        Date  \\\n",
       "2306        2306                     CJ제일제당, 농협중앙회와 상생협력 양해각서 체결  2015.03.23   \n",
       "1144        1144            CJ제일제당 “글로벌 톱 수준 경영 인프라 구축”…세계 1위 목표  2019.07.04   \n",
       "2066        2066                        햇반 컵반, 제주항공 운항 노선에 판매 개시  2015.12.02   \n",
       "2031        2031                             새해 결심, 아침밥으로 건강 챙기기  2016.01.10   \n",
       "893          893                     CJ제일제당, ‘한뿌리 맛있는 건강즙’ 4종 출시  2016.04.27   \n",
       "...          ...                                             ...         ...   \n",
       "2581        2581                CJ제일제당, 마케팅리서치센터 'Trend전략팀'으로 개편  2014.03.10   \n",
       "3242        3242                  전남대 동물자원학부, 레드 & 화이트 페스티벌 ‘눈길’  2017.09.28   \n",
       "2803        2803               ‘비비고 가정간편식’으로 든든한 아침식사…체험단에 제품 증정  2018.03.26   \n",
       "1368        1368  [신년사]손경식 CJ 회장 “압도적 역량을 바탕으로 공격적인 해외사업?M&A 추진”  2018.01.02   \n",
       "897          897             식품업계, '영양 성분·제품 개발 스토리' 담은 이색 제품 인기  2016.04.24   \n",
       "\n",
       "      Category label  \n",
       "2306         4     1  \n",
       "1144         4     1  \n",
       "2066         4     0  \n",
       "2031         4     0  \n",
       "893          3     1  \n",
       "...        ...   ...  \n",
       "2581         4     1  \n",
       "3242         8     0  \n",
       "2803         5     0  \n",
       "1368         4     1  \n",
       "897          3     0  \n",
       "\n",
       "[2700 rows x 5 columns]"
      ]
     },
     "execution_count": 91,
     "metadata": {},
     "output_type": "execute_result"
    }
   ],
   "source": [
    "# df_train_cj = df_cj.iloc[:2700]\n",
    "# df_test_cj = df_cj.iloc[2700:]\n",
    "# df_train_cj"
   ]
  },
  {
   "cell_type": "code",
   "execution_count": 97,
   "metadata": {},
   "outputs": [],
   "source": [
    "df_skt = pd.read_csv('./trainingset/SKT_traindata_482.csv')\n",
    "df_train_skt = df_skt.iloc[:200]\n",
    "df_test_skt = df_skt.iloc[200:]"
   ]
  },
  {
   "cell_type": "code",
   "execution_count": 98,
   "metadata": {},
   "outputs": [
    {
     "data": {
      "text/html": [
       "<div>\n",
       "<style scoped>\n",
       "    .dataframe tbody tr th:only-of-type {\n",
       "        vertical-align: middle;\n",
       "    }\n",
       "\n",
       "    .dataframe tbody tr th {\n",
       "        vertical-align: top;\n",
       "    }\n",
       "\n",
       "    .dataframe thead th {\n",
       "        text-align: right;\n",
       "    }\n",
       "</style>\n",
       "<table border=\"1\" class=\"dataframe\">\n",
       "  <thead>\n",
       "    <tr style=\"text-align: right;\">\n",
       "      <th></th>\n",
       "      <th>id</th>\n",
       "      <th>Title</th>\n",
       "      <th>label</th>\n",
       "    </tr>\n",
       "  </thead>\n",
       "  <tbody>\n",
       "    <tr>\n",
       "      <th>200</th>\n",
       "      <td>0</td>\n",
       "      <td>정부, 구글 지도 해외 반출 불허 구글이 보완책 수용 안해 (상보)</td>\n",
       "      <td>0</td>\n",
       "    </tr>\n",
       "    <tr>\n",
       "      <th>201</th>\n",
       "      <td>1</td>\n",
       "      <td>미래부, 2차 유료방송 발전방안 공개토론회 개최</td>\n",
       "      <td>0</td>\n",
       "    </tr>\n",
       "    <tr>\n",
       "      <th>202</th>\n",
       "      <td>2</td>\n",
       "      <td>SKT, 전용폰 구입 고객에 T1 롤드컵 우승 기념품 증정</td>\n",
       "      <td>1</td>\n",
       "    </tr>\n",
       "    <tr>\n",
       "      <th>203</th>\n",
       "      <td>3</td>\n",
       "      <td>'갤S7'사면 페이백 50만원 준다더니제2의 거성 모바일 사태?</td>\n",
       "      <td>0</td>\n",
       "    </tr>\n",
       "    <tr>\n",
       "      <th>204</th>\n",
       "      <td>4</td>\n",
       "      <td>케이블TV 가입자도 내년 1월부터 SKT 요금할인받는다</td>\n",
       "      <td>1</td>\n",
       "    </tr>\n",
       "    <tr>\n",
       "      <th>...</th>\n",
       "      <td>...</td>\n",
       "      <td>...</td>\n",
       "      <td>...</td>\n",
       "    </tr>\n",
       "    <tr>\n",
       "      <th>476</th>\n",
       "      <td>78</td>\n",
       "      <td>스웨덴 에릭슨\"4차 산업혁명 협력할 韓 스타트업 찾습니다 ,0\\r\\n4187,SKT...</td>\n",
       "      <td>1</td>\n",
       "    </tr>\n",
       "    <tr>\n",
       "      <th>477</th>\n",
       "      <td>79</td>\n",
       "      <td>CJ헬로비전 작년 영업이익 59.4% 감소한 429억원…\"M&amp;A 등 불확실성 해소,...</td>\n",
       "      <td>1</td>\n",
       "    </tr>\n",
       "    <tr>\n",
       "      <th>478</th>\n",
       "      <td>80</td>\n",
       "      <td>SKT 2019년까지 11조원 투자</td>\n",
       "      <td>1</td>\n",
       "    </tr>\n",
       "    <tr>\n",
       "      <th>479</th>\n",
       "      <td>81</td>\n",
       "      <td>통신사 커버리지맵 정확도 SKT 1위 '오차 0%'</td>\n",
       "      <td>1</td>\n",
       "    </tr>\n",
       "    <tr>\n",
       "      <th>480</th>\n",
       "      <td>82</td>\n",
       "      <td>크리스마스 맞이 스마트폰 가격 인하…\"연말 특수 기대,1\\r\\n4384,CJ헬로비전...</td>\n",
       "      <td>1</td>\n",
       "    </tr>\n",
       "  </tbody>\n",
       "</table>\n",
       "<p>281 rows × 3 columns</p>\n",
       "</div>"
      ],
      "text/plain": [
       "     id                                              Title  label\n",
       "200   0              정부, 구글 지도 해외 반출 불허 구글이 보완책 수용 안해 (상보)      0\n",
       "201   1                         미래부, 2차 유료방송 발전방안 공개토론회 개최      0\n",
       "202   2                   SKT, 전용폰 구입 고객에 T1 롤드컵 우승 기념품 증정      1\n",
       "203   3                '갤S7'사면 페이백 50만원 준다더니제2의 거성 모바일 사태?      0\n",
       "204   4                     케이블TV 가입자도 내년 1월부터 SKT 요금할인받는다      1\n",
       "..   ..                                                ...    ...\n",
       "476  78  스웨덴 에릭슨\"4차 산업혁명 협력할 韓 스타트업 찾습니다 ,0\\r\\n4187,SKT...      1\n",
       "477  79  CJ헬로비전 작년 영업이익 59.4% 감소한 429억원…\"M&A 등 불확실성 해소,...      1\n",
       "478  80                                SKT 2019년까지 11조원 투자      1\n",
       "479  81                       통신사 커버리지맵 정확도 SKT 1위 '오차 0%'      1\n",
       "480  82  크리스마스 맞이 스마트폰 가격 인하…\"연말 특수 기대,1\\r\\n4384,CJ헬로비전...      1\n",
       "\n",
       "[281 rows x 3 columns]"
      ]
     },
     "execution_count": 98,
     "metadata": {},
     "output_type": "execute_result"
    }
   ],
   "source": [
    "df_test_skt"
   ]
  },
  {
   "cell_type": "code",
   "execution_count": 99,
   "metadata": {},
   "outputs": [],
   "source": [
    "df_mobis = pd.read_csv('./trainingset/현대모비스_traindata_200.csv', encoding = 'CP949')\n",
    "# df_mobis"
   ]
  },
  {
   "cell_type": "code",
   "execution_count": 100,
   "metadata": {},
   "outputs": [],
   "source": [
    "df_hb = pd.read_csv('./trainingset/현대백화점_traindata_200.csv')\n",
    "# df_hb"
   ]
  },
  {
   "cell_type": "code",
   "execution_count": 101,
   "metadata": {},
   "outputs": [],
   "source": [
    "df_S_Oil = pd.read_csv('./trainingset/S-Oil_traindata_200.csv')\n",
    "df_S_Oil = df_S_Oil.head(200)\n",
    "# df_S_Oil.head(200)"
   ]
  },
  {
   "cell_type": "code",
   "execution_count": 102,
   "metadata": {},
   "outputs": [],
   "source": [
    "df_IBK = pd.read_csv('./trainingset/기업은행_traindata_200.csv')\n",
    "# df_IBK"
   ]
  },
  {
   "cell_type": "code",
   "execution_count": 103,
   "metadata": {},
   "outputs": [],
   "source": [
    "df_celt = pd.read_csv('./trainingset/셀트리온_traindata_200.csv')\n",
    "df_celt=df_celt.head(200)\n",
    "#df_celt"
   ]
  },
  {
   "cell_type": "code",
   "execution_count": 104,
   "metadata": {},
   "outputs": [],
   "source": [
    "df_KAL = pd.read_csv('./trainingset/대한항공_testdata_300.csv', header=None)\n",
    "df_celt=df_celt.head(200)\n",
    "# df_KAL=df_KAL.head(300)\n",
    "df_KAL=df_KAL.head(299)\n",
    "df_KAL.columns = ['id','Title','label']\n",
    "# df_KAL"
   ]
  },
  {
   "cell_type": "code",
   "execution_count": 105,
   "metadata": {},
   "outputs": [],
   "source": [
    "df = pd.concat([df_train_skt, df_mobis, df_hb, df_S_Oil,df_IBK,df_celt])"
   ]
  },
  {
   "cell_type": "code",
   "execution_count": 106,
   "metadata": {},
   "outputs": [
    {
     "data": {
      "text/html": [
       "<div>\n",
       "<style scoped>\n",
       "    .dataframe tbody tr th:only-of-type {\n",
       "        vertical-align: middle;\n",
       "    }\n",
       "\n",
       "    .dataframe tbody tr th {\n",
       "        vertical-align: top;\n",
       "    }\n",
       "\n",
       "    .dataframe thead th {\n",
       "        text-align: right;\n",
       "    }\n",
       "</style>\n",
       "<table border=\"1\" class=\"dataframe\">\n",
       "  <thead>\n",
       "    <tr style=\"text-align: right;\">\n",
       "      <th></th>\n",
       "      <th>id</th>\n",
       "      <th>Title</th>\n",
       "      <th>label</th>\n",
       "    </tr>\n",
       "  </thead>\n",
       "  <tbody>\n",
       "    <tr>\n",
       "      <th>0</th>\n",
       "      <td>0.0</td>\n",
       "      <td>국민안전로봇 2021년까지 개발…'로봇물고기' 전철 피할까?</td>\n",
       "      <td>0</td>\n",
       "    </tr>\n",
       "    <tr>\n",
       "      <th>1</th>\n",
       "      <td>1.0</td>\n",
       "      <td>'국정원 해킹 의혹' 상임위 앞두고 與野 전초전</td>\n",
       "      <td>0</td>\n",
       "    </tr>\n",
       "    <tr>\n",
       "      <th>2</th>\n",
       "      <td>2.0</td>\n",
       "      <td>인터넷티비(TV)결합상품 인터넷가입 비교사이트 통해 통신사별 장단점 비교해야 유리</td>\n",
       "      <td>0</td>\n",
       "    </tr>\n",
       "    <tr>\n",
       "      <th>3</th>\n",
       "      <td>3.0</td>\n",
       "      <td>SKT LG KT 인터넷가입 비교사이트 ‘펭귄통신’ 설치 당일 현금지원 이벤트</td>\n",
       "      <td>0</td>\n",
       "    </tr>\n",
       "    <tr>\n",
       "      <th>4</th>\n",
       "      <td>4.0</td>\n",
       "      <td>설 연휴 고향 가는 길 언제 출발해야 덜 막힐까</td>\n",
       "      <td>0</td>\n",
       "    </tr>\n",
       "    <tr>\n",
       "      <th>...</th>\n",
       "      <td>...</td>\n",
       "      <td>...</td>\n",
       "      <td>...</td>\n",
       "    </tr>\n",
       "    <tr>\n",
       "      <th>195</th>\n",
       "      <td>1172.0</td>\n",
       "      <td>원 이퀴티 파트너스 포, 엘.피., 셀트리온헬스케어 주식 631만주 장내매도</td>\n",
       "      <td>-1</td>\n",
       "    </tr>\n",
       "    <tr>\n",
       "      <th>196</th>\n",
       "      <td>1630.0</td>\n",
       "      <td>코스닥, 장 초반 하락세…640선 또 '위태'</td>\n",
       "      <td>-1</td>\n",
       "    </tr>\n",
       "    <tr>\n",
       "      <th>197</th>\n",
       "      <td>696.0</td>\n",
       "      <td>“ 3000% ”터질 바이오 단돈 3천원대! 2019년 마지막 新대장 바이오 온다!</td>\n",
       "      <td>1</td>\n",
       "    </tr>\n",
       "    <tr>\n",
       "      <th>198</th>\n",
       "      <td>1563.0</td>\n",
       "      <td>코스닥, 개인 '사자'에 700 향해 ↑</td>\n",
       "      <td>1</td>\n",
       "    </tr>\n",
       "    <tr>\n",
       "      <th>199</th>\n",
       "      <td>2215.0</td>\n",
       "      <td>남북정상회담 D-1, 코스피 장중 2470선 회복… SK하이닉스 4%대 강세</td>\n",
       "      <td>1</td>\n",
       "    </tr>\n",
       "  </tbody>\n",
       "</table>\n",
       "<p>1222 rows × 3 columns</p>\n",
       "</div>"
      ],
      "text/plain": [
       "         id                                           Title label\n",
       "0       0.0               국민안전로봇 2021년까지 개발…'로봇물고기' 전철 피할까?     0\n",
       "1       1.0                      '국정원 해킹 의혹' 상임위 앞두고 與野 전초전     0\n",
       "2       2.0   인터넷티비(TV)결합상품 인터넷가입 비교사이트 통해 통신사별 장단점 비교해야 유리     0\n",
       "3       3.0     SKT LG KT 인터넷가입 비교사이트 ‘펭귄통신’ 설치 당일 현금지원 이벤트     0\n",
       "4       4.0                      설 연휴 고향 가는 길 언제 출발해야 덜 막힐까     0\n",
       "..      ...                                             ...   ...\n",
       "195  1172.0      원 이퀴티 파트너스 포, 엘.피., 셀트리온헬스케어 주식 631만주 장내매도    -1\n",
       "196  1630.0                       코스닥, 장 초반 하락세…640선 또 '위태'    -1\n",
       "197   696.0  “ 3000% ”터질 바이오 단돈 3천원대! 2019년 마지막 新대장 바이오 온다!     1\n",
       "198  1563.0                          코스닥, 개인 '사자'에 700 향해 ↑     1\n",
       "199  2215.0      남북정상회담 D-1, 코스피 장중 2470선 회복… SK하이닉스 4%대 강세     1\n",
       "\n",
       "[1222 rows x 3 columns]"
      ]
     },
     "execution_count": 106,
     "metadata": {},
     "output_type": "execute_result"
    }
   ],
   "source": [
    "df = df[['id','Title','label']]\n",
    "df"
   ]
  },
  {
   "cell_type": "code",
   "execution_count": 107,
   "metadata": {},
   "outputs": [],
   "source": [
    "from sklearn.model_selection import train_test_split"
   ]
  },
  {
   "cell_type": "markdown",
   "metadata": {},
   "source": [
    "## 데이터셋 구성\n",
    "- Train Dataset : skt 200개, 모비스 200개, 현백 200개, 에쓰오일 200개, 기업은행 200개, 셀트리온 200개\n",
    "- Test Dataset : skt 282개"
   ]
  },
  {
   "cell_type": "code",
   "execution_count": 108,
   "metadata": {},
   "outputs": [],
   "source": [
    "# Train 데이터와 Test 데이터 분리\n",
    "X_train = df['Title']\n",
    "y_train = df['label']\n",
    "X_test = df_test_skt['Title']\n",
    "y_test = df_test_skt['label']\n",
    "# X_train, X_test, y_train, y_test = train_test_split(X, y, test_size = 0.2, random_state = 2)"
   ]
  },
  {
   "cell_type": "code",
   "execution_count": 109,
   "metadata": {},
   "outputs": [],
   "source": [
    "# 문장을 나누기 위한 Stopwords 선정\n",
    "stopwords = ['의', '가', '이', '은', '들', '는', '좀', '잘', '걍', '과', '도', '를', '으로', '자', '에', '와', '한', '하다']"
   ]
  },
  {
   "cell_type": "code",
   "execution_count": 110,
   "metadata": {
    "scrolled": true
   },
   "outputs": [],
   "source": [
    "#!pip3 install konlpy"
   ]
  },
  {
   "cell_type": "code",
   "execution_count": 111,
   "metadata": {},
   "outputs": [],
   "source": [
    "# Sentence Tokenizing\n",
    "\n",
    "import konlpy\n",
    "from konlpy.tag import Okt\n",
    "\n",
    "okt = Okt()\n",
    "X_train_token = []\n",
    "for sentence in X_train:\n",
    "    temp_X = [] \n",
    "    temp_X = okt.morphs(sentence, stem=True) # 토큰화\n",
    "    temp_X = [word for word in temp_X if not word in stopwords] # 불용어 제거\n",
    "    X_train_token.append(temp_X)\n",
    "\n",
    "X_test_token = []\n",
    "for sentence in X_test:\n",
    "    temp_X = []\n",
    "    temp_X = okt.morphs(sentence, stem=True) # 토큰화\n",
    "    temp_X = [word for word in temp_X if not word in stopwords] # 불용어 제거\n",
    "    X_test_token.append(temp_X)"
   ]
  },
  {
   "cell_type": "markdown",
   "metadata": {},
   "source": [
    "### 단어길이 추출"
   ]
  },
  {
   "cell_type": "code",
   "execution_count": 112,
   "metadata": {},
   "outputs": [
    {
     "data": {
      "text/plain": [
       "66"
      ]
     },
     "execution_count": 112,
     "metadata": {},
     "output_type": "execute_result"
    }
   ],
   "source": [
    "li_train = []\n",
    "# li_train.append(1)\n",
    "# li_train.append(2)\n",
    "for i in range(len(X_train_token)):\n",
    "   li_train.append(len(X_train_token[i]))\n",
    "max(li_train)\n",
    "\n",
    "li_test = []\n",
    "# li_train.append(1)\n",
    "# li_train.append(2)\n",
    "for i in range(len(X_test_token)):\n",
    "   li_test.append(len(X_test_token[i]))\n",
    "max(li_test)\n"
   ]
  },
  {
   "cell_type": "markdown",
   "metadata": {},
   "source": [
    "### max_words를 35000에서 100으로 줄임(test 길이 중 가장 큰것은 66)"
   ]
  },
  {
   "cell_type": "code",
   "execution_count": 113,
   "metadata": {},
   "outputs": [],
   "source": [
    "from keras.preprocessing.text import Tokenizer\n",
    "max_words = 100\n",
    "tokenizer = Tokenizer(num_words = max_words)\n",
    "tokenizer.fit_on_texts(X_train_token) \n",
    "X_train_token = tokenizer.texts_to_sequences(X_train_token) \n",
    "X_test_token = tokenizer.texts_to_sequences(X_test_token)"
   ]
  },
  {
   "cell_type": "markdown",
   "metadata": {},
   "source": [
    "### One-Hot encoding 2가지 방법 - 2번째 방법 사용 (to_categorize)"
   ]
  },
  {
   "cell_type": "code",
   "execution_count": 114,
   "metadata": {},
   "outputs": [],
   "source": [
    "# 1. \n",
    "import numpy as np\n",
    "y_train_encode = []\n",
    "y_test_encode = []\n",
    "for i in range(len(y_train)):\n",
    "    if y_train.iloc[i] == 1:\n",
    "        y_train_encode.append([0, 0, 1]) \n",
    "    elif y_train.iloc[i] == 0:\n",
    "        y_train_encode.append([0, 1, 0]) \n",
    "    elif y_train.iloc[i] == -1:\n",
    "        y_train_encode.append([1, 0, 0]) \n",
    "        \n",
    "for i in range(len(y_test)):\n",
    "    if y_test.iloc[i] == 1:\n",
    "        y_test_encode.append([0, 0, 1]) \n",
    "    elif y_test.iloc[i] == 0:\n",
    "        y_test_encode.append([0, 1, 0])\n",
    "    elif y_test.iloc[i] == -1:\n",
    "        y_test_encode.append([1, 0, 0]) \n",
    "        \n",
    "y_train_encode=np.array(y_train_encode)\n",
    "y_test_encode=np.array(y_test_encode)"
   ]
  },
  {
   "cell_type": "code",
   "execution_count": 115,
   "metadata": {},
   "outputs": [
    {
     "data": {
      "text/plain": [
       "1022"
      ]
     },
     "execution_count": 115,
     "metadata": {},
     "output_type": "execute_result"
    }
   ],
   "source": [
    "len(y_train_encode)"
   ]
  },
  {
   "cell_type": "code",
   "execution_count": 116,
   "metadata": {},
   "outputs": [],
   "source": [
    "# 2. \n",
    "# to_categorical 방법은 0 1 -1 순서로 인코딩된다!\n",
    "from keras.utils import to_categorical\n",
    "\n",
    "y_train_cata = to_categorical(y_train, num_classes = 3)\n",
    "y_test_cata = to_categorical(y_test, num_classes = 3)"
   ]
  },
  {
   "cell_type": "code",
   "execution_count": 117,
   "metadata": {},
   "outputs": [
    {
     "data": {
      "text/plain": [
       "array([[1., 0., 0.],\n",
       "       [1., 0., 0.],\n",
       "       [1., 0., 0.],\n",
       "       ...,\n",
       "       [0., 1., 0.],\n",
       "       [0., 1., 0.],\n",
       "       [0., 1., 0.]], dtype=float32)"
      ]
     },
     "execution_count": 117,
     "metadata": {},
     "output_type": "execute_result"
    }
   ],
   "source": [
    "y_train_cata"
   ]
  },
  {
   "cell_type": "markdown",
   "metadata": {},
   "source": [
    "### max_len 20 to 100으로 변경 ; 단어 길이 고려"
   ]
  },
  {
   "cell_type": "code",
   "execution_count": 118,
   "metadata": {},
   "outputs": [],
   "source": [
    "max_len = 100 # pad_sequesces이용, 전체 데이터의 길이를 20로 맞춘다\n",
    "X_train = pad_sequences(X_train_token, maxlen=max_len)\n",
    "X_test = pad_sequences(X_test_token, maxlen=max_len)"
   ]
  },
  {
   "cell_type": "markdown",
   "metadata": {},
   "source": [
    "### 모델 저장1\n",
    "import os\n",
    "from tensorflow.keras.callbacks import EarlyStopping, ModelCheckpoint\n",
    "\n",
    "\n",
    "MODEL_DIR = './ModelCheckpoint/'\n",
    "if not os.path.exists(MODEL_DIR):\n",
    "    os.mkdir(MODEL_DIR)\n",
    "    \n",
    "mdpath = './ModelCheckpoint/{epoch:02d}-{val_loss:.4f}.hdf5'\n",
    "mc = ModelCheckpoint(filepath=mdpath,monitor='val_acc',mode='max',verbose=1,save_best_only=True)\n",
    "es = EarlyStopping(monitor='val_loss',patience=10,mode='min',verbose=1)\n",
    "\n",
    "model = Sequential()\n",
    "model.add(Embedding(max_words, 64))\n",
    "model.add(LSTM(128))\n",
    "model.add(Dense(3, activation='softmax'))\n",
    "model.compile(optimizer='rmsprop', loss='categorical_crossentropy', metrics=['accuracy'])\n",
    "history = model.fit(X_train, y_train_cata, epochs=10, batch_size=10, callbacks=[es,mc], validation_split=0.1)"
   ]
  },
  {
   "cell_type": "markdown",
   "metadata": {},
   "source": [
    "### 모델 저장2\n",
    "from keras.models import load_model\n",
    "##### 모델 컴퓨터에 저장\n",
    "model.save('모델이름')\n",
    "##### 모델 불러오기\n",
    "del model # 테스트를 위해 메모리 내의 모델을 삭제\n",
    "model = load_model('모델명')"
   ]
  },
  {
   "cell_type": "markdown",
   "metadata": {},
   "source": [
    "### LSTM 모델"
   ]
  },
  {
   "cell_type": "markdown",
   "metadata": {},
   "source": [
    "### earlystopping과 modelcheckpoint 추가\n",
    "### embedding 64로 변경"
   ]
  },
  {
   "cell_type": "code",
   "execution_count": 119,
   "metadata": {
    "scrolled": true
   },
   "outputs": [
    {
     "name": "stdout",
     "output_type": "stream",
     "text": [
      "Requirement already satisfied: tensorflow in c:\\users\\admin\\anaconda3\\lib\\site-packages (2.3.0)\n",
      "Requirement already satisfied: termcolor>=1.1.0 in c:\\users\\admin\\anaconda3\\lib\\site-packages (from tensorflow) (1.1.0)\n",
      "Requirement already satisfied: wrapt>=1.11.1 in c:\\users\\admin\\anaconda3\\lib\\site-packages (from tensorflow) (1.11.2)\n",
      "Requirement already satisfied: keras-preprocessing<1.2,>=1.1.1 in c:\\users\\admin\\anaconda3\\lib\\site-packages (from tensorflow) (1.1.2)\n",
      "Requirement already satisfied: protobuf>=3.9.2 in c:\\users\\admin\\anaconda3\\lib\\site-packages (from tensorflow) (3.13.0)\n",
      "Requirement already satisfied: absl-py>=0.7.0 in c:\\users\\admin\\anaconda3\\lib\\site-packages (from tensorflow) (0.10.0)\n",
      "Requirement already satisfied: gast==0.3.3 in c:\\users\\admin\\anaconda3\\lib\\site-packages (from tensorflow) (0.3.3)\n",
      "Requirement already satisfied: numpy<1.19.0,>=1.16.0 in c:\\users\\admin\\anaconda3\\lib\\site-packages (from tensorflow) (1.18.1)\n",
      "Requirement already satisfied: tensorflow-estimator<2.4.0,>=2.3.0 in c:\\users\\admin\\anaconda3\\lib\\site-packages (from tensorflow) (2.3.0)\n",
      "Requirement already satisfied: wheel>=0.26 in c:\\users\\admin\\anaconda3\\lib\\site-packages (from tensorflow) (0.34.2)\n",
      "Requirement already satisfied: tensorboard<3,>=2.3.0 in c:\\users\\admin\\anaconda3\\lib\\site-packages (from tensorflow) (2.3.0)\n",
      "Requirement already satisfied: astunparse==1.6.3 in c:\\users\\admin\\anaconda3\\lib\\site-packages (from tensorflow) (1.6.3)\n",
      "Requirement already satisfied: h5py<2.11.0,>=2.10.0 in c:\\users\\admin\\anaconda3\\lib\\site-packages (from tensorflow) (2.10.0)\n",
      "Requirement already satisfied: scipy==1.4.1 in c:\\users\\admin\\anaconda3\\lib\\site-packages (from tensorflow) (1.4.1)\n",
      "Requirement already satisfied: grpcio>=1.8.6 in c:\\users\\admin\\anaconda3\\lib\\site-packages (from tensorflow) (1.32.0)\n",
      "Requirement already satisfied: six>=1.12.0 in c:\\users\\admin\\anaconda3\\lib\\site-packages (from tensorflow) (1.14.0)\n",
      "Requirement already satisfied: google-pasta>=0.1.8 in c:\\users\\admin\\anaconda3\\lib\\site-packages (from tensorflow) (0.2.0)\n",
      "Requirement already satisfied: opt-einsum>=2.3.2 in c:\\users\\admin\\anaconda3\\lib\\site-packages (from tensorflow) (3.3.0)\n",
      "Requirement already satisfied: setuptools in c:\\users\\admin\\anaconda3\\lib\\site-packages (from protobuf>=3.9.2->tensorflow) (45.2.0.post20200210)\n",
      "Requirement already satisfied: google-auth-oauthlib<0.5,>=0.4.1 in c:\\users\\admin\\anaconda3\\lib\\site-packages (from tensorboard<3,>=2.3.0->tensorflow) (0.4.1)\n",
      "Requirement already satisfied: requests<3,>=2.21.0 in c:\\users\\admin\\anaconda3\\lib\\site-packages (from tensorboard<3,>=2.3.0->tensorflow) (2.22.0)\n",
      "Requirement already satisfied: google-auth<2,>=1.6.3 in c:\\users\\admin\\anaconda3\\lib\\site-packages (from tensorboard<3,>=2.3.0->tensorflow) (1.21.2)\n",
      "Requirement already satisfied: werkzeug>=0.11.15 in c:\\users\\admin\\anaconda3\\lib\\site-packages (from tensorboard<3,>=2.3.0->tensorflow) (1.0.0)\n",
      "Requirement already satisfied: markdown>=2.6.8 in c:\\users\\admin\\anaconda3\\lib\\site-packages (from tensorboard<3,>=2.3.0->tensorflow) (3.2.2)\n",
      "Requirement already satisfied: tensorboard-plugin-wit>=1.6.0 in c:\\users\\admin\\anaconda3\\lib\\site-packages (from tensorboard<3,>=2.3.0->tensorflow) (1.7.0)\n",
      "Requirement already satisfied: requests-oauthlib>=0.7.0 in c:\\users\\admin\\anaconda3\\lib\\site-packages (from google-auth-oauthlib<0.5,>=0.4.1->tensorboard<3,>=2.3.0->tensorflow) (1.3.0)\n",
      "Requirement already satisfied: idna<2.9,>=2.5 in c:\\users\\admin\\anaconda3\\lib\\site-packages (from requests<3,>=2.21.0->tensorboard<3,>=2.3.0->tensorflow) (2.8)\n",
      "Requirement already satisfied: chardet<3.1.0,>=3.0.2 in c:\\users\\admin\\anaconda3\\lib\\site-packages (from requests<3,>=2.21.0->tensorboard<3,>=2.3.0->tensorflow) (3.0.4)\n",
      "Requirement already satisfied: urllib3!=1.25.0,!=1.25.1,<1.26,>=1.21.1 in c:\\users\\admin\\anaconda3\\lib\\site-packages (from requests<3,>=2.21.0->tensorboard<3,>=2.3.0->tensorflow) (1.25.8)\n",
      "Requirement already satisfied: certifi>=2017.4.17 in c:\\users\\admin\\anaconda3\\lib\\site-packages (from requests<3,>=2.21.0->tensorboard<3,>=2.3.0->tensorflow) (2020.6.20)\n",
      "Requirement already satisfied: rsa<5,>=3.1.4; python_version >= \"3.5\" in c:\\users\\admin\\anaconda3\\lib\\site-packages (from google-auth<2,>=1.6.3->tensorboard<3,>=2.3.0->tensorflow) (4.6)\n",
      "Requirement already satisfied: pyasn1-modules>=0.2.1 in c:\\users\\admin\\anaconda3\\lib\\site-packages (from google-auth<2,>=1.6.3->tensorboard<3,>=2.3.0->tensorflow) (0.2.8)\n",
      "Requirement already satisfied: cachetools<5.0,>=2.0.0 in c:\\users\\admin\\anaconda3\\lib\\site-packages (from google-auth<2,>=1.6.3->tensorboard<3,>=2.3.0->tensorflow) (4.1.1)\n",
      "Requirement already satisfied: importlib-metadata; python_version < \"3.8\" in c:\\users\\admin\\anaconda3\\lib\\site-packages (from markdown>=2.6.8->tensorboard<3,>=2.3.0->tensorflow) (1.5.0)\n",
      "Requirement already satisfied: oauthlib>=3.0.0 in c:\\users\\admin\\anaconda3\\lib\\site-packages (from requests-oauthlib>=0.7.0->google-auth-oauthlib<0.5,>=0.4.1->tensorboard<3,>=2.3.0->tensorflow) (3.1.0)\n",
      "Requirement already satisfied: pyasn1>=0.1.3 in c:\\users\\admin\\anaconda3\\lib\\site-packages (from rsa<5,>=3.1.4; python_version >= \"3.5\"->google-auth<2,>=1.6.3->tensorboard<3,>=2.3.0->tensorflow) (0.4.8)\n",
      "Requirement already satisfied: zipp>=0.5 in c:\\users\\admin\\anaconda3\\lib\\site-packages (from importlib-metadata; python_version < \"3.8\"->markdown>=2.6.8->tensorboard<3,>=2.3.0->tensorflow) (2.2.0)\n"
     ]
    }
   ],
   "source": [
    "!pip install tensorflow"
   ]
  },
  {
   "cell_type": "code",
   "execution_count": null,
   "metadata": {},
   "outputs": [
    {
     "name": "stdout",
     "output_type": "stream",
     "text": [
      "Epoch 1/20\n",
      "110/110 [==============================] - ETA: 0s - loss: 1.0042 - accuracy: 0.5259WARNING:tensorflow:Can save best model only with val_acc available, skipping.\n",
      "110/110 [==============================] - 6s 59ms/step - loss: 1.0042 - accuracy: 0.5259 - val_loss: 1.0193 - val_accuracy: 0.5447\n",
      "Epoch 2/20\n",
      "110/110 [==============================] - ETA: 0s - loss: 0.8914 - accuracy: 0.5732WARNING:tensorflow:Can save best model only with val_acc available, skipping.\n",
      "110/110 [==============================] - 6s 56ms/step - loss: 0.8914 - accuracy: 0.5732 - val_loss: 0.7887 - val_accuracy: 0.6748\n",
      "Epoch 3/20\n",
      "110/110 [==============================] - ETA: 0s - loss: 0.8469 - accuracy: 0.5987WARNING:tensorflow:Can save best model only with val_acc available, skipping.\n",
      "110/110 [==============================] - 6s 55ms/step - loss: 0.8469 - accuracy: 0.5987 - val_loss: 0.7311 - val_accuracy: 0.7561\n",
      "Epoch 4/20\n",
      "110/110 [==============================] - ETA: 0s - loss: 0.8202 - accuracy: 0.6178WARNING:tensorflow:Can save best model only with val_acc available, skipping.\n",
      "110/110 [==============================] - 6s 56ms/step - loss: 0.8202 - accuracy: 0.6178 - val_loss: 0.7859 - val_accuracy: 0.6911\n",
      "Epoch 5/20\n",
      "109/110 [============================>.] - ETA: 0s - loss: 0.8236 - accuracy: 0.6248WARNING:tensorflow:Can save best model only with val_acc available, skipping.\n",
      "110/110 [==============================] - 6s 56ms/step - loss: 0.8236 - accuracy: 0.6233 - val_loss: 0.6978 - val_accuracy: 0.7317\n",
      "Epoch 6/20\n",
      "110/110 [==============================] - ETA: 0s - loss: 0.7927 - accuracy: 0.6187WARNING:tensorflow:Can save best model only with val_acc available, skipping.\n",
      "110/110 [==============================] - 6s 56ms/step - loss: 0.7927 - accuracy: 0.6187 - val_loss: 0.7169 - val_accuracy: 0.6911\n",
      "Epoch 7/20\n",
      "109/110 [============================>.] - ETA: 0s - loss: 0.7768 - accuracy: 0.6394WARNING:tensorflow:Can save best model only with val_acc available, skipping.\n",
      "110/110 [==============================] - 6s 57ms/step - loss: 0.7776 - accuracy: 0.6379 - val_loss: 0.7521 - val_accuracy: 0.6829\n",
      "Epoch 8/20\n",
      "110/110 [==============================] - ETA: 0s - loss: 0.7661 - accuracy: 0.6397WARNING:tensorflow:Can save best model only with val_acc available, skipping.\n",
      "110/110 [==============================] - 7s 60ms/step - loss: 0.7661 - accuracy: 0.6397 - val_loss: 0.7685 - val_accuracy: 0.6911\n",
      "Epoch 9/20\n",
      "110/110 [==============================] - ETA: 0s - loss: 0.7651 - accuracy: 0.6397WARNING:tensorflow:Can save best model only with val_acc available, skipping.\n",
      "110/110 [==============================] - 7s 60ms/step - loss: 0.7651 - accuracy: 0.6397 - val_loss: 0.8155 - val_accuracy: 0.6911\n",
      "Epoch 10/20\n",
      "100/110 [==========================>...] - ETA: 0s - loss: 0.7399 - accuracy: 0.6560"
     ]
    }
   ],
   "source": [
    "from tensorflow.keras.callbacks import EarlyStopping, ModelCheckpoint\n",
    "es = EarlyStopping(monitor='val_loss',mode='min',verbose=1,patience=10)\n",
    "mc = ModelCheckpoint('best_model.h5',monitor='val_acc',mode='max',verbose=1,save_best_only=True)\n",
    "\n",
    "model = Sequential()\n",
    "model.add(Embedding(max_words, 64))\n",
    "model.add(LSTM(128,activation='tanh'))\n",
    "model.add(Dense(3, activation='softmax'))\n",
    "model.compile(optimizer='rmsprop', loss='categorical_crossentropy', metrics=['accuracy'])\n",
    "history = model.fit(X_train, y_train_cata, epochs=20, batch_size=10, callbacks=[es,mc], validation_split=0.1)"
   ]
  },
  {
   "cell_type": "code",
   "execution_count": 74,
   "metadata": {},
   "outputs": [
    {
     "name": "stdout",
     "output_type": "stream",
     "text": [
      "9/9 [==============================] - 0s 17ms/step - loss: 0.9734 - accuracy: 0.5872\n",
      "\n",
      " 테스트 정확도 : 58.72%\n"
     ]
    }
   ],
   "source": [
    "print(\"\\n 테스트 정확도 : {:.2f}%\".format(model.evaluate(X_test,y_test_cata)[1]*100))"
   ]
  },
  {
   "cell_type": "code",
   "execution_count": 34,
   "metadata": {},
   "outputs": [
    {
     "name": "stdout",
     "output_type": "stream",
     "text": [
      "WARNING:tensorflow:From C:\\Users\\admin\\anaconda3\\lib\\site-packages\\tensorflow\\python\\training\\tracking\\tracking.py:111: Model.state_updates (from tensorflow.python.keras.engine.training) is deprecated and will be removed in a future version.\n",
      "Instructions for updating:\n",
      "This property should not be used in TensorFlow 2.0, as updates are applied automatically.\n",
      "WARNING:tensorflow:From C:\\Users\\admin\\anaconda3\\lib\\site-packages\\tensorflow\\python\\training\\tracking\\tracking.py:111: Layer.updates (from tensorflow.python.keras.engine.base_layer) is deprecated and will be removed in a future version.\n",
      "Instructions for updating:\n",
      "This property should not be used in TensorFlow 2.0, as updates are applied automatically.\n",
      "INFO:tensorflow:Assets written to: M1_61.21%\\assets\n"
     ]
    }
   ],
   "source": [
    "model.save('M1_61.21%')"
   ]
  },
  {
   "cell_type": "markdown",
   "metadata": {},
   "source": [
    "## KFOLD 검증"
   ]
  },
  {
   "cell_type": "code",
   "execution_count": 78,
   "metadata": {},
   "outputs": [],
   "source": [
    "#seed 값 설정\n",
    "seed = 1\n",
    "np.random.seed(seed)\n",
    "#tf.set_random_seed(seed)"
   ]
  },
  {
   "cell_type": "code",
   "execution_count": 79,
   "metadata": {},
   "outputs": [],
   "source": [
    "X=X_train\n",
    "Y=y_train_cata"
   ]
  },
  {
   "cell_type": "code",
   "execution_count": 80,
   "metadata": {},
   "outputs": [],
   "source": [
    "#10개의 파일로 쪼갬\n",
    "n_fold = 15"
   ]
  },
  {
   "cell_type": "code",
   "execution_count": 81,
   "metadata": {},
   "outputs": [],
   "source": [
    "skf =KFold(n_splits=n_fold, shuffle=True,random_state=seed)"
   ]
  },
  {
   "cell_type": "code",
   "execution_count": 82,
   "metadata": {},
   "outputs": [],
   "source": [
    "#빈 accuracy 배열\n",
    "accuracy =[]"
   ]
  },
  {
   "cell_type": "code",
   "execution_count": 84,
   "metadata": {},
   "outputs": [
    {
     "name": "stdout",
     "output_type": "stream",
     "text": [
      "Epoch 1/10\n",
      "102/103 [============================>.] - ETA: 0s - loss: 1.0048 - accuracy: 0.5245WARNING:tensorflow:Can save best model only with val_acc available, skipping.\n",
      "103/103 [==============================] - 5s 50ms/step - loss: 1.0034 - accuracy: 0.5253 - val_loss: 0.9877 - val_accuracy: 0.5439\n",
      "Epoch 2/10\n",
      "103/103 [==============================] - ETA: 0s - loss: 0.9308 - accuracy: 0.5828WARNING:tensorflow:Can save best model only with val_acc available, skipping.\n",
      "103/103 [==============================] - 5s 45ms/step - loss: 0.9308 - accuracy: 0.5828 - val_loss: 0.7731 - val_accuracy: 0.7105\n",
      "Epoch 3/10\n",
      "103/103 [==============================] - ETA: 0s - loss: 0.8479 - accuracy: 0.6072WARNING:tensorflow:Can save best model only with val_acc available, skipping.\n",
      "103/103 [==============================] - 5s 45ms/step - loss: 0.8479 - accuracy: 0.6072 - val_loss: 0.7933 - val_accuracy: 0.7281\n",
      "Epoch 4/10\n",
      "102/103 [============================>.] - ETA: 0s - loss: 0.8125 - accuracy: 0.6176WARNING:tensorflow:Can save best model only with val_acc available, skipping.\n",
      "103/103 [==============================] - 5s 45ms/step - loss: 0.8140 - accuracy: 0.6170 - val_loss: 0.7442 - val_accuracy: 0.7193\n",
      "Epoch 5/10\n",
      "102/103 [============================>.] - ETA: 0s - loss: 0.7930 - accuracy: 0.6147WARNING:tensorflow:Can save best model only with val_acc available, skipping.\n",
      "103/103 [==============================] - 5s 45ms/step - loss: 0.7925 - accuracy: 0.6140 - val_loss: 0.7682 - val_accuracy: 0.6930\n",
      "Epoch 6/10\n",
      "102/103 [============================>.] - ETA: 0s - loss: 0.7837 - accuracy: 0.6235WARNING:tensorflow:Can save best model only with val_acc available, skipping.\n",
      "103/103 [==============================] - 5s 45ms/step - loss: 0.7822 - accuracy: 0.6248 - val_loss: 0.7500 - val_accuracy: 0.6930\n",
      "Epoch 7/10\n",
      "102/103 [============================>.] - ETA: 0s - loss: 0.7666 - accuracy: 0.6392WARNING:tensorflow:Can save best model only with val_acc available, skipping.\n",
      "103/103 [==============================] - 5s 45ms/step - loss: 0.7663 - accuracy: 0.6384 - val_loss: 0.8206 - val_accuracy: 0.6667\n",
      "Epoch 8/10\n",
      "102/103 [============================>.] - ETA: 0s - loss: 0.7590 - accuracy: 0.6431WARNING:tensorflow:Can save best model only with val_acc available, skipping.\n",
      "103/103 [==============================] - 5s 47ms/step - loss: 0.7592 - accuracy: 0.6442 - val_loss: 0.8401 - val_accuracy: 0.6667\n",
      "Epoch 00008: early stopping\n",
      "3/3 [==============================] - 0s 12ms/step - loss: 0.8750 - accuracy: 0.6220\n",
      "Epoch 1/10\n",
      "102/103 [============================>.] - ETA: 0s - loss: 1.0024 - accuracy: 0.5265WARNING:tensorflow:Can save best model only with val_acc available, skipping.\n",
      "103/103 [==============================] - 6s 57ms/step - loss: 1.0022 - accuracy: 0.5263 - val_loss: 0.9412 - val_accuracy: 0.5702\n",
      "Epoch 2/10\n",
      "103/103 [==============================] - ETA: 0s - loss: 0.9105 - accuracy: 0.5750WARNING:tensorflow:Can save best model only with val_acc available, skipping.\n",
      "103/103 [==============================] - 7s 65ms/step - loss: 0.9105 - accuracy: 0.5750 - val_loss: 0.7091 - val_accuracy: 0.7281\n",
      "Epoch 3/10\n",
      "103/103 [==============================] - ETA: 0s - loss: 0.8427 - accuracy: 0.5994WARNING:tensorflow:Can save best model only with val_acc available, skipping.\n",
      "103/103 [==============================] - 7s 66ms/step - loss: 0.8427 - accuracy: 0.5994 - val_loss: 0.6885 - val_accuracy: 0.7368\n",
      "Epoch 4/10\n",
      "103/103 [==============================] - ETA: 0s - loss: 0.7989 - accuracy: 0.6199WARNING:tensorflow:Can save best model only with val_acc available, skipping.\n",
      "103/103 [==============================] - 7s 65ms/step - loss: 0.7989 - accuracy: 0.6199 - val_loss: 0.7467 - val_accuracy: 0.7281\n",
      "Epoch 5/10\n",
      "103/103 [==============================] - ETA: 0s - loss: 0.7881 - accuracy: 0.6326WARNING:tensorflow:Can save best model only with val_acc available, skipping.\n",
      "103/103 [==============================] - 7s 64ms/step - loss: 0.7881 - accuracy: 0.6326 - val_loss: 0.7066 - val_accuracy: 0.7368\n",
      "Epoch 6/10\n",
      "103/103 [==============================] - ETA: 0s - loss: 0.7711 - accuracy: 0.6257WARNING:tensorflow:Can save best model only with val_acc available, skipping.\n",
      "103/103 [==============================] - 7s 64ms/step - loss: 0.7711 - accuracy: 0.6257 - val_loss: 0.6905 - val_accuracy: 0.7105\n",
      "Epoch 7/10\n",
      "103/103 [==============================] - ETA: 0s - loss: 0.7468 - accuracy: 0.6384WARNING:tensorflow:Can save best model only with val_acc available, skipping.\n",
      "103/103 [==============================] - 7s 65ms/step - loss: 0.7468 - accuracy: 0.6384 - val_loss: 0.7893 - val_accuracy: 0.7018\n",
      "Epoch 00007: early stopping\n",
      "3/3 [==============================] - 0s 15ms/step - loss: 1.0404 - accuracy: 0.6341\n",
      "Epoch 1/10\n",
      "103/103 [==============================] - ETA: 0s - loss: 1.0099 - accuracy: 0.5263WARNING:tensorflow:Can save best model only with val_acc available, skipping.\n",
      "103/103 [==============================] - 6s 59ms/step - loss: 1.0099 - accuracy: 0.5263 - val_loss: 1.0036 - val_accuracy: 0.5526\n",
      "Epoch 2/10\n",
      "102/103 [============================>.] - ETA: 0s - loss: 0.9123 - accuracy: 0.5647WARNING:tensorflow:Can save best model only with val_acc available, skipping.\n",
      "103/103 [==============================] - 6s 57ms/step - loss: 0.9131 - accuracy: 0.5653 - val_loss: 0.7531 - val_accuracy: 0.7368\n",
      "Epoch 3/10\n",
      "102/103 [============================>.] - ETA: 0s - loss: 0.8355 - accuracy: 0.6069WARNING:tensorflow:Can save best model only with val_acc available, skipping.\n",
      "103/103 [==============================] - 6s 57ms/step - loss: 0.8372 - accuracy: 0.6062 - val_loss: 0.7514 - val_accuracy: 0.6754\n",
      "Epoch 4/10\n",
      "102/103 [============================>.] - ETA: 0s - loss: 0.7994 - accuracy: 0.6186WARNING:tensorflow:Can save best model only with val_acc available, skipping.\n",
      "103/103 [==============================] - 6s 56ms/step - loss: 0.8035 - accuracy: 0.6170 - val_loss: 0.7208 - val_accuracy: 0.6754\n",
      "Epoch 5/10\n",
      "102/103 [============================>.] - ETA: 0s - loss: 0.7848 - accuracy: 0.6333WARNING:tensorflow:Can save best model only with val_acc available, skipping.\n",
      "103/103 [==============================] - 6s 56ms/step - loss: 0.7830 - accuracy: 0.6355 - val_loss: 0.7888 - val_accuracy: 0.6579\n",
      "Epoch 6/10\n",
      "102/103 [============================>.] - ETA: 0s - loss: 0.7714 - accuracy: 0.6196WARNING:tensorflow:Can save best model only with val_acc available, skipping.\n",
      "103/103 [==============================] - 6s 56ms/step - loss: 0.7703 - accuracy: 0.6209 - val_loss: 0.7687 - val_accuracy: 0.6667\n",
      "Epoch 7/10\n",
      "102/103 [============================>.] - ETA: 0s - loss: 0.7552 - accuracy: 0.6392WARNING:tensorflow:Can save best model only with val_acc available, skipping.\n",
      "103/103 [==============================] - 6s 56ms/step - loss: 0.7533 - accuracy: 0.6413 - val_loss: 0.8618 - val_accuracy: 0.6140\n",
      "Epoch 8/10\n",
      "102/103 [============================>.] - ETA: 0s - loss: 0.9368 - accuracy: 0.5814WARNING:tensorflow:Can save best model only with val_acc available, skipping.\n",
      "103/103 [==============================] - 6s 56ms/step - loss: 0.9370 - accuracy: 0.5819 - val_loss: 1.0824 - val_accuracy: 0.4737\n",
      "Epoch 00008: early stopping\n",
      "3/3 [==============================] - 0s 13ms/step - loss: 0.9317 - accuracy: 0.5244\n",
      "Epoch 1/10\n",
      "103/103 [==============================] - ETA: 0s - loss: 1.0089 - accuracy: 0.5283WARNING:tensorflow:Can save best model only with val_acc available, skipping.\n",
      "103/103 [==============================] - 6s 61ms/step - loss: 1.0089 - accuracy: 0.5283 - val_loss: 0.9597 - val_accuracy: 0.5614\n",
      "Epoch 2/10\n",
      "102/103 [============================>.] - ETA: 0s - loss: 0.9122 - accuracy: 0.5588WARNING:tensorflow:Can save best model only with val_acc available, skipping.\n",
      "103/103 [==============================] - 6s 57ms/step - loss: 0.9133 - accuracy: 0.5585 - val_loss: 0.7752 - val_accuracy: 0.6930\n",
      "Epoch 3/10\n",
      "103/103 [==============================] - ETA: 0s - loss: 0.8337 - accuracy: 0.6023WARNING:tensorflow:Can save best model only with val_acc available, skipping.\n",
      "103/103 [==============================] - 6s 58ms/step - loss: 0.8337 - accuracy: 0.6023 - val_loss: 0.7777 - val_accuracy: 0.7368\n"
     ]
    },
    {
     "name": "stdout",
     "output_type": "stream",
     "text": [
      "Epoch 4/10\n",
      "102/103 [============================>.] - ETA: 0s - loss: 0.8060 - accuracy: 0.6176WARNING:tensorflow:Can save best model only with val_acc available, skipping.\n",
      "103/103 [==============================] - 6s 56ms/step - loss: 0.8074 - accuracy: 0.6160 - val_loss: 0.7603 - val_accuracy: 0.7105\n",
      "Epoch 5/10\n",
      "102/103 [============================>.] - ETA: 0s - loss: 0.7856 - accuracy: 0.6284WARNING:tensorflow:Can save best model only with val_acc available, skipping.\n",
      "103/103 [==============================] - 6s 55ms/step - loss: 0.7865 - accuracy: 0.6257 - val_loss: 0.7794 - val_accuracy: 0.6930\n",
      "Epoch 6/10\n",
      "102/103 [============================>.] - ETA: 0s - loss: 0.7741 - accuracy: 0.6402WARNING:tensorflow:Can save best model only with val_acc available, skipping.\n",
      "103/103 [==============================] - 6s 55ms/step - loss: 0.7737 - accuracy: 0.6404 - val_loss: 0.8266 - val_accuracy: 0.7018\n",
      "Epoch 7/10\n",
      "102/103 [============================>.] - ETA: 0s - loss: 0.7608 - accuracy: 0.6431WARNING:tensorflow:Can save best model only with val_acc available, skipping.\n",
      "103/103 [==============================] - 6s 54ms/step - loss: 0.7617 - accuracy: 0.6433 - val_loss: 0.8009 - val_accuracy: 0.7018\n",
      "Epoch 8/10\n",
      "102/103 [============================>.] - ETA: 0s - loss: 0.7547 - accuracy: 0.6461WARNING:tensorflow:Can save best model only with val_acc available, skipping.\n",
      "103/103 [==============================] - 6s 54ms/step - loss: 0.7571 - accuracy: 0.6452 - val_loss: 0.8409 - val_accuracy: 0.6579\n",
      "Epoch 00008: early stopping\n",
      "3/3 [==============================] - 0s 12ms/step - loss: 0.9072 - accuracy: 0.5610\n",
      "Epoch 1/10\n",
      "102/103 [============================>.] - ETA: 0s - loss: 1.0027 - accuracy: 0.5284WARNING:tensorflow:Can save best model only with val_acc available, skipping.\n",
      "103/103 [==============================] - 5s 52ms/step - loss: 1.0028 - accuracy: 0.5292 - val_loss: 0.9903 - val_accuracy: 0.5614\n",
      "Epoch 2/10\n",
      "102/103 [============================>.] - ETA: 0s - loss: 0.9044 - accuracy: 0.5578WARNING:tensorflow:Can save best model only with val_acc available, skipping.\n",
      "103/103 [==============================] - 5s 51ms/step - loss: 0.9029 - accuracy: 0.5595 - val_loss: 0.7803 - val_accuracy: 0.6754\n",
      "Epoch 3/10\n",
      "102/103 [============================>.] - ETA: 0s - loss: 0.8443 - accuracy: 0.6049WARNING:tensorflow:Can save best model only with val_acc available, skipping.\n",
      "103/103 [==============================] - 5s 52ms/step - loss: 0.8427 - accuracy: 0.6072 - val_loss: 0.7471 - val_accuracy: 0.7105\n",
      "Epoch 4/10\n",
      "103/103 [==============================] - ETA: 0s - loss: 0.8087 - accuracy: 0.6345WARNING:tensorflow:Can save best model only with val_acc available, skipping.\n",
      "103/103 [==============================] - 5s 52ms/step - loss: 0.8087 - accuracy: 0.6345 - val_loss: 0.8116 - val_accuracy: 0.6579\n",
      "Epoch 5/10\n",
      "102/103 [============================>.] - ETA: 0s - loss: 0.7931 - accuracy: 0.6206WARNING:tensorflow:Can save best model only with val_acc available, skipping.\n",
      "103/103 [==============================] - 5s 52ms/step - loss: 0.7933 - accuracy: 0.6199 - val_loss: 0.7976 - val_accuracy: 0.6579\n",
      "Epoch 6/10\n",
      "102/103 [============================>.] - ETA: 0s - loss: 0.7784 - accuracy: 0.6412WARNING:tensorflow:Can save best model only with val_acc available, skipping.\n",
      "103/103 [==============================] - 5s 52ms/step - loss: 0.7772 - accuracy: 0.6423 - val_loss: 0.8084 - val_accuracy: 0.6579\n",
      "Epoch 7/10\n",
      "102/103 [============================>.] - ETA: 0s - loss: 0.9236 - accuracy: 0.6069WARNING:tensorflow:Can save best model only with val_acc available, skipping.\n",
      "103/103 [==============================] - 5s 52ms/step - loss: 0.9235 - accuracy: 0.6062 - val_loss: 0.9248 - val_accuracy: 0.5175\n",
      "Epoch 00007: early stopping\n",
      "3/3 [==============================] - 0s 12ms/step - loss: 0.9319 - accuracy: 0.5366\n",
      "Epoch 1/10\n",
      "103/103 [==============================] - ETA: 0s - loss: 1.0033 - accuracy: 0.5302WARNING:tensorflow:Can save best model only with val_acc available, skipping.\n",
      "103/103 [==============================] - 7s 67ms/step - loss: 1.0033 - accuracy: 0.5302 - val_loss: 1.0057 - val_accuracy: 0.5351\n",
      "Epoch 2/10\n",
      "103/103 [==============================] - ETA: 0s - loss: 0.9094 - accuracy: 0.5663WARNING:tensorflow:Can save best model only with val_acc available, skipping.\n",
      "103/103 [==============================] - 7s 65ms/step - loss: 0.9094 - accuracy: 0.5663 - val_loss: 0.7587 - val_accuracy: 0.7281\n",
      "Epoch 3/10\n",
      "103/103 [==============================] - ETA: 0s - loss: 0.8341 - accuracy: 0.6072WARNING:tensorflow:Can save best model only with val_acc available, skipping.\n",
      "103/103 [==============================] - 7s 65ms/step - loss: 0.8341 - accuracy: 0.6072 - val_loss: 0.7311 - val_accuracy: 0.7018\n",
      "Epoch 4/10\n",
      "103/103 [==============================] - ETA: 0s - loss: 0.8003 - accuracy: 0.6248WARNING:tensorflow:Can save best model only with val_acc available, skipping.\n",
      "103/103 [==============================] - 7s 65ms/step - loss: 0.8003 - accuracy: 0.6248 - val_loss: 0.7982 - val_accuracy: 0.6930\n",
      "Epoch 5/10\n",
      "103/103 [==============================] - ETA: 0s - loss: 0.7830 - accuracy: 0.6335WARNING:tensorflow:Can save best model only with val_acc available, skipping.\n",
      "103/103 [==============================] - 7s 65ms/step - loss: 0.7830 - accuracy: 0.6335 - val_loss: 0.7635 - val_accuracy: 0.6842\n",
      "Epoch 6/10\n",
      "103/103 [==============================] - ETA: 0s - loss: 0.7612 - accuracy: 0.6355WARNING:tensorflow:Can save best model only with val_acc available, skipping.\n",
      "103/103 [==============================] - 7s 66ms/step - loss: 0.7612 - accuracy: 0.6355 - val_loss: 0.8154 - val_accuracy: 0.6579\n",
      "Epoch 7/10\n",
      "103/103 [==============================] - ETA: 0s - loss: 0.7488 - accuracy: 0.6442WARNING:tensorflow:Can save best model only with val_acc available, skipping.\n",
      "103/103 [==============================] - 7s 65ms/step - loss: 0.7488 - accuracy: 0.6442 - val_loss: 0.8005 - val_accuracy: 0.6842\n",
      "Epoch 00007: early stopping\n",
      "3/3 [==============================] - 0s 14ms/step - loss: 0.8671 - accuracy: 0.5122\n",
      "Epoch 1/10\n",
      "103/103 [==============================] - ETA: 0s - loss: 1.0106 - accuracy: 0.5097WARNING:tensorflow:Can save best model only with val_acc available, skipping.\n",
      "103/103 [==============================] - 7s 67ms/step - loss: 1.0106 - accuracy: 0.5097 - val_loss: 0.9756 - val_accuracy: 0.5614\n",
      "Epoch 2/10\n",
      "103/103 [==============================] - ETA: 0s - loss: 0.8964 - accuracy: 0.5750WARNING:tensorflow:Can save best model only with val_acc available, skipping.\n",
      "103/103 [==============================] - 7s 68ms/step - loss: 0.8964 - accuracy: 0.5750 - val_loss: 0.7866 - val_accuracy: 0.6754\n",
      "Epoch 3/10\n",
      "103/103 [==============================] - ETA: 0s - loss: 0.8409 - accuracy: 0.6092WARNING:tensorflow:Can save best model only with val_acc available, skipping.\n",
      "103/103 [==============================] - 7s 66ms/step - loss: 0.8409 - accuracy: 0.6092 - val_loss: 0.7615 - val_accuracy: 0.7018\n",
      "Epoch 4/10\n",
      "103/103 [==============================] - ETA: 0s - loss: 0.8034 - accuracy: 0.6335WARNING:tensorflow:Can save best model only with val_acc available, skipping.\n",
      "103/103 [==============================] - 7s 67ms/step - loss: 0.8034 - accuracy: 0.6335 - val_loss: 0.7825 - val_accuracy: 0.6754\n",
      "Epoch 5/10\n",
      "103/103 [==============================] - ETA: 0s - loss: 0.7840 - accuracy: 0.6170WARNING:tensorflow:Can save best model only with val_acc available, skipping.\n",
      "103/103 [==============================] - 7s 68ms/step - loss: 0.7840 - accuracy: 0.6170 - val_loss: 0.7544 - val_accuracy: 0.6930\n",
      "Epoch 6/10\n",
      "103/103 [==============================] - ETA: 0s - loss: 0.7751 - accuracy: 0.6296WARNING:tensorflow:Can save best model only with val_acc available, skipping.\n",
      "103/103 [==============================] - 7s 68ms/step - loss: 0.7751 - accuracy: 0.6296 - val_loss: 0.7799 - val_accuracy: 0.6754\n",
      "Epoch 7/10\n",
      "103/103 [==============================] - ETA: 0s - loss: 0.7626 - accuracy: 0.6394WARNING:tensorflow:Can save best model only with val_acc available, skipping.\n",
      "103/103 [==============================] - 7s 68ms/step - loss: 0.7626 - accuracy: 0.6394 - val_loss: 0.7672 - val_accuracy: 0.6930\n"
     ]
    },
    {
     "name": "stdout",
     "output_type": "stream",
     "text": [
      "Epoch 8/10\n",
      "103/103 [==============================] - ETA: 0s - loss: 0.7404 - accuracy: 0.6394WARNING:tensorflow:Can save best model only with val_acc available, skipping.\n",
      "103/103 [==============================] - 7s 67ms/step - loss: 0.7404 - accuracy: 0.6394 - val_loss: 0.8264 - val_accuracy: 0.6667\n",
      "Epoch 9/10\n",
      "103/103 [==============================] - ETA: 0s - loss: 0.7324 - accuracy: 0.6686WARNING:tensorflow:Can save best model only with val_acc available, skipping.\n",
      "103/103 [==============================] - 7s 67ms/step - loss: 0.7324 - accuracy: 0.6686 - val_loss: 0.8056 - val_accuracy: 0.6842\n",
      "Epoch 00009: early stopping\n",
      "3/3 [==============================] - 0s 13ms/step - loss: 0.9027 - accuracy: 0.5488\n",
      "Epoch 1/10\n",
      "102/103 [============================>.] - ETA: 0s - loss: 1.0134 - accuracy: 0.5343WARNING:tensorflow:Can save best model only with val_acc available, skipping.\n",
      "103/103 [==============================] - 6s 61ms/step - loss: 1.0142 - accuracy: 0.5341 - val_loss: 0.9939 - val_accuracy: 0.5304\n",
      "Epoch 2/10\n",
      "102/103 [============================>.] - ETA: 0s - loss: 0.9075 - accuracy: 0.5549WARNING:tensorflow:Can save best model only with val_acc available, skipping.\n",
      "103/103 [==============================] - 6s 57ms/step - loss: 0.9069 - accuracy: 0.5556 - val_loss: 0.8102 - val_accuracy: 0.7304\n",
      "Epoch 3/10\n",
      "102/103 [============================>.] - ETA: 0s - loss: 0.8423 - accuracy: 0.5941WARNING:tensorflow:Can save best model only with val_acc available, skipping.\n",
      "103/103 [==============================] - 6s 57ms/step - loss: 0.8412 - accuracy: 0.5955 - val_loss: 0.7479 - val_accuracy: 0.6609\n",
      "Epoch 4/10\n",
      "102/103 [============================>.] - ETA: 0s - loss: 0.8075 - accuracy: 0.6245WARNING:tensorflow:Can save best model only with val_acc available, skipping.\n",
      "103/103 [==============================] - 6s 57ms/step - loss: 0.8065 - accuracy: 0.6248 - val_loss: 0.7515 - val_accuracy: 0.6870\n",
      "Epoch 5/10\n",
      "102/103 [============================>.] - ETA: 0s - loss: 0.7869 - accuracy: 0.6157WARNING:tensorflow:Can save best model only with val_acc available, skipping.\n",
      "103/103 [==============================] - 6s 57ms/step - loss: 0.7855 - accuracy: 0.6170 - val_loss: 0.7426 - val_accuracy: 0.6696\n",
      "Epoch 6/10\n",
      "102/103 [============================>.] - ETA: 0s - loss: 0.7699 - accuracy: 0.6343WARNING:tensorflow:Can save best model only with val_acc available, skipping.\n",
      "103/103 [==============================] - 6s 57ms/step - loss: 0.7707 - accuracy: 0.6345 - val_loss: 0.7384 - val_accuracy: 0.6957\n",
      "Epoch 7/10\n",
      "102/103 [============================>.] - ETA: 0s - loss: 0.7613 - accuracy: 0.6324WARNING:tensorflow:Can save best model only with val_acc available, skipping.\n",
      "103/103 [==============================] - 6s 59ms/step - loss: 0.7607 - accuracy: 0.6316 - val_loss: 0.7855 - val_accuracy: 0.6609\n",
      "Epoch 8/10\n",
      "103/103 [==============================] - ETA: 0s - loss: 0.7448 - accuracy: 0.6404WARNING:tensorflow:Can save best model only with val_acc available, skipping.\n",
      "103/103 [==============================] - 7s 63ms/step - loss: 0.7448 - accuracy: 0.6404 - val_loss: 0.8024 - val_accuracy: 0.6783\n",
      "Epoch 9/10\n",
      "103/103 [==============================] - ETA: 0s - loss: 0.7346 - accuracy: 0.6559WARNING:tensorflow:Can save best model only with val_acc available, skipping.\n",
      "103/103 [==============================] - 6s 60ms/step - loss: 0.7346 - accuracy: 0.6559 - val_loss: 0.8619 - val_accuracy: 0.6261\n",
      "Epoch 10/10\n",
      "103/103 [==============================] - ETA: 0s - loss: 0.7374 - accuracy: 0.6608WARNING:tensorflow:Can save best model only with val_acc available, skipping.\n",
      "103/103 [==============================] - 7s 65ms/step - loss: 0.7374 - accuracy: 0.6608 - val_loss: 0.8148 - val_accuracy: 0.6609\n",
      "Epoch 00010: early stopping\n",
      "3/3 [==============================] - 0s 13ms/step - loss: 0.8967 - accuracy: 0.5679\n",
      "Epoch 1/10\n",
      "103/103 [==============================] - ETA: 0s - loss: 1.0070 - accuracy: 0.5292WARNING:tensorflow:Can save best model only with val_acc available, skipping.\n",
      "103/103 [==============================] - 7s 65ms/step - loss: 1.0070 - accuracy: 0.5292 - val_loss: 0.9785 - val_accuracy: 0.5478\n",
      "Epoch 2/10\n",
      "102/103 [============================>.] - ETA: 0s - loss: 0.8891 - accuracy: 0.5716WARNING:tensorflow:Can save best model only with val_acc available, skipping.\n",
      "103/103 [==============================] - 6s 62ms/step - loss: 0.8891 - accuracy: 0.5721 - val_loss: 0.7729 - val_accuracy: 0.7478\n",
      "Epoch 3/10\n",
      "103/103 [==============================] - ETA: 0s - loss: 0.8346 - accuracy: 0.6072WARNING:tensorflow:Can save best model only with val_acc available, skipping.\n",
      "103/103 [==============================] - 8s 73ms/step - loss: 0.8346 - accuracy: 0.6072 - val_loss: 0.7501 - val_accuracy: 0.6957\n",
      "Epoch 4/10\n",
      "103/103 [==============================] - ETA: 0s - loss: 0.7971 - accuracy: 0.6277WARNING:tensorflow:Can save best model only with val_acc available, skipping.\n",
      "103/103 [==============================] - 7s 65ms/step - loss: 0.7971 - accuracy: 0.6277 - val_loss: 0.7553 - val_accuracy: 0.7043\n",
      "Epoch 5/10\n",
      "102/103 [============================>.] - ETA: 0s - loss: 0.7724 - accuracy: 0.6402WARNING:tensorflow:Can save best model only with val_acc available, skipping.\n",
      "103/103 [==============================] - 6s 61ms/step - loss: 0.7718 - accuracy: 0.6413 - val_loss: 0.7378 - val_accuracy: 0.7391\n",
      "Epoch 6/10\n",
      "102/103 [============================>.] - ETA: 0s - loss: 0.7616 - accuracy: 0.6422WARNING:tensorflow:Can save best model only with val_acc available, skipping.\n",
      "103/103 [==============================] - 6s 61ms/step - loss: 0.7642 - accuracy: 0.6404 - val_loss: 0.7370 - val_accuracy: 0.7043\n",
      "Epoch 7/10\n",
      "102/103 [============================>.] - ETA: 0s - loss: 0.7575 - accuracy: 0.6314WARNING:tensorflow:Can save best model only with val_acc available, skipping.\n",
      "103/103 [==============================] - 6s 61ms/step - loss: 0.7558 - accuracy: 0.6326 - val_loss: 0.7450 - val_accuracy: 0.7043\n",
      "Epoch 8/10\n",
      "103/103 [==============================] - ETA: 0s - loss: 0.7383 - accuracy: 0.6511WARNING:tensorflow:Can save best model only with val_acc available, skipping.\n",
      "103/103 [==============================] - 6s 61ms/step - loss: 0.7383 - accuracy: 0.6511 - val_loss: 0.7740 - val_accuracy: 0.6870\n",
      "Epoch 9/10\n",
      "102/103 [============================>.] - ETA: 0s - loss: 0.7319 - accuracy: 0.6637WARNING:tensorflow:Can save best model only with val_acc available, skipping.\n",
      "103/103 [==============================] - 6s 60ms/step - loss: 0.7329 - accuracy: 0.6628 - val_loss: 0.8075 - val_accuracy: 0.7043\n",
      "Epoch 10/10\n",
      "102/103 [============================>.] - ETA: 0s - loss: 0.7240 - accuracy: 0.6676WARNING:tensorflow:Can save best model only with val_acc available, skipping.\n",
      "103/103 [==============================] - 6s 60ms/step - loss: 0.7243 - accuracy: 0.6676 - val_loss: 0.7872 - val_accuracy: 0.6783\n",
      "Epoch 00010: early stopping\n",
      "3/3 [==============================] - 0s 13ms/step - loss: 1.0874 - accuracy: 0.5062\n",
      "Epoch 1/10\n",
      "102/103 [============================>.] - ETA: 0s - loss: 1.0006 - accuracy: 0.5304WARNING:tensorflow:Can save best model only with val_acc available, skipping.\n",
      "103/103 [==============================] - 6s 60ms/step - loss: 1.0021 - accuracy: 0.5283 - val_loss: 0.9712 - val_accuracy: 0.5478\n",
      "Epoch 2/10\n",
      "102/103 [============================>.] - ETA: 0s - loss: 0.9030 - accuracy: 0.5716WARNING:tensorflow:Can save best model only with val_acc available, skipping.\n",
      "103/103 [==============================] - 6s 58ms/step - loss: 0.9035 - accuracy: 0.5702 - val_loss: 0.7766 - val_accuracy: 0.7391\n",
      "Epoch 3/10\n",
      "102/103 [============================>.] - ETA: 0s - loss: 0.8350 - accuracy: 0.6039WARNING:tensorflow:Can save best model only with val_acc available, skipping.\n",
      "103/103 [==============================] - 6s 59ms/step - loss: 0.8354 - accuracy: 0.6043 - val_loss: 0.7388 - val_accuracy: 0.7217\n",
      "Epoch 4/10\n",
      "102/103 [============================>.] - ETA: 0s - loss: 0.8023 - accuracy: 0.6196WARNING:tensorflow:Can save best model only with val_acc available, skipping.\n",
      "103/103 [==============================] - 6s 59ms/step - loss: 0.8040 - accuracy: 0.6179 - val_loss: 0.7319 - val_accuracy: 0.7391\n"
     ]
    },
    {
     "name": "stdout",
     "output_type": "stream",
     "text": [
      "Epoch 5/10\n",
      "102/103 [============================>.] - ETA: 0s - loss: 0.7847 - accuracy: 0.6353WARNING:tensorflow:Can save best model only with val_acc available, skipping.\n",
      "103/103 [==============================] - 6s 59ms/step - loss: 0.7827 - accuracy: 0.6365 - val_loss: 0.7314 - val_accuracy: 0.7217\n",
      "Epoch 6/10\n",
      "103/103 [==============================] - ETA: 0s - loss: 0.7905 - accuracy: 0.6394 EWARNING:tensorflow:Can save best model only with val_acc available, skipping.\n",
      "103/103 [==============================] - 6s 59ms/step - loss: 0.7905 - accuracy: 0.6394 - val_loss: 0.8992 - val_accuracy: 0.5478\n",
      "Epoch 7/10\n",
      "102/103 [============================>.] - ETA: 0s - loss: 0.7930 - accuracy: 0.6235WARNING:tensorflow:Can save best model only with val_acc available, skipping.\n",
      "103/103 [==============================] - 6s 59ms/step - loss: 0.7934 - accuracy: 0.6218 - val_loss: 0.7652 - val_accuracy: 0.6696\n",
      "Epoch 8/10\n",
      "102/103 [============================>.] - ETA: 0s - loss: 0.7461 - accuracy: 0.6549WARNING:tensorflow:Can save best model only with val_acc available, skipping.\n",
      "103/103 [==============================] - 6s 60ms/step - loss: 0.7446 - accuracy: 0.6559 - val_loss: 0.7676 - val_accuracy: 0.7043\n",
      "Epoch 9/10\n",
      "102/103 [============================>.] - ETA: 0s - loss: 0.7342 - accuracy: 0.6598WARNING:tensorflow:Can save best model only with val_acc available, skipping.\n",
      "103/103 [==============================] - 6s 60ms/step - loss: 0.7324 - accuracy: 0.6618 - val_loss: 0.8271 - val_accuracy: 0.6609\n",
      "Epoch 00009: early stopping\n",
      "3/3 [==============================] - 0s 13ms/step - loss: 0.9885 - accuracy: 0.5926\n",
      "Epoch 1/10\n",
      "103/103 [==============================] - ETA: 0s - loss: 1.0028 - accuracy: 0.5263WARNING:tensorflow:Can save best model only with val_acc available, skipping.\n",
      "103/103 [==============================] - 6s 61ms/step - loss: 1.0028 - accuracy: 0.5263 - val_loss: 0.9828 - val_accuracy: 0.5391\n",
      "Epoch 2/10\n",
      "102/103 [============================>.] - ETA: 0s - loss: 0.9079 - accuracy: 0.5716WARNING:tensorflow:Can save best model only with val_acc available, skipping.\n",
      "103/103 [==============================] - 6s 58ms/step - loss: 0.9092 - accuracy: 0.5702 - val_loss: 0.7750 - val_accuracy: 0.6957\n",
      "Epoch 3/10\n",
      "102/103 [============================>.] - ETA: 0s - loss: 0.8386 - accuracy: 0.6127WARNING:tensorflow:Can save best model only with val_acc available, skipping.\n",
      "103/103 [==============================] - 6s 58ms/step - loss: 0.8394 - accuracy: 0.6111 - val_loss: 0.7006 - val_accuracy: 0.7130\n",
      "Epoch 4/10\n",
      "102/103 [============================>.] - ETA: 0s - loss: 0.8024 - accuracy: 0.6333WARNING:tensorflow:Can save best model only with val_acc available, skipping.\n",
      "103/103 [==============================] - 6s 57ms/step - loss: 0.8016 - accuracy: 0.6355 - val_loss: 0.7277 - val_accuracy: 0.7043\n",
      "Epoch 5/10\n",
      "102/103 [============================>.] - ETA: 0s - loss: 0.7802 - accuracy: 0.6363WARNING:tensorflow:Can save best model only with val_acc available, skipping.\n",
      "103/103 [==============================] - 6s 58ms/step - loss: 0.7832 - accuracy: 0.6355 - val_loss: 0.7375 - val_accuracy: 0.7130\n",
      "Epoch 6/10\n",
      "102/103 [============================>.] - ETA: 0s - loss: 0.7809 - accuracy: 0.6294WARNING:tensorflow:Can save best model only with val_acc available, skipping.\n",
      "103/103 [==============================] - 6s 58ms/step - loss: 0.7811 - accuracy: 0.6296 - val_loss: 0.7346 - val_accuracy: 0.6783\n",
      "Epoch 7/10\n",
      "102/103 [============================>.] - ETA: 0s - loss: 0.7633 - accuracy: 0.6324WARNING:tensorflow:Can save best model only with val_acc available, skipping.\n",
      "103/103 [==============================] - 6s 58ms/step - loss: 0.7613 - accuracy: 0.6345 - val_loss: 0.7572 - val_accuracy: 0.6783\n",
      "Epoch 00007: early stopping\n",
      "3/3 [==============================] - 0s 13ms/step - loss: 0.8135 - accuracy: 0.5679\n",
      "Epoch 1/10\n",
      "103/103 [==============================] - ETA: 0s - loss: 1.0100 - accuracy: 0.5273WARNING:tensorflow:Can save best model only with val_acc available, skipping.\n",
      "103/103 [==============================] - 6s 60ms/step - loss: 1.0100 - accuracy: 0.5273 - val_loss: 1.0147 - val_accuracy: 0.5391\n",
      "Epoch 2/10\n",
      "103/103 [==============================] - ETA: 0s - loss: 0.9103 - accuracy: 0.5556 ETA: 0s - lWARNING:tensorflow:Can save best model only with val_acc available, skipping.\n",
      "103/103 [==============================] - 6s 61ms/step - loss: 0.9103 - accuracy: 0.5556 - val_loss: 0.8118 - val_accuracy: 0.6696\n",
      "Epoch 3/10\n",
      "102/103 [============================>.] - ETA: 0s - loss: 0.8278 - accuracy: 0.6157WARNING:tensorflow:Can save best model only with val_acc available, skipping.\n",
      "103/103 [==============================] - 6s 61ms/step - loss: 0.8268 - accuracy: 0.6160 - val_loss: 0.7690 - val_accuracy: 0.6783\n",
      "Epoch 4/10\n",
      "103/103 [==============================] - ETA: 0s - loss: 0.7873 - accuracy: 0.6267WARNING:tensorflow:Can save best model only with val_acc available, skipping.\n",
      "103/103 [==============================] - 6s 61ms/step - loss: 0.7873 - accuracy: 0.6267 - val_loss: 0.8613 - val_accuracy: 0.6609\n",
      "Epoch 5/10\n",
      "102/103 [============================>.] - ETA: 0s - loss: 0.7784 - accuracy: 0.6265 ETA: 3s - l - ETA: 1s -WARNING:tensorflow:Can save best model only with val_acc available, skipping.\n",
      "103/103 [==============================] - 6s 61ms/step - loss: 0.7767 - accuracy: 0.6277 - val_loss: 0.8168 - val_accuracy: 0.6522\n",
      "Epoch 6/10\n",
      "102/103 [============================>.] - ETA: 0s - loss: 0.7569 - accuracy: 0.6363WARNING:tensorflow:Can save best model only with val_acc available, skipping.\n",
      "103/103 [==============================] - 6s 61ms/step - loss: 0.7578 - accuracy: 0.6345 - val_loss: 0.8891 - val_accuracy: 0.6435\n",
      "Epoch 7/10\n",
      "102/103 [============================>.] - ETA: 0s - loss: 0.7521 - accuracy: 0.6520WARNING:tensorflow:Can save best model only with val_acc available, skipping.\n",
      "103/103 [==============================] - 6s 62ms/step - loss: 0.7531 - accuracy: 0.6501 - val_loss: 0.8749 - val_accuracy: 0.6522\n",
      "Epoch 00007: early stopping\n",
      "3/3 [==============================] - 0s 14ms/step - loss: 0.9531 - accuracy: 0.6049\n",
      "Epoch 1/10\n",
      "103/103 [==============================] - ETA: 0s - loss: 1.0136 - accuracy: 0.5312WARNING:tensorflow:Can save best model only with val_acc available, skipping.\n",
      "103/103 [==============================] - 7s 63ms/step - loss: 1.0136 - accuracy: 0.5312 - val_loss: 1.0179 - val_accuracy: 0.5391\n",
      "Epoch 2/10\n",
      "103/103 [==============================] - ETA: 0s - loss: 0.9210 - accuracy: 0.5575WARNING:tensorflow:Can save best model only with val_acc available, skipping.\n",
      "103/103 [==============================] - 6s 61ms/step - loss: 0.9210 - accuracy: 0.5575 - val_loss: 0.8064 - val_accuracy: 0.6957\n",
      "Epoch 3/10\n",
      "102/103 [============================>.] - ETA: 0s - loss: 0.8360 - accuracy: 0.6255WARNING:tensorflow:Can save best model only with val_acc available, skipping.\n",
      "103/103 [==============================] - 6s 61ms/step - loss: 0.8359 - accuracy: 0.6248 - val_loss: 0.7593 - val_accuracy: 0.6957\n",
      "Epoch 4/10\n",
      "102/103 [============================>.] - ETA: 0s - loss: 0.8011 - accuracy: 0.6353WARNING:tensorflow:Can save best model only with val_acc available, skipping.\n",
      "103/103 [==============================] - 6s 62ms/step - loss: 0.8060 - accuracy: 0.6326 - val_loss: 0.7521 - val_accuracy: 0.6957\n",
      "Epoch 5/10\n",
      "103/103 [==============================] - ETA: 0s - loss: 0.7804 - accuracy: 0.6287WARNING:tensorflow:Can save best model only with val_acc available, skipping.\n",
      "103/103 [==============================] - 7s 66ms/step - loss: 0.7804 - accuracy: 0.6287 - val_loss: 0.7486 - val_accuracy: 0.6783\n",
      "Epoch 6/10\n",
      "103/103 [==============================] - ETA: 0s - loss: 0.7712 - accuracy: 0.6442WARNING:tensorflow:Can save best model only with val_acc available, skipping.\n",
      "103/103 [==============================] - 6s 62ms/step - loss: 0.7712 - accuracy: 0.6442 - val_loss: 0.8234 - val_accuracy: 0.6522\n",
      "Epoch 7/10\n",
      "103/103 [==============================] - ETA: 0s - loss: 0.7575 - accuracy: 0.6365WARNING:tensorflow:Can save best model only with val_acc available, skipping.\n",
      "103/103 [==============================] - 6s 63ms/step - loss: 0.7575 - accuracy: 0.6365 - val_loss: 0.8274 - val_accuracy: 0.6957\n"
     ]
    },
    {
     "name": "stdout",
     "output_type": "stream",
     "text": [
      "Epoch 8/10\n",
      "103/103 [==============================] - ETA: 0s - loss: 0.7409 - accuracy: 0.6481WARNING:tensorflow:Can save best model only with val_acc available, skipping.\n",
      "103/103 [==============================] - 6s 63ms/step - loss: 0.7409 - accuracy: 0.6481 - val_loss: 0.8573 - val_accuracy: 0.6435\n",
      "Epoch 9/10\n",
      "103/103 [==============================] - ETA: 0s - loss: 0.7314 - accuracy: 0.6452WARNING:tensorflow:Can save best model only with val_acc available, skipping.\n",
      "103/103 [==============================] - 6s 62ms/step - loss: 0.7314 - accuracy: 0.6452 - val_loss: 0.8596 - val_accuracy: 0.6435\n",
      "Epoch 00009: early stopping\n",
      "3/3 [==============================] - 0s 14ms/step - loss: 0.8672 - accuracy: 0.6420\n",
      "Epoch 1/10\n",
      "102/103 [============================>.] - ETA: 0s - loss: 1.0030 - accuracy: 0.5304WARNING:tensorflow:Can save best model only with val_acc available, skipping.\n",
      "103/103 [==============================] - 6s 63ms/step - loss: 1.0031 - accuracy: 0.5302 - val_loss: 0.9898 - val_accuracy: 0.5826\n",
      "Epoch 2/10\n",
      "102/103 [============================>.] - ETA: 0s - loss: 0.9021 - accuracy: 0.5735WARNING:tensorflow:Can save best model only with val_acc available, skipping.\n",
      "103/103 [==============================] - 6s 61ms/step - loss: 0.9033 - accuracy: 0.5702 - val_loss: 0.7544 - val_accuracy: 0.7217\n",
      "Epoch 3/10\n",
      "102/103 [============================>.] - ETA: 0s - loss: 0.8489 - accuracy: 0.5863WARNING:tensorflow:Can save best model only with val_acc available, skipping.\n",
      "103/103 [==============================] - 6s 60ms/step - loss: 0.8485 - accuracy: 0.5877 - val_loss: 0.7119 - val_accuracy: 0.7043\n",
      "Epoch 4/10\n",
      "102/103 [============================>.] - ETA: 0s - loss: 0.8139 - accuracy: 0.6069 ETA: 0s - loss: 0.8WARNING:tensorflow:Can save best model only with val_acc available, skipping.\n",
      "103/103 [==============================] - 6s 60ms/step - loss: 0.8148 - accuracy: 0.6062 - val_loss: 0.7884 - val_accuracy: 0.6696\n",
      "Epoch 5/10\n",
      "102/103 [============================>.] - ETA: 0s - loss: 0.7840 - accuracy: 0.6294 ETA: 0s - loss: 0.7843 - accuracy: 0.WARNING:tensorflow:Can save best model only with val_acc available, skipping.\n",
      "103/103 [==============================] - 6s 60ms/step - loss: 0.7863 - accuracy: 0.6277 - val_loss: 0.8434 - val_accuracy: 0.6435\n",
      "Epoch 6/10\n",
      "102/103 [============================>.] - ETA: 0s - loss: 0.7687 - accuracy: 0.6265WARNING:tensorflow:Can save best model only with val_acc available, skipping.\n",
      "103/103 [==============================] - 6s 59ms/step - loss: 0.7704 - accuracy: 0.6257 - val_loss: 0.8018 - val_accuracy: 0.6783\n",
      "Epoch 7/10\n",
      "102/103 [============================>.] - ETA: 0s - loss: 0.7598 - accuracy: 0.6382WARNING:tensorflow:Can save best model only with val_acc available, skipping.\n",
      "103/103 [==============================] - 6s 59ms/step - loss: 0.7602 - accuracy: 0.6374 - val_loss: 0.8286 - val_accuracy: 0.6348\n",
      "Epoch 00007: early stopping\n",
      "3/3 [==============================] - 0s 14ms/step - loss: 0.8598 - accuracy: 0.6420\n",
      "Epoch 1/10\n",
      "103/103 [==============================] - ETA: 0s - loss: 1.0025 - accuracy: 0.5331WARNING:tensorflow:Can save best model only with val_acc available, skipping.\n",
      "103/103 [==============================] - 6s 60ms/step - loss: 1.0025 - accuracy: 0.5331 - val_loss: 0.9508 - val_accuracy: 0.5826\n",
      "Epoch 2/10\n",
      "102/103 [============================>.] - ETA: 0s - loss: 0.9057 - accuracy: 0.5824WARNING:tensorflow:Can save best model only with val_acc available, skipping.\n",
      "103/103 [==============================] - 6s 58ms/step - loss: 0.9050 - accuracy: 0.5838 - val_loss: 0.7999 - val_accuracy: 0.7217\n",
      "Epoch 3/10\n",
      "102/103 [============================>.] - ETA: 0s - loss: 0.8304 - accuracy: 0.6127WARNING:tensorflow:Can save best model only with val_acc available, skipping.\n",
      "103/103 [==============================] - 6s 59ms/step - loss: 0.8284 - accuracy: 0.6131 - val_loss: 0.7057 - val_accuracy: 0.7130\n",
      "Epoch 4/10\n",
      "102/103 [============================>.] - ETA: 0s - loss: 0.7905 - accuracy: 0.6275WARNING:tensorflow:Can save best model only with val_acc available, skipping.\n",
      "103/103 [==============================] - 6s 59ms/step - loss: 0.7915 - accuracy: 0.6267 - val_loss: 0.8172 - val_accuracy: 0.6870\n",
      "Epoch 5/10\n",
      "102/103 [============================>.] - ETA: 0s - loss: 0.7925 - accuracy: 0.6255WARNING:tensorflow:Can save best model only with val_acc available, skipping.\n",
      "103/103 [==============================] - 6s 59ms/step - loss: 0.7926 - accuracy: 0.6257 - val_loss: 0.7692 - val_accuracy: 0.6870\n",
      "Epoch 6/10\n",
      "102/103 [============================>.] - ETA: 0s - loss: 0.7703 - accuracy: 0.6402WARNING:tensorflow:Can save best model only with val_acc available, skipping.\n",
      "103/103 [==============================] - 6s 59ms/step - loss: 0.7722 - accuracy: 0.6404 - val_loss: 0.7262 - val_accuracy: 0.7043\n",
      "Epoch 7/10\n",
      "103/103 [==============================] - ETA: 0s - loss: 0.7546 - accuracy: 0.6569WARNING:tensorflow:Can save best model only with val_acc available, skipping.\n",
      "103/103 [==============================] - 6s 60ms/step - loss: 0.7546 - accuracy: 0.6569 - val_loss: 0.8367 - val_accuracy: 0.6783\n",
      "Epoch 00007: early stopping\n",
      "3/3 [==============================] - 0s 14ms/step - loss: 0.9911 - accuracy: 0.4691\n"
     ]
    }
   ],
   "source": [
    "#모델의 설정, 컴파일, 실행\n",
    "for train, test in skf.split(X,Y):\n",
    "    from tensorflow.keras.callbacks import EarlyStopping, ModelCheckpoint\n",
    "    es = EarlyStopping(monitor='val_loss',mode='min',verbose=1,patience=4)\n",
    "    mc = ModelCheckpoint('best_model.h5',monitor='val_acc',mode='max',verbose=1,save_best_only=True)\n",
    "\n",
    "    model = Sequential()\n",
    "    model.add(Embedding(max_words, 64))\n",
    "    model.add(LSTM(128,activation='tanh'))\n",
    "    model.add(Dense(3, activation='softmax'))\n",
    "    model.compile(optimizer='adam', loss='categorical_crossentropy', metrics=['accuracy'])\n",
    "    history = model.fit(X[train],Y[train], epochs=10, batch_size=10, callbacks=[es,mc], validation_split=0.1)\n",
    "    k_accuracy = '%.4f'%(model.evaluate(X[test],Y[test])[1])\n",
    "    accuracy.append(k_accuracy)"
   ]
  },
  {
   "cell_type": "code",
   "execution_count": 85,
   "metadata": {
    "scrolled": true
   },
   "outputs": [
    {
     "name": "stdout",
     "output_type": "stream",
     "text": [
      "9/9 [==============================] - 0s 19ms/step - loss: 0.9478 - accuracy: 0.5836\n",
      "\n",
      " 테스트 정확도 : 58.36%\n"
     ]
    }
   ],
   "source": [
    "print(\"\\n 테스트 정확도 : {:.2f}%\".format(model.evaluate(X_test,y_test_cata)[1]*100))"
   ]
  },
  {
   "cell_type": "markdown",
   "metadata": {},
   "source": [
    "## Learning Rate 조정"
   ]
  },
  {
   "cell_type": "code",
   "execution_count": 41,
   "metadata": {},
   "outputs": [],
   "source": [
    "from tensorflow.keras.callbacks import EarlyStopping, ModelCheckpoint\n",
    "from keras.optimizers import SGD, RMSprop, Adagrad, Adam"
   ]
  },
  {
   "cell_type": "code",
   "execution_count": 45,
   "metadata": {
    "collapsed": true
   },
   "outputs": [
    {
     "name": "stdout",
     "output_type": "stream",
     "text": [
      "Epoch 1/20\n",
      "109/110 [============================>.] - ETA: 0s - loss: 1.0026 - accuracy: 0.5321WARNING:tensorflow:Can save best model only with val_acc available, skipping.\n",
      "110/110 [==============================] - 5s 46ms/step - loss: 1.0040 - accuracy: 0.5305 - val_loss: 0.9662 - val_accuracy: 0.5528\n",
      "Epoch 2/20\n",
      "110/110 [==============================] - ETA: 0s - loss: 0.9044 - accuracy: 0.5742WARNING:tensorflow:Can save best model only with val_acc available, skipping.\n",
      "110/110 [==============================] - 5s 42ms/step - loss: 0.9044 - accuracy: 0.5742 - val_loss: 0.7599 - val_accuracy: 0.7154\n",
      "Epoch 3/20\n",
      "109/110 [============================>.] - ETA: 0s - loss: 0.8341 - accuracy: 0.6055WARNING:tensorflow:Can save best model only with val_acc available, skipping.\n",
      "110/110 [==============================] - 5s 42ms/step - loss: 0.8326 - accuracy: 0.6060 - val_loss: 0.7568 - val_accuracy: 0.7073\n",
      "Epoch 4/20\n",
      "110/110 [==============================] - ETA: 0s - loss: 0.8059 - accuracy: 0.6197WARNING:tensorflow:Can save best model only with val_acc available, skipping.\n",
      "110/110 [==============================] - 5s 42ms/step - loss: 0.8059 - accuracy: 0.6197 - val_loss: 0.7442 - val_accuracy: 0.7073\n",
      "Epoch 5/20\n",
      "109/110 [============================>.] - ETA: 0s - loss: 0.7805 - accuracy: 0.6339WARNING:tensorflow:Can save best model only with val_acc available, skipping.\n",
      "110/110 [==============================] - 5s 42ms/step - loss: 0.7805 - accuracy: 0.6333 - val_loss: 0.8216 - val_accuracy: 0.6829\n",
      "Epoch 6/20\n",
      "110/110 [==============================] - ETA: 0s - loss: 0.7634 - accuracy: 0.6351WARNING:tensorflow:Can save best model only with val_acc available, skipping.\n",
      "110/110 [==============================] - 5s 42ms/step - loss: 0.7634 - accuracy: 0.6351 - val_loss: 0.7640 - val_accuracy: 0.6748\n",
      "Epoch 7/20\n",
      "109/110 [============================>.] - ETA: 0s - loss: 0.7551 - accuracy: 0.6431WARNING:tensorflow:Can save best model only with val_acc available, skipping.\n",
      "110/110 [==============================] - 5s 44ms/step - loss: 0.7585 - accuracy: 0.6424 - val_loss: 0.7855 - val_accuracy: 0.6992\n",
      "Epoch 8/20\n",
      "109/110 [============================>.] - ETA: 0s - loss: 0.7530 - accuracy: 0.6385WARNING:tensorflow:Can save best model only with val_acc available, skipping.\n",
      "110/110 [==============================] - 5s 46ms/step - loss: 0.7528 - accuracy: 0.6379 - val_loss: 0.8006 - val_accuracy: 0.6748\n",
      "Epoch 9/20\n",
      "110/110 [==============================] - ETA: 0s - loss: 0.7403 - accuracy: 0.6606WARNING:tensorflow:Can save best model only with val_acc available, skipping.\n",
      "110/110 [==============================] - 5s 48ms/step - loss: 0.7403 - accuracy: 0.6606 - val_loss: 0.8476 - val_accuracy: 0.6667\n",
      "Epoch 10/20\n",
      "109/110 [============================>.] - ETA: 0s - loss: 0.7173 - accuracy: 0.6725WARNING:tensorflow:Can save best model only with val_acc available, skipping.\n",
      "110/110 [==============================] - 5s 48ms/step - loss: 0.7175 - accuracy: 0.6724 - val_loss: 0.8491 - val_accuracy: 0.6748\n",
      "Epoch 11/20\n",
      "109/110 [============================>.] - ETA: 0s - loss: 0.7072 - accuracy: 0.6881WARNING:tensorflow:Can save best model only with val_acc available, skipping.\n",
      "110/110 [==============================] - 5s 47ms/step - loss: 0.7069 - accuracy: 0.6879 - val_loss: 0.7941 - val_accuracy: 0.6748\n",
      "Epoch 12/20\n",
      "110/110 [==============================] - ETA: 0s - loss: 0.6990 - accuracy: 0.6706WARNING:tensorflow:Can save best model only with val_acc available, skipping.\n",
      "110/110 [==============================] - 5s 47ms/step - loss: 0.6990 - accuracy: 0.6706 - val_loss: 0.8870 - val_accuracy: 0.6667\n",
      "Epoch 13/20\n",
      "110/110 [==============================] - ETA: 0s - loss: 0.6801 - accuracy: 0.6888WARNING:tensorflow:Can save best model only with val_acc available, skipping.\n",
      "110/110 [==============================] - 5s 48ms/step - loss: 0.6801 - accuracy: 0.6888 - val_loss: 0.9612 - val_accuracy: 0.6341\n",
      "Epoch 14/20\n",
      "110/110 [==============================] - ETA: 0s - loss: 0.6639 - accuracy: 0.7025WARNING:tensorflow:Can save best model only with val_acc available, skipping.\n",
      "110/110 [==============================] - 5s 47ms/step - loss: 0.6639 - accuracy: 0.7025 - val_loss: 0.9795 - val_accuracy: 0.6260\n",
      "Epoch 00014: early stopping\n",
      "9/9 [==============================] - 0s 18ms/step - loss: 1.0323 - accuracy: 0.6050\n",
      "\n",
      " 테스트 정확도 : 60.50%\n"
     ]
    }
   ],
   "source": [
    "es = EarlyStopping(monitor='val_loss',mode='min',verbose=1,patience=10)\n",
    "mc = ModelCheckpoint('best_model.h5',monitor='val_acc',mode='max',verbose=1,save_best_only=True)\n",
    "opt =Adam()\n",
    "\n",
    "model = Sequential()\n",
    "model.add(Embedding(max_words, 64))\n",
    "model.add(LSTM(128,activation='tanh'))\n",
    "model.add(Dense(3, activation='softmax'))\n",
    "model.compile(optimizer=opt, loss='categorical_crossentropy', metrics=['accuracy'])\n",
    "\n",
    "history = model.fit(X_train, y_train_cata, epochs=20, batch_size=10, callbacks=[es,mc], validation_split=0.1)\n",
    "    \n",
    "print(\"\\n 테스트 정확도 : {:.2f}%\".format(model.evaluate(X_test,y_test_cata)[1]*100))"
   ]
  },
  {
   "cell_type": "code",
   "execution_count": 48,
   "metadata": {},
   "outputs": [],
   "source": [
    "from matplotlib import pyplot"
   ]
  },
  {
   "cell_type": "code",
   "execution_count": 71,
   "metadata": {},
   "outputs": [],
   "source": [
    "#optimizer\n",
    "adam = Adam()\n",
    "sgd=SGD(lr=0.01,momentum=0.9,decay=0.01)\n",
    "ad = Adagrad()\n",
    "rmsprop = RMSprop()\n",
    "#fit a model and plot learning curve\n",
    "def fit_model(X_train,y_train_cata,X_test,y_test_cata,optimizer):\n",
    "    es = EarlyStopping(monitor='val_loss',mode='min',verbose=1,patience=10)\n",
    "    mc = ModelCheckpoint('best_model.h5',monitor='val_acc',mode='max',verbose=1,save_best_only=True)\n",
    "    #define model\n",
    "    model = Sequential()\n",
    "    model.add(Embedding(max_words,64))\n",
    "    model.add(LSTM(128,activation='tanh'))\n",
    "    model.add(Dense(50, input_dim=2,activation='relu'))\n",
    "    model.add(Dense(3, activation='softmax'))\n",
    "    #compile model\n",
    "    model.compile(optimizer=optimizer, loss='categorical_crossentropy', metrics=['accuracy'])\n",
    "    #fit model\n",
    "    history = model.fit(X_train, y_train_cata, epochs=20, batch_size=10, callbacks=[es,mc],validation_split=0.1,verbose=0.1)\n",
    "    #print 테스트 정확도\n",
    "    print(\"\\n 테스트 정확도 : {:.2f}%\".format(model.evaluate(X_test,y_test_cata)[1]*100))\n",
    "    #plot learning curves\n",
    "    pyplot.plot(history.history['accuracy'],label='train')\n",
    "    pyplot.plot(history.history['val_accuracy'],label='test')\n",
    "    pyplot.title('opt='+optimizer,pad=80)"
   ]
  },
  {
   "cell_type": "code",
   "execution_count": 72,
   "metadata": {},
   "outputs": [
    {
     "name": "stdout",
     "output_type": "stream",
     "text": [
      "Epoch 1/20\n",
      "WARNING:tensorflow:Can save best model only with val_acc available, skipping.\n",
      "Epoch 2/20\n",
      "WARNING:tensorflow:Can save best model only with val_acc available, skipping.\n",
      "Epoch 3/20\n",
      "WARNING:tensorflow:Can save best model only with val_acc available, skipping.\n",
      "Epoch 4/20\n",
      "WARNING:tensorflow:Can save best model only with val_acc available, skipping.\n",
      "Epoch 5/20\n",
      "WARNING:tensorflow:Can save best model only with val_acc available, skipping.\n",
      "Epoch 6/20\n",
      "WARNING:tensorflow:Can save best model only with val_acc available, skipping.\n",
      "Epoch 7/20\n",
      "WARNING:tensorflow:Can save best model only with val_acc available, skipping.\n",
      "Epoch 8/20\n",
      "WARNING:tensorflow:Can save best model only with val_acc available, skipping.\n",
      "Epoch 9/20\n",
      "WARNING:tensorflow:Can save best model only with val_acc available, skipping.\n",
      "Epoch 10/20\n",
      "WARNING:tensorflow:Can save best model only with val_acc available, skipping.\n",
      "Epoch 11/20\n",
      "WARNING:tensorflow:Can save best model only with val_acc available, skipping.\n",
      "Epoch 12/20\n",
      "WARNING:tensorflow:Can save best model only with val_acc available, skipping.\n",
      "Epoch 13/20\n",
      "WARNING:tensorflow:Can save best model only with val_acc available, skipping.\n",
      "Epoch 14/20\n",
      "WARNING:tensorflow:Can save best model only with val_acc available, skipping.\n",
      "Epoch 00014: early stopping\n",
      "9/9 [==============================] - 0s 17ms/step - loss: 1.0968 - accuracy: 0.5694\n",
      "\n",
      " 테스트 정확도 : 56.94%\n"
     ]
    },
    {
     "ename": "TypeError",
     "evalue": "can only concatenate str (not \"Adam\") to str",
     "output_type": "error",
     "traceback": [
      "\u001b[1;31m---------------------------------------------------------------------------\u001b[0m",
      "\u001b[1;31mTypeError\u001b[0m                                 Traceback (most recent call last)",
      "\u001b[1;32m<ipython-input-72-e8e4161e29ae>\u001b[0m in \u001b[0;36m<module>\u001b[1;34m\u001b[0m\n\u001b[1;32m----> 1\u001b[1;33m \u001b[0mfit_model\u001b[0m\u001b[1;33m(\u001b[0m\u001b[0mX_train\u001b[0m\u001b[1;33m,\u001b[0m\u001b[0my_train_cata\u001b[0m\u001b[1;33m,\u001b[0m\u001b[0mX_test\u001b[0m\u001b[1;33m,\u001b[0m\u001b[0my_test_cata\u001b[0m\u001b[1;33m,\u001b[0m\u001b[0madam\u001b[0m\u001b[1;33m)\u001b[0m\u001b[1;33m\u001b[0m\u001b[1;33m\u001b[0m\u001b[0m\n\u001b[0m",
      "\u001b[1;32m<ipython-input-71-ce1ceb030773>\u001b[0m in \u001b[0;36mfit_model\u001b[1;34m(X_train, y_train_cata, X_test, y_test_cata, optimizer)\u001b[0m\n\u001b[0;32m     23\u001b[0m     \u001b[0mpyplot\u001b[0m\u001b[1;33m.\u001b[0m\u001b[0mplot\u001b[0m\u001b[1;33m(\u001b[0m\u001b[0mhistory\u001b[0m\u001b[1;33m.\u001b[0m\u001b[0mhistory\u001b[0m\u001b[1;33m[\u001b[0m\u001b[1;34m'accuracy'\u001b[0m\u001b[1;33m]\u001b[0m\u001b[1;33m,\u001b[0m\u001b[0mlabel\u001b[0m\u001b[1;33m=\u001b[0m\u001b[1;34m'train'\u001b[0m\u001b[1;33m)\u001b[0m\u001b[1;33m\u001b[0m\u001b[1;33m\u001b[0m\u001b[0m\n\u001b[0;32m     24\u001b[0m     \u001b[0mpyplot\u001b[0m\u001b[1;33m.\u001b[0m\u001b[0mplot\u001b[0m\u001b[1;33m(\u001b[0m\u001b[0mhistory\u001b[0m\u001b[1;33m.\u001b[0m\u001b[0mhistory\u001b[0m\u001b[1;33m[\u001b[0m\u001b[1;34m'val_accuracy'\u001b[0m\u001b[1;33m]\u001b[0m\u001b[1;33m,\u001b[0m\u001b[0mlabel\u001b[0m\u001b[1;33m=\u001b[0m\u001b[1;34m'test'\u001b[0m\u001b[1;33m)\u001b[0m\u001b[1;33m\u001b[0m\u001b[1;33m\u001b[0m\u001b[0m\n\u001b[1;32m---> 25\u001b[1;33m     \u001b[0mpyplot\u001b[0m\u001b[1;33m.\u001b[0m\u001b[0mtitle\u001b[0m\u001b[1;33m(\u001b[0m\u001b[1;34m'opt='\u001b[0m\u001b[1;33m+\u001b[0m\u001b[0moptimizer\u001b[0m\u001b[1;33m,\u001b[0m\u001b[0mpad\u001b[0m\u001b[1;33m=\u001b[0m\u001b[1;36m80\u001b[0m\u001b[1;33m)\u001b[0m\u001b[1;33m\u001b[0m\u001b[1;33m\u001b[0m\u001b[0m\n\u001b[0m",
      "\u001b[1;31mTypeError\u001b[0m: can only concatenate str (not \"Adam\") to str"
     ]
    },
    {
     "data": {
      "image/png": "[encoded data removed]",
      "text/plain": [
       "<Figure size 432x288 with 1 Axes>"
      ]
     },
     "metadata": {
      "needs_background": "light"
     },
     "output_type": "display_data"
    }
   ],
   "source": [
    "fit_model(X_train,y_train_cata,X_test,y_test_cata,adam)"
   ]
  },
  {
   "cell_type": "markdown",
   "metadata": {},
   "source": [
    "## 베이지안 최적화"
   ]
  },
  {
   "cell_type": "code",
   "execution_count": 5,
   "metadata": {},
   "outputs": [
    {
     "name": "stdout",
     "output_type": "stream",
     "text": [
      "Collecting bayesian-optimization\n",
      "  Downloading bayesian-optimization-1.2.0.tar.gz (14 kB)\n",
      "Requirement already satisfied: numpy>=1.9.0 in c:\\users\\admin\\anaconda3\\lib\\site-packages (from bayesian-optimization) (1.18.1)\n",
      "Requirement already satisfied: scipy>=0.14.0 in c:\\users\\admin\\anaconda3\\lib\\site-packages (from bayesian-optimization) (1.4.1)\n",
      "Requirement already satisfied: scikit-learn>=0.18.0 in c:\\users\\admin\\anaconda3\\lib\\site-packages (from bayesian-optimization) (0.23.2)\n",
      "Requirement already satisfied: threadpoolctl>=2.0.0 in c:\\users\\admin\\anaconda3\\lib\\site-packages (from scikit-learn>=0.18.0->bayesian-optimization) (2.1.0)\n",
      "Requirement already satisfied: joblib>=0.11 in c:\\users\\admin\\anaconda3\\lib\\site-packages (from scikit-learn>=0.18.0->bayesian-optimization) (0.14.1)\n",
      "Building wheels for collected packages: bayesian-optimization\n",
      "  Building wheel for bayesian-optimization (setup.py): started\n",
      "  Building wheel for bayesian-optimization (setup.py): finished with status 'done'\n",
      "  Created wheel for bayesian-optimization: filename=bayesian_optimization-1.2.0-py3-none-any.whl size=11689 sha256=984db3c61c973454b5b37d87832caaa5959ad9dc65c1f371823f920efec4bd7b\n",
      "  Stored in directory: c:\\users\\admin\\appdata\\local\\pip\\cache\\wheels\\fd\\9b\\71\\f127d694e02eb40bcf18c7ae9613b88a6be4470f57a8528c5b\n",
      "Successfully built bayesian-optimization\n",
      "Installing collected packages: bayesian-optimization\n",
      "Successfully installed bayesian-optimization-1.2.0\n"
     ]
    }
   ],
   "source": [
    "!pip install bayesian-optimization"
   ]
  },
  {
   "cell_type": "code",
   "execution_count": 6,
   "metadata": {},
   "outputs": [],
   "source": [
    "from bayes_opt import BayesianOptimization"
   ]
  },
  {
   "cell_type": "code",
   "execution_count": 7,
   "metadata": {
    "collapsed": true
   },
   "outputs": [
    {
     "ename": "SyntaxError",
     "evalue": "invalid syntax (<ipython-input-7-7b327ceb6879>, line 2)",
     "output_type": "error",
     "traceback": [
      "\u001b[1;36m  File \u001b[1;32m\"<ipython-input-7-7b327ceb6879>\"\u001b[1;36m, line \u001b[1;32m2\u001b[0m\n\u001b[1;33m    BO_lgb = BayesianOptimization(성능 평가를 수행할 함수, 테스트 수행을 위한 하이퍼 파라미터 Dic,random_state=0)\u001b[0m\n\u001b[1;37m                                       ^\u001b[0m\n\u001b[1;31mSyntaxError\u001b[0m\u001b[1;31m:\u001b[0m invalid syntax\n"
     ]
    }
   ],
   "source": [
    "#BaysianOptimization 객체생성\n",
    "BO_lgb = BayesianOptimization(성능 평가를 수행할 함수, 테스트 수행을 위한 하이퍼 파라미터 Dic,random_state=0)"
   ]
  },
  {
   "cell_type": "code",
   "execution_count": null,
   "metadata": {},
   "outputs": [],
   "source": [
    "#하이퍼 파라미터 dictionary\n",
    "params={\n",
    "    \n",
    "}"
   ]
  }
 ],
 "metadata": {
  "kernelspec": {
   "display_name": "Python 3",
   "language": "python",
   "name": "python3"
  },
  "language_info": {
   "codemirror_mode": {
    "name": "ipython",
    "version": 3
   },
   "file_extension": ".py",
   "mimetype": "text/x-python",
   "name": "python",
   "nbconvert_exporter": "python",
   "pygments_lexer": "ipython3",
   "version": "3.7.4"
  }
 },
 "nbformat": 4,
 "nbformat_minor": 4
}
