{
 "cells": [
  {
   "cell_type": "code",
   "execution_count": 2,
   "metadata": {},
   "outputs": [],
   "source": [
    "import pandas as pd\n",
    "import numpy as np"
   ]
  },
  {
   "cell_type": "markdown",
   "metadata": {},
   "source": [
    "# 데이터 불러오기\n",
    "\n",
    "- Human Labeling된 데이터인 SKT , 현대백화점, 현대모비스, S-Oil, 기업은행, 셀트리온 데이터 셋을 이용하여 각 정확도를 올린다.\n",
    "\n",
    "- 순서\n",
    "    1. 데이터 불러오기\n",
    "    2. 데이터 분리\n",
    "    3. Title 의 토큰화 및 불용어 제거\n",
    "    4. Label 의 원핫인코딩\n",
    "    5. 길이가 다른 title의 정형화\n",
    "    6. LSTM을 통한 딥러닝\n",
    "    7. 정확도 확인"
   ]
  },
  {
   "cell_type": "code",
   "execution_count": 3,
   "metadata": {},
   "outputs": [],
   "source": [
    "df_skt = pd.read_csv('./trainingset/SKT_traindata_482.csv')\n",
    "df_train_skt = df_skt.iloc[:200]\n",
    "df_test_skt = df_skt.iloc[200:]"
   ]
  },
  {
   "cell_type": "code",
   "execution_count": 4,
   "metadata": {},
   "outputs": [
    {
     "data": {
      "text/html": [
       "<div>\n",
       "<style scoped>\n",
       "    .dataframe tbody tr th:only-of-type {\n",
       "        vertical-align: middle;\n",
       "    }\n",
       "\n",
       "    .dataframe tbody tr th {\n",
       "        vertical-align: top;\n",
       "    }\n",
       "\n",
       "    .dataframe thead th {\n",
       "        text-align: right;\n",
       "    }\n",
       "</style>\n",
       "<table border=\"1\" class=\"dataframe\">\n",
       "  <thead>\n",
       "    <tr style=\"text-align: right;\">\n",
       "      <th></th>\n",
       "      <th>id</th>\n",
       "      <th>Title</th>\n",
       "      <th>label</th>\n",
       "    </tr>\n",
       "  </thead>\n",
       "  <tbody>\n",
       "    <tr>\n",
       "      <th>200</th>\n",
       "      <td>0</td>\n",
       "      <td>정부, 구글 지도 해외 반출 불허 구글이 보완책 수용 안해 (상보)</td>\n",
       "      <td>0</td>\n",
       "    </tr>\n",
       "    <tr>\n",
       "      <th>201</th>\n",
       "      <td>1</td>\n",
       "      <td>미래부, 2차 유료방송 발전방안 공개토론회 개최</td>\n",
       "      <td>0</td>\n",
       "    </tr>\n",
       "    <tr>\n",
       "      <th>202</th>\n",
       "      <td>2</td>\n",
       "      <td>SKT, 전용폰 구입 고객에 T1 롤드컵 우승 기념품 증정</td>\n",
       "      <td>1</td>\n",
       "    </tr>\n",
       "    <tr>\n",
       "      <th>203</th>\n",
       "      <td>3</td>\n",
       "      <td>'갤S7'사면 페이백 50만원 준다더니제2의 거성 모바일 사태?</td>\n",
       "      <td>0</td>\n",
       "    </tr>\n",
       "    <tr>\n",
       "      <th>204</th>\n",
       "      <td>4</td>\n",
       "      <td>케이블TV 가입자도 내년 1월부터 SKT 요금할인받는다</td>\n",
       "      <td>1</td>\n",
       "    </tr>\n",
       "    <tr>\n",
       "      <th>...</th>\n",
       "      <td>...</td>\n",
       "      <td>...</td>\n",
       "      <td>...</td>\n",
       "    </tr>\n",
       "    <tr>\n",
       "      <th>476</th>\n",
       "      <td>78</td>\n",
       "      <td>스웨덴 에릭슨\"4차 산업혁명 협력할 韓 스타트업 찾습니다 ,0\\r\\n4187,SKT...</td>\n",
       "      <td>1</td>\n",
       "    </tr>\n",
       "    <tr>\n",
       "      <th>477</th>\n",
       "      <td>79</td>\n",
       "      <td>CJ헬로비전 작년 영업이익 59.4% 감소한 429억원…\"M&amp;A 등 불확실성 해소,...</td>\n",
       "      <td>1</td>\n",
       "    </tr>\n",
       "    <tr>\n",
       "      <th>478</th>\n",
       "      <td>80</td>\n",
       "      <td>SKT 2019년까지 11조원 투자</td>\n",
       "      <td>1</td>\n",
       "    </tr>\n",
       "    <tr>\n",
       "      <th>479</th>\n",
       "      <td>81</td>\n",
       "      <td>통신사 커버리지맵 정확도 SKT 1위 '오차 0%'</td>\n",
       "      <td>1</td>\n",
       "    </tr>\n",
       "    <tr>\n",
       "      <th>480</th>\n",
       "      <td>82</td>\n",
       "      <td>크리스마스 맞이 스마트폰 가격 인하…\"연말 특수 기대,1\\r\\n4384,CJ헬로비전...</td>\n",
       "      <td>1</td>\n",
       "    </tr>\n",
       "  </tbody>\n",
       "</table>\n",
       "<p>281 rows × 3 columns</p>\n",
       "</div>"
      ],
      "text/plain": [
       "     id                                              Title  label\n",
       "200   0              정부, 구글 지도 해외 반출 불허 구글이 보완책 수용 안해 (상보)      0\n",
       "201   1                         미래부, 2차 유료방송 발전방안 공개토론회 개최      0\n",
       "202   2                   SKT, 전용폰 구입 고객에 T1 롤드컵 우승 기념품 증정      1\n",
       "203   3                '갤S7'사면 페이백 50만원 준다더니제2의 거성 모바일 사태?      0\n",
       "204   4                     케이블TV 가입자도 내년 1월부터 SKT 요금할인받는다      1\n",
       "..   ..                                                ...    ...\n",
       "476  78  스웨덴 에릭슨\"4차 산업혁명 협력할 韓 스타트업 찾습니다 ,0\\r\\n4187,SKT...      1\n",
       "477  79  CJ헬로비전 작년 영업이익 59.4% 감소한 429억원…\"M&A 등 불확실성 해소,...      1\n",
       "478  80                                SKT 2019년까지 11조원 투자      1\n",
       "479  81                       통신사 커버리지맵 정확도 SKT 1위 '오차 0%'      1\n",
       "480  82  크리스마스 맞이 스마트폰 가격 인하…\"연말 특수 기대,1\\r\\n4384,CJ헬로비전...      1\n",
       "\n",
       "[281 rows x 3 columns]"
      ]
     },
     "execution_count": 4,
     "metadata": {},
     "output_type": "execute_result"
    }
   ],
   "source": [
    "df_test_skt"
   ]
  },
  {
   "cell_type": "code",
   "execution_count": 5,
   "metadata": {},
   "outputs": [],
   "source": [
    "df_mobis = pd.read_csv('./trainingset/현대모비스_traindata_200.csv', encoding = 'CP949')\n",
    "# df_mobis"
   ]
  },
  {
   "cell_type": "code",
   "execution_count": 6,
   "metadata": {},
   "outputs": [],
   "source": [
    "df_hb = pd.read_csv('./trainingset/현대백화점_traindata_200.csv')\n",
    "# df_hb"
   ]
  },
  {
   "cell_type": "code",
   "execution_count": 7,
   "metadata": {},
   "outputs": [],
   "source": [
    "df_S_Oil = pd.read_csv('./trainingset/S-Oil_traindata_200.csv')\n",
    "df_S_Oil = df_S_Oil.head(200)\n",
    "# df_S_Oil.head(200)"
   ]
  },
  {
   "cell_type": "code",
   "execution_count": 8,
   "metadata": {},
   "outputs": [],
   "source": [
    "df_IBK = pd.read_csv('./trainingset/기업은행_traindata_200.csv')\n",
    "# df_IBK"
   ]
  },
  {
   "cell_type": "code",
   "execution_count": 9,
   "metadata": {},
   "outputs": [],
   "source": [
    "df_celt = pd.read_csv('./trainingset/셀트리온_traindata_200.csv')\n",
    "df_celt=df_celt.head(200)\n",
    "#df_celt"
   ]
  },
  {
   "cell_type": "code",
   "execution_count": 10,
   "metadata": {},
   "outputs": [],
   "source": [
    "df_KAL = pd.read_csv('./trainingset/대한항공_testdata_300.csv', header=None)\n",
    "df_celt=df_celt.head(200)\n",
    "# df_KAL=df_KAL.head(300)\n",
    "df_KAL=df_KAL.head(299)\n",
    "df_KAL.columns = ['id','Title','label']\n",
    "# df_KAL"
   ]
  },
  {
   "cell_type": "code",
   "execution_count": 11,
   "metadata": {},
   "outputs": [],
   "source": [
    "df = pd.concat([df_train_skt, df_mobis, df_hb, df_S_Oil,df_IBK,df_celt])"
   ]
  },
  {
   "cell_type": "code",
   "execution_count": 12,
   "metadata": {},
   "outputs": [
    {
     "data": {
      "text/html": [
       "<div>\n",
       "<style scoped>\n",
       "    .dataframe tbody tr th:only-of-type {\n",
       "        vertical-align: middle;\n",
       "    }\n",
       "\n",
       "    .dataframe tbody tr th {\n",
       "        vertical-align: top;\n",
       "    }\n",
       "\n",
       "    .dataframe thead th {\n",
       "        text-align: right;\n",
       "    }\n",
       "</style>\n",
       "<table border=\"1\" class=\"dataframe\">\n",
       "  <thead>\n",
       "    <tr style=\"text-align: right;\">\n",
       "      <th></th>\n",
       "      <th>id</th>\n",
       "      <th>Title</th>\n",
       "      <th>label</th>\n",
       "    </tr>\n",
       "  </thead>\n",
       "  <tbody>\n",
       "    <tr>\n",
       "      <th>0</th>\n",
       "      <td>0.0</td>\n",
       "      <td>국민안전로봇 2021년까지 개발…'로봇물고기' 전철 피할까?</td>\n",
       "      <td>0</td>\n",
       "    </tr>\n",
       "    <tr>\n",
       "      <th>1</th>\n",
       "      <td>1.0</td>\n",
       "      <td>'국정원 해킹 의혹' 상임위 앞두고 與野 전초전</td>\n",
       "      <td>0</td>\n",
       "    </tr>\n",
       "    <tr>\n",
       "      <th>2</th>\n",
       "      <td>2.0</td>\n",
       "      <td>인터넷티비(TV)결합상품 인터넷가입 비교사이트 통해 통신사별 장단점 비교해야 유리</td>\n",
       "      <td>0</td>\n",
       "    </tr>\n",
       "    <tr>\n",
       "      <th>3</th>\n",
       "      <td>3.0</td>\n",
       "      <td>SKT LG KT 인터넷가입 비교사이트 ‘펭귄통신’ 설치 당일 현금지원 이벤트</td>\n",
       "      <td>0</td>\n",
       "    </tr>\n",
       "    <tr>\n",
       "      <th>4</th>\n",
       "      <td>4.0</td>\n",
       "      <td>설 연휴 고향 가는 길 언제 출발해야 덜 막힐까</td>\n",
       "      <td>0</td>\n",
       "    </tr>\n",
       "    <tr>\n",
       "      <th>...</th>\n",
       "      <td>...</td>\n",
       "      <td>...</td>\n",
       "      <td>...</td>\n",
       "    </tr>\n",
       "    <tr>\n",
       "      <th>195</th>\n",
       "      <td>1172.0</td>\n",
       "      <td>원 이퀴티 파트너스 포, 엘.피., 셀트리온헬스케어 주식 631만주 장내매도</td>\n",
       "      <td>-1</td>\n",
       "    </tr>\n",
       "    <tr>\n",
       "      <th>196</th>\n",
       "      <td>1630.0</td>\n",
       "      <td>코스닥, 장 초반 하락세…640선 또 '위태'</td>\n",
       "      <td>-1</td>\n",
       "    </tr>\n",
       "    <tr>\n",
       "      <th>197</th>\n",
       "      <td>696.0</td>\n",
       "      <td>“ 3000% ”터질 바이오 단돈 3천원대! 2019년 마지막 新대장 바이오 온다!</td>\n",
       "      <td>1</td>\n",
       "    </tr>\n",
       "    <tr>\n",
       "      <th>198</th>\n",
       "      <td>1563.0</td>\n",
       "      <td>코스닥, 개인 '사자'에 700 향해 ↑</td>\n",
       "      <td>1</td>\n",
       "    </tr>\n",
       "    <tr>\n",
       "      <th>199</th>\n",
       "      <td>2215.0</td>\n",
       "      <td>남북정상회담 D-1, 코스피 장중 2470선 회복… SK하이닉스 4%대 강세</td>\n",
       "      <td>1</td>\n",
       "    </tr>\n",
       "  </tbody>\n",
       "</table>\n",
       "<p>1222 rows × 3 columns</p>\n",
       "</div>"
      ],
      "text/plain": [
       "         id                                           Title label\n",
       "0       0.0               국민안전로봇 2021년까지 개발…'로봇물고기' 전철 피할까?     0\n",
       "1       1.0                      '국정원 해킹 의혹' 상임위 앞두고 與野 전초전     0\n",
       "2       2.0   인터넷티비(TV)결합상품 인터넷가입 비교사이트 통해 통신사별 장단점 비교해야 유리     0\n",
       "3       3.0     SKT LG KT 인터넷가입 비교사이트 ‘펭귄통신’ 설치 당일 현금지원 이벤트     0\n",
       "4       4.0                      설 연휴 고향 가는 길 언제 출발해야 덜 막힐까     0\n",
       "..      ...                                             ...   ...\n",
       "195  1172.0      원 이퀴티 파트너스 포, 엘.피., 셀트리온헬스케어 주식 631만주 장내매도    -1\n",
       "196  1630.0                       코스닥, 장 초반 하락세…640선 또 '위태'    -1\n",
       "197   696.0  “ 3000% ”터질 바이오 단돈 3천원대! 2019년 마지막 新대장 바이오 온다!     1\n",
       "198  1563.0                          코스닥, 개인 '사자'에 700 향해 ↑     1\n",
       "199  2215.0      남북정상회담 D-1, 코스피 장중 2470선 회복… SK하이닉스 4%대 강세     1\n",
       "\n",
       "[1222 rows x 3 columns]"
      ]
     },
     "execution_count": 12,
     "metadata": {},
     "output_type": "execute_result"
    }
   ],
   "source": [
    "df = df[['id','Title','label']]\n",
    "df"
   ]
  },
  {
   "cell_type": "code",
   "execution_count": 13,
   "metadata": {},
   "outputs": [],
   "source": [
    "from sklearn.model_selection import train_test_split"
   ]
  },
  {
   "cell_type": "markdown",
   "metadata": {},
   "source": [
    "## 데이터셋 구성\n",
    "- Train Dataset : skt 200개, 모비스 200개, 현백 200개, 에쓰오일 200개, 기업은행 200개, 셀트리온 200개\n",
    "- Test Dataset : skt 282개"
   ]
  },
  {
   "cell_type": "code",
   "execution_count": 14,
   "metadata": {},
   "outputs": [],
   "source": [
    "# Train 데이터와 Test 데이터 분리\n",
    "X_train = df['Title']\n",
    "y_train = df['label']\n",
    "X_test = df_test_skt['Title']\n",
    "y_test = df_test_skt['label']\n",
    "# X_train, X_test, y_train, y_test = train_test_split(X, y, test_size = 0.2, random_state = 2)"
   ]
  },
  {
   "cell_type": "code",
   "execution_count": 15,
   "metadata": {},
   "outputs": [],
   "source": [
    "# 문장을 나누기 위한 Stopwords 선정\n",
    "stopwords = ['의', '가', '이', '은', '들', '는', '좀', '잘', '걍', '과', '도', '를', '으로', '자', '에', '와', '한', '하다']"
   ]
  },
  {
   "cell_type": "code",
   "execution_count": 14,
   "metadata": {
    "scrolled": true
   },
   "outputs": [],
   "source": [
    "#!pip3 install konlpy"
   ]
  },
  {
   "cell_type": "code",
   "execution_count": 16,
   "metadata": {},
   "outputs": [],
   "source": [
    "# Sentence Tokenizing\n",
    "\n",
    "import konlpy\n",
    "from konlpy.tag import Okt\n",
    "\n",
    "okt = Okt()\n",
    "X_train_token = []\n",
    "for sentence in X_train:\n",
    "    temp_X = [] \n",
    "    temp_X = okt.morphs(sentence, stem=True) # 토큰화\n",
    "    temp_X = [word for word in temp_X if not word in stopwords] # 불용어 제거\n",
    "    X_train_token.append(temp_X)\n",
    "\n",
    "X_test_token = []\n",
    "for sentence in X_test:\n",
    "    temp_X = []\n",
    "    temp_X = okt.morphs(sentence, stem=True) # 토큰화\n",
    "    temp_X = [word for word in temp_X if not word in stopwords] # 불용어 제거\n",
    "    X_test_token.append(temp_X)"
   ]
  },
  {
   "cell_type": "code",
   "execution_count": 17,
   "metadata": {},
   "outputs": [
    {
     "name": "stderr",
     "output_type": "stream",
     "text": [
      "Using TensorFlow backend.\n"
     ]
    }
   ],
   "source": [
    "from keras.layers import Embedding, Dense, LSTM\n",
    "from keras.models import Sequential\n",
    "from keras.preprocessing.sequence import pad_sequences"
   ]
  },
  {
   "cell_type": "markdown",
   "metadata": {},
   "source": [
    "### 단어길이 추출"
   ]
  },
  {
   "cell_type": "code",
   "execution_count": 18,
   "metadata": {},
   "outputs": [
    {
     "data": {
      "text/plain": [
       "66"
      ]
     },
     "execution_count": 18,
     "metadata": {},
     "output_type": "execute_result"
    }
   ],
   "source": [
    "li_train = []\n",
    "# li_train.append(1)\n",
    "# li_train.append(2)\n",
    "for i in range(len(X_train_token)):\n",
    "   li_train.append(len(X_train_token[i]))\n",
    "max(li_train)\n",
    "\n",
    "li_test = []\n",
    "# li_train.append(1)\n",
    "# li_train.append(2)\n",
    "for i in range(len(X_test_token)):\n",
    "   li_test.append(len(X_test_token[i]))\n",
    "max(li_test)\n"
   ]
  },
  {
   "cell_type": "markdown",
   "metadata": {},
   "source": [
    "### max_words를 35000에서 100으로 줄임(test 길이 중 가장 큰것은 66)"
   ]
  },
  {
   "cell_type": "code",
   "execution_count": 19,
   "metadata": {},
   "outputs": [],
   "source": [
    "from keras.preprocessing.text import Tokenizer\n",
    "max_words = 100\n",
    "tokenizer = Tokenizer(num_words = max_words)\n",
    "tokenizer.fit_on_texts(X_train_token) \n",
    "X_train_token = tokenizer.texts_to_sequences(X_train_token) \n",
    "X_test_token = tokenizer.texts_to_sequences(X_test_token)"
   ]
  },
  {
   "cell_type": "markdown",
   "metadata": {},
   "source": [
    "### One-Hot encoding 2가지 방법 - 2번째 방법 사용 (to_categorize)"
   ]
  },
  {
   "cell_type": "code",
   "execution_count": 20,
   "metadata": {},
   "outputs": [],
   "source": [
    "# 1. \n",
    "import numpy as np\n",
    "y_train_encode = []\n",
    "y_test_encode = []\n",
    "for i in range(len(y_train)):\n",
    "    if y_train.iloc[i] == 1:\n",
    "        y_train_encode.append([0, 0, 1]) \n",
    "    elif y_train.iloc[i] == 0:\n",
    "        y_train_encode.append([0, 1, 0]) \n",
    "    elif y_train.iloc[i] == -1:\n",
    "        y_train_encode.append([1, 0, 0]) \n",
    "        \n",
    "for i in range(len(y_test)):\n",
    "    if y_test.iloc[i] == 1:\n",
    "        y_test_encode.append([0, 0, 1]) \n",
    "    elif y_test.iloc[i] == 0:\n",
    "        y_test_encode.append([0, 1, 0])\n",
    "    elif y_test.iloc[i] == -1:\n",
    "        y_test_encode.append([1, 0, 0]) \n",
    "        \n",
    "y_train_encode=np.array(y_train_encode)\n",
    "y_test_encode=np.array(y_test_encode)"
   ]
  },
  {
   "cell_type": "code",
   "execution_count": 21,
   "metadata": {},
   "outputs": [
    {
     "data": {
      "text/plain": [
       "1022"
      ]
     },
     "execution_count": 21,
     "metadata": {},
     "output_type": "execute_result"
    }
   ],
   "source": [
    "len(y_train_encode)"
   ]
  },
  {
   "cell_type": "code",
   "execution_count": 22,
   "metadata": {},
   "outputs": [],
   "source": [
    "# 2. \n",
    "# to_categorical 방법은 0 1 -1 순서로 인코딩된다!\n",
    "from keras.utils import to_categorical\n",
    "\n",
    "y_train_cata = to_categorical(y_train, num_classes = 3)\n",
    "y_test_cata = to_categorical(y_test, num_classes = 3)"
   ]
  },
  {
   "cell_type": "code",
   "execution_count": 23,
   "metadata": {},
   "outputs": [
    {
     "data": {
      "text/plain": [
       "array([[1., 0., 0.],\n",
       "       [1., 0., 0.],\n",
       "       [1., 0., 0.],\n",
       "       ...,\n",
       "       [0., 1., 0.],\n",
       "       [0., 1., 0.],\n",
       "       [0., 1., 0.]], dtype=float32)"
      ]
     },
     "execution_count": 23,
     "metadata": {},
     "output_type": "execute_result"
    }
   ],
   "source": [
    "y_train_cata"
   ]
  },
  {
   "cell_type": "markdown",
   "metadata": {},
   "source": [
    "### max_len 20 to 100으로 변경 ; 단어 길이 고려"
   ]
  },
  {
   "cell_type": "code",
   "execution_count": 24,
   "metadata": {},
   "outputs": [],
   "source": [
    "max_len = 100 # pad_sequesces이용, 전체 데이터의 길이를 20로 맞춘다\n",
    "X_train = pad_sequences(X_train_token, maxlen=max_len)\n",
    "X_test = pad_sequences(X_test_token, maxlen=max_len)"
   ]
  },
  {
   "cell_type": "markdown",
   "metadata": {},
   "source": [
    "### 모델 저장1\n",
    "import os\n",
    "from tensorflow.keras.callbacks import EarlyStopping, ModelCheckpoint\n",
    "\n",
    "\n",
    "MODEL_DIR = './ModelCheckpoint/'\n",
    "if not os.path.exists(MODEL_DIR):\n",
    "    os.mkdir(MODEL_DIR)\n",
    "    \n",
    "mdpath = './ModelCheckpoint/{epoch:02d}-{val_loss:.4f}.hdf5'\n",
    "mc = ModelCheckpoint(filepath=mdpath,monitor='val_acc',mode='max',verbose=1,save_best_only=True)\n",
    "es = EarlyStopping(monitor='val_loss',patience=10,mode='min',verbose=1)\n",
    "\n",
    "model = Sequential()\n",
    "model.add(Embedding(max_words, 64))\n",
    "model.add(LSTM(128))\n",
    "model.add(Dense(3, activation='softmax'))\n",
    "model.compile(optimizer='rmsprop', loss='categorical_crossentropy', metrics=['accuracy'])\n",
    "history = model.fit(X_train, y_train_cata, epochs=10, batch_size=10, callbacks=[es,mc], validation_split=0.1)"
   ]
  },
  {
   "cell_type": "markdown",
   "metadata": {},
   "source": [
    "### 모델 저장2\n",
    "from keras.models import load_model\n",
    "##### 모델 컴퓨터에 저장\n",
    "model.save('모델이름')\n",
    "##### 모델 불러오기\n",
    "del model # 테스트를 위해 메모리 내의 모델을 삭제\n",
    "model = load_model('모델명')"
   ]
  },
  {
   "cell_type": "markdown",
   "metadata": {},
   "source": [
    "### LSTM 모델"
   ]
  },
  {
   "cell_type": "markdown",
   "metadata": {},
   "source": [
    "### earlystopping과 modelcheckpoint 추가\n",
    "### embedding 64로 변경"
   ]
  },
  {
   "cell_type": "code",
   "execution_count": 30,
   "metadata": {},
   "outputs": [
    {
     "name": "stdout",
     "output_type": "stream",
     "text": [
      "Requirement already satisfied: tensorflow in c:\\users\\09\\anaconda-3\\lib\\site-packages (2.0.0)\n",
      "Requirement already satisfied: numpy<2.0,>=1.16.0 in c:\\users\\09\\anaconda-3\\lib\\site-packages (from tensorflow) (1.18.5)\n",
      "Requirement already satisfied: six>=1.10.0 in c:\\users\\09\\anaconda-3\\lib\\site-packages (from tensorflow) (1.15.0)\n",
      "Requirement already satisfied: tensorflow-estimator<2.1.0,>=2.0.0 in c:\\users\\09\\anaconda-3\\lib\\site-packages (from tensorflow) (2.0.1)\n",
      "Requirement already satisfied: keras-applications>=1.0.8 in c:\\users\\09\\anaconda-3\\lib\\site-packages (from tensorflow) (1.0.8)\n",
      "Requirement already satisfied: astor>=0.6.0 in c:\\users\\09\\anaconda-3\\lib\\site-packages (from tensorflow) (0.8.1)\n",
      "Requirement already satisfied: google-pasta>=0.1.6 in c:\\users\\09\\anaconda-3\\lib\\site-packages (from tensorflow) (0.2.0)\n",
      "Requirement already satisfied: wheel>=0.26 in c:\\users\\09\\anaconda-3\\lib\\site-packages (from tensorflow) (0.35.1)\n",
      "Processing c:\\users\\09\\appdata\\local\\pip\\cache\\wheels\\21\\7f\\02\\420f32a803f7d0967b48dd823da3f558c5166991bfd204eef3\\gast-0.2.2-py3-none-any.whl\n",
      "Requirement already satisfied: absl-py>=0.7.0 in c:\\users\\09\\anaconda-3\\lib\\site-packages (from tensorflow) (0.10.0)\n",
      "Requirement already satisfied: keras-preprocessing>=1.0.5 in c:\\users\\09\\anaconda-3\\lib\\site-packages (from tensorflow) (1.1.2)\n",
      "Requirement already satisfied: tensorboard<2.1.0,>=2.0.0 in c:\\users\\09\\anaconda-3\\lib\\site-packages (from tensorflow) (2.0.2)\n",
      "Requirement already satisfied: termcolor>=1.1.0 in c:\\users\\09\\anaconda-3\\lib\\site-packages (from tensorflow) (1.1.0)\n",
      "Requirement already satisfied: wrapt>=1.11.1 in c:\\users\\09\\anaconda-3\\lib\\site-packages (from tensorflow) (1.11.2)\n",
      "Requirement already satisfied: grpcio>=1.8.6 in c:\\users\\09\\anaconda-3\\lib\\site-packages (from tensorflow) (1.32.0)\n",
      "Requirement already satisfied: protobuf>=3.6.1 in c:\\users\\09\\anaconda-3\\lib\\site-packages (from tensorflow) (3.13.0)\n",
      "Requirement already satisfied: opt-einsum>=2.3.2 in c:\\users\\09\\anaconda-3\\lib\\site-packages (from tensorflow) (3.3.0)\n",
      "Requirement already satisfied: h5py in c:\\users\\09\\anaconda-3\\lib\\site-packages (from keras-applications>=1.0.8->tensorflow) (2.10.0)\n",
      "Requirement already satisfied: markdown>=2.6.8 in c:\\users\\09\\anaconda-3\\lib\\site-packages (from tensorboard<2.1.0,>=2.0.0->tensorflow) (3.2.2)\n",
      "Requirement already satisfied: google-auth-oauthlib<0.5,>=0.4.1 in c:\\users\\09\\anaconda-3\\lib\\site-packages (from tensorboard<2.1.0,>=2.0.0->tensorflow) (0.4.1)\n",
      "Requirement already satisfied: werkzeug>=0.11.15 in c:\\users\\09\\anaconda-3\\lib\\site-packages (from tensorboard<2.1.0,>=2.0.0->tensorflow) (1.0.1)\n",
      "Requirement already satisfied: google-auth<2,>=1.6.3 in c:\\users\\09\\anaconda-3\\lib\\site-packages (from tensorboard<2.1.0,>=2.0.0->tensorflow) (1.21.2)\n",
      "Requirement already satisfied: setuptools>=41.0.0 in c:\\users\\09\\anaconda-3\\lib\\site-packages (from tensorboard<2.1.0,>=2.0.0->tensorflow) (49.6.0.post20200814)\n",
      "Requirement already satisfied: requests<3,>=2.21.0 in c:\\users\\09\\anaconda-3\\lib\\site-packages (from tensorboard<2.1.0,>=2.0.0->tensorflow) (2.24.0)\n",
      "Requirement already satisfied: importlib-metadata; python_version < \"3.8\" in c:\\users\\09\\anaconda-3\\lib\\site-packages (from markdown>=2.6.8->tensorboard<2.1.0,>=2.0.0->tensorflow) (1.7.0)\n",
      "Requirement already satisfied: requests-oauthlib>=0.7.0 in c:\\users\\09\\anaconda-3\\lib\\site-packages (from google-auth-oauthlib<0.5,>=0.4.1->tensorboard<2.1.0,>=2.0.0->tensorflow) (1.3.0)\n",
      "Requirement already satisfied: rsa<5,>=3.1.4; python_version >= \"3.5\" in c:\\users\\09\\anaconda-3\\lib\\site-packages (from google-auth<2,>=1.6.3->tensorboard<2.1.0,>=2.0.0->tensorflow) (4.6)\n",
      "Requirement already satisfied: cachetools<5.0,>=2.0.0 in c:\\users\\09\\anaconda-3\\lib\\site-packages (from google-auth<2,>=1.6.3->tensorboard<2.1.0,>=2.0.0->tensorflow) (4.1.1)\n",
      "Requirement already satisfied: pyasn1-modules>=0.2.1 in c:\\users\\09\\anaconda-3\\lib\\site-packages (from google-auth<2,>=1.6.3->tensorboard<2.1.0,>=2.0.0->tensorflow) (0.2.8)\n",
      "Requirement already satisfied: chardet<4,>=3.0.2 in c:\\users\\09\\anaconda-3\\lib\\site-packages (from requests<3,>=2.21.0->tensorboard<2.1.0,>=2.0.0->tensorflow) (3.0.4)\n",
      "Requirement already satisfied: certifi>=2017.4.17 in c:\\users\\09\\anaconda-3\\lib\\site-packages (from requests<3,>=2.21.0->tensorboard<2.1.0,>=2.0.0->tensorflow) (2020.6.20)\n",
      "Requirement already satisfied: urllib3!=1.25.0,!=1.25.1,<1.26,>=1.21.1 in c:\\users\\09\\anaconda-3\\lib\\site-packages (from requests<3,>=2.21.0->tensorboard<2.1.0,>=2.0.0->tensorflow) (1.25.10)\n",
      "Requirement already satisfied: idna<3,>=2.5 in c:\\users\\09\\anaconda-3\\lib\\site-packages (from requests<3,>=2.21.0->tensorboard<2.1.0,>=2.0.0->tensorflow) (2.10)\n",
      "Requirement already satisfied: zipp>=0.5 in c:\\users\\09\\anaconda-3\\lib\\site-packages (from importlib-metadata; python_version < \"3.8\"->markdown>=2.6.8->tensorboard<2.1.0,>=2.0.0->tensorflow) (3.1.0)\n",
      "Requirement already satisfied: oauthlib>=3.0.0 in c:\\users\\09\\anaconda-3\\lib\\site-packages (from requests-oauthlib>=0.7.0->google-auth-oauthlib<0.5,>=0.4.1->tensorboard<2.1.0,>=2.0.0->tensorflow) (3.1.0)\n",
      "Requirement already satisfied: pyasn1>=0.1.3 in c:\\users\\09\\anaconda-3\\lib\\site-packages (from rsa<5,>=3.1.4; python_version >= \"3.5\"->google-auth<2,>=1.6.3->tensorboard<2.1.0,>=2.0.0->tensorflow) (0.4.8)\n",
      "Installing collected packages: gast\n",
      "  Attempting uninstall: gast\n",
      "    Found existing installation: gast 0.4.0\n",
      "    Uninstalling gast-0.4.0:\n",
      "      Successfully uninstalled gast-0.4.0\n",
      "Successfully installed gast-0.2.2\n"
     ]
    }
   ],
   "source": [
    "!pip install tensorflow"
   ]
  },
  {
   "cell_type": "code",
   "execution_count": 31,
   "metadata": {},
   "outputs": [
    {
     "name": "stdout",
     "output_type": "stream",
     "text": [
      "Train on 1099 samples, validate on 123 samples\n",
      "Epoch 1/10\n",
      "1099/1099 [==============================] - 5s 4ms/step - loss: 1.0025 - accuracy: 0.5259 - val_loss: 0.9866 - val_accuracy: 0.5528\n",
      "WARNING:tensorflow:Can save best model only with val_acc available, skipping.\n",
      "Epoch 2/10\n",
      "1099/1099 [==============================] - 4s 4ms/step - loss: 0.9164 - accuracy: 0.5614 - val_loss: 0.8341 - val_accuracy: 0.6829\n",
      "WARNING:tensorflow:Can save best model only with val_acc available, skipping.\n",
      "Epoch 3/10\n",
      "1099/1099 [==============================] - 4s 4ms/step - loss: 0.8529 - accuracy: 0.5905 - val_loss: 0.7677 - val_accuracy: 0.6829\n",
      "WARNING:tensorflow:Can save best model only with val_acc available, skipping.\n",
      "Epoch 4/10\n",
      "1099/1099 [==============================] - 4s 4ms/step - loss: 0.8223 - accuracy: 0.6215 - val_loss: 0.7629 - val_accuracy: 0.7073\n",
      "WARNING:tensorflow:Can save best model only with val_acc available, skipping.\n",
      "Epoch 5/10\n",
      "1099/1099 [==============================] - 5s 5ms/step - loss: 0.8030 - accuracy: 0.6269 - val_loss: 0.7204 - val_accuracy: 0.6667\n",
      "WARNING:tensorflow:Can save best model only with val_acc available, skipping.\n",
      "Epoch 6/10\n",
      "1099/1099 [==============================] - 5s 5ms/step - loss: 0.7952 - accuracy: 0.6142 - val_loss: 0.7437 - val_accuracy: 0.6748\n",
      "WARNING:tensorflow:Can save best model only with val_acc available, skipping.\n",
      "Epoch 7/10\n",
      "1099/1099 [==============================] - 6s 5ms/step - loss: 0.7829 - accuracy: 0.6360 - val_loss: 0.7957 - val_accuracy: 0.6667\n",
      "WARNING:tensorflow:Can save best model only with val_acc available, skipping.\n",
      "Epoch 8/10\n",
      "1099/1099 [==============================] - 5s 5ms/step - loss: 0.7665 - accuracy: 0.6397 - val_loss: 0.8525 - val_accuracy: 0.6667\n",
      "WARNING:tensorflow:Can save best model only with val_acc available, skipping.\n",
      "Epoch 9/10\n",
      "1099/1099 [==============================] - 5s 5ms/step - loss: 0.7759 - accuracy: 0.6360 - val_loss: 0.8027 - val_accuracy: 0.6667\n",
      "WARNING:tensorflow:Can save best model only with val_acc available, skipping.\n",
      "Epoch 00009: early stopping\n"
     ]
    },
    {
     "ename": "AttributeError",
     "evalue": "'Sequential' object has no attribute '_ckpt_saved_epoch'",
     "output_type": "error",
     "traceback": [
      "\u001b[1;31m---------------------------------------------------------------------------\u001b[0m",
      "\u001b[1;31mAttributeError\u001b[0m                            Traceback (most recent call last)",
      "\u001b[1;32m<ipython-input-31-f15e94828836>\u001b[0m in \u001b[0;36m<module>\u001b[1;34m\u001b[0m\n\u001b[0;32m      8\u001b[0m \u001b[0mmodel\u001b[0m\u001b[1;33m.\u001b[0m\u001b[0madd\u001b[0m\u001b[1;33m(\u001b[0m\u001b[0mDense\u001b[0m\u001b[1;33m(\u001b[0m\u001b[1;36m3\u001b[0m\u001b[1;33m,\u001b[0m \u001b[0mactivation\u001b[0m\u001b[1;33m=\u001b[0m\u001b[1;34m'softmax'\u001b[0m\u001b[1;33m)\u001b[0m\u001b[1;33m)\u001b[0m\u001b[1;33m\u001b[0m\u001b[1;33m\u001b[0m\u001b[0m\n\u001b[0;32m      9\u001b[0m \u001b[0mmodel\u001b[0m\u001b[1;33m.\u001b[0m\u001b[0mcompile\u001b[0m\u001b[1;33m(\u001b[0m\u001b[0moptimizer\u001b[0m\u001b[1;33m=\u001b[0m\u001b[1;34m'rmsprop'\u001b[0m\u001b[1;33m,\u001b[0m \u001b[0mloss\u001b[0m\u001b[1;33m=\u001b[0m\u001b[1;34m'categorical_crossentropy'\u001b[0m\u001b[1;33m,\u001b[0m \u001b[0mmetrics\u001b[0m\u001b[1;33m=\u001b[0m\u001b[1;33m[\u001b[0m\u001b[1;34m'accuracy'\u001b[0m\u001b[1;33m]\u001b[0m\u001b[1;33m)\u001b[0m\u001b[1;33m\u001b[0m\u001b[1;33m\u001b[0m\u001b[0m\n\u001b[1;32m---> 10\u001b[1;33m \u001b[0mhistory\u001b[0m \u001b[1;33m=\u001b[0m \u001b[0mmodel\u001b[0m\u001b[1;33m.\u001b[0m\u001b[0mfit\u001b[0m\u001b[1;33m(\u001b[0m\u001b[0mX_train\u001b[0m\u001b[1;33m,\u001b[0m \u001b[0my_train_cata\u001b[0m\u001b[1;33m,\u001b[0m \u001b[0mepochs\u001b[0m\u001b[1;33m=\u001b[0m\u001b[1;36m10\u001b[0m\u001b[1;33m,\u001b[0m \u001b[0mbatch_size\u001b[0m\u001b[1;33m=\u001b[0m\u001b[1;36m10\u001b[0m\u001b[1;33m,\u001b[0m \u001b[0mcallbacks\u001b[0m\u001b[1;33m=\u001b[0m\u001b[1;33m[\u001b[0m\u001b[0mes\u001b[0m\u001b[1;33m,\u001b[0m\u001b[0mmc\u001b[0m\u001b[1;33m]\u001b[0m\u001b[1;33m,\u001b[0m \u001b[0mvalidation_split\u001b[0m\u001b[1;33m=\u001b[0m\u001b[1;36m0.1\u001b[0m\u001b[1;33m)\u001b[0m\u001b[1;33m\u001b[0m\u001b[1;33m\u001b[0m\u001b[0m\n\u001b[0m",
      "\u001b[1;32m~\\anaconda-3\\lib\\site-packages\\keras\\engine\\training.py\u001b[0m in \u001b[0;36mfit\u001b[1;34m(self, x, y, batch_size, epochs, verbose, callbacks, validation_split, validation_data, shuffle, class_weight, sample_weight, initial_epoch, steps_per_epoch, validation_steps, validation_freq, max_queue_size, workers, use_multiprocessing, **kwargs)\u001b[0m\n\u001b[0;32m   1237\u001b[0m                                         \u001b[0msteps_per_epoch\u001b[0m\u001b[1;33m=\u001b[0m\u001b[0msteps_per_epoch\u001b[0m\u001b[1;33m,\u001b[0m\u001b[1;33m\u001b[0m\u001b[1;33m\u001b[0m\u001b[0m\n\u001b[0;32m   1238\u001b[0m                                         \u001b[0mvalidation_steps\u001b[0m\u001b[1;33m=\u001b[0m\u001b[0mvalidation_steps\u001b[0m\u001b[1;33m,\u001b[0m\u001b[1;33m\u001b[0m\u001b[1;33m\u001b[0m\u001b[0m\n\u001b[1;32m-> 1239\u001b[1;33m                                         validation_freq=validation_freq)\n\u001b[0m\u001b[0;32m   1240\u001b[0m \u001b[1;33m\u001b[0m\u001b[0m\n\u001b[0;32m   1241\u001b[0m     def evaluate(self,\n",
      "\u001b[1;32m~\\anaconda-3\\lib\\site-packages\\keras\\engine\\training_arrays.py\u001b[0m in \u001b[0;36mfit_loop\u001b[1;34m(model, fit_function, fit_inputs, out_labels, batch_size, epochs, verbose, callbacks, val_function, val_inputs, shuffle, initial_epoch, steps_per_epoch, validation_steps, validation_freq)\u001b[0m\n\u001b[0;32m    217\u001b[0m         \u001b[1;32mif\u001b[0m \u001b[0mcallbacks\u001b[0m\u001b[1;33m.\u001b[0m\u001b[0mmodel\u001b[0m\u001b[1;33m.\u001b[0m\u001b[0mstop_training\u001b[0m\u001b[1;33m:\u001b[0m\u001b[1;33m\u001b[0m\u001b[1;33m\u001b[0m\u001b[0m\n\u001b[0;32m    218\u001b[0m             \u001b[1;32mbreak\u001b[0m\u001b[1;33m\u001b[0m\u001b[1;33m\u001b[0m\u001b[0m\n\u001b[1;32m--> 219\u001b[1;33m     \u001b[0mcallbacks\u001b[0m\u001b[1;33m.\u001b[0m\u001b[0m_call_end_hook\u001b[0m\u001b[1;33m(\u001b[0m\u001b[1;34m'train'\u001b[0m\u001b[1;33m)\u001b[0m\u001b[1;33m\u001b[0m\u001b[1;33m\u001b[0m\u001b[0m\n\u001b[0m\u001b[0;32m    220\u001b[0m     \u001b[1;32mreturn\u001b[0m \u001b[0mmodel\u001b[0m\u001b[1;33m.\u001b[0m\u001b[0mhistory\u001b[0m\u001b[1;33m\u001b[0m\u001b[1;33m\u001b[0m\u001b[0m\n\u001b[0;32m    221\u001b[0m \u001b[1;33m\u001b[0m\u001b[0m\n",
      "\u001b[1;32m~\\anaconda-3\\lib\\site-packages\\keras\\callbacks\\callbacks.py\u001b[0m in \u001b[0;36m_call_end_hook\u001b[1;34m(self, mode)\u001b[0m\n\u001b[0;32m    110\u001b[0m         \u001b[1;34m\"\"\"Helper function for on_{train|test|predict}_end methods.\"\"\"\u001b[0m\u001b[1;33m\u001b[0m\u001b[1;33m\u001b[0m\u001b[0m\n\u001b[0;32m    111\u001b[0m         \u001b[1;32mif\u001b[0m \u001b[0mmode\u001b[0m \u001b[1;33m==\u001b[0m \u001b[0m_TRAIN\u001b[0m\u001b[1;33m:\u001b[0m\u001b[1;33m\u001b[0m\u001b[1;33m\u001b[0m\u001b[0m\n\u001b[1;32m--> 112\u001b[1;33m             \u001b[0mself\u001b[0m\u001b[1;33m.\u001b[0m\u001b[0mon_train_end\u001b[0m\u001b[1;33m(\u001b[0m\u001b[1;33m)\u001b[0m\u001b[1;33m\u001b[0m\u001b[1;33m\u001b[0m\u001b[0m\n\u001b[0m\u001b[0;32m    113\u001b[0m         \u001b[1;32melif\u001b[0m \u001b[0mmode\u001b[0m \u001b[1;33m==\u001b[0m \u001b[0m_TEST\u001b[0m\u001b[1;33m:\u001b[0m\u001b[1;33m\u001b[0m\u001b[1;33m\u001b[0m\u001b[0m\n\u001b[0;32m    114\u001b[0m             \u001b[0mself\u001b[0m\u001b[1;33m.\u001b[0m\u001b[0mon_test_end\u001b[0m\u001b[1;33m(\u001b[0m\u001b[1;33m)\u001b[0m\u001b[1;33m\u001b[0m\u001b[1;33m\u001b[0m\u001b[0m\n",
      "\u001b[1;32m~\\anaconda-3\\lib\\site-packages\\keras\\callbacks\\callbacks.py\u001b[0m in \u001b[0;36mon_train_end\u001b[1;34m(self, logs)\u001b[0m\n\u001b[0;32m    227\u001b[0m         \"\"\"\n\u001b[0;32m    228\u001b[0m         \u001b[1;32mfor\u001b[0m \u001b[0mcallback\u001b[0m \u001b[1;32min\u001b[0m \u001b[0mself\u001b[0m\u001b[1;33m.\u001b[0m\u001b[0mcallbacks\u001b[0m\u001b[1;33m:\u001b[0m\u001b[1;33m\u001b[0m\u001b[1;33m\u001b[0m\u001b[0m\n\u001b[1;32m--> 229\u001b[1;33m             \u001b[0mcallback\u001b[0m\u001b[1;33m.\u001b[0m\u001b[0mon_train_end\u001b[0m\u001b[1;33m(\u001b[0m\u001b[0mlogs\u001b[0m\u001b[1;33m)\u001b[0m\u001b[1;33m\u001b[0m\u001b[1;33m\u001b[0m\u001b[0m\n\u001b[0m\u001b[0;32m    230\u001b[0m \u001b[1;33m\u001b[0m\u001b[0m\n\u001b[0;32m    231\u001b[0m     \u001b[1;32mdef\u001b[0m \u001b[0mon_test_begin\u001b[0m\u001b[1;33m(\u001b[0m\u001b[0mself\u001b[0m\u001b[1;33m,\u001b[0m \u001b[0mlogs\u001b[0m\u001b[1;33m=\u001b[0m\u001b[1;32mNone\u001b[0m\u001b[1;33m)\u001b[0m\u001b[1;33m:\u001b[0m\u001b[1;33m\u001b[0m\u001b[1;33m\u001b[0m\u001b[0m\n",
      "\u001b[1;32m~\\anaconda-3\\lib\\site-packages\\tensorflow\\python\\keras\\callbacks.py\u001b[0m in \u001b[0;36mon_train_end\u001b[1;34m(self, logs)\u001b[0m\n\u001b[0;32m    938\u001b[0m     \u001b[0mlogs\u001b[0m \u001b[1;33m=\u001b[0m \u001b[0mlogs\u001b[0m \u001b[1;32mor\u001b[0m \u001b[1;33m{\u001b[0m\u001b[1;33m}\u001b[0m\u001b[1;33m\u001b[0m\u001b[1;33m\u001b[0m\u001b[0m\n\u001b[0;32m    939\u001b[0m     \u001b[1;31m# pylint: disable=protected-access\u001b[0m\u001b[1;33m\u001b[0m\u001b[1;33m\u001b[0m\u001b[1;33m\u001b[0m\u001b[0m\n\u001b[1;32m--> 940\u001b[1;33m     \u001b[1;32mif\u001b[0m \u001b[0mself\u001b[0m\u001b[1;33m.\u001b[0m\u001b[0mmodel\u001b[0m\u001b[1;33m.\u001b[0m\u001b[0m_ckpt_saved_epoch\u001b[0m \u001b[1;32mis\u001b[0m \u001b[1;32mnot\u001b[0m \u001b[1;32mNone\u001b[0m\u001b[1;33m:\u001b[0m\u001b[1;33m\u001b[0m\u001b[1;33m\u001b[0m\u001b[0m\n\u001b[0m\u001b[0;32m    941\u001b[0m       \u001b[1;31m# Make `_ckpt_saved_epoch` attribute `None` at the end of training as it\u001b[0m\u001b[1;33m\u001b[0m\u001b[1;33m\u001b[0m\u001b[1;33m\u001b[0m\u001b[0m\n\u001b[0;32m    942\u001b[0m       \u001b[1;31m# is only used during the training. Currently it is decided not to\u001b[0m\u001b[1;33m\u001b[0m\u001b[1;33m\u001b[0m\u001b[1;33m\u001b[0m\u001b[0m\n",
      "\u001b[1;31mAttributeError\u001b[0m: 'Sequential' object has no attribute '_ckpt_saved_epoch'"
     ]
    }
   ],
   "source": [
    "from tensorflow.keras.callbacks import EarlyStopping, ModelCheckpoint\n",
    "es = EarlyStopping(monitor='val_loss',mode='min',verbose=1,patience=4)\n",
    "mc = ModelCheckpoint('best_model.h5',monitor='val_acc',mode='max',verbose=1,save_best_only=True)\n",
    "\n",
    "model = Sequential()\n",
    "model.add(Embedding(max_words, 64))\n",
    "model.add(LSTM(128))\n",
    "model.add(Dense(3, activation='softmax'))\n",
    "model.compile(optimizer='rmsprop', loss='categorical_crossentropy', metrics=['accuracy'])\n",
    "history = model.fit(X_train, y_train_cata, epochs=10, batch_size=10, callbacks=[es,mc], validation_split=0.1)"
   ]
  },
  {
   "cell_type": "code",
   "execution_count": 29,
   "metadata": {
    "scrolled": true
   },
   "outputs": [
    {
     "name": "stdout",
     "output_type": "stream",
     "text": [
      "281/281 [==============================] - 0s 685us/step\n",
      "\n",
      " 테스트 정확도 : 54.09%\n"
     ]
    }
   ],
   "source": [
    "print(\"\\n 테스트 정확도 : {:.2f}%\".format(model.evaluate(X_test,y_test_cata)[1]*100))"
   ]
  },
  {
   "cell_type": "code",
   "execution_count": 28,
   "metadata": {},
   "outputs": [
    {
     "name": "stdout",
     "output_type": "stream",
     "text": [
      "Epoch 1/10\n",
      "109/110 [============================>.] - ETA: 0s - loss: 1.0013 - accuracy: 0.5174WARNING:tensorflow:Can save best model only with val_acc available, skipping.\n",
      "110/110 [==============================] - 6s 55ms/step - loss: 0.9997 - accuracy: 0.5205 - val_loss: 0.9637 - val_accuracy: 0.6098\n",
      "Epoch 2/10\n",
      "110/110 [==============================] - ETA: 0s - loss: 0.8888 - accuracy: 0.5769WARNING:tensorflow:Can save best model only with val_acc available, skipping.\n",
      "110/110 [==============================] - 6s 50ms/step - loss: 0.8888 - accuracy: 0.5769 - val_loss: 0.7858 - val_accuracy: 0.6829\n",
      "Epoch 3/10\n",
      "110/110 [==============================] - ETA: 0s - loss: 0.8283 - accuracy: 0.6087WARNING:tensorflow:Can save best model only with val_acc available, skipping.\n",
      "110/110 [==============================] - 6s 50ms/step - loss: 0.8283 - accuracy: 0.6087 - val_loss: 0.7372 - val_accuracy: 0.7073\n",
      "Epoch 4/10\n",
      "109/110 [============================>.] - ETA: 0s - loss: 0.8069 - accuracy: 0.6119WARNING:tensorflow:Can save best model only with val_acc available, skipping.\n",
      "110/110 [==============================] - 6s 50ms/step - loss: 0.8064 - accuracy: 0.6133 - val_loss: 0.8370 - val_accuracy: 0.6829\n",
      "Epoch 5/10\n",
      "109/110 [============================>.] - ETA: 0s - loss: 0.7860 - accuracy: 0.6294WARNING:tensorflow:Can save best model only with val_acc available, skipping.\n",
      "110/110 [==============================] - 5s 49ms/step - loss: 0.7841 - accuracy: 0.6315 - val_loss: 0.7923 - val_accuracy: 0.6829\n",
      "Epoch 6/10\n",
      "109/110 [============================>.] - ETA: 0s - loss: 0.7740 - accuracy: 0.6303WARNING:tensorflow:Can save best model only with val_acc available, skipping.\n",
      "110/110 [==============================] - 6s 50ms/step - loss: 0.7736 - accuracy: 0.6306 - val_loss: 0.8076 - val_accuracy: 0.6667\n",
      "Epoch 7/10\n",
      "110/110 [==============================] - ETA: 0s - loss: 0.7612 - accuracy: 0.6297WARNING:tensorflow:Can save best model only with val_acc available, skipping.\n",
      "110/110 [==============================] - 6s 50ms/step - loss: 0.7612 - accuracy: 0.6297 - val_loss: 0.8642 - val_accuracy: 0.6829\n",
      "Epoch 00007: early stopping\n"
     ]
    }
   ],
   "source": [
    "#optimizer = adam\n",
    "model2 = Sequential()\n",
    "model2.add(Embedding(max_words, 64))\n",
    "model2.add(LSTM(128))\n",
    "model2.add(Dense(3, activation='softmax'))\n",
    "model2.compile(optimizer='adam', loss='categorical_crossentropy', metrics=['accuracy'])\n",
    "history = model2.fit(X_train, y_train_cata, epochs=10, batch_size=10, callbacks=[es,mc], validation_split=0.1)"
   ]
  },
  {
   "cell_type": "code",
   "execution_count": 29,
   "metadata": {},
   "outputs": [
    {
     "name": "stdout",
     "output_type": "stream",
     "text": [
      "9/9 [==============================] - 0s 16ms/step - loss: 0.9583 - accuracy: 0.6014\n",
      "\n",
      " 테스트 정확도 : 60.14%\n"
     ]
    }
   ],
   "source": [
    "print(\"\\n 테스트 정확도 : {:.2f}%\".format(model2.evaluate(X_test,y_test_cata)[1]*100))"
   ]
  },
  {
   "cell_type": "code",
   "execution_count": 31,
   "metadata": {},
   "outputs": [
    {
     "name": "stdout",
     "output_type": "stream",
     "text": [
      "Epoch 1/10\n",
      "110/110 [==============================] - ETA: 0s - loss: nan - accuracy: 0.2921WARNING:tensorflow:Can save best model only with val_acc available, skipping.\n",
      "110/110 [==============================] - 6s 57ms/step - loss: nan - accuracy: 0.2921 - val_loss: nan - val_accuracy: 0.1220\n",
      "Epoch 2/10\n",
      "110/110 [==============================] - ETA: 0s - loss: nan - accuracy: 0.2912WARNING:tensorflow:Can save best model only with val_acc available, skipping.\n",
      "110/110 [==============================] - 6s 51ms/step - loss: nan - accuracy: 0.2912 - val_loss: nan - val_accuracy: 0.1220\n",
      "Epoch 3/10\n",
      "110/110 [==============================] - ETA: 0s - loss: nan - accuracy: 0.2912WARNING:tensorflow:Can save best model only with val_acc available, skipping.\n",
      "110/110 [==============================] - 5s 50ms/step - loss: nan - accuracy: 0.2912 - val_loss: nan - val_accuracy: 0.1220\n",
      "Epoch 4/10\n",
      "109/110 [============================>.] - ETA: 0s - loss: nan - accuracy: 0.2917WARNING:tensorflow:Can save best model only with val_acc available, skipping.\n",
      "110/110 [==============================] - 5s 49ms/step - loss: nan - accuracy: 0.2912 - val_loss: nan - val_accuracy: 0.1220\n",
      "Epoch 00004: early stopping\n",
      "9/9 [==============================] - 0s 16ms/step - loss: nan - accuracy: 0.5623\n",
      "\n",
      " 테스트 정확도 : 56.23%\n"
     ]
    }
   ],
   "source": [
    "#model3 ; activation = relu\n",
    "from tensorflow.keras.callbacks import EarlyStopping, ModelCheckpoint\n",
    "es = EarlyStopping(monitor='val_loss',mode='min',verbose=1,patience=4)\n",
    "mc = ModelCheckpoint('best_model.h5',monitor='val_acc',mode='max',verbose=1,save_best_only=True)\n",
    "\n",
    "model3 = Sequential()\n",
    "model3.add(Embedding(max_words, 64))\n",
    "model3.add(LSTM(128))\n",
    "model3.add(Dense(3, activation='relu'))\n",
    "model3.compile(optimizer='rmsprop', loss='categorical_crossentropy', metrics=['accuracy'])\n",
    "history = model3.fit(X_train, y_train_cata, epochs=10, batch_size=10, callbacks=[es,mc], validation_split=0.1)\n",
    "\n",
    "print(\"\\n 테스트 정확도 : {:.2f}%\".format(model3.evaluate(X_test,y_test_cata)[1]*100))"
   ]
  },
  {
   "cell_type": "code",
   "execution_count": 39,
   "metadata": {},
   "outputs": [
    {
     "name": "stdout",
     "output_type": "stream",
     "text": [
      "Epoch 1/20\n",
      "110/110 [==============================] - ETA: 0s - loss: 1.0090 - accuracy: 0.5259WARNING:tensorflow:Can save best model only with val_acc available, skipping.\n",
      "110/110 [==============================] - 6s 59ms/step - loss: 1.0090 - accuracy: 0.5259 - val_loss: 1.0181 - val_accuracy: 0.5366\n",
      "Epoch 2/20\n",
      "110/110 [==============================] - ETA: 0s - loss: 0.9187 - accuracy: 0.5651WARNING:tensorflow:Can save best model only with val_acc available, skipping.\n",
      "110/110 [==============================] - 6s 54ms/step - loss: 0.9187 - accuracy: 0.5651 - val_loss: 0.8054 - val_accuracy: 0.6829\n",
      "Epoch 3/20\n",
      "110/110 [==============================] - ETA: 0s - loss: 0.8682 - accuracy: 0.5942WARNING:tensorflow:Can save best model only with val_acc available, skipping.\n",
      "110/110 [==============================] - 6s 54ms/step - loss: 0.8682 - accuracy: 0.5942 - val_loss: 0.7543 - val_accuracy: 0.6829\n",
      "Epoch 4/20\n",
      "110/110 [==============================] - ETA: 0s - loss: 0.8123 - accuracy: 0.6169WARNING:tensorflow:Can save best model only with val_acc available, skipping.\n",
      "110/110 [==============================] - 6s 54ms/step - loss: 0.8123 - accuracy: 0.6169 - val_loss: 0.7097 - val_accuracy: 0.7236\n",
      "Epoch 5/20\n",
      "110/110 [==============================] - ETA: 0s - loss: 0.8010 - accuracy: 0.6187WARNING:tensorflow:Can save best model only with val_acc available, skipping.\n",
      "110/110 [==============================] - 6s 54ms/step - loss: 0.8010 - accuracy: 0.6187 - val_loss: 0.7357 - val_accuracy: 0.7154\n",
      "Epoch 6/20\n",
      "110/110 [==============================] - ETA: 0s - loss: 0.7833 - accuracy: 0.6251WARNING:tensorflow:Can save best model only with val_acc available, skipping.\n",
      "110/110 [==============================] - 6s 54ms/step - loss: 0.7833 - accuracy: 0.6251 - val_loss: 0.7859 - val_accuracy: 0.7073\n",
      "Epoch 7/20\n",
      "110/110 [==============================] - ETA: 0s - loss: 0.7702 - accuracy: 0.6269WARNING:tensorflow:Can save best model only with val_acc available, skipping.\n",
      "110/110 [==============================] - 6s 54ms/step - loss: 0.7702 - accuracy: 0.6269 - val_loss: 0.7763 - val_accuracy: 0.6911\n",
      "Epoch 8/20\n",
      "110/110 [==============================] - ETA: 0s - loss: 0.7621 - accuracy: 0.6470WARNING:tensorflow:Can save best model only with val_acc available, skipping.\n",
      "110/110 [==============================] - 6s 54ms/step - loss: 0.7621 - accuracy: 0.6470 - val_loss: 0.7747 - val_accuracy: 0.6829\n",
      "Epoch 00008: early stopping\n",
      "9/9 [==============================] - 0s 16ms/step - loss: 0.9522 - accuracy: 0.5907\n",
      "\n",
      " 테스트 정확도 : 59.07%\n"
     ]
    }
   ],
   "source": [
    "#model5 ; activation = softmax optimzier = nadam\n",
    "from tensorflow.keras.callbacks import EarlyStopping, ModelCheckpoint\n",
    "es = EarlyStopping(monitor='val_loss',mode='min',verbose=1,patience=4)\n",
    "mc = ModelCheckpoint('best_model.h5',monitor='val_acc',mode='max',verbose=1,save_best_only=True)\n",
    "\n",
    "model5 = Sequential()\n",
    "model5.add(Embedding(max_words, 64))\n",
    "model5.add(LSTM(128))\n",
    "model5.add(Dense(3, activation='softmax'))\n",
    "model5.compile(optimizer='nadam', loss='categorical_crossentropy', metrics=['accuracy'])\n",
    "history = model5.fit(X_train, y_train_cata, epochs=20, batch_size=10, callbacks=[es,mc], validation_split=0.1)\n",
    "\n",
    "print(\"\\n 테스트 정확도 : {:.2f}%\".format(model5.evaluate(X_test,y_test_cata)[1]*100))"
   ]
  }
 ],
 "metadata": {
  "kernelspec": {
   "display_name": "Python 3",
   "language": "python",
   "name": "python3"
  },
  "language_info": {
   "codemirror_mode": {
    "name": "ipython",
    "version": 3
   },
   "file_extension": ".py",
   "mimetype": "text/x-python",
   "name": "python",
   "nbconvert_exporter": "python",
   "pygments_lexer": "ipython3",
   "version": "3.7.4"
  }
 },
 "nbformat": 4,
 "nbformat_minor": 4
}
