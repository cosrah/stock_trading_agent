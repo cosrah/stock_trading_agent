{
 "cells": [
  {
   "cell_type": "code",
   "execution_count": 2,
   "metadata": {},
   "outputs": [],
   "source": [
    "import pandas as pd\n",
    "import numpy as np"
   ]
  },
  {
   "cell_type": "markdown",
   "metadata": {},
   "source": [
    "# 데이터 불러오기\n",
    "\n",
    "- Human Labeling된 데이터인 SKT , 현대백화점, 현대모비스, S-Oil, 기업은행, 셀트리온 데이터 셋을 이용하여 각 정확도를 올린다.\n",
    "\n",
    "- 순서\n",
    "    1. 데이터 불러오기\n",
    "    2. 데이터 분리\n",
    "    3. Title 의 토큰화 및 불용어 제거\n",
    "    4. Label 의 원핫인코딩\n",
    "    5. 길이가 다른 title의 정형화\n",
    "    6. LSTM을 통한 딥러닝\n",
    "    7. 정확도 확인"
   ]
  },
  {
   "cell_type": "code",
   "execution_count": 3,
   "metadata": {},
   "outputs": [
    {
     "data": {
      "text/html": [
       "<div>\n",
       "<style scoped>\n",
       "    .dataframe tbody tr th:only-of-type {\n",
       "        vertical-align: middle;\n",
       "    }\n",
       "\n",
       "    .dataframe tbody tr th {\n",
       "        vertical-align: top;\n",
       "    }\n",
       "\n",
       "    .dataframe thead th {\n",
       "        text-align: right;\n",
       "    }\n",
       "</style>\n",
       "<table border=\"1\" class=\"dataframe\">\n",
       "  <thead>\n",
       "    <tr style=\"text-align: right;\">\n",
       "      <th></th>\n",
       "      <th>id</th>\n",
       "      <th>Title</th>\n",
       "      <th>label</th>\n",
       "    </tr>\n",
       "  </thead>\n",
       "  <tbody>\n",
       "    <tr>\n",
       "      <th>0</th>\n",
       "      <td>0</td>\n",
       "      <td>국민안전로봇 2021년까지 개발…'로봇물고기' 전철 피할까?</td>\n",
       "      <td>0</td>\n",
       "    </tr>\n",
       "    <tr>\n",
       "      <th>1</th>\n",
       "      <td>1</td>\n",
       "      <td>'국정원 해킹 의혹' 상임위 앞두고 與野 전초전</td>\n",
       "      <td>0</td>\n",
       "    </tr>\n",
       "    <tr>\n",
       "      <th>2</th>\n",
       "      <td>2</td>\n",
       "      <td>인터넷티비(TV)결합상품 인터넷가입 비교사이트 통해 통신사별 장단점 비교해야 유리</td>\n",
       "      <td>0</td>\n",
       "    </tr>\n",
       "    <tr>\n",
       "      <th>3</th>\n",
       "      <td>3</td>\n",
       "      <td>SKT LG KT 인터넷가입 비교사이트 ‘펭귄통신’ 설치 당일 현금지원 이벤트</td>\n",
       "      <td>0</td>\n",
       "    </tr>\n",
       "    <tr>\n",
       "      <th>4</th>\n",
       "      <td>4</td>\n",
       "      <td>설 연휴 고향 가는 길 언제 출발해야 덜 막힐까</td>\n",
       "      <td>0</td>\n",
       "    </tr>\n",
       "    <tr>\n",
       "      <th>...</th>\n",
       "      <td>...</td>\n",
       "      <td>...</td>\n",
       "      <td>...</td>\n",
       "    </tr>\n",
       "    <tr>\n",
       "      <th>476</th>\n",
       "      <td>78</td>\n",
       "      <td>스웨덴 에릭슨\"4차 산업혁명 협력할 韓 스타트업 찾습니다 ,0\\n4187,SKT '...</td>\n",
       "      <td>1</td>\n",
       "    </tr>\n",
       "    <tr>\n",
       "      <th>477</th>\n",
       "      <td>79</td>\n",
       "      <td>CJ헬로비전 작년 영업이익 59.4% 감소한 429억원…\"M&amp;A 등 불확실성 해소,...</td>\n",
       "      <td>1</td>\n",
       "    </tr>\n",
       "    <tr>\n",
       "      <th>478</th>\n",
       "      <td>80</td>\n",
       "      <td>SKT 2019년까지 11조원 투자</td>\n",
       "      <td>1</td>\n",
       "    </tr>\n",
       "    <tr>\n",
       "      <th>479</th>\n",
       "      <td>81</td>\n",
       "      <td>통신사 커버리지맵 정확도 SKT 1위 '오차 0%'</td>\n",
       "      <td>1</td>\n",
       "    </tr>\n",
       "    <tr>\n",
       "      <th>480</th>\n",
       "      <td>82</td>\n",
       "      <td>크리스마스 맞이 스마트폰 가격 인하…\"연말 특수 기대,1\\n4384,CJ헬로비전 아...</td>\n",
       "      <td>1</td>\n",
       "    </tr>\n",
       "  </tbody>\n",
       "</table>\n",
       "<p>481 rows × 3 columns</p>\n",
       "</div>"
      ],
      "text/plain": [
       "     id                                              Title  label\n",
       "0     0                  국민안전로봇 2021년까지 개발…'로봇물고기' 전철 피할까?      0\n",
       "1     1                         '국정원 해킹 의혹' 상임위 앞두고 與野 전초전      0\n",
       "2     2      인터넷티비(TV)결합상품 인터넷가입 비교사이트 통해 통신사별 장단점 비교해야 유리      0\n",
       "3     3        SKT LG KT 인터넷가입 비교사이트 ‘펭귄통신’ 설치 당일 현금지원 이벤트      0\n",
       "4     4                         설 연휴 고향 가는 길 언제 출발해야 덜 막힐까      0\n",
       "..   ..                                                ...    ...\n",
       "476  78  스웨덴 에릭슨\"4차 산업혁명 협력할 韓 스타트업 찾습니다 ,0\\n4187,SKT '...      1\n",
       "477  79  CJ헬로비전 작년 영업이익 59.4% 감소한 429억원…\"M&A 등 불확실성 해소,...      1\n",
       "478  80                                SKT 2019년까지 11조원 투자      1\n",
       "479  81                       통신사 커버리지맵 정확도 SKT 1위 '오차 0%'      1\n",
       "480  82  크리스마스 맞이 스마트폰 가격 인하…\"연말 특수 기대,1\\n4384,CJ헬로비전 아...      1\n",
       "\n",
       "[481 rows x 3 columns]"
      ]
     },
     "execution_count": 3,
     "metadata": {},
     "output_type": "execute_result"
    }
   ],
   "source": [
    "df_skt = pd.read_csv('./trainingset/SKT_traindata_482.csv')\n",
    "df_skt"
   ]
  },
  {
   "cell_type": "code",
   "execution_count": 4,
   "metadata": {},
   "outputs": [
    {
     "data": {
      "text/html": [
       "<div>\n",
       "<style scoped>\n",
       "    .dataframe tbody tr th:only-of-type {\n",
       "        vertical-align: middle;\n",
       "    }\n",
       "\n",
       "    .dataframe tbody tr th {\n",
       "        vertical-align: top;\n",
       "    }\n",
       "\n",
       "    .dataframe thead th {\n",
       "        text-align: right;\n",
       "    }\n",
       "</style>\n",
       "<table border=\"1\" class=\"dataframe\">\n",
       "  <thead>\n",
       "    <tr style=\"text-align: right;\">\n",
       "      <th></th>\n",
       "      <th>Column1</th>\n",
       "      <th>Title</th>\n",
       "      <th>label</th>\n",
       "    </tr>\n",
       "  </thead>\n",
       "  <tbody>\n",
       "    <tr>\n",
       "      <th>0</th>\n",
       "      <td>0</td>\n",
       "      <td>코스피, 16일만에 돌아선 外人…보합권 내 혼조</td>\n",
       "      <td>-1</td>\n",
       "    </tr>\n",
       "    <tr>\n",
       "      <th>1</th>\n",
       "      <td>1</td>\n",
       "      <td>코스피, 외인·기관 '사자'에 2200선 돌파</td>\n",
       "      <td>1</td>\n",
       "    </tr>\n",
       "    <tr>\n",
       "      <th>2</th>\n",
       "      <td>2</td>\n",
       "      <td>코스피, 이틀 연속 오르며 1940선 마감… 코스닥 4거래일 만에 600선 회복</td>\n",
       "      <td>1</td>\n",
       "    </tr>\n",
       "    <tr>\n",
       "      <th>3</th>\n",
       "      <td>3</td>\n",
       "      <td>코스피, 외인·기관 '팔자'에 하락마감…2550선은 방어</td>\n",
       "      <td>0</td>\n",
       "    </tr>\n",
       "    <tr>\n",
       "      <th>4</th>\n",
       "      <td>4</td>\n",
       "      <td>美 의결권 자문사 글래스 루이스, 현대차그룹 지배구조 개편 반대의견</td>\n",
       "      <td>0</td>\n",
       "    </tr>\n",
       "    <tr>\n",
       "      <th>...</th>\n",
       "      <td>...</td>\n",
       "      <td>...</td>\n",
       "      <td>...</td>\n",
       "    </tr>\n",
       "    <tr>\n",
       "      <th>196</th>\n",
       "      <td>196</td>\n",
       "      <td>코스피, 삼성電 '쇼크' 딛고 2거래일째 상승 마감</td>\n",
       "      <td>1</td>\n",
       "    </tr>\n",
       "    <tr>\n",
       "      <th>197</th>\n",
       "      <td>197</td>\n",
       "      <td>코스피, 외인 5000억원 팔자에 2100선 '무너져'</td>\n",
       "      <td>-1</td>\n",
       "    </tr>\n",
       "    <tr>\n",
       "      <th>198</th>\n",
       "      <td>198</td>\n",
       "      <td>코스피, 국제유가 상승VS 6월 변동 경계감…보합</td>\n",
       "      <td>0</td>\n",
       "    </tr>\n",
       "    <tr>\n",
       "      <th>199</th>\n",
       "      <td>199</td>\n",
       "      <td>코스피 2500 재진입 성공…외국인·기관 동반 매수</td>\n",
       "      <td>1</td>\n",
       "    </tr>\n",
       "    <tr>\n",
       "      <th>200</th>\n",
       "      <td>200</td>\n",
       "      <td>코스피, 삼성전자 상승 안고 2050 회복 '기웃'</td>\n",
       "      <td>1</td>\n",
       "    </tr>\n",
       "  </tbody>\n",
       "</table>\n",
       "<p>201 rows × 3 columns</p>\n",
       "</div>"
      ],
      "text/plain": [
       "     Column1                                         Title  label\n",
       "0          0                    코스피, 16일만에 돌아선 外人…보합권 내 혼조     -1\n",
       "1          1                     코스피, 외인·기관 '사자'에 2200선 돌파      1\n",
       "2          2  코스피, 이틀 연속 오르며 1940선 마감… 코스닥 4거래일 만에 600선 회복      1\n",
       "3          3               코스피, 외인·기관 '팔자'에 하락마감…2550선은 방어      0\n",
       "4          4         美 의결권 자문사 글래스 루이스, 현대차그룹 지배구조 개편 반대의견      0\n",
       "..       ...                                           ...    ...\n",
       "196      196                  코스피, 삼성電 '쇼크' 딛고 2거래일째 상승 마감      1\n",
       "197      197                코스피, 외인 5000억원 팔자에 2100선 '무너져'     -1\n",
       "198      198                   코스피, 국제유가 상승VS 6월 변동 경계감…보합      0\n",
       "199      199                  코스피 2500 재진입 성공…외국인·기관 동반 매수      1\n",
       "200      200                  코스피, 삼성전자 상승 안고 2050 회복 '기웃'      1\n",
       "\n",
       "[201 rows x 3 columns]"
      ]
     },
     "execution_count": 4,
     "metadata": {},
     "output_type": "execute_result"
    }
   ],
   "source": [
    "df_mobis = pd.read_csv('./trainingset/현대모비스_traindata_200.csv', encoding = 'CP949')\n",
    "df_mobis"
   ]
  },
  {
   "cell_type": "code",
   "execution_count": 5,
   "metadata": {},
   "outputs": [
    {
     "data": {
      "text/html": [
       "<div>\n",
       "<style scoped>\n",
       "    .dataframe tbody tr th:only-of-type {\n",
       "        vertical-align: middle;\n",
       "    }\n",
       "\n",
       "    .dataframe tbody tr th {\n",
       "        vertical-align: top;\n",
       "    }\n",
       "\n",
       "    .dataframe thead th {\n",
       "        text-align: right;\n",
       "    }\n",
       "</style>\n",
       "<table border=\"1\" class=\"dataframe\">\n",
       "  <thead>\n",
       "    <tr style=\"text-align: right;\">\n",
       "      <th></th>\n",
       "      <th>id</th>\n",
       "      <th>Title</th>\n",
       "      <th>label</th>\n",
       "    </tr>\n",
       "  </thead>\n",
       "  <tbody>\n",
       "    <tr>\n",
       "      <th>0</th>\n",
       "      <td>0</td>\n",
       "      <td>靑 오찬도 없이 간담회 진행…재계 \"외교로 풀 문제를…\"</td>\n",
       "      <td>0</td>\n",
       "    </tr>\n",
       "    <tr>\n",
       "      <th>1</th>\n",
       "      <td>1</td>\n",
       "      <td>김정훈 \"공정위 소비자중심경영 인증기업 24%는 행정조치 처분기업\"</td>\n",
       "      <td>-1</td>\n",
       "    </tr>\n",
       "    <tr>\n",
       "      <th>2</th>\n",
       "      <td>2</td>\n",
       "      <td>산업부 \"코리아 세일 페스타, 상생의 장터 연다\"</td>\n",
       "      <td>1</td>\n",
       "    </tr>\n",
       "    <tr>\n",
       "      <th>3</th>\n",
       "      <td>3</td>\n",
       "      <td>박원순, 선거 마지막 날까지 정순균 강남구청장 후보 지원</td>\n",
       "      <td>0</td>\n",
       "    </tr>\n",
       "    <tr>\n",
       "      <th>4</th>\n",
       "      <td>4</td>\n",
       "      <td>장영철 강남구청장 후보, 선거운동 마지막 주말 총력유세</td>\n",
       "      <td>0</td>\n",
       "    </tr>\n",
       "    <tr>\n",
       "      <th>...</th>\n",
       "      <td>...</td>\n",
       "      <td>...</td>\n",
       "      <td>...</td>\n",
       "    </tr>\n",
       "    <tr>\n",
       "      <th>216</th>\n",
       "      <td>216</td>\n",
       "      <td>입소문 노리려 인플루언서와 공간 나누는 유통업계(종합)</td>\n",
       "      <td>1</td>\n",
       "    </tr>\n",
       "    <tr>\n",
       "      <th>217</th>\n",
       "      <td>217</td>\n",
       "      <td>\"인플루언서 모셔라\"…'안방' 내주는 유통업계</td>\n",
       "      <td>1</td>\n",
       "    </tr>\n",
       "    <tr>\n",
       "      <th>218</th>\n",
       "      <td>218</td>\n",
       "      <td>현대百, 고메 아이리시 위크…50여개 아일랜드 식품 브랜드 한자리에</td>\n",
       "      <td>1</td>\n",
       "    </tr>\n",
       "    <tr>\n",
       "      <th>219</th>\n",
       "      <td>219</td>\n",
       "      <td>풍성하고 즐거운 소비 '경험'…진열방식 바꾸는 패션가(종합)</td>\n",
       "      <td>1</td>\n",
       "    </tr>\n",
       "    <tr>\n",
       "      <th>220</th>\n",
       "      <td>220</td>\n",
       "      <td>원피스 옆에 샌들·토트백…소비자 취향 DP 고민하는 패션가</td>\n",
       "      <td>0</td>\n",
       "    </tr>\n",
       "  </tbody>\n",
       "</table>\n",
       "<p>221 rows × 3 columns</p>\n",
       "</div>"
      ],
      "text/plain": [
       "      id                                  Title  label\n",
       "0      0        靑 오찬도 없이 간담회 진행…재계 \"외교로 풀 문제를…\"      0\n",
       "1      1  김정훈 \"공정위 소비자중심경영 인증기업 24%는 행정조치 처분기업\"     -1\n",
       "2      2            산업부 \"코리아 세일 페스타, 상생의 장터 연다\"      1\n",
       "3      3        박원순, 선거 마지막 날까지 정순균 강남구청장 후보 지원      0\n",
       "4      4         장영철 강남구청장 후보, 선거운동 마지막 주말 총력유세      0\n",
       "..   ...                                    ...    ...\n",
       "216  216         입소문 노리려 인플루언서와 공간 나누는 유통업계(종합)      1\n",
       "217  217              \"인플루언서 모셔라\"…'안방' 내주는 유통업계      1\n",
       "218  218  현대百, 고메 아이리시 위크…50여개 아일랜드 식품 브랜드 한자리에      1\n",
       "219  219      풍성하고 즐거운 소비 '경험'…진열방식 바꾸는 패션가(종합)      1\n",
       "220  220       원피스 옆에 샌들·토트백…소비자 취향 DP 고민하는 패션가      0\n",
       "\n",
       "[221 rows x 3 columns]"
      ]
     },
     "execution_count": 5,
     "metadata": {},
     "output_type": "execute_result"
    }
   ],
   "source": [
    "df_hb = pd.read_csv('./trainingset/현대백화점_traindata_200.csv')\n",
    "df_hb"
   ]
  },
  {
   "cell_type": "code",
   "execution_count": 6,
   "metadata": {},
   "outputs": [
    {
     "data": {
      "text/html": [
       "<div>\n",
       "<style scoped>\n",
       "    .dataframe tbody tr th:only-of-type {\n",
       "        vertical-align: middle;\n",
       "    }\n",
       "\n",
       "    .dataframe tbody tr th {\n",
       "        vertical-align: top;\n",
       "    }\n",
       "\n",
       "    .dataframe thead th {\n",
       "        text-align: right;\n",
       "    }\n",
       "</style>\n",
       "<table border=\"1\" class=\"dataframe\">\n",
       "  <thead>\n",
       "    <tr style=\"text-align: right;\">\n",
       "      <th></th>\n",
       "      <th>id</th>\n",
       "      <th>Title</th>\n",
       "      <th>label</th>\n",
       "    </tr>\n",
       "  </thead>\n",
       "  <tbody>\n",
       "    <tr>\n",
       "      <th>0</th>\n",
       "      <td>1314.0</td>\n",
       "      <td>물류기능 인력 양성사업 지원학교 추가 모집</td>\n",
       "      <td>0</td>\n",
       "    </tr>\n",
       "    <tr>\n",
       "      <th>1</th>\n",
       "      <td>572.0</td>\n",
       "      <td>[2014 연비왕]\"시야를 넓게 보고 일정 속도를 유지하는 것이 비결\"</td>\n",
       "      <td>0</td>\n",
       "    </tr>\n",
       "    <tr>\n",
       "      <th>2</th>\n",
       "      <td>423.0</td>\n",
       "      <td>에쓰오일, '올해의 시민영웅' 34인 선정…1억4000만원 전달</td>\n",
       "      <td>0</td>\n",
       "    </tr>\n",
       "    <tr>\n",
       "      <th>3</th>\n",
       "      <td>1527.0</td>\n",
       "      <td>이프타르(Iftar)를 아시나요?</td>\n",
       "      <td>0</td>\n",
       "    </tr>\n",
       "    <tr>\n",
       "      <th>4</th>\n",
       "      <td>78.0</td>\n",
       "      <td>[굿모닝 증시]지수 추가하락 제한적… 조정 때 '비중확대' 고려</td>\n",
       "      <td>0</td>\n",
       "    </tr>\n",
       "    <tr>\n",
       "      <th>...</th>\n",
       "      <td>...</td>\n",
       "      <td>...</td>\n",
       "      <td>...</td>\n",
       "    </tr>\n",
       "    <tr>\n",
       "      <th>1660</th>\n",
       "      <td>1639.0</td>\n",
       "      <td>백규정 \"이번에는 3승 사냥~\"</td>\n",
       "      <td>NaN</td>\n",
       "    </tr>\n",
       "    <tr>\n",
       "      <th>1661</th>\n",
       "      <td>460.0</td>\n",
       "      <td>건축 디자이너 찾아다니는 동국제강 영업맨의 하루(종합)</td>\n",
       "      <td>NaN</td>\n",
       "    </tr>\n",
       "    <tr>\n",
       "      <th>1662</th>\n",
       "      <td>524.0</td>\n",
       "      <td>S-OIL, 발달장애우 위한 '햇살나눔콘서트' 진행</td>\n",
       "      <td>NaN</td>\n",
       "    </tr>\n",
       "    <tr>\n",
       "      <th>1663</th>\n",
       "      <td>795.0</td>\n",
       "      <td>[클릭 e종목] S-Oil, 2Q 깜짝 실적 전망…\"업종 내 최선호주\"</td>\n",
       "      <td>NaN</td>\n",
       "    </tr>\n",
       "    <tr>\n",
       "      <th>1664</th>\n",
       "      <td>481.0</td>\n",
       "      <td>현대오일뱅크 보너스카드로 파리바게트 40% 할인</td>\n",
       "      <td>NaN</td>\n",
       "    </tr>\n",
       "  </tbody>\n",
       "</table>\n",
       "<p>1665 rows × 3 columns</p>\n",
       "</div>"
      ],
      "text/plain": [
       "          id                                    Title label\n",
       "0     1314.0                  물류기능 인력 양성사업 지원학교 추가 모집     0\n",
       "1      572.0  [2014 연비왕]\"시야를 넓게 보고 일정 속도를 유지하는 것이 비결\"     0\n",
       "2      423.0      에쓰오일, '올해의 시민영웅' 34인 선정…1억4000만원 전달     0\n",
       "3     1527.0                       이프타르(Iftar)를 아시나요?     0\n",
       "4       78.0      [굿모닝 증시]지수 추가하락 제한적… 조정 때 '비중확대' 고려     0\n",
       "...      ...                                      ...   ...\n",
       "1660  1639.0                        백규정 \"이번에는 3승 사냥~\"   NaN\n",
       "1661   460.0           건축 디자이너 찾아다니는 동국제강 영업맨의 하루(종합)   NaN\n",
       "1662   524.0             S-OIL, 발달장애우 위한 '햇살나눔콘서트' 진행   NaN\n",
       "1663   795.0  [클릭 e종목] S-Oil, 2Q 깜짝 실적 전망…\"업종 내 최선호주\"   NaN\n",
       "1664   481.0               현대오일뱅크 보너스카드로 파리바게트 40% 할인   NaN\n",
       "\n",
       "[1665 rows x 3 columns]"
      ]
     },
     "execution_count": 6,
     "metadata": {},
     "output_type": "execute_result"
    }
   ],
   "source": [
    "df_S_Oil = pd.read_csv('./trainingset/S-Oil_traindata_200.csv')\n",
    "#df_S_Oil = df_S_Oil.head(200)\n",
    "df_S_Oil"
   ]
  },
  {
   "cell_type": "code",
   "execution_count": 7,
   "metadata": {},
   "outputs": [
    {
     "data": {
      "text/html": [
       "<div>\n",
       "<style scoped>\n",
       "    .dataframe tbody tr th:only-of-type {\n",
       "        vertical-align: middle;\n",
       "    }\n",
       "\n",
       "    .dataframe tbody tr th {\n",
       "        vertical-align: top;\n",
       "    }\n",
       "\n",
       "    .dataframe thead th {\n",
       "        text-align: right;\n",
       "    }\n",
       "</style>\n",
       "<table border=\"1\" class=\"dataframe\">\n",
       "  <thead>\n",
       "    <tr style=\"text-align: right;\">\n",
       "      <th></th>\n",
       "      <th>id</th>\n",
       "      <th>Title</th>\n",
       "      <th>label</th>\n",
       "    </tr>\n",
       "  </thead>\n",
       "  <tbody>\n",
       "    <tr>\n",
       "      <th>0</th>\n",
       "      <td>212</td>\n",
       "      <td>은행장 임기 줄줄이 만료…누가 연임될까</td>\n",
       "      <td>-1</td>\n",
       "    </tr>\n",
       "    <tr>\n",
       "      <th>1</th>\n",
       "      <td>1216</td>\n",
       "      <td>권선주 기업은행장, 수능 앞둔 수험생에 격려편지</td>\n",
       "      <td>0</td>\n",
       "    </tr>\n",
       "    <tr>\n",
       "      <th>2</th>\n",
       "      <td>1461</td>\n",
       "      <td>서민 전세금 품어주는 HUG</td>\n",
       "      <td>1</td>\n",
       "    </tr>\n",
       "    <tr>\n",
       "      <th>3</th>\n",
       "      <td>788</td>\n",
       "      <td>기업은행, 소방관 복지증진 위한 심신안정실 설치</td>\n",
       "      <td>1</td>\n",
       "    </tr>\n",
       "    <tr>\n",
       "      <th>4</th>\n",
       "      <td>1815</td>\n",
       "      <td>[2015 국감]3년간 은행·카드사 신분증 사본 5억여건 수집</td>\n",
       "      <td>0</td>\n",
       "    </tr>\n",
       "    <tr>\n",
       "      <th>...</th>\n",
       "      <td>...</td>\n",
       "      <td>...</td>\n",
       "      <td>...</td>\n",
       "    </tr>\n",
       "    <tr>\n",
       "      <th>195</th>\n",
       "      <td>769</td>\n",
       "      <td>기업은행, 영업점장 대출 금리 감면권 확대</td>\n",
       "      <td>0</td>\n",
       "    </tr>\n",
       "    <tr>\n",
       "      <th>196</th>\n",
       "      <td>1827</td>\n",
       "      <td>모임통장, 회비관리 '척척'…총무가 따로없네</td>\n",
       "      <td>0</td>\n",
       "    </tr>\n",
       "    <tr>\n",
       "      <th>197</th>\n",
       "      <td>793</td>\n",
       "      <td>유니온페이, 겨울 여행객 위한 할인 이벤트 진행</td>\n",
       "      <td>0</td>\n",
       "    </tr>\n",
       "    <tr>\n",
       "      <th>198</th>\n",
       "      <td>68</td>\n",
       "      <td>[2015 국감]이운룡 \"신보 채용사업, 구조조정 검토 필요\"</td>\n",
       "      <td>-1</td>\n",
       "    </tr>\n",
       "    <tr>\n",
       "      <th>199</th>\n",
       "      <td>767</td>\n",
       "      <td>[가계부채 옥죄기 그늘]6대 은행, 가계부채 증가율 줄었지만…</td>\n",
       "      <td>-1</td>\n",
       "    </tr>\n",
       "  </tbody>\n",
       "</table>\n",
       "<p>200 rows × 3 columns</p>\n",
       "</div>"
      ],
      "text/plain": [
       "       id                               Title  label\n",
       "0     212               은행장 임기 줄줄이 만료…누가 연임될까     -1\n",
       "1    1216          권선주 기업은행장, 수능 앞둔 수험생에 격려편지      0\n",
       "2    1461                     서민 전세금 품어주는 HUG      1\n",
       "3     788          기업은행, 소방관 복지증진 위한 심신안정실 설치      1\n",
       "4    1815  [2015 국감]3년간 은행·카드사 신분증 사본 5억여건 수집      0\n",
       "..    ...                                 ...    ...\n",
       "195   769             기업은행, 영업점장 대출 금리 감면권 확대      0\n",
       "196  1827            모임통장, 회비관리 '척척'…총무가 따로없네      0\n",
       "197   793          유니온페이, 겨울 여행객 위한 할인 이벤트 진행      0\n",
       "198    68  [2015 국감]이운룡 \"신보 채용사업, 구조조정 검토 필요\"     -1\n",
       "199   767  [가계부채 옥죄기 그늘]6대 은행, 가계부채 증가율 줄었지만…     -1\n",
       "\n",
       "[200 rows x 3 columns]"
      ]
     },
     "execution_count": 7,
     "metadata": {},
     "output_type": "execute_result"
    }
   ],
   "source": [
    "df_IBK = pd.read_csv('./trainingset/기업은행_traindata_200.csv')\n",
    "df_IBK"
   ]
  },
  {
   "cell_type": "code",
   "execution_count": 8,
   "metadata": {},
   "outputs": [
    {
     "data": {
      "text/html": [
       "<div>\n",
       "<style scoped>\n",
       "    .dataframe tbody tr th:only-of-type {\n",
       "        vertical-align: middle;\n",
       "    }\n",
       "\n",
       "    .dataframe tbody tr th {\n",
       "        vertical-align: top;\n",
       "    }\n",
       "\n",
       "    .dataframe thead th {\n",
       "        text-align: right;\n",
       "    }\n",
       "</style>\n",
       "<table border=\"1\" class=\"dataframe\">\n",
       "  <thead>\n",
       "    <tr style=\"text-align: right;\">\n",
       "      <th></th>\n",
       "      <th>id</th>\n",
       "      <th>Title</th>\n",
       "      <th>label</th>\n",
       "    </tr>\n",
       "  </thead>\n",
       "  <tbody>\n",
       "    <tr>\n",
       "      <th>0</th>\n",
       "      <td>4303</td>\n",
       "      <td>테마섹, 셀트리온 주가 급등에 4300억 평가차익</td>\n",
       "      <td>1</td>\n",
       "    </tr>\n",
       "    <tr>\n",
       "      <th>1</th>\n",
       "      <td>3005</td>\n",
       "      <td>2분기 실적시즌 점검, 정제·석유화학 강세의 이유</td>\n",
       "      <td>1</td>\n",
       "    </tr>\n",
       "    <tr>\n",
       "      <th>2</th>\n",
       "      <td>219</td>\n",
       "      <td>급한 불 끈 삼성바이오, 경영정상화 난제(종합)</td>\n",
       "      <td>-1</td>\n",
       "    </tr>\n",
       "    <tr>\n",
       "      <th>3</th>\n",
       "      <td>3426</td>\n",
       "      <td>코스닥, 기관 덕에 하루만에 상승 마감…반기문 테마주 동반 '급락'</td>\n",
       "      <td>0</td>\n",
       "    </tr>\n",
       "    <tr>\n",
       "      <th>4</th>\n",
       "      <td>2951</td>\n",
       "      <td>코스닥, 외국인 매수세로 상승 출발…650선 회복</td>\n",
       "      <td>1</td>\n",
       "    </tr>\n",
       "    <tr>\n",
       "      <th>...</th>\n",
       "      <td>...</td>\n",
       "      <td>...</td>\n",
       "      <td>...</td>\n",
       "    </tr>\n",
       "    <tr>\n",
       "      <th>195</th>\n",
       "      <td>1172</td>\n",
       "      <td>원 이퀴티 파트너스 포, 엘.피., 셀트리온헬스케어 주식 631만주 장내매도</td>\n",
       "      <td>-1</td>\n",
       "    </tr>\n",
       "    <tr>\n",
       "      <th>196</th>\n",
       "      <td>1630</td>\n",
       "      <td>코스닥, 장 초반 하락세…640선 또 '위태'</td>\n",
       "      <td>-1</td>\n",
       "    </tr>\n",
       "    <tr>\n",
       "      <th>197</th>\n",
       "      <td>696</td>\n",
       "      <td>“ 3000% ”터질 바이오 단돈 3천원대! 2019년 마지막 新대장 바이오 온다!</td>\n",
       "      <td>1</td>\n",
       "    </tr>\n",
       "    <tr>\n",
       "      <th>198</th>\n",
       "      <td>1563</td>\n",
       "      <td>코스닥, 개인 '사자'에 700 향해 ↑</td>\n",
       "      <td>1</td>\n",
       "    </tr>\n",
       "    <tr>\n",
       "      <th>199</th>\n",
       "      <td>2215</td>\n",
       "      <td>남북정상회담 D-1, 코스피 장중 2470선 회복… SK하이닉스 4%대 강세</td>\n",
       "      <td>1</td>\n",
       "    </tr>\n",
       "  </tbody>\n",
       "</table>\n",
       "<p>200 rows × 3 columns</p>\n",
       "</div>"
      ],
      "text/plain": [
       "       id                                           Title  label\n",
       "0    4303                     테마섹, 셀트리온 주가 급등에 4300억 평가차익      1\n",
       "1    3005                     2분기 실적시즌 점검, 정제·석유화학 강세의 이유      1\n",
       "2     219                      급한 불 끈 삼성바이오, 경영정상화 난제(종합)     -1\n",
       "3    3426           코스닥, 기관 덕에 하루만에 상승 마감…반기문 테마주 동반 '급락'      0\n",
       "4    2951                     코스닥, 외국인 매수세로 상승 출발…650선 회복      1\n",
       "..    ...                                             ...    ...\n",
       "195  1172      원 이퀴티 파트너스 포, 엘.피., 셀트리온헬스케어 주식 631만주 장내매도     -1\n",
       "196  1630                       코스닥, 장 초반 하락세…640선 또 '위태'     -1\n",
       "197   696  “ 3000% ”터질 바이오 단돈 3천원대! 2019년 마지막 新대장 바이오 온다!      1\n",
       "198  1563                          코스닥, 개인 '사자'에 700 향해 ↑      1\n",
       "199  2215      남북정상회담 D-1, 코스피 장중 2470선 회복… SK하이닉스 4%대 강세      1\n",
       "\n",
       "[200 rows x 3 columns]"
      ]
     },
     "execution_count": 8,
     "metadata": {},
     "output_type": "execute_result"
    }
   ],
   "source": [
    "df_celt = pd.read_csv('./trainingset/셀트리온_traindata_200.csv')\n",
    "#df_celt=df_celt.head(200)\n",
    "df_celt"
   ]
  },
  {
   "cell_type": "code",
   "execution_count": 9,
   "metadata": {},
   "outputs": [],
   "source": [
    "df = pd.concat([df_skt, df_mobis, df_hb, df_S_Oil,df_IBK,df_celt])"
   ]
  },
  {
   "cell_type": "code",
   "execution_count": 10,
   "metadata": {},
   "outputs": [
    {
     "data": {
      "text/html": [
       "<div>\n",
       "<style scoped>\n",
       "    .dataframe tbody tr th:only-of-type {\n",
       "        vertical-align: middle;\n",
       "    }\n",
       "\n",
       "    .dataframe tbody tr th {\n",
       "        vertical-align: top;\n",
       "    }\n",
       "\n",
       "    .dataframe thead th {\n",
       "        text-align: right;\n",
       "    }\n",
       "</style>\n",
       "<table border=\"1\" class=\"dataframe\">\n",
       "  <thead>\n",
       "    <tr style=\"text-align: right;\">\n",
       "      <th></th>\n",
       "      <th>id</th>\n",
       "      <th>Title</th>\n",
       "      <th>label</th>\n",
       "    </tr>\n",
       "  </thead>\n",
       "  <tbody>\n",
       "    <tr>\n",
       "      <th>0</th>\n",
       "      <td>0.0</td>\n",
       "      <td>국민안전로봇 2021년까지 개발…'로봇물고기' 전철 피할까?</td>\n",
       "      <td>0</td>\n",
       "    </tr>\n",
       "    <tr>\n",
       "      <th>1</th>\n",
       "      <td>1.0</td>\n",
       "      <td>'국정원 해킹 의혹' 상임위 앞두고 與野 전초전</td>\n",
       "      <td>0</td>\n",
       "    </tr>\n",
       "    <tr>\n",
       "      <th>2</th>\n",
       "      <td>2.0</td>\n",
       "      <td>인터넷티비(TV)결합상품 인터넷가입 비교사이트 통해 통신사별 장단점 비교해야 유리</td>\n",
       "      <td>0</td>\n",
       "    </tr>\n",
       "    <tr>\n",
       "      <th>3</th>\n",
       "      <td>3.0</td>\n",
       "      <td>SKT LG KT 인터넷가입 비교사이트 ‘펭귄통신’ 설치 당일 현금지원 이벤트</td>\n",
       "      <td>0</td>\n",
       "    </tr>\n",
       "    <tr>\n",
       "      <th>4</th>\n",
       "      <td>4.0</td>\n",
       "      <td>설 연휴 고향 가는 길 언제 출발해야 덜 막힐까</td>\n",
       "      <td>0</td>\n",
       "    </tr>\n",
       "    <tr>\n",
       "      <th>...</th>\n",
       "      <td>...</td>\n",
       "      <td>...</td>\n",
       "      <td>...</td>\n",
       "    </tr>\n",
       "    <tr>\n",
       "      <th>195</th>\n",
       "      <td>1172.0</td>\n",
       "      <td>원 이퀴티 파트너스 포, 엘.피., 셀트리온헬스케어 주식 631만주 장내매도</td>\n",
       "      <td>-1</td>\n",
       "    </tr>\n",
       "    <tr>\n",
       "      <th>196</th>\n",
       "      <td>1630.0</td>\n",
       "      <td>코스닥, 장 초반 하락세…640선 또 '위태'</td>\n",
       "      <td>-1</td>\n",
       "    </tr>\n",
       "    <tr>\n",
       "      <th>197</th>\n",
       "      <td>696.0</td>\n",
       "      <td>“ 3000% ”터질 바이오 단돈 3천원대! 2019년 마지막 新대장 바이오 온다!</td>\n",
       "      <td>1</td>\n",
       "    </tr>\n",
       "    <tr>\n",
       "      <th>198</th>\n",
       "      <td>1563.0</td>\n",
       "      <td>코스닥, 개인 '사자'에 700 향해 ↑</td>\n",
       "      <td>1</td>\n",
       "    </tr>\n",
       "    <tr>\n",
       "      <th>199</th>\n",
       "      <td>2215.0</td>\n",
       "      <td>남북정상회담 D-1, 코스피 장중 2470선 회복… SK하이닉스 4%대 강세</td>\n",
       "      <td>1</td>\n",
       "    </tr>\n",
       "  </tbody>\n",
       "</table>\n",
       "<p>2968 rows × 3 columns</p>\n",
       "</div>"
      ],
      "text/plain": [
       "         id                                           Title label\n",
       "0       0.0               국민안전로봇 2021년까지 개발…'로봇물고기' 전철 피할까?     0\n",
       "1       1.0                      '국정원 해킹 의혹' 상임위 앞두고 與野 전초전     0\n",
       "2       2.0   인터넷티비(TV)결합상품 인터넷가입 비교사이트 통해 통신사별 장단점 비교해야 유리     0\n",
       "3       3.0     SKT LG KT 인터넷가입 비교사이트 ‘펭귄통신’ 설치 당일 현금지원 이벤트     0\n",
       "4       4.0                      설 연휴 고향 가는 길 언제 출발해야 덜 막힐까     0\n",
       "..      ...                                             ...   ...\n",
       "195  1172.0      원 이퀴티 파트너스 포, 엘.피., 셀트리온헬스케어 주식 631만주 장내매도    -1\n",
       "196  1630.0                       코스닥, 장 초반 하락세…640선 또 '위태'    -1\n",
       "197   696.0  “ 3000% ”터질 바이오 단돈 3천원대! 2019년 마지막 新대장 바이오 온다!     1\n",
       "198  1563.0                          코스닥, 개인 '사자'에 700 향해 ↑     1\n",
       "199  2215.0      남북정상회담 D-1, 코스피 장중 2470선 회복… SK하이닉스 4%대 강세     1\n",
       "\n",
       "[2968 rows x 3 columns]"
      ]
     },
     "execution_count": 10,
     "metadata": {},
     "output_type": "execute_result"
    }
   ],
   "source": [
    "df = df[['id','Title','label']]\n",
    "df"
   ]
  },
  {
   "cell_type": "code",
   "execution_count": 11,
   "metadata": {},
   "outputs": [],
   "source": [
    "from sklearn.model_selection import train_test_split"
   ]
  },
  {
   "cell_type": "code",
   "execution_count": 12,
   "metadata": {},
   "outputs": [],
   "source": [
    "# Train 데이터와 Test 데이터 분리\n",
    "X = df['Title']\n",
    "y = df['label']\n",
    "\n",
    "X_train, X_test, y_train, y_test = train_test_split(X, y, test_size = 0.2, random_state = 2)"
   ]
  },
  {
   "cell_type": "code",
   "execution_count": 13,
   "metadata": {},
   "outputs": [],
   "source": [
    "# 문장을 나누기 위한 Stopwords 선정\n",
    "stopwords = ['의', '가', '이', '은', '들', '는', '좀', '잘', '걍', '과', '도', '를', '으로', '자', '에', '와', '한', '하다']"
   ]
  },
  {
   "cell_type": "code",
   "execution_count": 14,
   "metadata": {
    "scrolled": true
   },
   "outputs": [],
   "source": [
    "#!pip3 install konlpy"
   ]
  },
  {
   "cell_type": "code",
   "execution_count": 17,
   "metadata": {},
   "outputs": [
    {
     "ename": "TypeError",
     "evalue": "No matching overloads found for kr.lucypark.okt.OktInterface.tokenize(float,java.lang.Boolean,java.lang.Boolean), options are:\n\tpublic java.util.List kr.lucypark.okt.OktInterface.tokenize(java.lang.String,java.lang.Boolean,java.lang.Boolean)\n\n",
     "output_type": "error",
     "traceback": [
      "\u001b[0;31m---------------------------------------------------------------------------\u001b[0m",
      "\u001b[0;31mTypeError\u001b[0m                                 Traceback (most recent call last)",
      "\u001b[0;32m<ipython-input-17-762eeb0d82d4>\u001b[0m in \u001b[0;36m<module>\u001b[0;34m\u001b[0m\n\u001b[1;32m      8\u001b[0m \u001b[0;32mfor\u001b[0m \u001b[0msentence\u001b[0m \u001b[0;32min\u001b[0m \u001b[0mX_train\u001b[0m\u001b[0;34m:\u001b[0m\u001b[0;34m\u001b[0m\u001b[0;34m\u001b[0m\u001b[0m\n\u001b[1;32m      9\u001b[0m     \u001b[0mtemp_X\u001b[0m \u001b[0;34m=\u001b[0m \u001b[0;34m[\u001b[0m\u001b[0;34m]\u001b[0m\u001b[0;34m\u001b[0m\u001b[0;34m\u001b[0m\u001b[0m\n\u001b[0;32m---> 10\u001b[0;31m     \u001b[0mtemp_X\u001b[0m \u001b[0;34m=\u001b[0m \u001b[0mokt\u001b[0m\u001b[0;34m.\u001b[0m\u001b[0mmorphs\u001b[0m\u001b[0;34m(\u001b[0m\u001b[0msentence\u001b[0m\u001b[0;34m,\u001b[0m \u001b[0mstem\u001b[0m\u001b[0;34m=\u001b[0m\u001b[0;32mTrue\u001b[0m\u001b[0;34m)\u001b[0m \u001b[0;31m# 토큰화\u001b[0m\u001b[0;34m\u001b[0m\u001b[0;34m\u001b[0m\u001b[0m\n\u001b[0m\u001b[1;32m     11\u001b[0m     \u001b[0mtemp_X\u001b[0m \u001b[0;34m=\u001b[0m \u001b[0;34m[\u001b[0m\u001b[0mword\u001b[0m \u001b[0;32mfor\u001b[0m \u001b[0mword\u001b[0m \u001b[0;32min\u001b[0m \u001b[0mtemp_X\u001b[0m \u001b[0;32mif\u001b[0m \u001b[0;32mnot\u001b[0m \u001b[0mword\u001b[0m \u001b[0;32min\u001b[0m \u001b[0mstopwords\u001b[0m\u001b[0;34m]\u001b[0m \u001b[0;31m# 불용어 제거\u001b[0m\u001b[0;34m\u001b[0m\u001b[0;34m\u001b[0m\u001b[0m\n\u001b[1;32m     12\u001b[0m     \u001b[0mX_train_token\u001b[0m\u001b[0;34m.\u001b[0m\u001b[0mappend\u001b[0m\u001b[0;34m(\u001b[0m\u001b[0mtemp_X\u001b[0m\u001b[0;34m)\u001b[0m\u001b[0;34m\u001b[0m\u001b[0;34m\u001b[0m\u001b[0m\n",
      "\u001b[0;32m~/.local/lib/python3.6/site-packages/konlpy/tag/_okt.py\u001b[0m in \u001b[0;36mmorphs\u001b[0;34m(self, phrase, norm, stem)\u001b[0m\n\u001b[1;32m     76\u001b[0m         \u001b[0;34m\"\"\"Parse phrase to morphemes.\"\"\"\u001b[0m\u001b[0;34m\u001b[0m\u001b[0;34m\u001b[0m\u001b[0m\n\u001b[1;32m     77\u001b[0m \u001b[0;34m\u001b[0m\u001b[0m\n\u001b[0;32m---> 78\u001b[0;31m         \u001b[0;32mreturn\u001b[0m \u001b[0;34m[\u001b[0m\u001b[0ms\u001b[0m \u001b[0;32mfor\u001b[0m \u001b[0ms\u001b[0m\u001b[0;34m,\u001b[0m \u001b[0mt\u001b[0m \u001b[0;32min\u001b[0m \u001b[0mself\u001b[0m\u001b[0;34m.\u001b[0m\u001b[0mpos\u001b[0m\u001b[0;34m(\u001b[0m\u001b[0mphrase\u001b[0m\u001b[0;34m,\u001b[0m \u001b[0mnorm\u001b[0m\u001b[0;34m=\u001b[0m\u001b[0mnorm\u001b[0m\u001b[0;34m,\u001b[0m \u001b[0mstem\u001b[0m\u001b[0;34m=\u001b[0m\u001b[0mstem\u001b[0m\u001b[0;34m)\u001b[0m\u001b[0;34m]\u001b[0m\u001b[0;34m\u001b[0m\u001b[0;34m\u001b[0m\u001b[0m\n\u001b[0m\u001b[1;32m     79\u001b[0m \u001b[0;34m\u001b[0m\u001b[0m\n\u001b[1;32m     80\u001b[0m     \u001b[0;32mdef\u001b[0m \u001b[0mphrases\u001b[0m\u001b[0;34m(\u001b[0m\u001b[0mself\u001b[0m\u001b[0;34m,\u001b[0m \u001b[0mphrase\u001b[0m\u001b[0;34m)\u001b[0m\u001b[0;34m:\u001b[0m\u001b[0;34m\u001b[0m\u001b[0;34m\u001b[0m\u001b[0m\n",
      "\u001b[0;32m~/.local/lib/python3.6/site-packages/konlpy/tag/_okt.py\u001b[0m in \u001b[0;36mpos\u001b[0;34m(self, phrase, norm, stem, join)\u001b[0m\n\u001b[1;32m     61\u001b[0m                     \u001b[0mphrase\u001b[0m\u001b[0;34m,\u001b[0m\u001b[0;34m\u001b[0m\u001b[0;34m\u001b[0m\u001b[0m\n\u001b[1;32m     62\u001b[0m                     \u001b[0mjpype\u001b[0m\u001b[0;34m.\u001b[0m\u001b[0mjava\u001b[0m\u001b[0;34m.\u001b[0m\u001b[0mlang\u001b[0m\u001b[0;34m.\u001b[0m\u001b[0mBoolean\u001b[0m\u001b[0;34m(\u001b[0m\u001b[0mnorm\u001b[0m\u001b[0;34m)\u001b[0m\u001b[0;34m,\u001b[0m\u001b[0;34m\u001b[0m\u001b[0;34m\u001b[0m\u001b[0m\n\u001b[0;32m---> 63\u001b[0;31m                     jpype.java.lang.Boolean(stem)).toArray()\n\u001b[0m\u001b[1;32m     64\u001b[0m         \u001b[0;32mif\u001b[0m \u001b[0mjoin\u001b[0m\u001b[0;34m:\u001b[0m\u001b[0;34m\u001b[0m\u001b[0;34m\u001b[0m\u001b[0m\n\u001b[1;32m     65\u001b[0m             \u001b[0;32mreturn\u001b[0m \u001b[0;34m[\u001b[0m\u001b[0mt\u001b[0m \u001b[0;32mfor\u001b[0m \u001b[0mt\u001b[0m \u001b[0;32min\u001b[0m \u001b[0mtokens\u001b[0m\u001b[0;34m]\u001b[0m\u001b[0;34m\u001b[0m\u001b[0;34m\u001b[0m\u001b[0m\n",
      "\u001b[0;31mTypeError\u001b[0m: No matching overloads found for kr.lucypark.okt.OktInterface.tokenize(float,java.lang.Boolean,java.lang.Boolean), options are:\n\tpublic java.util.List kr.lucypark.okt.OktInterface.tokenize(java.lang.String,java.lang.Boolean,java.lang.Boolean)\n\n"
     ]
    }
   ],
   "source": [
    "# Sentence Tokenizing\n",
    "\n",
    "import konlpy\n",
    "from konlpy.tag import Okt\n",
    "\n",
    "okt = Okt()\n",
    "X_train_token = []\n",
    "for sentence in X_train:\n",
    "    temp_X = [] \n",
    "    temp_X = okt.morphs(sentence, stem=True) # 토큰화\n",
    "    temp_X = [word for word in temp_X if not word in stopwords] # 불용어 제거\n",
    "    X_train_token.append(temp_X)\n",
    "\n",
    "X_test_token = []\n",
    "for sentence in X_test:\n",
    "    temp_X = []\n",
    "    temp_X = okt.morphs(sentence, stem=True) # 토큰화\n",
    "    temp_X = [word for word in temp_X if not word in stopwords] # 불용어 제거\n",
    "    X_test_token.append(temp_X)"
   ]
  },
  {
   "cell_type": "code",
   "execution_count": 47,
   "metadata": {},
   "outputs": [
    {
     "ename": "ModuleNotFoundError",
     "evalue": "No module named 'keras'",
     "output_type": "error",
     "traceback": [
      "\u001b[0;31m---------------------------------------------------------------------------\u001b[0m",
      "\u001b[0;31mModuleNotFoundError\u001b[0m                       Traceback (most recent call last)",
      "\u001b[0;32m<ipython-input-47-486aaff7ba4a>\u001b[0m in \u001b[0;36m<module>\u001b[0;34m\u001b[0m\n\u001b[0;32m----> 1\u001b[0;31m \u001b[0;32mfrom\u001b[0m \u001b[0mkeras\u001b[0m\u001b[0;34m.\u001b[0m\u001b[0mlayers\u001b[0m \u001b[0;32mimport\u001b[0m \u001b[0mEmbedding\u001b[0m\u001b[0;34m,\u001b[0m \u001b[0mDense\u001b[0m\u001b[0;34m,\u001b[0m \u001b[0mLSTM\u001b[0m\u001b[0;34m\u001b[0m\u001b[0;34m\u001b[0m\u001b[0m\n\u001b[0m\u001b[1;32m      2\u001b[0m \u001b[0;32mfrom\u001b[0m \u001b[0mkeras\u001b[0m\u001b[0;34m.\u001b[0m\u001b[0mmodels\u001b[0m \u001b[0;32mimport\u001b[0m \u001b[0mSequential\u001b[0m\u001b[0;34m\u001b[0m\u001b[0;34m\u001b[0m\u001b[0m\n\u001b[1;32m      3\u001b[0m \u001b[0;32mfrom\u001b[0m \u001b[0mkeras\u001b[0m\u001b[0;34m.\u001b[0m\u001b[0mpreprocessing\u001b[0m\u001b[0;34m.\u001b[0m\u001b[0msequence\u001b[0m \u001b[0;32mimport\u001b[0m \u001b[0mpad_sequences\u001b[0m\u001b[0;34m\u001b[0m\u001b[0;34m\u001b[0m\u001b[0m\n",
      "\u001b[0;31mModuleNotFoundError\u001b[0m: No module named 'keras'"
     ]
    }
   ],
   "source": [
    "from keras.layers import Embedding, Dense, LSTM\n",
    "from keras.models import Sequential\n",
    "from keras.preprocessing.sequence import pad_sequences"
   ]
  },
  {
   "cell_type": "code",
   "execution_count": 16,
   "metadata": {},
   "outputs": [
    {
     "ename": "ModuleNotFoundError",
     "evalue": "No module named 'keras'",
     "output_type": "error",
     "traceback": [
      "\u001b[0;31m---------------------------------------------------------------------------\u001b[0m",
      "\u001b[0;31mModuleNotFoundError\u001b[0m                       Traceback (most recent call last)",
      "\u001b[0;32m<ipython-input-16-69e42082f451>\u001b[0m in \u001b[0;36m<module>\u001b[0;34m\u001b[0m\n\u001b[0;32m----> 1\u001b[0;31m \u001b[0;32mfrom\u001b[0m \u001b[0mkeras\u001b[0m\u001b[0;34m.\u001b[0m\u001b[0mpreprocessing\u001b[0m\u001b[0;34m.\u001b[0m\u001b[0mtext\u001b[0m \u001b[0;32mimport\u001b[0m \u001b[0mTokenizer\u001b[0m\u001b[0;34m\u001b[0m\u001b[0;34m\u001b[0m\u001b[0m\n\u001b[0m\u001b[1;32m      2\u001b[0m \u001b[0mmax_words\u001b[0m \u001b[0;34m=\u001b[0m \u001b[0;36m35000\u001b[0m\u001b[0;34m\u001b[0m\u001b[0;34m\u001b[0m\u001b[0m\n\u001b[1;32m      3\u001b[0m \u001b[0mtokenizer\u001b[0m \u001b[0;34m=\u001b[0m \u001b[0mTokenizer\u001b[0m\u001b[0;34m(\u001b[0m\u001b[0mnum_words\u001b[0m \u001b[0;34m=\u001b[0m \u001b[0mmax_words\u001b[0m\u001b[0;34m)\u001b[0m\u001b[0;34m\u001b[0m\u001b[0;34m\u001b[0m\u001b[0m\n\u001b[1;32m      4\u001b[0m \u001b[0mtokenizer\u001b[0m\u001b[0;34m.\u001b[0m\u001b[0mfit_on_texts\u001b[0m\u001b[0;34m(\u001b[0m\u001b[0mX_train_token\u001b[0m\u001b[0;34m)\u001b[0m\u001b[0;34m\u001b[0m\u001b[0;34m\u001b[0m\u001b[0m\n\u001b[1;32m      5\u001b[0m \u001b[0mX_train_token\u001b[0m \u001b[0;34m=\u001b[0m \u001b[0mtokenizer\u001b[0m\u001b[0;34m.\u001b[0m\u001b[0mtexts_to_sequences\u001b[0m\u001b[0;34m(\u001b[0m\u001b[0mX_train_token\u001b[0m\u001b[0;34m)\u001b[0m\u001b[0;34m\u001b[0m\u001b[0;34m\u001b[0m\u001b[0m\n",
      "\u001b[0;31mModuleNotFoundError\u001b[0m: No module named 'keras'"
     ]
    }
   ],
   "source": [
    "from keras.preprocessing.text import Tokenizer\n",
    "max_words = 35000 \n",
    "tokenizer = Tokenizer(num_words = max_words)\n",
    "tokenizer.fit_on_texts(X_train_token) \n",
    "X_train_token = tokenizer.texts_to_sequences(X_train_token) \n",
    "X_test_token = tokenizer.texts_to_sequences(X_test_token)"
   ]
  },
  {
   "cell_type": "markdown",
   "metadata": {},
   "source": [
    "### One-Hot encoding 2가지 방법"
   ]
  },
  {
   "cell_type": "code",
   "execution_count": 17,
   "metadata": {},
   "outputs": [],
   "source": [
    "# 1. \n",
    "import numpy as np\n",
    "y_train_encode = []\n",
    "y_test_encode = []\n",
    "for i in range(len(y_train)):\n",
    "    if y_train.iloc[i] == 1:\n",
    "        y_train_encode.append([0, 0, 1]) \n",
    "    elif y_train.iloc[i] == 0:\n",
    "        y_train_encode.append([0, 1, 0]) \n",
    "    elif y_train.iloc[i] == -1:\n",
    "        y_train_encode.append([1, 0, 0]) \n",
    "        \n",
    "for i in range(len(y_test)):\n",
    "    if y_test.iloc[i] == 1:\n",
    "        y_test_encode.append([0, 0, 1]) \n",
    "    elif y_test.iloc[i] == 0:\n",
    "        y_test_encode.append([0, 1, 0])\n",
    "    elif y_test.iloc[i] == -1:\n",
    "        y_test_encode.append([1, 0, 0]) \n",
    "        \n",
    "y_train_encode=np.array(y_train_encode)\n",
    "y_test_encode=np.array(y_test_encode)"
   ]
  },
  {
   "cell_type": "code",
   "execution_count": 18,
   "metadata": {},
   "outputs": [
    {
     "data": {
      "text/plain": [
       "array([[0, 0, 1],\n",
       "       [1, 0, 0],\n",
       "       [0, 0, 1],\n",
       "       ...,\n",
       "       [0, 0, 1],\n",
       "       [1, 0, 0],\n",
       "       [0, 0, 1]])"
      ]
     },
     "execution_count": 18,
     "metadata": {},
     "output_type": "execute_result"
    }
   ],
   "source": [
    "y_train_encode"
   ]
  },
  {
   "cell_type": "code",
   "execution_count": 19,
   "metadata": {},
   "outputs": [
    {
     "ename": "ModuleNotFoundError",
     "evalue": "No module named 'keras'",
     "output_type": "error",
     "traceback": [
      "\u001b[0;31m---------------------------------------------------------------------------\u001b[0m",
      "\u001b[0;31mModuleNotFoundError\u001b[0m                       Traceback (most recent call last)",
      "\u001b[0;32m<ipython-input-19-47bbf0d868cc>\u001b[0m in \u001b[0;36m<module>\u001b[0;34m\u001b[0m\n\u001b[1;32m      1\u001b[0m \u001b[0;31m# 2.\u001b[0m\u001b[0;34m\u001b[0m\u001b[0;34m\u001b[0m\u001b[0;34m\u001b[0m\u001b[0m\n\u001b[1;32m      2\u001b[0m \u001b[0;31m# to_categorical 방법은 0 1 -1 순서로 인코딩된다!\u001b[0m\u001b[0;34m\u001b[0m\u001b[0;34m\u001b[0m\u001b[0;34m\u001b[0m\u001b[0m\n\u001b[0;32m----> 3\u001b[0;31m \u001b[0;32mfrom\u001b[0m \u001b[0mkeras\u001b[0m\u001b[0;34m.\u001b[0m\u001b[0mutils\u001b[0m \u001b[0;32mimport\u001b[0m \u001b[0mto_categorical\u001b[0m\u001b[0;34m\u001b[0m\u001b[0;34m\u001b[0m\u001b[0m\n\u001b[0m\u001b[1;32m      4\u001b[0m \u001b[0;34m\u001b[0m\u001b[0m\n\u001b[1;32m      5\u001b[0m \u001b[0my_train_cata\u001b[0m \u001b[0;34m=\u001b[0m \u001b[0mto_categorical\u001b[0m\u001b[0;34m(\u001b[0m\u001b[0my_train\u001b[0m\u001b[0;34m,\u001b[0m \u001b[0mnum_classes\u001b[0m \u001b[0;34m=\u001b[0m \u001b[0;36m3\u001b[0m\u001b[0;34m)\u001b[0m\u001b[0;34m\u001b[0m\u001b[0;34m\u001b[0m\u001b[0m\n",
      "\u001b[0;31mModuleNotFoundError\u001b[0m: No module named 'keras'"
     ]
    }
   ],
   "source": [
    "# 2. \n",
    "# to_categorical 방법은 0 1 -1 순서로 인코딩된다!\n",
    "from keras.utils import to_categorical\n",
    "\n",
    "y_train_cata = to_categorical(y_train, num_classes = 3)\n",
    "y_test_cata = to_categorical(y_test, num_classes = 3)"
   ]
  },
  {
   "cell_type": "code",
   "execution_count": 112,
   "metadata": {},
   "outputs": [
    {
     "data": {
      "text/plain": [
       "array([[0., 1., 0.],\n",
       "       [1., 0., 0.],\n",
       "       [0., 1., 0.],\n",
       "       ...,\n",
       "       [0., 1., 0.],\n",
       "       [0., 1., 0.],\n",
       "       [0., 1., 0.]], dtype=float32)"
      ]
     },
     "execution_count": 112,
     "metadata": {},
     "output_type": "execute_result"
    }
   ],
   "source": [
    "y_train_cata"
   ]
  },
  {
   "cell_type": "code",
   "execution_count": 113,
   "metadata": {},
   "outputs": [],
   "source": [
    "max_len = 20 # pad_sequesces이용, 전체 데이터의 길이를 20로 맞춘다\n",
    "X_train = pad_sequences(X_train_token, maxlen=max_len)\n",
    "X_test = pad_sequences(X_test_token, maxlen=max_len)"
   ]
  },
  {
   "cell_type": "code",
   "execution_count": 114,
   "metadata": {},
   "outputs": [
    {
     "name": "stdout",
     "output_type": "stream",
     "text": [
      "Epoch 1/10\n",
      "65/65 [==============================] - 5s 73ms/step - loss: 1.0326 - accuracy: 0.4638 - val_loss: 0.9712 - val_accuracy: 0.4932\n",
      "Epoch 2/10\n",
      "65/65 [==============================] - 3s 44ms/step - loss: 0.8211 - accuracy: 0.6287 - val_loss: 0.8393 - val_accuracy: 0.6164\n",
      "Epoch 3/10\n",
      "65/65 [==============================] - 3s 44ms/step - loss: 0.5232 - accuracy: 0.8028 - val_loss: 1.4024 - val_accuracy: 0.6027\n",
      "Epoch 4/10\n",
      "65/65 [==============================] - 3s 43ms/step - loss: 0.3281 - accuracy: 0.9045 - val_loss: 0.8300 - val_accuracy: 0.6575\n",
      "Epoch 5/10\n",
      "65/65 [==============================] - 3s 44ms/step - loss: 0.1869 - accuracy: 0.9322 - val_loss: 1.0284 - val_accuracy: 0.6575\n",
      "Epoch 6/10\n",
      "65/65 [==============================] - 3s 43ms/step - loss: 0.1314 - accuracy: 0.9630 - val_loss: 0.9582 - val_accuracy: 0.6027\n",
      "Epoch 7/10\n",
      "65/65 [==============================] - 3s 44ms/step - loss: 0.0801 - accuracy: 0.9738 - val_loss: 1.0998 - val_accuracy: 0.6438\n",
      "Epoch 8/10\n",
      "65/65 [==============================] - 3s 43ms/step - loss: 0.0678 - accuracy: 0.9831 - val_loss: 1.0721 - val_accuracy: 0.6438\n",
      "Epoch 9/10\n",
      "65/65 [==============================] - 3s 43ms/step - loss: 0.0357 - accuracy: 0.9908 - val_loss: 2.1561 - val_accuracy: 0.5068\n",
      "Epoch 10/10\n",
      "65/65 [==============================] - 3s 44ms/step - loss: 0.0369 - accuracy: 0.9861 - val_loss: 1.1324 - val_accuracy: 0.6438\n"
     ]
    }
   ],
   "source": [
    "model = Sequential()\n",
    "model.add(Embedding(max_words, 100))\n",
    "model.add(LSTM(128))\n",
    "model.add(Dense(3, activation='softmax'))\n",
    "model.compile(optimizer='rmsprop', loss='categorical_crossentropy', metrics=['accuracy']) \n",
    "history = model.fit(X_train, y_train_encode, epochs=10, batch_size=10, validation_split=0.1)"
   ]
  },
  {
   "cell_type": "code",
   "execution_count": 115,
   "metadata": {
    "scrolled": true
   },
   "outputs": [
    {
     "name": "stdout",
     "output_type": "stream",
     "text": [
      "6/6 [==============================] - 0s 10ms/step - loss: 1.5661 - accuracy: 0.5691\n",
      "\n",
      " 테스트 정확도 : 56.91%\n"
     ]
    }
   ],
   "source": [
    "print(\"\\n 테스트 정확도 : {:.2f}%\".format(model.evaluate(X_test,y_test_encode)[1]*100))"
   ]
  },
  {
   "cell_type": "markdown",
   "metadata": {},
   "source": [
    "#### 현대백화점, SKT, 현대모비스를 합한 데이터를 통해 20%의 비율로 Train과 Test를 나누고 감정 라벨링 결과 57%의 정확도를 보인다. \n",
    "\n",
    "- parameter를 바꿔서 실행해보기"
   ]
  },
  {
   "cell_type": "code",
   "execution_count": 116,
   "metadata": {},
   "outputs": [
    {
     "name": "stdout",
     "output_type": "stream",
     "text": [
      "Epoch 1/10\n",
      "65/65 [==============================] - 5s 76ms/step - loss: 1.0286 - accuracy: 0.4607 - val_loss: 0.9940 - val_accuracy: 0.5068\n",
      "Epoch 2/10\n",
      "65/65 [==============================] - 4s 55ms/step - loss: 0.7768 - accuracy: 0.6672 - val_loss: 0.7989 - val_accuracy: 0.6712\n",
      "Epoch 3/10\n",
      "65/65 [==============================] - 4s 58ms/step - loss: 0.3056 - accuracy: 0.9106 - val_loss: 0.9088 - val_accuracy: 0.6575\n",
      "Epoch 4/10\n",
      "65/65 [==============================] - 4s 58ms/step - loss: 0.0835 - accuracy: 0.9676 - val_loss: 1.2671 - val_accuracy: 0.6164\n",
      "Epoch 5/10\n",
      "65/65 [==============================] - 4s 58ms/step - loss: 0.0656 - accuracy: 0.9861 - val_loss: 0.9491 - val_accuracy: 0.6301\n",
      "Epoch 6/10\n",
      "65/65 [==============================] - 4s 58ms/step - loss: 0.0944 - accuracy: 0.9738 - val_loss: 0.9956 - val_accuracy: 0.5616\n",
      "Epoch 7/10\n",
      "65/65 [==============================] - 4s 57ms/step - loss: 0.0590 - accuracy: 0.9846 - val_loss: 0.8810 - val_accuracy: 0.5890\n",
      "Epoch 8/10\n",
      "65/65 [==============================] - 4s 58ms/step - loss: 0.0232 - accuracy: 0.9938 - val_loss: 1.0619 - val_accuracy: 0.6301\n",
      "Epoch 9/10\n",
      "65/65 [==============================] - 4s 58ms/step - loss: 0.0139 - accuracy: 0.9969 - val_loss: 1.1865 - val_accuracy: 0.6438\n",
      "Epoch 10/10\n",
      "65/65 [==============================] - 4s 58ms/step - loss: 0.0146 - accuracy: 0.9954 - val_loss: 1.1178 - val_accuracy: 0.6164\n"
     ]
    }
   ],
   "source": [
    "model2 = Sequential()\n",
    "model2.add(Embedding(max_words, 100))\n",
    "model2.add(LSTM(128))\n",
    "model2.add(Dense(3, activation='softmax'))\n",
    "model2.compile(optimizer='adam', loss='categorical_crossentropy', metrics=['accuracy']) \n",
    "history = model2.fit(X_train, y_train_encode, epochs=10, batch_size=10, validation_split=0.1)"
   ]
  },
  {
   "cell_type": "code",
   "execution_count": 118,
   "metadata": {},
   "outputs": [
    {
     "name": "stdout",
     "output_type": "stream",
     "text": [
      "6/6 [==============================] - 0s 9ms/step - loss: 1.3903 - accuracy: 0.6077\n",
      "\n",
      " 테스트 정확도 : 60.77%\n"
     ]
    }
   ],
   "source": [
    "print(\"\\n 테스트 정확도 : {:.2f}%\".format(model2.evaluate(X_test,y_test_encode)[1]*100))"
   ]
  },
  {
   "cell_type": "markdown",
   "metadata": {},
   "source": [
    "#### 약  61% !!"
   ]
  },
  {
   "cell_type": "code",
   "execution_count": 119,
   "metadata": {},
   "outputs": [
    {
     "name": "stdout",
     "output_type": "stream",
     "text": [
      "Epoch 1/15\n",
      "65/65 [==============================] - 5s 82ms/step - loss: 1.0292 - accuracy: 0.4422 - val_loss: 0.9746 - val_accuracy: 0.6301\n",
      "Epoch 2/15\n",
      "65/65 [==============================] - 4s 55ms/step - loss: 0.7420 - accuracy: 0.6949 - val_loss: 0.7983 - val_accuracy: 0.6027\n",
      "Epoch 3/15\n",
      "65/65 [==============================] - 4s 58ms/step - loss: 0.2887 - accuracy: 0.9106 - val_loss: 0.8095 - val_accuracy: 0.6438\n",
      "Epoch 4/15\n",
      "65/65 [==============================] - 4s 65ms/step - loss: 0.0845 - accuracy: 0.9753 - val_loss: 0.9432 - val_accuracy: 0.6164\n",
      "Epoch 5/15\n",
      "65/65 [==============================] - 4s 57ms/step - loss: 0.0470 - accuracy: 0.9846 - val_loss: 0.8571 - val_accuracy: 0.6575\n",
      "Epoch 6/15\n",
      "65/65 [==============================] - 4s 57ms/step - loss: 0.0400 - accuracy: 0.9938 - val_loss: 0.9695 - val_accuracy: 0.5890\n",
      "Epoch 7/15\n",
      "65/65 [==============================] - 4s 57ms/step - loss: 0.0180 - accuracy: 0.9938 - val_loss: 1.1330 - val_accuracy: 0.6575\n",
      "Epoch 8/15\n",
      "65/65 [==============================] - 4s 57ms/step - loss: 0.0148 - accuracy: 0.9969 - val_loss: 0.9403 - val_accuracy: 0.6164\n",
      "Epoch 9/15\n",
      "65/65 [==============================] - 4s 58ms/step - loss: 0.0132 - accuracy: 0.9954 - val_loss: 1.2279 - val_accuracy: 0.6575\n",
      "Epoch 10/15\n",
      "65/65 [==============================] - 4s 57ms/step - loss: 0.0088 - accuracy: 0.9969 - val_loss: 1.0700 - val_accuracy: 0.6575\n",
      "Epoch 11/15\n",
      "65/65 [==============================] - 4s 56ms/step - loss: 0.0093 - accuracy: 0.9954 - val_loss: 1.2694 - val_accuracy: 0.6575\n",
      "Epoch 12/15\n",
      "65/65 [==============================] - 4s 57ms/step - loss: 0.0077 - accuracy: 0.9969 - val_loss: 1.1679 - val_accuracy: 0.6712\n",
      "Epoch 13/15\n",
      "65/65 [==============================] - 4s 57ms/step - loss: 0.0064 - accuracy: 0.9954 - val_loss: 1.3393 - val_accuracy: 0.6301\n",
      "Epoch 14/15\n",
      "65/65 [==============================] - 4s 58ms/step - loss: 0.0119 - accuracy: 0.9938 - val_loss: 1.2007 - val_accuracy: 0.6301\n",
      "Epoch 15/15\n",
      "65/65 [==============================] - 4s 57ms/step - loss: 0.0079 - accuracy: 0.9938 - val_loss: 1.2008 - val_accuracy: 0.6438\n"
     ]
    }
   ],
   "source": [
    "# adam 모델 epoch 15로 실행\n",
    "model2 = Sequential()\n",
    "model2.add(Embedding(max_words, 100))\n",
    "model2.add(LSTM(128))\n",
    "model2.add(Dense(3, activation='softmax'))\n",
    "model2.compile(optimizer='adam', loss='categorical_crossentropy', metrics=['accuracy']) \n",
    "history = model2.fit(X_train, y_train_encode, epochs=15, batch_size=10, validation_split=0.1)"
   ]
  },
  {
   "cell_type": "code",
   "execution_count": 120,
   "metadata": {},
   "outputs": [
    {
     "name": "stdout",
     "output_type": "stream",
     "text": [
      "6/6 [==============================] - 0s 8ms/step - loss: 1.6380 - accuracy: 0.6188\n",
      "\n",
      " 테스트 정확도 : 61.88%\n"
     ]
    }
   ],
   "source": [
    "print(\"\\n 테스트 정확도 : {:.2f}%\".format(model2.evaluate(X_test,y_test_encode)[1]*100))"
   ]
  },
  {
   "cell_type": "markdown",
   "metadata": {},
   "source": [
    "## Skt ,현대모비스, 현백 데이터를 합쳐서 현대백화점 종목을 추론하기"
   ]
  },
  {
   "cell_type": "code",
   "execution_count": 125,
   "metadata": {},
   "outputs": [],
   "source": [
    "hb_test = pd.read_csv('./현대백화점_testset.csv', encoding = 'ANSI')\n",
    "# df = 현백 ,현모, SKT 데이터를 합친것"
   ]
  },
  {
   "cell_type": "code",
   "execution_count": 126,
   "metadata": {},
   "outputs": [],
   "source": [
    "X_train = df['Title']\n",
    "X_test = hb_test['Title']\n",
    "\n",
    "y_train = df['label']\n",
    "y_test = hb_test['label']"
   ]
  },
  {
   "cell_type": "code",
   "execution_count": 127,
   "metadata": {},
   "outputs": [],
   "source": [
    "# 문장을 나누기 위한 Stopwords 선정\n",
    "stopwords = ['의', '가', '이', '은', '들', '는', '좀', '잘', '걍', '과', '도', '를', '으로', '자', '에', '와', '한', '하다']"
   ]
  },
  {
   "cell_type": "code",
   "execution_count": 128,
   "metadata": {},
   "outputs": [],
   "source": [
    "    \n",
    "# Sentence Tokenizing\n",
    "import konlpy\n",
    "from konlpy.tag import Okt\n",
    "\n",
    "okt = Okt()\n",
    "X_train_token = []\n",
    "for sentence in X_train:\n",
    "    temp_X = [] \n",
    "    temp_X = okt.morphs(sentence, stem=True) # 토큰화\n",
    "    temp_X = [word for word in temp_X if not word in stopwords] # 불용어 제거\n",
    "    X_train_token.append(temp_X)\n",
    "\n",
    "X_test_token = []\n",
    "for sentence in X_test:\n",
    "    temp_X = []\n",
    "    temp_X = okt.morphs(sentence, stem=True) # 토큰화\n",
    "    temp_X = [word for word in temp_X if not word in stopwords] # 불용어 제거\n",
    "    X_test_token.append(temp_X)\n",
    "from keras.layers import Embedding, Dense, LSTM\n",
    "from keras.models import Sequential\n",
    "from keras.preprocessing.sequence import pad_sequences\n",
    "from keras.preprocessing.text import Tokenizer\n",
    "\n",
    "max_words = 35000 \n",
    "tokenizer = Tokenizer(num_words = max_words)\n",
    "tokenizer.fit_on_texts(X_train_token) \n",
    "X_train_token = tokenizer.texts_to_sequences(X_train_token) \n",
    "X_test_token = tokenizer.texts_to_sequences(X_test_token)"
   ]
  },
  {
   "cell_type": "code",
   "execution_count": 132,
   "metadata": {},
   "outputs": [],
   "source": [
    "import numpy as np\n",
    "y_train_encode = []\n",
    "y_test_encode = []\n",
    "for i in range(len(y_train)):\n",
    "    if y_train.iloc[i] == 1:\n",
    "        y_train_encode.append([0, 0, 1]) \n",
    "    elif y_train.iloc[i] == 0:\n",
    "        y_train_encode.append([0, 1, 0]) \n",
    "    elif y_train.iloc[i] == -1:\n",
    "        y_train_encode.append([1, 0, 0]) \n",
    "        \n",
    "for i in range(len(y_test)):\n",
    "    if y_test.iloc[i] == 1:\n",
    "        y_test_encode.append([0, 0, 1]) \n",
    "    elif y_test.iloc[i] == 0:\n",
    "        y_test_encode.append([0, 1, 0])\n",
    "    elif y_test.iloc[i] == -1:\n",
    "        y_test_encode.append([1, 0, 0]) \n",
    "        \n",
    "y_train_encode=np.array(y_train_encode)\n",
    "y_test_encode=np.array(y_test_encode)"
   ]
  },
  {
   "cell_type": "code",
   "execution_count": 133,
   "metadata": {},
   "outputs": [],
   "source": [
    "max_len = 20 # pad_sequesces이용, 전체 데이터의 길이를 20로 맞춘다\n",
    "X_train = pad_sequences(X_train_token, maxlen=max_len)\n",
    "X_test = pad_sequences(X_test_token, maxlen=max_len)"
   ]
  },
  {
   "cell_type": "code",
   "execution_count": 134,
   "metadata": {},
   "outputs": [
    {
     "name": "stdout",
     "output_type": "stream",
     "text": [
      "Epoch 1/10\n",
      "82/82 [==============================] - 2s 30ms/step - loss: 1.0177 - accuracy: 0.4852 - val_loss: 1.0752 - val_accuracy: 0.2308\n",
      "Epoch 2/10\n",
      "82/82 [==============================] - 2s 22ms/step - loss: 0.8050 - accuracy: 0.6650 - val_loss: 0.6776 - val_accuracy: 0.7253\n",
      "Epoch 3/10\n",
      "82/82 [==============================] - 2s 22ms/step - loss: 0.5233 - accuracy: 0.8067 - val_loss: 1.1093 - val_accuracy: 0.4945\n",
      "Epoch 4/10\n",
      "82/82 [==============================] - 2s 23ms/step - loss: 0.3335 - accuracy: 0.8904 - val_loss: 0.6651 - val_accuracy: 0.7363\n",
      "Epoch 5/10\n",
      "82/82 [==============================] - 2s 24ms/step - loss: 0.1922 - accuracy: 0.9384 - val_loss: 0.9113 - val_accuracy: 0.6374\n",
      "Epoch 6/10\n",
      "82/82 [==============================] - 2s 22ms/step - loss: 0.1265 - accuracy: 0.9594 - val_loss: 1.0822 - val_accuracy: 0.5714\n",
      "Epoch 7/10\n",
      "82/82 [==============================] - 2s 21ms/step - loss: 0.0820 - accuracy: 0.9741 - val_loss: 0.8833 - val_accuracy: 0.6593\n",
      "Epoch 8/10\n",
      "82/82 [==============================] - 2s 22ms/step - loss: 0.0560 - accuracy: 0.9803 - val_loss: 1.3723 - val_accuracy: 0.5604\n",
      "Epoch 9/10\n",
      "82/82 [==============================] - 2s 22ms/step - loss: 0.0377 - accuracy: 0.9877 - val_loss: 1.3322 - val_accuracy: 0.6154\n",
      "Epoch 10/10\n",
      "82/82 [==============================] - 2s 22ms/step - loss: 0.0223 - accuracy: 0.9926 - val_loss: 1.2148 - val_accuracy: 0.6813\n"
     ]
    }
   ],
   "source": [
    "model = Sequential()\n",
    "model.add(Embedding(max_words, 100))\n",
    "model.add(LSTM(128))\n",
    "model.add(Dense(3, activation='softmax'))\n",
    "model.compile(optimizer='rmsprop', loss='categorical_crossentropy', metrics=['accuracy']) \n",
    "history = model.fit(X_train, y_train_encode, epochs=10, batch_size=10, validation_split=0.1)"
   ]
  },
  {
   "cell_type": "code",
   "execution_count": 135,
   "metadata": {},
   "outputs": [
    {
     "name": "stdout",
     "output_type": "stream",
     "text": [
      "2/2 [==============================] - 0s 2ms/step - loss: 3.3818 - accuracy: 0.5000\n",
      "\n",
      " 테스트 정확도 : 50.00%\n"
     ]
    }
   ],
   "source": [
    "print(\"\\n 테스트 정확도 : {:.2f}%\".format(model.evaluate(X_test,y_test_encode)[1]*100))"
   ]
  },
  {
   "cell_type": "code",
   "execution_count": 136,
   "metadata": {},
   "outputs": [
    {
     "name": "stdout",
     "output_type": "stream",
     "text": [
      "Epoch 1/10\n",
      "82/82 [==============================] - 4s 53ms/step - loss: 1.0280 - accuracy: 0.4643 - val_loss: 0.7238 - val_accuracy: 0.8681\n",
      "Epoch 2/10\n",
      "82/82 [==============================] - 3s 42ms/step - loss: 0.7153 - accuracy: 0.6933 - val_loss: 0.6411 - val_accuracy: 0.7363\n",
      "Epoch 3/10\n",
      "82/82 [==============================] - 4s 45ms/step - loss: 0.2450 - accuracy: 0.9187 - val_loss: 0.6358 - val_accuracy: 0.7473\n",
      "Epoch 4/10\n",
      "82/82 [==============================] - 3s 41ms/step - loss: 0.0684 - accuracy: 0.9815 - val_loss: 0.9539 - val_accuracy: 0.6484\n",
      "Epoch 5/10\n",
      "82/82 [==============================] - 3s 41ms/step - loss: 0.0452 - accuracy: 0.9889 - val_loss: 0.8049 - val_accuracy: 0.6923\n",
      "Epoch 6/10\n",
      "82/82 [==============================] - 3s 42ms/step - loss: 0.0214 - accuracy: 0.9963 - val_loss: 0.8072 - val_accuracy: 0.7143\n",
      "Epoch 7/10\n",
      "82/82 [==============================] - 3s 41ms/step - loss: 0.0230 - accuracy: 0.9914 - val_loss: 0.8869 - val_accuracy: 0.7143\n",
      "Epoch 8/10\n",
      "82/82 [==============================] - 3s 42ms/step - loss: 0.0353 - accuracy: 0.9914 - val_loss: 0.7961 - val_accuracy: 0.6813\n",
      "Epoch 9/10\n",
      "82/82 [==============================] - 3s 41ms/step - loss: 0.0150 - accuracy: 0.9988 - val_loss: 0.8828 - val_accuracy: 0.7692\n",
      "Epoch 10/10\n",
      "82/82 [==============================] - 3s 42ms/step - loss: 0.0078 - accuracy: 0.9988 - val_loss: 2.1973 - val_accuracy: 0.4945\n"
     ]
    }
   ],
   "source": [
    "# adam 모델 epoch 15로 실행\n",
    "model2 = Sequential()\n",
    "model2.add(Embedding(max_words, 100))\n",
    "model2.add(LSTM(128))\n",
    "model2.add(Dense(3, activation='softmax'))\n",
    "model2.compile(optimizer='adam', loss='categorical_crossentropy', metrics=['accuracy']) \n",
    "history = model2.fit(X_train, y_train_encode, epochs=15, batch_size=10, validation_split=0.1)"
   ]
  },
  {
   "cell_type": "code",
   "execution_count": 137,
   "metadata": {},
   "outputs": [
    {
     "name": "stdout",
     "output_type": "stream",
     "text": [
      "2/2 [==============================] - 0s 2ms/step - loss: 3.1094 - accuracy: 0.5476\n",
      "\n",
      " 테스트 정확도 : 54.76%\n"
     ]
    }
   ],
   "source": [
    "print(\"\\n 테스트 정확도 : {:.2f}%\".format(model2.evaluate(X_test,y_test_encode)[1]*100))"
   ]
  },
  {
   "cell_type": "code",
   "execution_count": 139,
   "metadata": {
    "scrolled": true
   },
   "outputs": [
    {
     "name": "stdout",
     "output_type": "stream",
     "text": [
      "Epoch 1/5\n",
      "163/163 [==============================] - 7s 40ms/step - loss: 0.0064 - accuracy: 0.9988 - val_loss: 0.9033 - val_accuracy: 0.7802\n",
      "Epoch 2/5\n",
      "163/163 [==============================] - 7s 41ms/step - loss: 0.0039 - accuracy: 0.9988 - val_loss: 0.8677 - val_accuracy: 0.7912\n",
      "Epoch 3/5\n",
      "163/163 [==============================] - 7s 41ms/step - loss: 0.0063 - accuracy: 0.9975 - val_loss: 0.8976 - val_accuracy: 0.7473\n",
      "Epoch 4/5\n",
      "163/163 [==============================] - 7s 40ms/step - loss: 0.0031 - accuracy: 0.9975 - val_loss: 0.9184 - val_accuracy: 0.7912\n",
      "Epoch 5/5\n",
      "163/163 [==============================] - 7s 41ms/step - loss: 0.0022 - accuracy: 0.9988 - val_loss: 0.9936 - val_accuracy: 0.7802\n"
     ]
    }
   ],
   "source": [
    "history = model2.fit(X_train, y_train_encode, epochs=5, batch_size=5, validation_split=0.1)"
   ]
  },
  {
   "cell_type": "code",
   "execution_count": 140,
   "metadata": {},
   "outputs": [
    {
     "name": "stdout",
     "output_type": "stream",
     "text": [
      "2/2 [==============================] - 0s 3ms/step - loss: 3.1405 - accuracy: 0.5476\n",
      "\n",
      " 테스트 정확도 : 54.76%\n"
     ]
    }
   ],
   "source": [
    "print(\"\\n 테스트 정확도 : {:.2f}%\".format(model2.evaluate(X_test,y_test_encode)[1]*100))"
   ]
  },
  {
   "cell_type": "code",
   "execution_count": null,
   "metadata": {},
   "outputs": [],
   "source": []
  }
 ],
 "metadata": {
  "kernelspec": {
   "display_name": "Python 3",
   "language": "python",
   "name": "python3"
  },
  "language_info": {
   "codemirror_mode": {
    "name": "ipython",
    "version": 3
   },
   "file_extension": ".py",
   "mimetype": "text/x-python",
   "name": "python",
   "nbconvert_exporter": "python",
   "pygments_lexer": "ipython3",
   "version": "3.6.9"
  }
 },
 "nbformat": 4,
 "nbformat_minor": 4
}
