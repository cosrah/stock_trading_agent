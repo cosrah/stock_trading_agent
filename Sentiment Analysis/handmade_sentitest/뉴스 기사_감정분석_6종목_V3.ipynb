{
 "cells": [
  {
   "cell_type": "code",
   "execution_count": 1,
   "metadata": {},
   "outputs": [],
   "source": [
    "import pandas as pd\n",
    "import numpy as np"
   ]
  },
  {
   "cell_type": "markdown",
   "metadata": {},
   "source": [
    "# 데이터 불러오기\n",
    "\n",
    "- Human Labeling된 데이터인 SKT , 현대백화점, 현대모비스, S-Oil, 기업은행, 셀트리온 데이터 셋을 이용하여 각 정확도를 올린다.\n",
    "\n",
    "- 순서\n",
    "    1. 데이터 불러오기\n",
    "    2. 데이터 분리\n",
    "    3. Title 의 토큰화 및 불용어 제거\n",
    "    4. Label 의 원핫인코딩\n",
    "    5. 길이가 다른 title의 정형화\n",
    "    6. LSTM을 통한 딥러닝\n",
    "    7. 정확도 확인"
   ]
  },
  {
   "cell_type": "code",
   "execution_count": 2,
   "metadata": {},
   "outputs": [],
   "source": [
    "df_skt = pd.read_csv('./trainingset/SKT_traindata_482.csv')\n",
    "df_train_skt = df_skt.iloc[:200]\n",
    "df_test_skt = df_skt.iloc[200:]"
   ]
  },
  {
   "cell_type": "code",
   "execution_count": 79,
   "metadata": {
    "collapsed": true
   },
   "outputs": [
    {
     "data": {
      "text/html": [
       "<div>\n",
       "<style scoped>\n",
       "    .dataframe tbody tr th:only-of-type {\n",
       "        vertical-align: middle;\n",
       "    }\n",
       "\n",
       "    .dataframe tbody tr th {\n",
       "        vertical-align: top;\n",
       "    }\n",
       "\n",
       "    .dataframe thead th {\n",
       "        text-align: right;\n",
       "    }\n",
       "</style>\n",
       "<table border=\"1\" class=\"dataframe\">\n",
       "  <thead>\n",
       "    <tr style=\"text-align: right;\">\n",
       "      <th></th>\n",
       "      <th>id</th>\n",
       "      <th>Title</th>\n",
       "      <th>label</th>\n",
       "    </tr>\n",
       "  </thead>\n",
       "  <tbody>\n",
       "    <tr>\n",
       "      <th>200</th>\n",
       "      <td>0</td>\n",
       "      <td>정부, 구글 지도 해외 반출 불허 구글이 보완책 수용 안해 (상보)</td>\n",
       "      <td>0</td>\n",
       "    </tr>\n",
       "    <tr>\n",
       "      <th>201</th>\n",
       "      <td>1</td>\n",
       "      <td>미래부, 2차 유료방송 발전방안 공개토론회 개최</td>\n",
       "      <td>0</td>\n",
       "    </tr>\n",
       "    <tr>\n",
       "      <th>202</th>\n",
       "      <td>2</td>\n",
       "      <td>SKT, 전용폰 구입 고객에 T1 롤드컵 우승 기념품 증정</td>\n",
       "      <td>1</td>\n",
       "    </tr>\n",
       "    <tr>\n",
       "      <th>203</th>\n",
       "      <td>3</td>\n",
       "      <td>'갤S7'사면 페이백 50만원 준다더니제2의 거성 모바일 사태?</td>\n",
       "      <td>0</td>\n",
       "    </tr>\n",
       "    <tr>\n",
       "      <th>204</th>\n",
       "      <td>4</td>\n",
       "      <td>케이블TV 가입자도 내년 1월부터 SKT 요금할인받는다</td>\n",
       "      <td>1</td>\n",
       "    </tr>\n",
       "    <tr>\n",
       "      <th>...</th>\n",
       "      <td>...</td>\n",
       "      <td>...</td>\n",
       "      <td>...</td>\n",
       "    </tr>\n",
       "    <tr>\n",
       "      <th>476</th>\n",
       "      <td>78</td>\n",
       "      <td>스웨덴 에릭슨\"4차 산업혁명 협력할 韓 스타트업 찾습니다 ,0\\n4187,SKT '...</td>\n",
       "      <td>1</td>\n",
       "    </tr>\n",
       "    <tr>\n",
       "      <th>477</th>\n",
       "      <td>79</td>\n",
       "      <td>CJ헬로비전 작년 영업이익 59.4% 감소한 429억원…\"M&amp;A 등 불확실성 해소,...</td>\n",
       "      <td>1</td>\n",
       "    </tr>\n",
       "    <tr>\n",
       "      <th>478</th>\n",
       "      <td>80</td>\n",
       "      <td>SKT 2019년까지 11조원 투자</td>\n",
       "      <td>1</td>\n",
       "    </tr>\n",
       "    <tr>\n",
       "      <th>479</th>\n",
       "      <td>81</td>\n",
       "      <td>통신사 커버리지맵 정확도 SKT 1위 '오차 0%'</td>\n",
       "      <td>1</td>\n",
       "    </tr>\n",
       "    <tr>\n",
       "      <th>480</th>\n",
       "      <td>82</td>\n",
       "      <td>크리스마스 맞이 스마트폰 가격 인하…\"연말 특수 기대,1\\n4384,CJ헬로비전 아...</td>\n",
       "      <td>1</td>\n",
       "    </tr>\n",
       "  </tbody>\n",
       "</table>\n",
       "<p>281 rows × 3 columns</p>\n",
       "</div>"
      ],
      "text/plain": [
       "     id                                              Title  label\n",
       "200   0              정부, 구글 지도 해외 반출 불허 구글이 보완책 수용 안해 (상보)      0\n",
       "201   1                         미래부, 2차 유료방송 발전방안 공개토론회 개최      0\n",
       "202   2                   SKT, 전용폰 구입 고객에 T1 롤드컵 우승 기념품 증정      1\n",
       "203   3                '갤S7'사면 페이백 50만원 준다더니제2의 거성 모바일 사태?      0\n",
       "204   4                     케이블TV 가입자도 내년 1월부터 SKT 요금할인받는다      1\n",
       "..   ..                                                ...    ...\n",
       "476  78  스웨덴 에릭슨\"4차 산업혁명 협력할 韓 스타트업 찾습니다 ,0\\n4187,SKT '...      1\n",
       "477  79  CJ헬로비전 작년 영업이익 59.4% 감소한 429억원…\"M&A 등 불확실성 해소,...      1\n",
       "478  80                                SKT 2019년까지 11조원 투자      1\n",
       "479  81                       통신사 커버리지맵 정확도 SKT 1위 '오차 0%'      1\n",
       "480  82  크리스마스 맞이 스마트폰 가격 인하…\"연말 특수 기대,1\\n4384,CJ헬로비전 아...      1\n",
       "\n",
       "[281 rows x 3 columns]"
      ]
     },
     "execution_count": 79,
     "metadata": {},
     "output_type": "execute_result"
    }
   ],
   "source": [
    "df_test_skt"
   ]
  },
  {
   "cell_type": "code",
   "execution_count": 3,
   "metadata": {},
   "outputs": [
    {
     "data": {
      "text/html": [
       "<div>\n",
       "<style scoped>\n",
       "    .dataframe tbody tr th:only-of-type {\n",
       "        vertical-align: middle;\n",
       "    }\n",
       "\n",
       "    .dataframe tbody tr th {\n",
       "        vertical-align: top;\n",
       "    }\n",
       "\n",
       "    .dataframe thead th {\n",
       "        text-align: right;\n",
       "    }\n",
       "</style>\n",
       "<table border=\"1\" class=\"dataframe\">\n",
       "  <thead>\n",
       "    <tr style=\"text-align: right;\">\n",
       "      <th></th>\n",
       "      <th>Column1</th>\n",
       "      <th>Title</th>\n",
       "      <th>label</th>\n",
       "    </tr>\n",
       "  </thead>\n",
       "  <tbody>\n",
       "    <tr>\n",
       "      <th>0</th>\n",
       "      <td>0</td>\n",
       "      <td>코스피, 16일만에 돌아선 外人…보합권 내 혼조</td>\n",
       "      <td>-1</td>\n",
       "    </tr>\n",
       "    <tr>\n",
       "      <th>1</th>\n",
       "      <td>1</td>\n",
       "      <td>코스피, 외인·기관 '사자'에 2200선 돌파</td>\n",
       "      <td>1</td>\n",
       "    </tr>\n",
       "    <tr>\n",
       "      <th>2</th>\n",
       "      <td>2</td>\n",
       "      <td>코스피, 이틀 연속 오르며 1940선 마감… 코스닥 4거래일 만에 600선 회복</td>\n",
       "      <td>1</td>\n",
       "    </tr>\n",
       "    <tr>\n",
       "      <th>3</th>\n",
       "      <td>3</td>\n",
       "      <td>코스피, 외인·기관 '팔자'에 하락마감…2550선은 방어</td>\n",
       "      <td>0</td>\n",
       "    </tr>\n",
       "    <tr>\n",
       "      <th>4</th>\n",
       "      <td>4</td>\n",
       "      <td>美 의결권 자문사 글래스 루이스, 현대차그룹 지배구조 개편 반대의견</td>\n",
       "      <td>0</td>\n",
       "    </tr>\n",
       "    <tr>\n",
       "      <th>...</th>\n",
       "      <td>...</td>\n",
       "      <td>...</td>\n",
       "      <td>...</td>\n",
       "    </tr>\n",
       "    <tr>\n",
       "      <th>196</th>\n",
       "      <td>196</td>\n",
       "      <td>코스피, 삼성電 '쇼크' 딛고 2거래일째 상승 마감</td>\n",
       "      <td>1</td>\n",
       "    </tr>\n",
       "    <tr>\n",
       "      <th>197</th>\n",
       "      <td>197</td>\n",
       "      <td>코스피, 외인 5000억원 팔자에 2100선 '무너져'</td>\n",
       "      <td>-1</td>\n",
       "    </tr>\n",
       "    <tr>\n",
       "      <th>198</th>\n",
       "      <td>198</td>\n",
       "      <td>코스피, 국제유가 상승VS 6월 변동 경계감…보합</td>\n",
       "      <td>0</td>\n",
       "    </tr>\n",
       "    <tr>\n",
       "      <th>199</th>\n",
       "      <td>199</td>\n",
       "      <td>코스피 2500 재진입 성공…외국인·기관 동반 매수</td>\n",
       "      <td>1</td>\n",
       "    </tr>\n",
       "    <tr>\n",
       "      <th>200</th>\n",
       "      <td>200</td>\n",
       "      <td>코스피, 삼성전자 상승 안고 2050 회복 '기웃'</td>\n",
       "      <td>1</td>\n",
       "    </tr>\n",
       "  </tbody>\n",
       "</table>\n",
       "<p>201 rows × 3 columns</p>\n",
       "</div>"
      ],
      "text/plain": [
       "     Column1                                         Title  label\n",
       "0          0                    코스피, 16일만에 돌아선 外人…보합권 내 혼조     -1\n",
       "1          1                     코스피, 외인·기관 '사자'에 2200선 돌파      1\n",
       "2          2  코스피, 이틀 연속 오르며 1940선 마감… 코스닥 4거래일 만에 600선 회복      1\n",
       "3          3               코스피, 외인·기관 '팔자'에 하락마감…2550선은 방어      0\n",
       "4          4         美 의결권 자문사 글래스 루이스, 현대차그룹 지배구조 개편 반대의견      0\n",
       "..       ...                                           ...    ...\n",
       "196      196                  코스피, 삼성電 '쇼크' 딛고 2거래일째 상승 마감      1\n",
       "197      197                코스피, 외인 5000억원 팔자에 2100선 '무너져'     -1\n",
       "198      198                   코스피, 국제유가 상승VS 6월 변동 경계감…보합      0\n",
       "199      199                  코스피 2500 재진입 성공…외국인·기관 동반 매수      1\n",
       "200      200                  코스피, 삼성전자 상승 안고 2050 회복 '기웃'      1\n",
       "\n",
       "[201 rows x 3 columns]"
      ]
     },
     "execution_count": 3,
     "metadata": {},
     "output_type": "execute_result"
    }
   ],
   "source": [
    "df_mobis = pd.read_csv('./trainingset/현대모비스_traindata_200.csv', encoding = 'CP949')\n",
    "df_mobis"
   ]
  },
  {
   "cell_type": "code",
   "execution_count": 4,
   "metadata": {},
   "outputs": [
    {
     "data": {
      "text/html": [
       "<div>\n",
       "<style scoped>\n",
       "    .dataframe tbody tr th:only-of-type {\n",
       "        vertical-align: middle;\n",
       "    }\n",
       "\n",
       "    .dataframe tbody tr th {\n",
       "        vertical-align: top;\n",
       "    }\n",
       "\n",
       "    .dataframe thead th {\n",
       "        text-align: right;\n",
       "    }\n",
       "</style>\n",
       "<table border=\"1\" class=\"dataframe\">\n",
       "  <thead>\n",
       "    <tr style=\"text-align: right;\">\n",
       "      <th></th>\n",
       "      <th>id</th>\n",
       "      <th>Title</th>\n",
       "      <th>label</th>\n",
       "    </tr>\n",
       "  </thead>\n",
       "  <tbody>\n",
       "    <tr>\n",
       "      <th>0</th>\n",
       "      <td>0</td>\n",
       "      <td>靑 오찬도 없이 간담회 진행…재계 \"외교로 풀 문제를…\"</td>\n",
       "      <td>0</td>\n",
       "    </tr>\n",
       "    <tr>\n",
       "      <th>1</th>\n",
       "      <td>1</td>\n",
       "      <td>김정훈 \"공정위 소비자중심경영 인증기업 24%는 행정조치 처분기업\"</td>\n",
       "      <td>-1</td>\n",
       "    </tr>\n",
       "    <tr>\n",
       "      <th>2</th>\n",
       "      <td>2</td>\n",
       "      <td>산업부 \"코리아 세일 페스타, 상생의 장터 연다\"</td>\n",
       "      <td>1</td>\n",
       "    </tr>\n",
       "    <tr>\n",
       "      <th>3</th>\n",
       "      <td>3</td>\n",
       "      <td>박원순, 선거 마지막 날까지 정순균 강남구청장 후보 지원</td>\n",
       "      <td>0</td>\n",
       "    </tr>\n",
       "    <tr>\n",
       "      <th>4</th>\n",
       "      <td>4</td>\n",
       "      <td>장영철 강남구청장 후보, 선거운동 마지막 주말 총력유세</td>\n",
       "      <td>0</td>\n",
       "    </tr>\n",
       "    <tr>\n",
       "      <th>...</th>\n",
       "      <td>...</td>\n",
       "      <td>...</td>\n",
       "      <td>...</td>\n",
       "    </tr>\n",
       "    <tr>\n",
       "      <th>216</th>\n",
       "      <td>216</td>\n",
       "      <td>입소문 노리려 인플루언서와 공간 나누는 유통업계(종합)</td>\n",
       "      <td>1</td>\n",
       "    </tr>\n",
       "    <tr>\n",
       "      <th>217</th>\n",
       "      <td>217</td>\n",
       "      <td>\"인플루언서 모셔라\"…'안방' 내주는 유통업계</td>\n",
       "      <td>1</td>\n",
       "    </tr>\n",
       "    <tr>\n",
       "      <th>218</th>\n",
       "      <td>218</td>\n",
       "      <td>현대百, 고메 아이리시 위크…50여개 아일랜드 식품 브랜드 한자리에</td>\n",
       "      <td>1</td>\n",
       "    </tr>\n",
       "    <tr>\n",
       "      <th>219</th>\n",
       "      <td>219</td>\n",
       "      <td>풍성하고 즐거운 소비 '경험'…진열방식 바꾸는 패션가(종합)</td>\n",
       "      <td>1</td>\n",
       "    </tr>\n",
       "    <tr>\n",
       "      <th>220</th>\n",
       "      <td>220</td>\n",
       "      <td>원피스 옆에 샌들·토트백…소비자 취향 DP 고민하는 패션가</td>\n",
       "      <td>0</td>\n",
       "    </tr>\n",
       "  </tbody>\n",
       "</table>\n",
       "<p>221 rows × 3 columns</p>\n",
       "</div>"
      ],
      "text/plain": [
       "      id                                  Title  label\n",
       "0      0        靑 오찬도 없이 간담회 진행…재계 \"외교로 풀 문제를…\"      0\n",
       "1      1  김정훈 \"공정위 소비자중심경영 인증기업 24%는 행정조치 처분기업\"     -1\n",
       "2      2            산업부 \"코리아 세일 페스타, 상생의 장터 연다\"      1\n",
       "3      3        박원순, 선거 마지막 날까지 정순균 강남구청장 후보 지원      0\n",
       "4      4         장영철 강남구청장 후보, 선거운동 마지막 주말 총력유세      0\n",
       "..   ...                                    ...    ...\n",
       "216  216         입소문 노리려 인플루언서와 공간 나누는 유통업계(종합)      1\n",
       "217  217              \"인플루언서 모셔라\"…'안방' 내주는 유통업계      1\n",
       "218  218  현대百, 고메 아이리시 위크…50여개 아일랜드 식품 브랜드 한자리에      1\n",
       "219  219      풍성하고 즐거운 소비 '경험'…진열방식 바꾸는 패션가(종합)      1\n",
       "220  220       원피스 옆에 샌들·토트백…소비자 취향 DP 고민하는 패션가      0\n",
       "\n",
       "[221 rows x 3 columns]"
      ]
     },
     "execution_count": 4,
     "metadata": {},
     "output_type": "execute_result"
    }
   ],
   "source": [
    "df_hb = pd.read_csv('./trainingset/현대백화점_traindata_200.csv')\n",
    "df_hb"
   ]
  },
  {
   "cell_type": "code",
   "execution_count": 5,
   "metadata": {},
   "outputs": [],
   "source": [
    "df_S_Oil = pd.read_csv('./trainingset/S-Oil_traindata_200.csv')\n",
    "df_S_Oil = df_S_Oil.head(200)\n",
    "# df_S_Oil.head(200)"
   ]
  },
  {
   "cell_type": "code",
   "execution_count": 6,
   "metadata": {},
   "outputs": [
    {
     "data": {
      "text/html": [
       "<div>\n",
       "<style scoped>\n",
       "    .dataframe tbody tr th:only-of-type {\n",
       "        vertical-align: middle;\n",
       "    }\n",
       "\n",
       "    .dataframe tbody tr th {\n",
       "        vertical-align: top;\n",
       "    }\n",
       "\n",
       "    .dataframe thead th {\n",
       "        text-align: right;\n",
       "    }\n",
       "</style>\n",
       "<table border=\"1\" class=\"dataframe\">\n",
       "  <thead>\n",
       "    <tr style=\"text-align: right;\">\n",
       "      <th></th>\n",
       "      <th>id</th>\n",
       "      <th>Title</th>\n",
       "      <th>label</th>\n",
       "    </tr>\n",
       "  </thead>\n",
       "  <tbody>\n",
       "    <tr>\n",
       "      <th>0</th>\n",
       "      <td>212</td>\n",
       "      <td>은행장 임기 줄줄이 만료…누가 연임될까</td>\n",
       "      <td>-1</td>\n",
       "    </tr>\n",
       "    <tr>\n",
       "      <th>1</th>\n",
       "      <td>1216</td>\n",
       "      <td>권선주 기업은행장, 수능 앞둔 수험생에 격려편지</td>\n",
       "      <td>0</td>\n",
       "    </tr>\n",
       "    <tr>\n",
       "      <th>2</th>\n",
       "      <td>1461</td>\n",
       "      <td>서민 전세금 품어주는 HUG</td>\n",
       "      <td>1</td>\n",
       "    </tr>\n",
       "    <tr>\n",
       "      <th>3</th>\n",
       "      <td>788</td>\n",
       "      <td>기업은행, 소방관 복지증진 위한 심신안정실 설치</td>\n",
       "      <td>1</td>\n",
       "    </tr>\n",
       "    <tr>\n",
       "      <th>4</th>\n",
       "      <td>1815</td>\n",
       "      <td>[2015 국감]3년간 은행·카드사 신분증 사본 5억여건 수집</td>\n",
       "      <td>0</td>\n",
       "    </tr>\n",
       "    <tr>\n",
       "      <th>...</th>\n",
       "      <td>...</td>\n",
       "      <td>...</td>\n",
       "      <td>...</td>\n",
       "    </tr>\n",
       "    <tr>\n",
       "      <th>195</th>\n",
       "      <td>769</td>\n",
       "      <td>기업은행, 영업점장 대출 금리 감면권 확대</td>\n",
       "      <td>0</td>\n",
       "    </tr>\n",
       "    <tr>\n",
       "      <th>196</th>\n",
       "      <td>1827</td>\n",
       "      <td>모임통장, 회비관리 '척척'…총무가 따로없네</td>\n",
       "      <td>0</td>\n",
       "    </tr>\n",
       "    <tr>\n",
       "      <th>197</th>\n",
       "      <td>793</td>\n",
       "      <td>유니온페이, 겨울 여행객 위한 할인 이벤트 진행</td>\n",
       "      <td>0</td>\n",
       "    </tr>\n",
       "    <tr>\n",
       "      <th>198</th>\n",
       "      <td>68</td>\n",
       "      <td>[2015 국감]이운룡 \"신보 채용사업, 구조조정 검토 필요\"</td>\n",
       "      <td>-1</td>\n",
       "    </tr>\n",
       "    <tr>\n",
       "      <th>199</th>\n",
       "      <td>767</td>\n",
       "      <td>[가계부채 옥죄기 그늘]6대 은행, 가계부채 증가율 줄었지만…</td>\n",
       "      <td>-1</td>\n",
       "    </tr>\n",
       "  </tbody>\n",
       "</table>\n",
       "<p>200 rows × 3 columns</p>\n",
       "</div>"
      ],
      "text/plain": [
       "       id                               Title  label\n",
       "0     212               은행장 임기 줄줄이 만료…누가 연임될까     -1\n",
       "1    1216          권선주 기업은행장, 수능 앞둔 수험생에 격려편지      0\n",
       "2    1461                     서민 전세금 품어주는 HUG      1\n",
       "3     788          기업은행, 소방관 복지증진 위한 심신안정실 설치      1\n",
       "4    1815  [2015 국감]3년간 은행·카드사 신분증 사본 5억여건 수집      0\n",
       "..    ...                                 ...    ...\n",
       "195   769             기업은행, 영업점장 대출 금리 감면권 확대      0\n",
       "196  1827            모임통장, 회비관리 '척척'…총무가 따로없네      0\n",
       "197   793          유니온페이, 겨울 여행객 위한 할인 이벤트 진행      0\n",
       "198    68  [2015 국감]이운룡 \"신보 채용사업, 구조조정 검토 필요\"     -1\n",
       "199   767  [가계부채 옥죄기 그늘]6대 은행, 가계부채 증가율 줄었지만…     -1\n",
       "\n",
       "[200 rows x 3 columns]"
      ]
     },
     "execution_count": 6,
     "metadata": {},
     "output_type": "execute_result"
    }
   ],
   "source": [
    "df_IBK = pd.read_csv('./trainingset/기업은행_traindata_200.csv')\n",
    "df_IBK"
   ]
  },
  {
   "cell_type": "code",
   "execution_count": 7,
   "metadata": {},
   "outputs": [],
   "source": [
    "df_celt = pd.read_csv('./trainingset/셀트리온_traindata_200.csv')\n",
    "df_celt=df_celt.head(200)\n",
    "#df_celt"
   ]
  },
  {
   "cell_type": "code",
   "execution_count": 8,
   "metadata": {},
   "outputs": [
    {
     "data": {
      "text/html": [
       "<div>\n",
       "<style scoped>\n",
       "    .dataframe tbody tr th:only-of-type {\n",
       "        vertical-align: middle;\n",
       "    }\n",
       "\n",
       "    .dataframe tbody tr th {\n",
       "        vertical-align: top;\n",
       "    }\n",
       "\n",
       "    .dataframe thead th {\n",
       "        text-align: right;\n",
       "    }\n",
       "</style>\n",
       "<table border=\"1\" class=\"dataframe\">\n",
       "  <thead>\n",
       "    <tr style=\"text-align: right;\">\n",
       "      <th></th>\n",
       "      <th>id</th>\n",
       "      <th>Title</th>\n",
       "      <th>label</th>\n",
       "    </tr>\n",
       "  </thead>\n",
       "  <tbody>\n",
       "    <tr>\n",
       "      <th>0</th>\n",
       "      <td>18</td>\n",
       "      <td>\"87 대선전 김현희 데려와야\"</td>\n",
       "      <td>0.0</td>\n",
       "    </tr>\n",
       "    <tr>\n",
       "      <th>1</th>\n",
       "      <td>149</td>\n",
       "      <td>[반기문 방한]G7 참석차 일본행...27일 밤 서울로</td>\n",
       "      <td>0.0</td>\n",
       "    </tr>\n",
       "    <tr>\n",
       "      <th>2</th>\n",
       "      <td>167</td>\n",
       "      <td>해운 구조조정 기준 마련…조선·철강 머지않았다</td>\n",
       "      <td>-1.0</td>\n",
       "    </tr>\n",
       "    <tr>\n",
       "      <th>3</th>\n",
       "      <td>206</td>\n",
       "      <td>대한항공 호텔 철회 등 중재안 부상 경제활성화4法…통과 전망은</td>\n",
       "      <td>-1.0</td>\n",
       "    </tr>\n",
       "    <tr>\n",
       "      <th>4</th>\n",
       "      <td>125</td>\n",
       "      <td>北 미사일버튼 누르면 ‘실시간감지 정찰기’ 곧 전력화</td>\n",
       "      <td>1.0</td>\n",
       "    </tr>\n",
       "    <tr>\n",
       "      <th>...</th>\n",
       "      <td>...</td>\n",
       "      <td>...</td>\n",
       "      <td>...</td>\n",
       "    </tr>\n",
       "    <tr>\n",
       "      <th>294</th>\n",
       "      <td>294</td>\n",
       "      <td>롯데홈쇼핑, 23일 '보물섬데이' 열어 여행상품 연속방송</td>\n",
       "      <td>1.0</td>\n",
       "    </tr>\n",
       "    <tr>\n",
       "      <th>295</th>\n",
       "      <td>295</td>\n",
       "      <td>[금융도우미]신한카드 대한항공 1000원 당 2마일리지 적립</td>\n",
       "      <td>1.0</td>\n",
       "    </tr>\n",
       "    <tr>\n",
       "      <th>296</th>\n",
       "      <td>296</td>\n",
       "      <td>신한카드, 대한항공 마일리지 특화 ‘에어원’ 출시</td>\n",
       "      <td>1.0</td>\n",
       "    </tr>\n",
       "    <tr>\n",
       "      <th>297</th>\n",
       "      <td>297</td>\n",
       "      <td>[일문일답]공정위 \"현대차 총수 정몽구 지정 전 건강소견서 받아\"</td>\n",
       "      <td>0.0</td>\n",
       "    </tr>\n",
       "    <tr>\n",
       "      <th>298</th>\n",
       "      <td>298</td>\n",
       "      <td>김상조 \"재벌개혁, 또 실패해선 안 돼…지속가능한 방법론 찾아야\"</td>\n",
       "      <td>0.0</td>\n",
       "    </tr>\n",
       "  </tbody>\n",
       "</table>\n",
       "<p>299 rows × 3 columns</p>\n",
       "</div>"
      ],
      "text/plain": [
       "      id                                 Title  label\n",
       "0     18                     \"87 대선전 김현희 데려와야\"    0.0\n",
       "1    149        [반기문 방한]G7 참석차 일본행...27일 밤 서울로    0.0\n",
       "2    167             해운 구조조정 기준 마련…조선·철강 머지않았다   -1.0\n",
       "3    206    대한항공 호텔 철회 등 중재안 부상 경제활성화4法…통과 전망은   -1.0\n",
       "4    125         北 미사일버튼 누르면 ‘실시간감지 정찰기’ 곧 전력화    1.0\n",
       "..   ...                                   ...    ...\n",
       "294  294       롯데홈쇼핑, 23일 '보물섬데이' 열어 여행상품 연속방송    1.0\n",
       "295  295     [금융도우미]신한카드 대한항공 1000원 당 2마일리지 적립    1.0\n",
       "296  296           신한카드, 대한항공 마일리지 특화 ‘에어원’ 출시    1.0\n",
       "297  297  [일문일답]공정위 \"현대차 총수 정몽구 지정 전 건강소견서 받아\"    0.0\n",
       "298  298  김상조 \"재벌개혁, 또 실패해선 안 돼…지속가능한 방법론 찾아야\"    0.0\n",
       "\n",
       "[299 rows x 3 columns]"
      ]
     },
     "execution_count": 8,
     "metadata": {},
     "output_type": "execute_result"
    }
   ],
   "source": [
    "df_KAL = pd.read_csv('./trainingset/대한항공_testdata_300.csv', header=None)\n",
    "df_celt=df_celt.head(200)\n",
    "# df_KAL=df_KAL.head(300)\n",
    "df_KAL=df_KAL.head(299)\n",
    "df_KAL.columns = ['id','Title','label']\n",
    "df_KAL"
   ]
  },
  {
   "cell_type": "code",
   "execution_count": 9,
   "metadata": {},
   "outputs": [],
   "source": [
    "df = pd.concat([df_train_skt, df_mobis, df_hb, df_S_Oil,df_IBK,df_celt])"
   ]
  },
  {
   "cell_type": "code",
   "execution_count": 10,
   "metadata": {},
   "outputs": [
    {
     "data": {
      "text/html": [
       "<div>\n",
       "<style scoped>\n",
       "    .dataframe tbody tr th:only-of-type {\n",
       "        vertical-align: middle;\n",
       "    }\n",
       "\n",
       "    .dataframe tbody tr th {\n",
       "        vertical-align: top;\n",
       "    }\n",
       "\n",
       "    .dataframe thead th {\n",
       "        text-align: right;\n",
       "    }\n",
       "</style>\n",
       "<table border=\"1\" class=\"dataframe\">\n",
       "  <thead>\n",
       "    <tr style=\"text-align: right;\">\n",
       "      <th></th>\n",
       "      <th>id</th>\n",
       "      <th>Title</th>\n",
       "      <th>label</th>\n",
       "    </tr>\n",
       "  </thead>\n",
       "  <tbody>\n",
       "    <tr>\n",
       "      <th>0</th>\n",
       "      <td>0.0</td>\n",
       "      <td>국민안전로봇 2021년까지 개발…'로봇물고기' 전철 피할까?</td>\n",
       "      <td>0</td>\n",
       "    </tr>\n",
       "    <tr>\n",
       "      <th>1</th>\n",
       "      <td>1.0</td>\n",
       "      <td>'국정원 해킹 의혹' 상임위 앞두고 與野 전초전</td>\n",
       "      <td>0</td>\n",
       "    </tr>\n",
       "    <tr>\n",
       "      <th>2</th>\n",
       "      <td>2.0</td>\n",
       "      <td>인터넷티비(TV)결합상품 인터넷가입 비교사이트 통해 통신사별 장단점 비교해야 유리</td>\n",
       "      <td>0</td>\n",
       "    </tr>\n",
       "    <tr>\n",
       "      <th>3</th>\n",
       "      <td>3.0</td>\n",
       "      <td>SKT LG KT 인터넷가입 비교사이트 ‘펭귄통신’ 설치 당일 현금지원 이벤트</td>\n",
       "      <td>0</td>\n",
       "    </tr>\n",
       "    <tr>\n",
       "      <th>4</th>\n",
       "      <td>4.0</td>\n",
       "      <td>설 연휴 고향 가는 길 언제 출발해야 덜 막힐까</td>\n",
       "      <td>0</td>\n",
       "    </tr>\n",
       "    <tr>\n",
       "      <th>...</th>\n",
       "      <td>...</td>\n",
       "      <td>...</td>\n",
       "      <td>...</td>\n",
       "    </tr>\n",
       "    <tr>\n",
       "      <th>195</th>\n",
       "      <td>1172.0</td>\n",
       "      <td>원 이퀴티 파트너스 포, 엘.피., 셀트리온헬스케어 주식 631만주 장내매도</td>\n",
       "      <td>-1</td>\n",
       "    </tr>\n",
       "    <tr>\n",
       "      <th>196</th>\n",
       "      <td>1630.0</td>\n",
       "      <td>코스닥, 장 초반 하락세…640선 또 '위태'</td>\n",
       "      <td>-1</td>\n",
       "    </tr>\n",
       "    <tr>\n",
       "      <th>197</th>\n",
       "      <td>696.0</td>\n",
       "      <td>“ 3000% ”터질 바이오 단돈 3천원대! 2019년 마지막 新대장 바이오 온다!</td>\n",
       "      <td>1</td>\n",
       "    </tr>\n",
       "    <tr>\n",
       "      <th>198</th>\n",
       "      <td>1563.0</td>\n",
       "      <td>코스닥, 개인 '사자'에 700 향해 ↑</td>\n",
       "      <td>1</td>\n",
       "    </tr>\n",
       "    <tr>\n",
       "      <th>199</th>\n",
       "      <td>2215.0</td>\n",
       "      <td>남북정상회담 D-1, 코스피 장중 2470선 회복… SK하이닉스 4%대 강세</td>\n",
       "      <td>1</td>\n",
       "    </tr>\n",
       "  </tbody>\n",
       "</table>\n",
       "<p>1222 rows × 3 columns</p>\n",
       "</div>"
      ],
      "text/plain": [
       "         id                                           Title label\n",
       "0       0.0               국민안전로봇 2021년까지 개발…'로봇물고기' 전철 피할까?     0\n",
       "1       1.0                      '국정원 해킹 의혹' 상임위 앞두고 與野 전초전     0\n",
       "2       2.0   인터넷티비(TV)결합상품 인터넷가입 비교사이트 통해 통신사별 장단점 비교해야 유리     0\n",
       "3       3.0     SKT LG KT 인터넷가입 비교사이트 ‘펭귄통신’ 설치 당일 현금지원 이벤트     0\n",
       "4       4.0                      설 연휴 고향 가는 길 언제 출발해야 덜 막힐까     0\n",
       "..      ...                                             ...   ...\n",
       "195  1172.0      원 이퀴티 파트너스 포, 엘.피., 셀트리온헬스케어 주식 631만주 장내매도    -1\n",
       "196  1630.0                       코스닥, 장 초반 하락세…640선 또 '위태'    -1\n",
       "197   696.0  “ 3000% ”터질 바이오 단돈 3천원대! 2019년 마지막 新대장 바이오 온다!     1\n",
       "198  1563.0                          코스닥, 개인 '사자'에 700 향해 ↑     1\n",
       "199  2215.0      남북정상회담 D-1, 코스피 장중 2470선 회복… SK하이닉스 4%대 강세     1\n",
       "\n",
       "[1222 rows x 3 columns]"
      ]
     },
     "execution_count": 10,
     "metadata": {},
     "output_type": "execute_result"
    }
   ],
   "source": [
    "df = df[['id','Title','label']]\n",
    "df"
   ]
  },
  {
   "cell_type": "code",
   "execution_count": 11,
   "metadata": {},
   "outputs": [],
   "source": [
    "from sklearn.model_selection import train_test_split"
   ]
  },
  {
   "cell_type": "markdown",
   "metadata": {},
   "source": [
    "## 데이터셋 구성\n",
    "- Train Dataset : skt 200개, 모비스 200개, 현백 200개, 에쓰오일 200개, 기업은행 200개, 셀트리온 200개\n",
    "- Test Dataset : skt 282개"
   ]
  },
  {
   "cell_type": "code",
   "execution_count": 12,
   "metadata": {},
   "outputs": [],
   "source": [
    "# Train 데이터와 Test 데이터 분리\n",
    "X_train = df['Title']\n",
    "y_train = df['label']\n",
    "X_test = df_test_skt['Title']\n",
    "y_test = df_test_skt['label']\n",
    "# X_train, X_test, y_train, y_test = train_test_split(X, y, test_size = 0.2, random_state = 2)"
   ]
  },
  {
   "cell_type": "code",
   "execution_count": 13,
   "metadata": {},
   "outputs": [],
   "source": [
    "# 문장을 나누기 위한 Stopwords 선정\n",
    "stopwords = ['의', '가', '이', '은', '들', '는', '좀', '잘', '걍', '과', '도', '를', '으로', '자', '에', '와', '한', '하다']"
   ]
  },
  {
   "cell_type": "code",
   "execution_count": 14,
   "metadata": {
    "scrolled": true
   },
   "outputs": [],
   "source": [
    "#!pip3 install konlpy"
   ]
  },
  {
   "cell_type": "code",
   "execution_count": 15,
   "metadata": {},
   "outputs": [],
   "source": [
    "# Sentence Tokenizing\n",
    "\n",
    "import konlpy\n",
    "from konlpy.tag import Okt\n",
    "\n",
    "okt = Okt()\n",
    "X_train_token = []\n",
    "for sentence in X_train:\n",
    "    temp_X = [] \n",
    "    temp_X = okt.morphs(sentence, stem=True) # 토큰화\n",
    "    temp_X = [word for word in temp_X if not word in stopwords] # 불용어 제거\n",
    "    X_train_token.append(temp_X)\n",
    "\n",
    "X_test_token = []\n",
    "for sentence in X_test:\n",
    "    temp_X = []\n",
    "    temp_X = okt.morphs(sentence, stem=True) # 토큰화\n",
    "    temp_X = [word for word in temp_X if not word in stopwords] # 불용어 제거\n",
    "    X_test_token.append(temp_X)"
   ]
  },
  {
   "cell_type": "code",
   "execution_count": 16,
   "metadata": {},
   "outputs": [],
   "source": [
    "from keras.layers import Embedding, Dense, LSTM\n",
    "from keras.models import Sequential\n",
    "from keras.preprocessing.sequence import pad_sequences"
   ]
  },
  {
   "cell_type": "markdown",
   "metadata": {},
   "source": [
    "### 단어길이 추출"
   ]
  },
  {
   "cell_type": "code",
   "execution_count": 17,
   "metadata": {},
   "outputs": [
    {
     "data": {
      "text/plain": [
       "66"
      ]
     },
     "execution_count": 17,
     "metadata": {},
     "output_type": "execute_result"
    }
   ],
   "source": [
    "li_train = []\n",
    "# li_train.append(1)\n",
    "# li_train.append(2)\n",
    "for i in range(len(X_train_token)):\n",
    "   li_train.append(len(X_train_token[i]))\n",
    "max(li_train)\n",
    "\n",
    "li_test = []\n",
    "# li_train.append(1)\n",
    "# li_train.append(2)\n",
    "for i in range(len(X_test_token)):\n",
    "   li_test.append(len(X_test_token[i]))\n",
    "max(li_test)\n"
   ]
  },
  {
   "cell_type": "markdown",
   "metadata": {},
   "source": [
    "### max_words를 35000에서 100으로 줄임(test 길이 중 가장 큰것은 66)"
   ]
  },
  {
   "cell_type": "code",
   "execution_count": 18,
   "metadata": {},
   "outputs": [],
   "source": [
    "from keras.preprocessing.text import Tokenizer\n",
    "max_words = 100\n",
    "tokenizer = Tokenizer(num_words = max_words)\n",
    "tokenizer.fit_on_texts(X_train_token) \n",
    "X_train_token = tokenizer.texts_to_sequences(X_train_token) \n",
    "X_test_token = tokenizer.texts_to_sequences(X_test_token)"
   ]
  },
  {
   "cell_type": "markdown",
   "metadata": {},
   "source": [
    "### One-Hot encoding 2가지 방법 - 2번째 방법 사용 (to_categorize)"
   ]
  },
  {
   "cell_type": "code",
   "execution_count": 19,
   "metadata": {},
   "outputs": [],
   "source": [
    "# 1. \n",
    "import numpy as np\n",
    "y_train_encode = []\n",
    "y_test_encode = []\n",
    "for i in range(len(y_train)):\n",
    "    if y_train.iloc[i] == 1:\n",
    "        y_train_encode.append([0, 0, 1]) \n",
    "    elif y_train.iloc[i] == 0:\n",
    "        y_train_encode.append([0, 1, 0]) \n",
    "    elif y_train.iloc[i] == -1:\n",
    "        y_train_encode.append([1, 0, 0]) \n",
    "        \n",
    "for i in range(len(y_test)):\n",
    "    if y_test.iloc[i] == 1:\n",
    "        y_test_encode.append([0, 0, 1]) \n",
    "    elif y_test.iloc[i] == 0:\n",
    "        y_test_encode.append([0, 1, 0])\n",
    "    elif y_test.iloc[i] == -1:\n",
    "        y_test_encode.append([1, 0, 0]) \n",
    "        \n",
    "y_train_encode=np.array(y_train_encode)\n",
    "y_test_encode=np.array(y_test_encode)"
   ]
  },
  {
   "cell_type": "code",
   "execution_count": 20,
   "metadata": {},
   "outputs": [
    {
     "data": {
      "text/plain": [
       "1022"
      ]
     },
     "execution_count": 20,
     "metadata": {},
     "output_type": "execute_result"
    }
   ],
   "source": [
    "len(y_train_encode)"
   ]
  },
  {
   "cell_type": "code",
   "execution_count": 21,
   "metadata": {},
   "outputs": [],
   "source": [
    "# 2. \n",
    "# to_categorical 방법은 0 1 -1 순서로 인코딩된다!\n",
    "from keras.utils import to_categorical\n",
    "\n",
    "y_train_cata = to_categorical(y_train, num_classes = 3)\n",
    "y_test_cata = to_categorical(y_test, num_classes = 3)"
   ]
  },
  {
   "cell_type": "code",
   "execution_count": 22,
   "metadata": {},
   "outputs": [
    {
     "data": {
      "text/plain": [
       "array([[1., 0., 0.],\n",
       "       [1., 0., 0.],\n",
       "       [1., 0., 0.],\n",
       "       ...,\n",
       "       [0., 1., 0.],\n",
       "       [0., 1., 0.],\n",
       "       [0., 1., 0.]], dtype=float32)"
      ]
     },
     "execution_count": 22,
     "metadata": {},
     "output_type": "execute_result"
    }
   ],
   "source": [
    "y_train_cata"
   ]
  },
  {
   "cell_type": "markdown",
   "metadata": {},
   "source": [
    "### max_len 20 to 100으로 변경 ; 단어 길이 고려"
   ]
  },
  {
   "cell_type": "code",
   "execution_count": 23,
   "metadata": {},
   "outputs": [],
   "source": [
    "max_len = 100 # pad_sequesces이용, 전체 데이터의 길이를 20로 맞춘다\n",
    "X_train = pad_sequences(X_train_token, maxlen=max_len)\n",
    "X_test = pad_sequences(X_test_token, maxlen=max_len)"
   ]
  },
  {
   "cell_type": "markdown",
   "metadata": {},
   "source": [
    "### LSTM 모델\n",
    "\n",
    "optimizer = adam, epoch=10일 때, 테스트 결과 54.80%의 정확도를 보인다. "
   ]
  },
  {
   "cell_type": "markdown",
   "metadata": {},
   "source": [
    "### earlystopping과 modelcheckpoint 추가\n",
    "### embedding 64로 변경"
   ]
  },
  {
   "cell_type": "code",
   "execution_count": 37,
   "metadata": {},
   "outputs": [
    {
     "name": "stdout",
     "output_type": "stream",
     "text": [
      "Epoch 1/20\n",
      "110/110 [==============================] - ETA: 0s - loss: 1.0239 - accuracy: 0.5305WARNING:tensorflow:Can save best model only with val_acc available, skipping.\n",
      "110/110 [==============================] - 5s 47ms/step - loss: 1.0239 - accuracy: 0.5305 - val_loss: 0.9574 - val_accuracy: 0.5528\n",
      "Epoch 2/20\n",
      "109/110 [============================>.] - ETA: 0s - loss: 0.9128 - accuracy: 0.5716WARNING:tensorflow:Can save best model only with val_acc available, skipping.\n",
      "110/110 [==============================] - 5s 46ms/step - loss: 0.9108 - accuracy: 0.5732 - val_loss: 0.8049 - val_accuracy: 0.6748\n",
      "Epoch 3/20\n",
      "109/110 [============================>.] - ETA: 0s - loss: 0.8511 - accuracy: 0.6037WARNING:tensorflow:Can save best model only with val_acc available, skipping.\n",
      "110/110 [==============================] - 5s 46ms/step - loss: 0.8508 - accuracy: 0.6033 - val_loss: 0.7478 - val_accuracy: 0.7154\n",
      "Epoch 4/20\n",
      "110/110 [==============================] - ETA: 0s - loss: 0.8255 - accuracy: 0.6069WARNING:tensorflow:Can save best model only with val_acc available, skipping.\n",
      "110/110 [==============================] - 5s 49ms/step - loss: 0.8255 - accuracy: 0.6069 - val_loss: 0.7480 - val_accuracy: 0.6748\n",
      "Epoch 5/20\n",
      "109/110 [============================>.] - ETA: 0s - loss: 0.8057 - accuracy: 0.6229WARNING:tensorflow:Can save best model only with val_acc available, skipping.\n",
      "110/110 [==============================] - 5s 49ms/step - loss: 0.8072 - accuracy: 0.6224 - val_loss: 0.7376 - val_accuracy: 0.6748\n",
      "Epoch 6/20\n",
      "110/110 [==============================] - ETA: 0s - loss: 0.7899 - accuracy: 0.6324WARNING:tensorflow:Can save best model only with val_acc available, skipping.\n",
      "110/110 [==============================] - 5s 46ms/step - loss: 0.7899 - accuracy: 0.6324 - val_loss: 0.7620 - val_accuracy: 0.6829\n",
      "Epoch 7/20\n",
      "110/110 [==============================] - ETA: 0s - loss: 0.7762 - accuracy: 0.6397WARNING:tensorflow:Can save best model only with val_acc available, skipping.\n",
      "110/110 [==============================] - 5s 48ms/step - loss: 0.7762 - accuracy: 0.6397 - val_loss: 0.8132 - val_accuracy: 0.6667\n",
      "Epoch 8/20\n",
      "109/110 [============================>.] - ETA: 0s - loss: 0.7746 - accuracy: 0.6339WARNING:tensorflow:Can save best model only with val_acc available, skipping.\n",
      "110/110 [==============================] - 5s 45ms/step - loss: 0.7765 - accuracy: 0.6342 - val_loss: 0.7820 - val_accuracy: 0.6748\n",
      "Epoch 9/20\n",
      "109/110 [============================>.] - ETA: 0s - loss: 0.7625 - accuracy: 0.6294WARNING:tensorflow:Can save best model only with val_acc available, skipping.\n",
      "110/110 [==============================] - 5s 45ms/step - loss: 0.7605 - accuracy: 0.6297 - val_loss: 0.7749 - val_accuracy: 0.6829\n",
      "Epoch 00009: early stopping\n"
     ]
    }
   ],
   "source": [
    "from tensorflow.keras.callbacks import EarlyStopping, ModelCheckpoint\n",
    "es = EarlyStopping(monitor='val_loss',mode='min',verbose=1,patience=4)\n",
    "mc = ModelCheckpoint('best_model.h5',monitor='val_acc',mode='max',verbose=1,save_best_only=True)\n",
    "\n",
    "model = Sequential()\n",
    "model.add(Embedding(max_words, 64))\n",
    "model.add(LSTM(128))\n",
    "model.add(Dense(3, activation='softmax'))\n",
    "model.compile(optimizer='rmsprop', loss='categorical_crossentropy', metrics=['accuracy'])\n",
    "history = model.fit(X_train, y_train_cata, epochs=20, batch_size=10, callbacks=[es,mc], validation_split=0.1)"
   ]
  },
  {
   "cell_type": "code",
   "execution_count": 38,
   "metadata": {
    "scrolled": true
   },
   "outputs": [
    {
     "name": "stdout",
     "output_type": "stream",
     "text": [
      "9/9 [==============================] - 0s 17ms/step - loss: 0.9439 - accuracy: 0.6050\n",
      "\n",
      " 테스트 정확도 : 60.50%\n"
     ]
    }
   ],
   "source": [
    "print(\"\\n 테스트 정확도 : {:.2f}%\".format(model.evaluate(X_test,y_test_cata)[1]*100))"
   ]
  },
  {
   "cell_type": "code",
   "execution_count": 28,
   "metadata": {},
   "outputs": [
    {
     "name": "stdout",
     "output_type": "stream",
     "text": [
      "Epoch 1/10\n",
      "109/110 [============================>.] - ETA: 0s - loss: 1.0013 - accuracy: 0.5174WARNING:tensorflow:Can save best model only with val_acc available, skipping.\n",
      "110/110 [==============================] - 6s 55ms/step - loss: 0.9997 - accuracy: 0.5205 - val_loss: 0.9637 - val_accuracy: 0.6098\n",
      "Epoch 2/10\n",
      "110/110 [==============================] - ETA: 0s - loss: 0.8888 - accuracy: 0.5769WARNING:tensorflow:Can save best model only with val_acc available, skipping.\n",
      "110/110 [==============================] - 6s 50ms/step - loss: 0.8888 - accuracy: 0.5769 - val_loss: 0.7858 - val_accuracy: 0.6829\n",
      "Epoch 3/10\n",
      "110/110 [==============================] - ETA: 0s - loss: 0.8283 - accuracy: 0.6087WARNING:tensorflow:Can save best model only with val_acc available, skipping.\n",
      "110/110 [==============================] - 6s 50ms/step - loss: 0.8283 - accuracy: 0.6087 - val_loss: 0.7372 - val_accuracy: 0.7073\n",
      "Epoch 4/10\n",
      "109/110 [============================>.] - ETA: 0s - loss: 0.8069 - accuracy: 0.6119WARNING:tensorflow:Can save best model only with val_acc available, skipping.\n",
      "110/110 [==============================] - 6s 50ms/step - loss: 0.8064 - accuracy: 0.6133 - val_loss: 0.8370 - val_accuracy: 0.6829\n",
      "Epoch 5/10\n",
      "109/110 [============================>.] - ETA: 0s - loss: 0.7860 - accuracy: 0.6294WARNING:tensorflow:Can save best model only with val_acc available, skipping.\n",
      "110/110 [==============================] - 5s 49ms/step - loss: 0.7841 - accuracy: 0.6315 - val_loss: 0.7923 - val_accuracy: 0.6829\n",
      "Epoch 6/10\n",
      "109/110 [============================>.] - ETA: 0s - loss: 0.7740 - accuracy: 0.6303WARNING:tensorflow:Can save best model only with val_acc available, skipping.\n",
      "110/110 [==============================] - 6s 50ms/step - loss: 0.7736 - accuracy: 0.6306 - val_loss: 0.8076 - val_accuracy: 0.6667\n",
      "Epoch 7/10\n",
      "110/110 [==============================] - ETA: 0s - loss: 0.7612 - accuracy: 0.6297WARNING:tensorflow:Can save best model only with val_acc available, skipping.\n",
      "110/110 [==============================] - 6s 50ms/step - loss: 0.7612 - accuracy: 0.6297 - val_loss: 0.8642 - val_accuracy: 0.6829\n",
      "Epoch 00007: early stopping\n"
     ]
    }
   ],
   "source": [
    "#optimizer = adam\n",
    "model2 = Sequential()\n",
    "model2.add(Embedding(max_words, 64))\n",
    "model2.add(LSTM(128))\n",
    "model2.add(Dense(3, activation='softmax'))\n",
    "model2.compile(optimizer='adam', loss='categorical_crossentropy', metrics=['accuracy'])\n",
    "history = model2.fit(X_train, y_train_cata, epochs=10, batch_size=10, callbacks=[es,mc], validation_split=0.1)"
   ]
  },
  {
   "cell_type": "code",
   "execution_count": 29,
   "metadata": {},
   "outputs": [
    {
     "name": "stdout",
     "output_type": "stream",
     "text": [
      "9/9 [==============================] - 0s 16ms/step - loss: 0.9583 - accuracy: 0.6014\n",
      "\n",
      " 테스트 정확도 : 60.14%\n"
     ]
    }
   ],
   "source": [
    "print(\"\\n 테스트 정확도 : {:.2f}%\".format(model2.evaluate(X_test,y_test_cata)[1]*100))"
   ]
  },
  {
   "cell_type": "code",
   "execution_count": 31,
   "metadata": {},
   "outputs": [
    {
     "name": "stdout",
     "output_type": "stream",
     "text": [
      "Epoch 1/10\n",
      "110/110 [==============================] - ETA: 0s - loss: nan - accuracy: 0.2921WARNING:tensorflow:Can save best model only with val_acc available, skipping.\n",
      "110/110 [==============================] - 6s 57ms/step - loss: nan - accuracy: 0.2921 - val_loss: nan - val_accuracy: 0.1220\n",
      "Epoch 2/10\n",
      "110/110 [==============================] - ETA: 0s - loss: nan - accuracy: 0.2912WARNING:tensorflow:Can save best model only with val_acc available, skipping.\n",
      "110/110 [==============================] - 6s 51ms/step - loss: nan - accuracy: 0.2912 - val_loss: nan - val_accuracy: 0.1220\n",
      "Epoch 3/10\n",
      "110/110 [==============================] - ETA: 0s - loss: nan - accuracy: 0.2912WARNING:tensorflow:Can save best model only with val_acc available, skipping.\n",
      "110/110 [==============================] - 5s 50ms/step - loss: nan - accuracy: 0.2912 - val_loss: nan - val_accuracy: 0.1220\n",
      "Epoch 4/10\n",
      "109/110 [============================>.] - ETA: 0s - loss: nan - accuracy: 0.2917WARNING:tensorflow:Can save best model only with val_acc available, skipping.\n",
      "110/110 [==============================] - 5s 49ms/step - loss: nan - accuracy: 0.2912 - val_loss: nan - val_accuracy: 0.1220\n",
      "Epoch 00004: early stopping\n",
      "9/9 [==============================] - 0s 16ms/step - loss: nan - accuracy: 0.5623\n",
      "\n",
      " 테스트 정확도 : 56.23%\n"
     ]
    }
   ],
   "source": [
    "#model3 ; activation = relu\n",
    "from tensorflow.keras.callbacks import EarlyStopping, ModelCheckpoint\n",
    "es = EarlyStopping(monitor='val_loss',mode='min',verbose=1,patience=4)\n",
    "mc = ModelCheckpoint('best_model.h5',monitor='val_acc',mode='max',verbose=1,save_best_only=True)\n",
    "\n",
    "model3 = Sequential()\n",
    "model3.add(Embedding(max_words, 64))\n",
    "model3.add(LSTM(128))\n",
    "model3.add(Dense(3, activation='relu'))\n",
    "model3.compile(optimizer='rmsprop', loss='categorical_crossentropy', metrics=['accuracy'])\n",
    "history = model3.fit(X_train, y_train_cata, epochs=10, batch_size=10, callbacks=[es,mc], validation_split=0.1)\n",
    "\n",
    "print(\"\\n 테스트 정확도 : {:.2f}%\".format(model3.evaluate(X_test,y_test_cata)[1]*100))"
   ]
  },
  {
   "cell_type": "code",
   "execution_count": 39,
   "metadata": {},
   "outputs": [
    {
     "name": "stdout",
     "output_type": "stream",
     "text": [
      "Epoch 1/20\n",
      "110/110 [==============================] - ETA: 0s - loss: 1.0090 - accuracy: 0.5259WARNING:tensorflow:Can save best model only with val_acc available, skipping.\n",
      "110/110 [==============================] - 6s 59ms/step - loss: 1.0090 - accuracy: 0.5259 - val_loss: 1.0181 - val_accuracy: 0.5366\n",
      "Epoch 2/20\n",
      "110/110 [==============================] - ETA: 0s - loss: 0.9187 - accuracy: 0.5651WARNING:tensorflow:Can save best model only with val_acc available, skipping.\n",
      "110/110 [==============================] - 6s 54ms/step - loss: 0.9187 - accuracy: 0.5651 - val_loss: 0.8054 - val_accuracy: 0.6829\n",
      "Epoch 3/20\n",
      "110/110 [==============================] - ETA: 0s - loss: 0.8682 - accuracy: 0.5942WARNING:tensorflow:Can save best model only with val_acc available, skipping.\n",
      "110/110 [==============================] - 6s 54ms/step - loss: 0.8682 - accuracy: 0.5942 - val_loss: 0.7543 - val_accuracy: 0.6829\n",
      "Epoch 4/20\n",
      "110/110 [==============================] - ETA: 0s - loss: 0.8123 - accuracy: 0.6169WARNING:tensorflow:Can save best model only with val_acc available, skipping.\n",
      "110/110 [==============================] - 6s 54ms/step - loss: 0.8123 - accuracy: 0.6169 - val_loss: 0.7097 - val_accuracy: 0.7236\n",
      "Epoch 5/20\n",
      "110/110 [==============================] - ETA: 0s - loss: 0.8010 - accuracy: 0.6187WARNING:tensorflow:Can save best model only with val_acc available, skipping.\n",
      "110/110 [==============================] - 6s 54ms/step - loss: 0.8010 - accuracy: 0.6187 - val_loss: 0.7357 - val_accuracy: 0.7154\n",
      "Epoch 6/20\n",
      "110/110 [==============================] - ETA: 0s - loss: 0.7833 - accuracy: 0.6251WARNING:tensorflow:Can save best model only with val_acc available, skipping.\n",
      "110/110 [==============================] - 6s 54ms/step - loss: 0.7833 - accuracy: 0.6251 - val_loss: 0.7859 - val_accuracy: 0.7073\n",
      "Epoch 7/20\n",
      "110/110 [==============================] - ETA: 0s - loss: 0.7702 - accuracy: 0.6269WARNING:tensorflow:Can save best model only with val_acc available, skipping.\n",
      "110/110 [==============================] - 6s 54ms/step - loss: 0.7702 - accuracy: 0.6269 - val_loss: 0.7763 - val_accuracy: 0.6911\n",
      "Epoch 8/20\n",
      "110/110 [==============================] - ETA: 0s - loss: 0.7621 - accuracy: 0.6470WARNING:tensorflow:Can save best model only with val_acc available, skipping.\n",
      "110/110 [==============================] - 6s 54ms/step - loss: 0.7621 - accuracy: 0.6470 - val_loss: 0.7747 - val_accuracy: 0.6829\n",
      "Epoch 00008: early stopping\n",
      "9/9 [==============================] - 0s 16ms/step - loss: 0.9522 - accuracy: 0.5907\n",
      "\n",
      " 테스트 정확도 : 59.07%\n"
     ]
    }
   ],
   "source": [
    "#model5 ; activation = softmax optimzier = nadam\n",
    "from tensorflow.keras.callbacks import EarlyStopping, ModelCheckpoint\n",
    "es = EarlyStopping(monitor='val_loss',mode='min',verbose=1,patience=4)\n",
    "mc = ModelCheckpoint('best_model.h5',monitor='val_acc',mode='max',verbose=1,save_best_only=True)\n",
    "\n",
    "model5 = Sequential()\n",
    "model5.add(Embedding(max_words, 64))\n",
    "model5.add(LSTM(128))\n",
    "model5.add(Dense(3, activation='softmax'))\n",
    "model5.compile(optimizer='nadam', loss='categorical_crossentropy', metrics=['accuracy'])\n",
    "history = model5.fit(X_train, y_train_cata, epochs=20, batch_size=10, callbacks=[es,mc], validation_split=0.1)\n",
    "\n",
    "print(\"\\n 테스트 정확도 : {:.2f}%\".format(model5.evaluate(X_test,y_test_cata)[1]*100))"
   ]
  }
 ],
 "metadata": {
  "kernelspec": {
   "display_name": "Python 3",
   "language": "python",
   "name": "python3"
  },
  "language_info": {
   "codemirror_mode": {
    "name": "ipython",
    "version": 3
   },
   "file_extension": ".py",
   "mimetype": "text/x-python",
   "name": "python",
   "nbconvert_exporter": "python",
   "pygments_lexer": "ipython3",
   "version": "3.6.9"
  }
 },
 "nbformat": 4,
 "nbformat_minor": 4
}
