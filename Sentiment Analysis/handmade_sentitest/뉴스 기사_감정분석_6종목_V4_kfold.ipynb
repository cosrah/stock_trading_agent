{
 "cells": [
  {
   "cell_type": "code",
   "execution_count": 1,
   "metadata": {},
   "outputs": [],
   "source": [
    "from keras.models import Sequential\n",
    "from keras.layers import Embedding, Dense, LSTM\n",
    "from sklearn.preprocessing import LabelEncoder\n",
    "from sklearn.model_selection import KFold\n",
    "from keras.preprocessing.sequence import pad_sequences"
   ]
  },
  {
   "cell_type": "code",
   "execution_count": 2,
   "metadata": {},
   "outputs": [],
   "source": [
    "import pandas as pd\n",
    "import numpy as np\n",
    "import tensorflow as tf"
   ]
  },
  {
   "cell_type": "markdown",
   "metadata": {},
   "source": [
    "# 데이터 불러오기\n",
    "\n",
    "- Human Labeling된 데이터인 SKT , 현대백화점, 현대모비스, S-Oil, 기업은행, 셀트리온 데이터 셋을 이용하여 각 정확도를 올린다.\n",
    "\n",
    "- 순서\n",
    "    1. 데이터 불러오기\n",
    "    2. 데이터 분리\n",
    "    3. Title 의 토큰화 및 불용어 제거\n",
    "    4. Label 의 원핫인코딩\n",
    "    5. 길이가 다른 title의 정형화\n",
    "    6. LSTM을 통한 딥러닝\n",
    "    7. 정확도 확인"
   ]
  },
  {
   "cell_type": "code",
   "execution_count": 3,
   "metadata": {},
   "outputs": [],
   "source": [
    "df_skt = pd.read_csv('./trainingset/SKT_traindata_482.csv')\n",
    "df_train_skt = df_skt.iloc[:200]\n",
    "df_test_skt = df_skt.iloc[200:]"
   ]
  },
  {
   "cell_type": "code",
   "execution_count": 4,
   "metadata": {},
   "outputs": [
    {
     "data": {
      "text/html": [
       "<div>\n",
       "<style scoped>\n",
       "    .dataframe tbody tr th:only-of-type {\n",
       "        vertical-align: middle;\n",
       "    }\n",
       "\n",
       "    .dataframe tbody tr th {\n",
       "        vertical-align: top;\n",
       "    }\n",
       "\n",
       "    .dataframe thead th {\n",
       "        text-align: right;\n",
       "    }\n",
       "</style>\n",
       "<table border=\"1\" class=\"dataframe\">\n",
       "  <thead>\n",
       "    <tr style=\"text-align: right;\">\n",
       "      <th></th>\n",
       "      <th>id</th>\n",
       "      <th>Title</th>\n",
       "      <th>label</th>\n",
       "    </tr>\n",
       "  </thead>\n",
       "  <tbody>\n",
       "    <tr>\n",
       "      <th>200</th>\n",
       "      <td>0</td>\n",
       "      <td>정부, 구글 지도 해외 반출 불허 구글이 보완책 수용 안해 (상보)</td>\n",
       "      <td>0</td>\n",
       "    </tr>\n",
       "    <tr>\n",
       "      <th>201</th>\n",
       "      <td>1</td>\n",
       "      <td>미래부, 2차 유료방송 발전방안 공개토론회 개최</td>\n",
       "      <td>0</td>\n",
       "    </tr>\n",
       "    <tr>\n",
       "      <th>202</th>\n",
       "      <td>2</td>\n",
       "      <td>SKT, 전용폰 구입 고객에 T1 롤드컵 우승 기념품 증정</td>\n",
       "      <td>1</td>\n",
       "    </tr>\n",
       "    <tr>\n",
       "      <th>203</th>\n",
       "      <td>3</td>\n",
       "      <td>'갤S7'사면 페이백 50만원 준다더니제2의 거성 모바일 사태?</td>\n",
       "      <td>0</td>\n",
       "    </tr>\n",
       "    <tr>\n",
       "      <th>204</th>\n",
       "      <td>4</td>\n",
       "      <td>케이블TV 가입자도 내년 1월부터 SKT 요금할인받는다</td>\n",
       "      <td>1</td>\n",
       "    </tr>\n",
       "    <tr>\n",
       "      <th>...</th>\n",
       "      <td>...</td>\n",
       "      <td>...</td>\n",
       "      <td>...</td>\n",
       "    </tr>\n",
       "    <tr>\n",
       "      <th>476</th>\n",
       "      <td>78</td>\n",
       "      <td>스웨덴 에릭슨\"4차 산업혁명 협력할 韓 스타트업 찾습니다 ,0\\r\\n4187,SKT...</td>\n",
       "      <td>1</td>\n",
       "    </tr>\n",
       "    <tr>\n",
       "      <th>477</th>\n",
       "      <td>79</td>\n",
       "      <td>CJ헬로비전 작년 영업이익 59.4% 감소한 429억원…\"M&amp;A 등 불확실성 해소,...</td>\n",
       "      <td>1</td>\n",
       "    </tr>\n",
       "    <tr>\n",
       "      <th>478</th>\n",
       "      <td>80</td>\n",
       "      <td>SKT 2019년까지 11조원 투자</td>\n",
       "      <td>1</td>\n",
       "    </tr>\n",
       "    <tr>\n",
       "      <th>479</th>\n",
       "      <td>81</td>\n",
       "      <td>통신사 커버리지맵 정확도 SKT 1위 '오차 0%'</td>\n",
       "      <td>1</td>\n",
       "    </tr>\n",
       "    <tr>\n",
       "      <th>480</th>\n",
       "      <td>82</td>\n",
       "      <td>크리스마스 맞이 스마트폰 가격 인하…\"연말 특수 기대,1\\r\\n4384,CJ헬로비전...</td>\n",
       "      <td>1</td>\n",
       "    </tr>\n",
       "  </tbody>\n",
       "</table>\n",
       "<p>281 rows × 3 columns</p>\n",
       "</div>"
      ],
      "text/plain": [
       "     id                                              Title  label\n",
       "200   0              정부, 구글 지도 해외 반출 불허 구글이 보완책 수용 안해 (상보)      0\n",
       "201   1                         미래부, 2차 유료방송 발전방안 공개토론회 개최      0\n",
       "202   2                   SKT, 전용폰 구입 고객에 T1 롤드컵 우승 기념품 증정      1\n",
       "203   3                '갤S7'사면 페이백 50만원 준다더니제2의 거성 모바일 사태?      0\n",
       "204   4                     케이블TV 가입자도 내년 1월부터 SKT 요금할인받는다      1\n",
       "..   ..                                                ...    ...\n",
       "476  78  스웨덴 에릭슨\"4차 산업혁명 협력할 韓 스타트업 찾습니다 ,0\\r\\n4187,SKT...      1\n",
       "477  79  CJ헬로비전 작년 영업이익 59.4% 감소한 429억원…\"M&A 등 불확실성 해소,...      1\n",
       "478  80                                SKT 2019년까지 11조원 투자      1\n",
       "479  81                       통신사 커버리지맵 정확도 SKT 1위 '오차 0%'      1\n",
       "480  82  크리스마스 맞이 스마트폰 가격 인하…\"연말 특수 기대,1\\r\\n4384,CJ헬로비전...      1\n",
       "\n",
       "[281 rows x 3 columns]"
      ]
     },
     "execution_count": 4,
     "metadata": {},
     "output_type": "execute_result"
    }
   ],
   "source": [
    "df_test_skt"
   ]
  },
  {
   "cell_type": "code",
   "execution_count": 5,
   "metadata": {},
   "outputs": [],
   "source": [
    "df_mobis = pd.read_csv('./trainingset/현대모비스_traindata_200.csv', encoding = 'CP949')\n",
    "# df_mobis"
   ]
  },
  {
   "cell_type": "code",
   "execution_count": 6,
   "metadata": {},
   "outputs": [],
   "source": [
    "df_hb = pd.read_csv('./trainingset/현대백화점_traindata_200.csv')\n",
    "# df_hb"
   ]
  },
  {
   "cell_type": "code",
   "execution_count": 7,
   "metadata": {},
   "outputs": [],
   "source": [
    "df_S_Oil = pd.read_csv('./trainingset/S-Oil_traindata_200.csv')\n",
    "df_S_Oil = df_S_Oil.head(200)\n",
    "# df_S_Oil.head(200)"
   ]
  },
  {
   "cell_type": "code",
   "execution_count": 8,
   "metadata": {},
   "outputs": [],
   "source": [
    "df_IBK = pd.read_csv('./trainingset/기업은행_traindata_200.csv')\n",
    "# df_IBK"
   ]
  },
  {
   "cell_type": "code",
   "execution_count": 9,
   "metadata": {},
   "outputs": [],
   "source": [
    "df_celt = pd.read_csv('./trainingset/셀트리온_traindata_200.csv')\n",
    "df_celt=df_celt.head(200)\n",
    "#df_celt"
   ]
  },
  {
   "cell_type": "code",
   "execution_count": 10,
   "metadata": {},
   "outputs": [],
   "source": [
    "df_KAL = pd.read_csv('./trainingset/대한항공_testdata_300.csv', header=None)\n",
    "df_celt=df_celt.head(200)\n",
    "# df_KAL=df_KAL.head(300)\n",
    "df_KAL=df_KAL.head(299)\n",
    "df_KAL.columns = ['id','Title','label']\n",
    "# df_KAL"
   ]
  },
  {
   "cell_type": "code",
   "execution_count": 11,
   "metadata": {},
   "outputs": [],
   "source": [
    "df = pd.concat([df_train_skt, df_mobis, df_hb, df_S_Oil,df_IBK,df_celt])"
   ]
  },
  {
   "cell_type": "code",
   "execution_count": 12,
   "metadata": {},
   "outputs": [
    {
     "data": {
      "text/html": [
       "<div>\n",
       "<style scoped>\n",
       "    .dataframe tbody tr th:only-of-type {\n",
       "        vertical-align: middle;\n",
       "    }\n",
       "\n",
       "    .dataframe tbody tr th {\n",
       "        vertical-align: top;\n",
       "    }\n",
       "\n",
       "    .dataframe thead th {\n",
       "        text-align: right;\n",
       "    }\n",
       "</style>\n",
       "<table border=\"1\" class=\"dataframe\">\n",
       "  <thead>\n",
       "    <tr style=\"text-align: right;\">\n",
       "      <th></th>\n",
       "      <th>id</th>\n",
       "      <th>Title</th>\n",
       "      <th>label</th>\n",
       "    </tr>\n",
       "  </thead>\n",
       "  <tbody>\n",
       "    <tr>\n",
       "      <th>0</th>\n",
       "      <td>0.0</td>\n",
       "      <td>국민안전로봇 2021년까지 개발…'로봇물고기' 전철 피할까?</td>\n",
       "      <td>0</td>\n",
       "    </tr>\n",
       "    <tr>\n",
       "      <th>1</th>\n",
       "      <td>1.0</td>\n",
       "      <td>'국정원 해킹 의혹' 상임위 앞두고 與野 전초전</td>\n",
       "      <td>0</td>\n",
       "    </tr>\n",
       "    <tr>\n",
       "      <th>2</th>\n",
       "      <td>2.0</td>\n",
       "      <td>인터넷티비(TV)결합상품 인터넷가입 비교사이트 통해 통신사별 장단점 비교해야 유리</td>\n",
       "      <td>0</td>\n",
       "    </tr>\n",
       "    <tr>\n",
       "      <th>3</th>\n",
       "      <td>3.0</td>\n",
       "      <td>SKT LG KT 인터넷가입 비교사이트 ‘펭귄통신’ 설치 당일 현금지원 이벤트</td>\n",
       "      <td>0</td>\n",
       "    </tr>\n",
       "    <tr>\n",
       "      <th>4</th>\n",
       "      <td>4.0</td>\n",
       "      <td>설 연휴 고향 가는 길 언제 출발해야 덜 막힐까</td>\n",
       "      <td>0</td>\n",
       "    </tr>\n",
       "    <tr>\n",
       "      <th>...</th>\n",
       "      <td>...</td>\n",
       "      <td>...</td>\n",
       "      <td>...</td>\n",
       "    </tr>\n",
       "    <tr>\n",
       "      <th>195</th>\n",
       "      <td>1172.0</td>\n",
       "      <td>원 이퀴티 파트너스 포, 엘.피., 셀트리온헬스케어 주식 631만주 장내매도</td>\n",
       "      <td>-1</td>\n",
       "    </tr>\n",
       "    <tr>\n",
       "      <th>196</th>\n",
       "      <td>1630.0</td>\n",
       "      <td>코스닥, 장 초반 하락세…640선 또 '위태'</td>\n",
       "      <td>-1</td>\n",
       "    </tr>\n",
       "    <tr>\n",
       "      <th>197</th>\n",
       "      <td>696.0</td>\n",
       "      <td>“ 3000% ”터질 바이오 단돈 3천원대! 2019년 마지막 新대장 바이오 온다!</td>\n",
       "      <td>1</td>\n",
       "    </tr>\n",
       "    <tr>\n",
       "      <th>198</th>\n",
       "      <td>1563.0</td>\n",
       "      <td>코스닥, 개인 '사자'에 700 향해 ↑</td>\n",
       "      <td>1</td>\n",
       "    </tr>\n",
       "    <tr>\n",
       "      <th>199</th>\n",
       "      <td>2215.0</td>\n",
       "      <td>남북정상회담 D-1, 코스피 장중 2470선 회복… SK하이닉스 4%대 강세</td>\n",
       "      <td>1</td>\n",
       "    </tr>\n",
       "  </tbody>\n",
       "</table>\n",
       "<p>1222 rows × 3 columns</p>\n",
       "</div>"
      ],
      "text/plain": [
       "         id                                           Title label\n",
       "0       0.0               국민안전로봇 2021년까지 개발…'로봇물고기' 전철 피할까?     0\n",
       "1       1.0                      '국정원 해킹 의혹' 상임위 앞두고 與野 전초전     0\n",
       "2       2.0   인터넷티비(TV)결합상품 인터넷가입 비교사이트 통해 통신사별 장단점 비교해야 유리     0\n",
       "3       3.0     SKT LG KT 인터넷가입 비교사이트 ‘펭귄통신’ 설치 당일 현금지원 이벤트     0\n",
       "4       4.0                      설 연휴 고향 가는 길 언제 출발해야 덜 막힐까     0\n",
       "..      ...                                             ...   ...\n",
       "195  1172.0      원 이퀴티 파트너스 포, 엘.피., 셀트리온헬스케어 주식 631만주 장내매도    -1\n",
       "196  1630.0                       코스닥, 장 초반 하락세…640선 또 '위태'    -1\n",
       "197   696.0  “ 3000% ”터질 바이오 단돈 3천원대! 2019년 마지막 新대장 바이오 온다!     1\n",
       "198  1563.0                          코스닥, 개인 '사자'에 700 향해 ↑     1\n",
       "199  2215.0      남북정상회담 D-1, 코스피 장중 2470선 회복… SK하이닉스 4%대 강세     1\n",
       "\n",
       "[1222 rows x 3 columns]"
      ]
     },
     "execution_count": 12,
     "metadata": {},
     "output_type": "execute_result"
    }
   ],
   "source": [
    "df = df[['id','Title','label']]\n",
    "df"
   ]
  },
  {
   "cell_type": "code",
   "execution_count": 13,
   "metadata": {},
   "outputs": [],
   "source": [
    "from sklearn.model_selection import train_test_split"
   ]
  },
  {
   "cell_type": "markdown",
   "metadata": {},
   "source": [
    "## 데이터셋 구성\n",
    "- Train Dataset : skt 200개, 모비스 200개, 현백 200개, 에쓰오일 200개, 기업은행 200개, 셀트리온 200개\n",
    "- Test Dataset : skt 282개"
   ]
  },
  {
   "cell_type": "code",
   "execution_count": 14,
   "metadata": {},
   "outputs": [],
   "source": [
    "# Train 데이터와 Test 데이터 분리\n",
    "X_train = df['Title']\n",
    "y_train = df['label']\n",
    "X_test = df_test_skt['Title']\n",
    "y_test = df_test_skt['label']\n",
    "# X_train, X_test, y_train, y_test = train_test_split(X, y, test_size = 0.2, random_state = 2)"
   ]
  },
  {
   "cell_type": "code",
   "execution_count": 15,
   "metadata": {},
   "outputs": [],
   "source": [
    "# 문장을 나누기 위한 Stopwords 선정\n",
    "stopwords = ['의', '가', '이', '은', '들', '는', '좀', '잘', '걍', '과', '도', '를', '으로', '자', '에', '와', '한', '하다']"
   ]
  },
  {
   "cell_type": "code",
   "execution_count": 16,
   "metadata": {
    "scrolled": true
   },
   "outputs": [],
   "source": [
    "#!pip3 install konlpy"
   ]
  },
  {
   "cell_type": "code",
   "execution_count": 17,
   "metadata": {},
   "outputs": [],
   "source": [
    "# Sentence Tokenizing\n",
    "\n",
    "import konlpy\n",
    "from konlpy.tag import Okt\n",
    "\n",
    "okt = Okt()\n",
    "X_train_token = []\n",
    "for sentence in X_train:\n",
    "    temp_X = [] \n",
    "    temp_X = okt.morphs(sentence, stem=True) # 토큰화\n",
    "    temp_X = [word for word in temp_X if not word in stopwords] # 불용어 제거\n",
    "    X_train_token.append(temp_X)\n",
    "\n",
    "X_test_token = []\n",
    "for sentence in X_test:\n",
    "    temp_X = []\n",
    "    temp_X = okt.morphs(sentence, stem=True) # 토큰화\n",
    "    temp_X = [word for word in temp_X if not word in stopwords] # 불용어 제거\n",
    "    X_test_token.append(temp_X)"
   ]
  },
  {
   "cell_type": "markdown",
   "metadata": {},
   "source": [
    "### 단어길이 추출"
   ]
  },
  {
   "cell_type": "code",
   "execution_count": 18,
   "metadata": {},
   "outputs": [
    {
     "data": {
      "text/plain": [
       "66"
      ]
     },
     "execution_count": 18,
     "metadata": {},
     "output_type": "execute_result"
    }
   ],
   "source": [
    "li_train = []\n",
    "# li_train.append(1)\n",
    "# li_train.append(2)\n",
    "for i in range(len(X_train_token)):\n",
    "   li_train.append(len(X_train_token[i]))\n",
    "max(li_train)\n",
    "\n",
    "li_test = []\n",
    "# li_train.append(1)\n",
    "# li_train.append(2)\n",
    "for i in range(len(X_test_token)):\n",
    "   li_test.append(len(X_test_token[i]))\n",
    "max(li_test)\n"
   ]
  },
  {
   "cell_type": "markdown",
   "metadata": {},
   "source": [
    "### max_words를 35000에서 100으로 줄임(test 길이 중 가장 큰것은 66)"
   ]
  },
  {
   "cell_type": "code",
   "execution_count": 19,
   "metadata": {},
   "outputs": [],
   "source": [
    "from keras.preprocessing.text import Tokenizer\n",
    "max_words = 100\n",
    "tokenizer = Tokenizer(num_words = max_words)\n",
    "tokenizer.fit_on_texts(X_train_token) \n",
    "X_train_token = tokenizer.texts_to_sequences(X_train_token) \n",
    "X_test_token = tokenizer.texts_to_sequences(X_test_token)"
   ]
  },
  {
   "cell_type": "markdown",
   "metadata": {},
   "source": [
    "### One-Hot encoding 2가지 방법 - 2번째 방법 사용 (to_categorize)"
   ]
  },
  {
   "cell_type": "code",
   "execution_count": 20,
   "metadata": {},
   "outputs": [],
   "source": [
    "# 1. \n",
    "import numpy as np\n",
    "y_train_encode = []\n",
    "y_test_encode = []\n",
    "for i in range(len(y_train)):\n",
    "    if y_train.iloc[i] == 1:\n",
    "        y_train_encode.append([0, 0, 1]) \n",
    "    elif y_train.iloc[i] == 0:\n",
    "        y_train_encode.append([0, 1, 0]) \n",
    "    elif y_train.iloc[i] == -1:\n",
    "        y_train_encode.append([1, 0, 0]) \n",
    "        \n",
    "for i in range(len(y_test)):\n",
    "    if y_test.iloc[i] == 1:\n",
    "        y_test_encode.append([0, 0, 1]) \n",
    "    elif y_test.iloc[i] == 0:\n",
    "        y_test_encode.append([0, 1, 0])\n",
    "    elif y_test.iloc[i] == -1:\n",
    "        y_test_encode.append([1, 0, 0]) \n",
    "        \n",
    "y_train_encode=np.array(y_train_encode)\n",
    "y_test_encode=np.array(y_test_encode)"
   ]
  },
  {
   "cell_type": "code",
   "execution_count": 21,
   "metadata": {},
   "outputs": [
    {
     "data": {
      "text/plain": [
       "1022"
      ]
     },
     "execution_count": 21,
     "metadata": {},
     "output_type": "execute_result"
    }
   ],
   "source": [
    "len(y_train_encode)"
   ]
  },
  {
   "cell_type": "code",
   "execution_count": 22,
   "metadata": {},
   "outputs": [],
   "source": [
    "# 2. \n",
    "# to_categorical 방법은 0 1 -1 순서로 인코딩된다!\n",
    "from keras.utils import to_categorical\n",
    "\n",
    "y_train_cata = to_categorical(y_train, num_classes = 3)\n",
    "y_test_cata = to_categorical(y_test, num_classes = 3)"
   ]
  },
  {
   "cell_type": "code",
   "execution_count": 25,
   "metadata": {},
   "outputs": [
    {
     "data": {
      "text/plain": [
       "array([[1., 0., 0.],\n",
       "       [1., 0., 0.],\n",
       "       [1., 0., 0.],\n",
       "       ...,\n",
       "       [0., 1., 0.],\n",
       "       [0., 1., 0.],\n",
       "       [0., 1., 0.]], dtype=float32)"
      ]
     },
     "execution_count": 25,
     "metadata": {},
     "output_type": "execute_result"
    }
   ],
   "source": [
    "y_train_cata"
   ]
  },
  {
   "cell_type": "markdown",
   "metadata": {},
   "source": [
    "### max_len 20 to 100으로 변경 ; 단어 길이 고려"
   ]
  },
  {
   "cell_type": "code",
   "execution_count": 23,
   "metadata": {},
   "outputs": [],
   "source": [
    "max_len = 100 # pad_sequesces이용, 전체 데이터의 길이를 20로 맞춘다\n",
    "X_train = pad_sequences(X_train_token, maxlen=max_len)\n",
    "X_test = pad_sequences(X_test_token, maxlen=max_len)"
   ]
  },
  {
   "cell_type": "markdown",
   "metadata": {},
   "source": [
    "### 모델 저장1\n",
    "import os\n",
    "from tensorflow.keras.callbacks import EarlyStopping, ModelCheckpoint\n",
    "\n",
    "\n",
    "MODEL_DIR = './ModelCheckpoint/'\n",
    "if not os.path.exists(MODEL_DIR):\n",
    "    os.mkdir(MODEL_DIR)\n",
    "    \n",
    "mdpath = './ModelCheckpoint/{epoch:02d}-{val_loss:.4f}.hdf5'\n",
    "mc = ModelCheckpoint(filepath=mdpath,monitor='val_acc',mode='max',verbose=1,save_best_only=True)\n",
    "es = EarlyStopping(monitor='val_loss',patience=10,mode='min',verbose=1)\n",
    "\n",
    "model = Sequential()\n",
    "model.add(Embedding(max_words, 64))\n",
    "model.add(LSTM(128))\n",
    "model.add(Dense(3, activation='softmax'))\n",
    "model.compile(optimizer='rmsprop', loss='categorical_crossentropy', metrics=['accuracy'])\n",
    "history = model.fit(X_train, y_train_cata, epochs=10, batch_size=10, callbacks=[es,mc], validation_split=0.1)"
   ]
  },
  {
   "cell_type": "markdown",
   "metadata": {},
   "source": [
    "### 모델 저장2\n",
    "from keras.models import load_model\n",
    "##### 모델 컴퓨터에 저장\n",
    "model.save('모델이름')\n",
    "##### 모델 불러오기\n",
    "del model # 테스트를 위해 메모리 내의 모델을 삭제\n",
    "model = load_model('모델명')"
   ]
  },
  {
   "cell_type": "markdown",
   "metadata": {},
   "source": [
    "### LSTM 모델"
   ]
  },
  {
   "cell_type": "markdown",
   "metadata": {},
   "source": [
    "### earlystopping과 modelcheckpoint 추가\n",
    "### embedding 64로 변경"
   ]
  },
  {
   "cell_type": "code",
   "execution_count": 30,
   "metadata": {},
   "outputs": [
    {
     "name": "stdout",
     "output_type": "stream",
     "text": [
      "Requirement already satisfied: tensorflow in c:\\users\\09\\anaconda-3\\lib\\site-packages (2.0.0)\n",
      "Requirement already satisfied: numpy<2.0,>=1.16.0 in c:\\users\\09\\anaconda-3\\lib\\site-packages (from tensorflow) (1.18.5)\n",
      "Requirement already satisfied: six>=1.10.0 in c:\\users\\09\\anaconda-3\\lib\\site-packages (from tensorflow) (1.15.0)\n",
      "Requirement already satisfied: tensorflow-estimator<2.1.0,>=2.0.0 in c:\\users\\09\\anaconda-3\\lib\\site-packages (from tensorflow) (2.0.1)\n",
      "Requirement already satisfied: keras-applications>=1.0.8 in c:\\users\\09\\anaconda-3\\lib\\site-packages (from tensorflow) (1.0.8)\n",
      "Requirement already satisfied: astor>=0.6.0 in c:\\users\\09\\anaconda-3\\lib\\site-packages (from tensorflow) (0.8.1)\n",
      "Requirement already satisfied: google-pasta>=0.1.6 in c:\\users\\09\\anaconda-3\\lib\\site-packages (from tensorflow) (0.2.0)\n",
      "Requirement already satisfied: wheel>=0.26 in c:\\users\\09\\anaconda-3\\lib\\site-packages (from tensorflow) (0.35.1)\n",
      "Processing c:\\users\\09\\appdata\\local\\pip\\cache\\wheels\\21\\7f\\02\\420f32a803f7d0967b48dd823da3f558c5166991bfd204eef3\\gast-0.2.2-py3-none-any.whl\n",
      "Requirement already satisfied: absl-py>=0.7.0 in c:\\users\\09\\anaconda-3\\lib\\site-packages (from tensorflow) (0.10.0)\n",
      "Requirement already satisfied: keras-preprocessing>=1.0.5 in c:\\users\\09\\anaconda-3\\lib\\site-packages (from tensorflow) (1.1.2)\n",
      "Requirement already satisfied: tensorboard<2.1.0,>=2.0.0 in c:\\users\\09\\anaconda-3\\lib\\site-packages (from tensorflow) (2.0.2)\n",
      "Requirement already satisfied: termcolor>=1.1.0 in c:\\users\\09\\anaconda-3\\lib\\site-packages (from tensorflow) (1.1.0)\n",
      "Requirement already satisfied: wrapt>=1.11.1 in c:\\users\\09\\anaconda-3\\lib\\site-packages (from tensorflow) (1.11.2)\n",
      "Requirement already satisfied: grpcio>=1.8.6 in c:\\users\\09\\anaconda-3\\lib\\site-packages (from tensorflow) (1.32.0)\n",
      "Requirement already satisfied: protobuf>=3.6.1 in c:\\users\\09\\anaconda-3\\lib\\site-packages (from tensorflow) (3.13.0)\n",
      "Requirement already satisfied: opt-einsum>=2.3.2 in c:\\users\\09\\anaconda-3\\lib\\site-packages (from tensorflow) (3.3.0)\n",
      "Requirement already satisfied: h5py in c:\\users\\09\\anaconda-3\\lib\\site-packages (from keras-applications>=1.0.8->tensorflow) (2.10.0)\n",
      "Requirement already satisfied: markdown>=2.6.8 in c:\\users\\09\\anaconda-3\\lib\\site-packages (from tensorboard<2.1.0,>=2.0.0->tensorflow) (3.2.2)\n",
      "Requirement already satisfied: google-auth-oauthlib<0.5,>=0.4.1 in c:\\users\\09\\anaconda-3\\lib\\site-packages (from tensorboard<2.1.0,>=2.0.0->tensorflow) (0.4.1)\n",
      "Requirement already satisfied: werkzeug>=0.11.15 in c:\\users\\09\\anaconda-3\\lib\\site-packages (from tensorboard<2.1.0,>=2.0.0->tensorflow) (1.0.1)\n",
      "Requirement already satisfied: google-auth<2,>=1.6.3 in c:\\users\\09\\anaconda-3\\lib\\site-packages (from tensorboard<2.1.0,>=2.0.0->tensorflow) (1.21.2)\n",
      "Requirement already satisfied: setuptools>=41.0.0 in c:\\users\\09\\anaconda-3\\lib\\site-packages (from tensorboard<2.1.0,>=2.0.0->tensorflow) (49.6.0.post20200814)\n",
      "Requirement already satisfied: requests<3,>=2.21.0 in c:\\users\\09\\anaconda-3\\lib\\site-packages (from tensorboard<2.1.0,>=2.0.0->tensorflow) (2.24.0)\n",
      "Requirement already satisfied: importlib-metadata; python_version < \"3.8\" in c:\\users\\09\\anaconda-3\\lib\\site-packages (from markdown>=2.6.8->tensorboard<2.1.0,>=2.0.0->tensorflow) (1.7.0)\n",
      "Requirement already satisfied: requests-oauthlib>=0.7.0 in c:\\users\\09\\anaconda-3\\lib\\site-packages (from google-auth-oauthlib<0.5,>=0.4.1->tensorboard<2.1.0,>=2.0.0->tensorflow) (1.3.0)\n",
      "Requirement already satisfied: rsa<5,>=3.1.4; python_version >= \"3.5\" in c:\\users\\09\\anaconda-3\\lib\\site-packages (from google-auth<2,>=1.6.3->tensorboard<2.1.0,>=2.0.0->tensorflow) (4.6)\n",
      "Requirement already satisfied: cachetools<5.0,>=2.0.0 in c:\\users\\09\\anaconda-3\\lib\\site-packages (from google-auth<2,>=1.6.3->tensorboard<2.1.0,>=2.0.0->tensorflow) (4.1.1)\n",
      "Requirement already satisfied: pyasn1-modules>=0.2.1 in c:\\users\\09\\anaconda-3\\lib\\site-packages (from google-auth<2,>=1.6.3->tensorboard<2.1.0,>=2.0.0->tensorflow) (0.2.8)\n",
      "Requirement already satisfied: chardet<4,>=3.0.2 in c:\\users\\09\\anaconda-3\\lib\\site-packages (from requests<3,>=2.21.0->tensorboard<2.1.0,>=2.0.0->tensorflow) (3.0.4)\n",
      "Requirement already satisfied: certifi>=2017.4.17 in c:\\users\\09\\anaconda-3\\lib\\site-packages (from requests<3,>=2.21.0->tensorboard<2.1.0,>=2.0.0->tensorflow) (2020.6.20)\n",
      "Requirement already satisfied: urllib3!=1.25.0,!=1.25.1,<1.26,>=1.21.1 in c:\\users\\09\\anaconda-3\\lib\\site-packages (from requests<3,>=2.21.0->tensorboard<2.1.0,>=2.0.0->tensorflow) (1.25.10)\n",
      "Requirement already satisfied: idna<3,>=2.5 in c:\\users\\09\\anaconda-3\\lib\\site-packages (from requests<3,>=2.21.0->tensorboard<2.1.0,>=2.0.0->tensorflow) (2.10)\n",
      "Requirement already satisfied: zipp>=0.5 in c:\\users\\09\\anaconda-3\\lib\\site-packages (from importlib-metadata; python_version < \"3.8\"->markdown>=2.6.8->tensorboard<2.1.0,>=2.0.0->tensorflow) (3.1.0)\n",
      "Requirement already satisfied: oauthlib>=3.0.0 in c:\\users\\09\\anaconda-3\\lib\\site-packages (from requests-oauthlib>=0.7.0->google-auth-oauthlib<0.5,>=0.4.1->tensorboard<2.1.0,>=2.0.0->tensorflow) (3.1.0)\n",
      "Requirement already satisfied: pyasn1>=0.1.3 in c:\\users\\09\\anaconda-3\\lib\\site-packages (from rsa<5,>=3.1.4; python_version >= \"3.5\"->google-auth<2,>=1.6.3->tensorboard<2.1.0,>=2.0.0->tensorflow) (0.4.8)\n",
      "Installing collected packages: gast\n",
      "  Attempting uninstall: gast\n",
      "    Found existing installation: gast 0.4.0\n",
      "    Uninstalling gast-0.4.0:\n",
      "      Successfully uninstalled gast-0.4.0\n",
      "Successfully installed gast-0.2.2\n"
     ]
    }
   ],
   "source": [
    "!pip install tensorflow"
   ]
  },
  {
   "cell_type": "code",
   "execution_count": 24,
   "metadata": {},
   "outputs": [
    {
     "name": "stdout",
     "output_type": "stream",
     "text": [
      "Epoch 1/10\n",
      "110/110 [==============================] - ETA: 0s - loss: 1.0183 - accuracy: 0.5259WARNING:tensorflow:Can save best model only with val_acc available, skipping.\n",
      "110/110 [==============================] - 4s 41ms/step - loss: 1.0183 - accuracy: 0.5259 - val_loss: 0.9414 - val_accuracy: 0.5447\n",
      "Epoch 2/10\n",
      "109/110 [============================>.] - ETA: 0s - loss: 0.9048 - accuracy: 0.5734WARNING:tensorflow:Can save best model only with val_acc available, skipping.\n",
      "110/110 [==============================] - 4s 36ms/step - loss: 0.9051 - accuracy: 0.5723 - val_loss: 0.8160 - val_accuracy: 0.6423\n",
      "Epoch 3/10\n",
      "109/110 [============================>.] - ETA: 0s - loss: 0.8494 - accuracy: 0.5890WARNING:tensorflow:Can save best model only with val_acc available, skipping.\n",
      "110/110 [==============================] - 4s 37ms/step - loss: 0.8490 - accuracy: 0.5896 - val_loss: 0.7696 - val_accuracy: 0.7154\n",
      "Epoch 4/10\n",
      "110/110 [==============================] - ETA: 0s - loss: 0.8237 - accuracy: 0.6069WARNING:tensorflow:Can save best model only with val_acc available, skipping.\n",
      "110/110 [==============================] - 4s 37ms/step - loss: 0.8237 - accuracy: 0.6069 - val_loss: 0.7229 - val_accuracy: 0.7317\n",
      "Epoch 5/10\n",
      "110/110 [==============================] - ETA: 0s - loss: 0.8026 - accuracy: 0.6142WARNING:tensorflow:Can save best model only with val_acc available, skipping.\n",
      "110/110 [==============================] - 4s 36ms/step - loss: 0.8026 - accuracy: 0.6142 - val_loss: 0.6940 - val_accuracy: 0.6829\n",
      "Epoch 6/10\n",
      "110/110 [==============================] - ETA: 0s - loss: 0.7970 - accuracy: 0.6278WARNING:tensorflow:Can save best model only with val_acc available, skipping.\n",
      "110/110 [==============================] - 5s 41ms/step - loss: 0.7970 - accuracy: 0.6278 - val_loss: 0.7723 - val_accuracy: 0.6992\n",
      "Epoch 7/10\n",
      "109/110 [============================>.] - ETA: 0s - loss: 0.7814 - accuracy: 0.6257WARNING:tensorflow:Can save best model only with val_acc available, skipping.\n",
      "110/110 [==============================] - 5s 41ms/step - loss: 0.7799 - accuracy: 0.6269 - val_loss: 0.7362 - val_accuracy: 0.6911\n",
      "Epoch 8/10\n",
      "109/110 [============================>.] - ETA: 0s - loss: 0.7739 - accuracy: 0.6367WARNING:tensorflow:Can save best model only with val_acc available, skipping.\n",
      "110/110 [==============================] - 5s 41ms/step - loss: 0.7742 - accuracy: 0.6351 - val_loss: 0.8292 - val_accuracy: 0.6423\n",
      "Epoch 9/10\n",
      "109/110 [============================>.] - ETA: 0s - loss: 0.7692 - accuracy: 0.6303WARNING:tensorflow:Can save best model only with val_acc available, skipping.\n",
      "110/110 [==============================] - 5s 41ms/step - loss: 0.7688 - accuracy: 0.6297 - val_loss: 0.7660 - val_accuracy: 0.6829\n",
      "Epoch 00009: early stopping\n"
     ]
    }
   ],
   "source": [
    "from tensorflow.keras.callbacks import EarlyStopping, ModelCheckpoint\n",
    "es = EarlyStopping(monitor='val_loss',mode='min',verbose=1,patience=4)\n",
    "mc = ModelCheckpoint('best_model.h5',monitor='val_acc',mode='max',verbose=1,save_best_only=True)\n",
    "\n",
    "model = Sequential()\n",
    "model.add(Embedding(max_words, 64))\n",
    "#LSTM에 activation 추가\n",
    "model.add(LSTM(128, activation='tanh'))\n",
    "model.add(Dense(3, activation='softmax'))\n",
    "model.compile(optimizer='rmsprop', loss='categorical_crossentropy', metrics=['accuracy'])\n",
    "history = model.fit(X_train, y_train_cata, epochs=10, batch_size=10, callbacks=[es,mc], validation_split=0.1)"
   ]
  },
  {
   "cell_type": "code",
   "execution_count": 25,
   "metadata": {},
   "outputs": [
    {
     "name": "stdout",
     "output_type": "stream",
     "text": [
      "9/9 [==============================] - 0s 14ms/step - loss: 0.9464 - accuracy: 0.6014\n",
      "\n",
      " 테스트 정확도 : 60.14%\n"
     ]
    }
   ],
   "source": [
    "print(\"\\n 테스트 정확도 : {:.2f}%\".format(model.evaluate(X_test,y_test_cata)[1]*100))"
   ]
  },
  {
   "cell_type": "markdown",
   "metadata": {},
   "source": [
    "## KFOLD 검증"
   ]
  },
  {
   "cell_type": "code",
   "execution_count": 27,
   "metadata": {},
   "outputs": [],
   "source": [
    "#seed 값 설정\n",
    "seed = 0\n",
    "np.random.seed(seed)\n",
    "#tf.set_random_seed(seed)"
   ]
  },
  {
   "cell_type": "code",
   "execution_count": 28,
   "metadata": {},
   "outputs": [],
   "source": [
    "X=X_train\n",
    "Y=y_train_cata"
   ]
  },
  {
   "cell_type": "code",
   "execution_count": 29,
   "metadata": {},
   "outputs": [],
   "source": [
    "#10개의 파일로 쪼갬\n",
    "n_fold = 10"
   ]
  },
  {
   "cell_type": "code",
   "execution_count": 30,
   "metadata": {},
   "outputs": [],
   "source": [
    "skf = KFold(n_splits=n_fold, shuffle=True,random_state=seed)"
   ]
  },
  {
   "cell_type": "code",
   "execution_count": 31,
   "metadata": {},
   "outputs": [],
   "source": [
    "#빈 accuracy 배열\n",
    "accuracy =[]"
   ]
  },
  {
   "cell_type": "code",
   "execution_count": null,
   "metadata": {},
   "outputs": [
    {
     "name": "stdout",
     "output_type": "stream",
     "text": [
      "Epoch 1/10\n",
      "99/99 [==============================] - ETA: 0s - loss: 1.0102 - accuracy: 0.5248WARNING:tensorflow:Can save best model only with val_acc available, skipping.\n",
      "99/99 [==============================] - 4s 42ms/step - loss: 1.0102 - accuracy: 0.5248 - val_loss: 1.0309 - val_accuracy: 0.5364\n",
      "Epoch 2/10\n",
      "98/99 [============================>.] - ETA: 0s - loss: 0.9172 - accuracy: 0.5663WARNING:tensorflow:Can save best model only with val_acc available, skipping.\n",
      "99/99 [==============================] - 4s 36ms/step - loss: 0.9179 - accuracy: 0.5672 - val_loss: 0.8629 - val_accuracy: 0.6909\n",
      "Epoch 3/10\n",
      "99/99 [==============================] - ETA: 0s - loss: 0.8578 - accuracy: 0.6006WARNING:tensorflow:Can save best model only with val_acc available, skipping.\n",
      "99/99 [==============================] - 4s 36ms/step - loss: 0.8578 - accuracy: 0.6006 - val_loss: 0.7755 - val_accuracy: 0.6727\n",
      "Epoch 4/10\n",
      "99/99 [==============================] - ETA: 0s - loss: 0.8284 - accuracy: 0.6077WARNING:tensorflow:Can save best model only with val_acc available, skipping.\n",
      "99/99 [==============================] - 4s 37ms/step - loss: 0.8284 - accuracy: 0.6077 - val_loss: 0.7182 - val_accuracy: 0.6909\n",
      "Epoch 5/10\n",
      "98/99 [============================>.] - ETA: 0s - loss: 0.7892 - accuracy: 0.6296WARNING:tensorflow:Can save best model only with val_acc available, skipping.\n",
      "99/99 [==============================] - 4s 36ms/step - loss: 0.7931 - accuracy: 0.6279 - val_loss: 0.7625 - val_accuracy: 0.6455\n",
      "Epoch 6/10\n",
      "98/99 [============================>.] - ETA: 0s - loss: 0.7922 - accuracy: 0.6347WARNING:tensorflow:Can save best model only with val_acc available, skipping.\n",
      "99/99 [==============================] - 4s 36ms/step - loss: 0.7909 - accuracy: 0.6350 - val_loss: 0.7483 - val_accuracy: 0.6636\n",
      "Epoch 7/10\n",
      "99/99 [==============================] - ETA: 0s - loss: 0.7813 - accuracy: 0.6289WARNING:tensorflow:Can save best model only with val_acc available, skipping.\n",
      "99/99 [==============================] - 4s 40ms/step - loss: 0.7813 - accuracy: 0.6289 - val_loss: 0.8250 - val_accuracy: 0.6545\n",
      "Epoch 8/10\n",
      "98/99 [============================>.] - ETA: 0s - loss: 0.7753 - accuracy: 0.6449WARNING:tensorflow:Can save best model only with val_acc available, skipping.\n",
      "99/99 [==============================] - 4s 41ms/step - loss: 0.7734 - accuracy: 0.6451 - val_loss: 0.7962 - val_accuracy: 0.6545\n",
      "Epoch 00008: early stopping\n",
      "4/4 [==============================] - 0s 11ms/step - loss: 0.8938 - accuracy: 0.6016\n",
      "Epoch 1/10\n",
      "99/99 [==============================] - ETA: 0s - loss: 1.0140 - accuracy: 0.5319WARNING:tensorflow:Can save best model only with val_acc available, skipping.\n",
      "99/99 [==============================] - 5s 47ms/step - loss: 1.0140 - accuracy: 0.5319 - val_loss: 1.0520 - val_accuracy: 0.5364\n",
      "Epoch 2/10\n",
      "99/99 [==============================] - ETA: 0s - loss: 0.9166 - accuracy: 0.5602WARNING:tensorflow:Can save best model only with val_acc available, skipping.\n",
      "99/99 [==============================] - 4s 41ms/step - loss: 0.9166 - accuracy: 0.5602 - val_loss: 2.0141 - val_accuracy: 0.5364\n",
      "Epoch 3/10\n",
      "98/99 [============================>.] - ETA: 0s - loss: 0.8686 - accuracy: 0.6051WARNING:tensorflow:Can save best model only with val_acc available, skipping.\n",
      "99/99 [==============================] - 4s 41ms/step - loss: 0.8657 - accuracy: 0.6077 - val_loss: 0.7362 - val_accuracy: 0.7182\n",
      "Epoch 4/10\n",
      "99/99 [==============================] - ETA: 0s - loss: 0.8242 - accuracy: 0.6077WARNING:tensorflow:Can save best model only with val_acc available, skipping.\n",
      "99/99 [==============================] - 4s 43ms/step - loss: 0.8242 - accuracy: 0.6077 - val_loss: 0.6666 - val_accuracy: 0.7091\n",
      "Epoch 5/10\n",
      "99/99 [==============================] - ETA: 0s - loss: 0.8060 - accuracy: 0.6259WARNING:tensorflow:Can save best model only with val_acc available, skipping.\n",
      "99/99 [==============================] - 4s 41ms/step - loss: 0.8060 - accuracy: 0.6259 - val_loss: 0.7105 - val_accuracy: 0.6909\n",
      "Epoch 6/10\n",
      "98/99 [============================>.] - ETA: 0s - loss: 0.7983 - accuracy: 0.6357WARNING:tensorflow:Can save best model only with val_acc available, skipping.\n",
      "99/99 [==============================] - 4s 43ms/step - loss: 0.7980 - accuracy: 0.6360 - val_loss: 0.7189 - val_accuracy: 0.6636\n",
      "Epoch 7/10\n",
      "99/99 [==============================] - ETA: 0s - loss: 0.7828 - accuracy: 0.6411WARNING:tensorflow:Can save best model only with val_acc available, skipping.\n",
      "99/99 [==============================] - 4s 41ms/step - loss: 0.7828 - accuracy: 0.6411 - val_loss: 0.7303 - val_accuracy: 0.6727\n",
      "Epoch 8/10\n",
      "99/99 [==============================] - ETA: 0s - loss: 0.7683 - accuracy: 0.6380WARNING:tensorflow:Can save best model only with val_acc available, skipping.\n",
      "99/99 [==============================] - 4s 39ms/step - loss: 0.7683 - accuracy: 0.6380 - val_loss: 0.7433 - val_accuracy: 0.6727\n",
      "Epoch 00008: early stopping\n",
      "4/4 [==============================] - 0s 11ms/step - loss: 0.8993 - accuracy: 0.5935\n",
      "Epoch 1/10\n",
      "99/99 [==============================] - ETA: 0s - loss: 1.0301 - accuracy: 0.5202WARNING:tensorflow:Can save best model only with val_acc available, skipping.\n",
      "99/99 [==============================] - 4s 39ms/step - loss: 1.0301 - accuracy: 0.5202 - val_loss: 1.0320 - val_accuracy: 0.5455\n",
      "Epoch 2/10\n",
      "99/99 [==============================] - ETA: 0s - loss: 0.9633 - accuracy: 0.5657WARNING:tensorflow:Can save best model only with val_acc available, skipping.\n",
      "99/99 [==============================] - 3s 35ms/step - loss: 0.9633 - accuracy: 0.5657 - val_loss: 0.8390 - val_accuracy: 0.6727\n",
      "Epoch 3/10\n",
      "99/99 [==============================] - ETA: 0s - loss: 1.0671 - accuracy: 0.5485WARNING:tensorflow:Can save best model only with val_acc available, skipping.\n",
      "99/99 [==============================] - 3s 35ms/step - loss: 1.0671 - accuracy: 0.5485 - val_loss: 0.8704 - val_accuracy: 0.7091\n",
      "Epoch 4/10\n",
      "99/99 [==============================] - ETA: 0s - loss: 0.8497 - accuracy: 0.5899WARNING:tensorflow:Can save best model only with val_acc available, skipping.\n",
      "99/99 [==============================] - 3s 35ms/step - loss: 0.8497 - accuracy: 0.5899 - val_loss: 0.7736 - val_accuracy: 0.7091\n",
      "Epoch 5/10\n",
      "99/99 [==============================] - ETA: 0s - loss: 0.8173 - accuracy: 0.6111WARNING:tensorflow:Can save best model only with val_acc available, skipping.\n",
      "99/99 [==============================] - 3s 35ms/step - loss: 0.8173 - accuracy: 0.6111 - val_loss: 0.7301 - val_accuracy: 0.7091\n",
      "Epoch 6/10\n",
      "99/99 [==============================] - ETA: 0s - loss: 0.8112 - accuracy: 0.6253WARNING:tensorflow:Can save best model only with val_acc available, skipping.\n",
      "99/99 [==============================] - 3s 35ms/step - loss: 0.8112 - accuracy: 0.6253 - val_loss: 0.7549 - val_accuracy: 0.7000\n",
      "Epoch 7/10\n",
      "99/99 [==============================] - ETA: 0s - loss: 0.7846 - accuracy: 0.6232WARNING:tensorflow:Can save best model only with val_acc available, skipping.\n",
      "99/99 [==============================] - 3s 35ms/step - loss: 0.7846 - accuracy: 0.6232 - val_loss: 0.7627 - val_accuracy: 0.7091\n",
      "Epoch 8/10\n",
      "99/99 [==============================] - ETA: 0s - loss: 0.7804 - accuracy: 0.6242WARNING:tensorflow:Can save best model only with val_acc available, skipping.\n",
      "99/99 [==============================] - 4s 35ms/step - loss: 0.7804 - accuracy: 0.6242 - val_loss: 0.7663 - val_accuracy: 0.7000\n",
      "Epoch 9/10\n",
      "99/99 [==============================] - ETA: 0s - loss: 0.7665 - accuracy: 0.6333WARNING:tensorflow:Can save best model only with val_acc available, skipping.\n",
      "99/99 [==============================] - 3s 35ms/step - loss: 0.7665 - accuracy: 0.6333 - val_loss: 0.7985 - val_accuracy: 0.7000\n",
      "Epoch 00009: early stopping\n",
      "4/4 [==============================] - 0s 11ms/step - loss: 0.8926 - accuracy: 0.5902\n",
      "Epoch 1/10\n",
      "99/99 [==============================] - ETA: 0s - loss: 1.0027 - accuracy: 0.5242WARNING:tensorflow:Can save best model only with val_acc available, skipping.\n",
      "99/99 [==============================] - 4s 42ms/step - loss: 1.0027 - accuracy: 0.5242 - val_loss: 0.9641 - val_accuracy: 0.5636\n",
      "Epoch 2/10\n"
     ]
    },
    {
     "name": "stdout",
     "output_type": "stream",
     "text": [
      "99/99 [==============================] - ETA: 0s - loss: 0.9215 - accuracy: 0.5646WARNING:tensorflow:Can save best model only with val_acc available, skipping.\n",
      "99/99 [==============================] - 4s 36ms/step - loss: 0.9215 - accuracy: 0.5646 - val_loss: 0.7862 - val_accuracy: 0.7000\n",
      "Epoch 3/10\n",
      "99/99 [==============================] - ETA: 0s - loss: 0.8513 - accuracy: 0.6010WARNING:tensorflow:Can save best model only with val_acc available, skipping.\n",
      "99/99 [==============================] - 4s 35ms/step - loss: 0.8513 - accuracy: 0.6010 - val_loss: 0.7131 - val_accuracy: 0.7000\n",
      "Epoch 4/10\n",
      "98/99 [============================>.] - ETA: 0s - loss: 0.8234 - accuracy: 0.6102WARNING:tensorflow:Can save best model only with val_acc available, skipping.\n",
      "99/99 [==============================] - 4s 38ms/step - loss: 0.8238 - accuracy: 0.6091 - val_loss: 0.6587 - val_accuracy: 0.7455\n",
      "Epoch 5/10\n",
      "99/99 [==============================] - ETA: 0s - loss: 0.8035 - accuracy: 0.6313WARNING:tensorflow:Can save best model only with val_acc available, skipping.\n",
      "99/99 [==============================] - 4s 36ms/step - loss: 0.8035 - accuracy: 0.6313 - val_loss: 0.7485 - val_accuracy: 0.7091\n",
      "Epoch 6/10\n",
      "99/99 [==============================] - ETA: 0s - loss: 0.7876 - accuracy: 0.6303WARNING:tensorflow:Can save best model only with val_acc available, skipping.\n",
      "99/99 [==============================] - 4s 36ms/step - loss: 0.7876 - accuracy: 0.6303 - val_loss: 0.7338 - val_accuracy: 0.7000\n",
      "Epoch 7/10\n",
      "99/99 [==============================] - ETA: 0s - loss: 0.9583 - accuracy: 0.6172WARNING:tensorflow:Can save best model only with val_acc available, skipping.\n",
      "99/99 [==============================] - 4s 36ms/step - loss: 0.9583 - accuracy: 0.6172 - val_loss: 0.6800 - val_accuracy: 0.7455\n",
      "Epoch 8/10\n",
      "99/99 [==============================] - ETA: 0s - loss: 0.7764 - accuracy: 0.6404WARNING:tensorflow:Can save best model only with val_acc available, skipping.\n",
      "99/99 [==============================] - 4s 36ms/step - loss: 0.7764 - accuracy: 0.6404 - val_loss: 0.7812 - val_accuracy: 0.6545\n",
      "Epoch 00008: early stopping\n",
      "4/4 [==============================] - 0s 80ms/step - loss: 0.9497 - accuracy: 0.5574\n",
      "Epoch 1/10\n",
      "99/99 [==============================] - ETA: 0s - loss: 0.9922 - accuracy: 0.5354WARNING:tensorflow:Can save best model only with val_acc available, skipping.\n",
      "99/99 [==============================] - 4s 39ms/step - loss: 0.9922 - accuracy: 0.5354 - val_loss: 0.9820 - val_accuracy: 0.5636\n",
      "Epoch 2/10\n",
      "99/99 [==============================] - ETA: 0s - loss: 0.9181 - accuracy: 0.5677WARNING:tensorflow:Can save best model only with val_acc available, skipping.\n",
      "99/99 [==============================] - 3s 34ms/step - loss: 0.9181 - accuracy: 0.5677 - val_loss: 0.8316 - val_accuracy: 0.6909\n",
      "Epoch 3/10\n",
      "99/99 [==============================] - ETA: 0s - loss: 0.9898 - accuracy: 0.5919WARNING:tensorflow:Can save best model only with val_acc available, skipping.\n",
      "99/99 [==============================] - 3s 35ms/step - loss: 0.9898 - accuracy: 0.5919 - val_loss: 0.7702 - val_accuracy: 0.7000\n",
      "Epoch 4/10\n",
      "99/99 [==============================] - ETA: 0s - loss: 0.8220 - accuracy: 0.6172WARNING:tensorflow:Can save best model only with val_acc available, skipping.\n",
      "99/99 [==============================] - 3s 34ms/step - loss: 0.8220 - accuracy: 0.6172 - val_loss: 0.6981 - val_accuracy: 0.7545\n",
      "Epoch 5/10\n",
      "99/99 [==============================] - ETA: 0s - loss: 0.8001 - accuracy: 0.6131WARNING:tensorflow:Can save best model only with val_acc available, skipping.\n",
      "99/99 [==============================] - 3s 35ms/step - loss: 0.8001 - accuracy: 0.6131 - val_loss: 0.7024 - val_accuracy: 0.7364\n",
      "Epoch 6/10\n",
      "99/99 [==============================] - ETA: 0s - loss: 0.7874 - accuracy: 0.6475WARNING:tensorflow:Can save best model only with val_acc available, skipping.\n",
      "99/99 [==============================] - 3s 35ms/step - loss: 0.7874 - accuracy: 0.6475 - val_loss: 0.7371 - val_accuracy: 0.6909\n",
      "Epoch 7/10\n",
      "99/99 [==============================] - ETA: 0s - loss: 0.7796 - accuracy: 0.6354WARNING:tensorflow:Can save best model only with val_acc available, skipping.\n",
      "99/99 [==============================] - 3s 35ms/step - loss: 0.7796 - accuracy: 0.6354 - val_loss: 0.7637 - val_accuracy: 0.6818\n",
      "Epoch 8/10\n",
      "99/99 [==============================] - ETA: 0s - loss: 0.7727 - accuracy: 0.6434WARNING:tensorflow:Can save best model only with val_acc available, skipping.\n",
      "99/99 [==============================] - 3s 35ms/step - loss: 0.7727 - accuracy: 0.6434 - val_loss: 0.7535 - val_accuracy: 0.7091\n",
      "Epoch 00008: early stopping\n",
      "4/4 [==============================] - 0s 11ms/step - loss: 0.9684 - accuracy: 0.5902\n",
      "Epoch 1/10\n",
      "98/99 [============================>.] - ETA: 0s - loss: 1.0054 - accuracy: 0.5347WARNING:tensorflow:Can save best model only with val_acc available, skipping.\n",
      "99/99 [==============================] - 4s 39ms/step - loss: 1.0059 - accuracy: 0.5313 - val_loss: 1.0064 - val_accuracy: 0.5545\n",
      "Epoch 2/10\n",
      "99/99 [==============================] - ETA: 0s - loss: 0.9142 - accuracy: 0.5636WARNING:tensorflow:Can save best model only with val_acc available, skipping.\n",
      "99/99 [==============================] - 3s 35ms/step - loss: 0.9142 - accuracy: 0.5636 - val_loss: 0.8538 - val_accuracy: 0.6727\n",
      "Epoch 3/10\n",
      "99/99 [==============================] - ETA: 0s - loss: 0.9163 - accuracy: 0.6030WARNING:tensorflow:Can save best model only with val_acc available, skipping.\n",
      "99/99 [==============================] - 3s 35ms/step - loss: 0.9163 - accuracy: 0.6030 - val_loss: 0.7447 - val_accuracy: 0.7091\n",
      "Epoch 4/10\n",
      "98/99 [============================>.] - ETA: 0s - loss: 0.8293 - accuracy: 0.5980WARNING:tensorflow:Can save best model only with val_acc available, skipping.\n",
      "99/99 [==============================] - 4s 38ms/step - loss: 0.8272 - accuracy: 0.5990 - val_loss: 0.7516 - val_accuracy: 0.7273\n",
      "Epoch 5/10\n",
      "98/99 [============================>.] - ETA: 0s - loss: 0.8151 - accuracy: 0.6143WARNING:tensorflow:Can save best model only with val_acc available, skipping.\n",
      "99/99 [==============================] - 4s 36ms/step - loss: 0.8174 - accuracy: 0.6131 - val_loss: 0.7175 - val_accuracy: 0.7182\n",
      "Epoch 6/10\n",
      "99/99 [==============================] - ETA: 0s - loss: 0.8051 - accuracy: 0.6263WARNING:tensorflow:Can save best model only with val_acc available, skipping.\n",
      "99/99 [==============================] - 3s 35ms/step - loss: 0.8051 - accuracy: 0.6263 - val_loss: 0.7447 - val_accuracy: 0.7091\n",
      "Epoch 7/10\n",
      "99/99 [==============================] - ETA: 0s - loss: 0.7931 - accuracy: 0.6182WARNING:tensorflow:Can save best model only with val_acc available, skipping.\n",
      "99/99 [==============================] - 4s 36ms/step - loss: 0.7931 - accuracy: 0.6182 - val_loss: 0.7300 - val_accuracy: 0.7273\n",
      "Epoch 8/10\n",
      "99/99 [==============================] - ETA: 0s - loss: 0.7792 - accuracy: 0.6222WARNING:tensorflow:Can save best model only with val_acc available, skipping.\n",
      "99/99 [==============================] - 3s 35ms/step - loss: 0.7792 - accuracy: 0.6222 - val_loss: 0.7355 - val_accuracy: 0.7182\n",
      "Epoch 9/10\n",
      "99/99 [==============================] - ETA: 0s - loss: 0.7704 - accuracy: 0.6364WARNING:tensorflow:Can save best model only with val_acc available, skipping.\n",
      "99/99 [==============================] - 3s 35ms/step - loss: 0.7704 - accuracy: 0.6364 - val_loss: 0.8000 - val_accuracy: 0.6636\n",
      "Epoch 00009: early stopping\n",
      "4/4 [==============================] - 0s 11ms/step - loss: 0.8387 - accuracy: 0.5984\n",
      "Epoch 1/10\n",
      "99/99 [==============================] - ETA: 0s - loss: 1.0142 - accuracy: 0.5222WARNING:tensorflow:Can save best model only with val_acc available, skipping.\n",
      "99/99 [==============================] - 4s 42ms/step - loss: 1.0142 - accuracy: 0.5222 - val_loss: 0.9803 - val_accuracy: 0.5455\n",
      "Epoch 2/10\n",
      "99/99 [==============================] - ETA: 0s - loss: 0.9177 - accuracy: 0.5545WARNING:tensorflow:Can save best model only with val_acc available, skipping.\n",
      "99/99 [==============================] - 4s 36ms/step - loss: 0.9177 - accuracy: 0.5545 - val_loss: 0.8632 - val_accuracy: 0.6273\n",
      "Epoch 3/10\n"
     ]
    },
    {
     "name": "stdout",
     "output_type": "stream",
     "text": [
      "99/99 [==============================] - ETA: 0s - loss: 0.8789 - accuracy: 0.5798WARNING:tensorflow:Can save best model only with val_acc available, skipping.\n",
      "99/99 [==============================] - 4s 36ms/step - loss: 0.8789 - accuracy: 0.5798 - val_loss: 0.7379 - val_accuracy: 0.6818\n",
      "Epoch 4/10\n",
      "98/99 [============================>.] - ETA: 0s - loss: 0.8341 - accuracy: 0.6010WARNING:tensorflow:Can save best model only with val_acc available, skipping.\n",
      "99/99 [==============================] - 4s 41ms/step - loss: 0.8373 - accuracy: 0.5980 - val_loss: 0.7164 - val_accuracy: 0.7091\n",
      "Epoch 5/10\n",
      "99/99 [==============================] - ETA: 0s - loss: 0.8082 - accuracy: 0.6253WARNING:tensorflow:Can save best model only with val_acc available, skipping.\n",
      "99/99 [==============================] - 4s 37ms/step - loss: 0.8082 - accuracy: 0.6253 - val_loss: 0.7086 - val_accuracy: 0.7000\n",
      "Epoch 6/10\n",
      "99/99 [==============================] - ETA: 0s - loss: 0.8378 - accuracy: 0.6232WARNING:tensorflow:Can save best model only with val_acc available, skipping.\n",
      "99/99 [==============================] - 4s 36ms/step - loss: 0.8378 - accuracy: 0.6232 - val_loss: 0.8312 - val_accuracy: 0.6000\n",
      "Epoch 7/10\n",
      "99/99 [==============================] - ETA: 0s - loss: 0.7840 - accuracy: 0.6293WARNING:tensorflow:Can save best model only with val_acc available, skipping.\n",
      "99/99 [==============================] - 4s 36ms/step - loss: 0.7840 - accuracy: 0.6293 - val_loss: 0.7782 - val_accuracy: 0.6818\n",
      "Epoch 8/10\n",
      "99/99 [==============================] - ETA: 0s - loss: 0.7709 - accuracy: 0.6505WARNING:tensorflow:Can save best model only with val_acc available, skipping.\n",
      "99/99 [==============================] - 4s 36ms/step - loss: 0.7709 - accuracy: 0.6505 - val_loss: 0.7772 - val_accuracy: 0.6364\n",
      "Epoch 9/10\n",
      "99/99 [==============================] - ETA: 0s - loss: 0.8163 - accuracy: 0.6333WARNING:tensorflow:Can save best model only with val_acc available, skipping.\n",
      "99/99 [==============================] - 4s 37ms/step - loss: 0.8163 - accuracy: 0.6333 - val_loss: 3.6943 - val_accuracy: 0.5455\n",
      "Epoch 00009: early stopping\n",
      "4/4 [==============================] - 0s 12ms/step - loss: 3.0226 - accuracy: 0.5574\n",
      "Epoch 1/10\n",
      "99/99 [==============================] - ETA: 0s - loss: 1.0258 - accuracy: 0.5313WARNING:tensorflow:Can save best model only with val_acc available, skipping.\n",
      "99/99 [==============================] - 4s 38ms/step - loss: 1.0258 - accuracy: 0.5313 - val_loss: 1.0092 - val_accuracy: 0.5364\n",
      "Epoch 2/10\n",
      "99/99 [==============================] - ETA: 0s - loss: 0.9288 - accuracy: 0.5515WARNING:tensorflow:Can save best model only with val_acc available, skipping.\n",
      "99/99 [==============================] - 3s 35ms/step - loss: 0.9288 - accuracy: 0.5515 - val_loss: 0.8577 - val_accuracy: 0.6273\n",
      "Epoch 3/10\n",
      "99/99 [==============================] - ETA: 0s - loss: 0.8642 - accuracy: 0.6030WARNING:tensorflow:Can save best model only with val_acc available, skipping.\n",
      "99/99 [==============================] - 3s 35ms/step - loss: 0.8642 - accuracy: 0.6030 - val_loss: 0.7948 - val_accuracy: 0.6818\n",
      "Epoch 4/10\n",
      "99/99 [==============================] - ETA: 0s - loss: 0.8364 - accuracy: 0.6182WARNING:tensorflow:Can save best model only with val_acc available, skipping.\n",
      "99/99 [==============================] - 3s 35ms/step - loss: 0.8364 - accuracy: 0.6182 - val_loss: 0.7722 - val_accuracy: 0.6545\n",
      "Epoch 5/10\n",
      "99/99 [==============================] - ETA: 0s - loss: 0.8183 - accuracy: 0.6111WARNING:tensorflow:Can save best model only with val_acc available, skipping.\n",
      "99/99 [==============================] - 3s 35ms/step - loss: 0.8183 - accuracy: 0.6111 - val_loss: 0.7532 - val_accuracy: 0.6636\n",
      "Epoch 6/10\n",
      "99/99 [==============================] - ETA: 0s - loss: 0.8021 - accuracy: 0.6192WARNING:tensorflow:Can save best model only with val_acc available, skipping.\n",
      "99/99 [==============================] - 3s 35ms/step - loss: 0.8021 - accuracy: 0.6192 - val_loss: 0.8459 - val_accuracy: 0.6364\n",
      "Epoch 7/10\n",
      "99/99 [==============================] - ETA: 0s - loss: 0.7809 - accuracy: 0.6374WARNING:tensorflow:Can save best model only with val_acc available, skipping.\n",
      "99/99 [==============================] - 3s 35ms/step - loss: 0.7809 - accuracy: 0.6374 - val_loss: 0.8094 - val_accuracy: 0.6727\n",
      "Epoch 8/10\n",
      "99/99 [==============================] - ETA: 0s - loss: 0.7721 - accuracy: 0.6333WARNING:tensorflow:Can save best model only with val_acc available, skipping.\n",
      "99/99 [==============================] - 3s 35ms/step - loss: 0.7721 - accuracy: 0.6333 - val_loss: 0.8094 - val_accuracy: 0.6545\n",
      "Epoch 9/10\n",
      "99/99 [==============================] - ETA: 0s - loss: 0.7630 - accuracy: 0.6374WARNING:tensorflow:Can save best model only with val_acc available, skipping.\n",
      "99/99 [==============================] - 3s 35ms/step - loss: 0.7630 - accuracy: 0.6374 - val_loss: 0.7981 - val_accuracy: 0.6364\n",
      "Epoch 00009: early stopping\n",
      "4/4 [==============================] - 0s 11ms/step - loss: 0.8017 - accuracy: 0.5984\n",
      "Epoch 1/10\n",
      "99/99 [==============================] - ETA: 0s - loss: 1.0121 - accuracy: 0.5303WARNING:tensorflow:Can save best model only with val_acc available, skipping.\n",
      "99/99 [==============================] - 4s 38ms/step - loss: 1.0121 - accuracy: 0.5303 - val_loss: 0.9647 - val_accuracy: 0.5455\n",
      "Epoch 2/10\n",
      "99/99 [==============================] - ETA: 0s - loss: 0.9191 - accuracy: 0.5566WARNING:tensorflow:Can save best model only with val_acc available, skipping.\n",
      "99/99 [==============================] - 3s 35ms/step - loss: 0.9191 - accuracy: 0.5566 - val_loss: 0.8210 - val_accuracy: 0.6455\n",
      "Epoch 3/10\n",
      "99/99 [==============================] - ETA: 0s - loss: 0.8577 - accuracy: 0.5960WARNING:tensorflow:Can save best model only with val_acc available, skipping.\n",
      "99/99 [==============================] - 3s 35ms/step - loss: 0.8577 - accuracy: 0.5960 - val_loss: 0.7859 - val_accuracy: 0.7000\n",
      "Epoch 4/10\n",
      "99/99 [==============================] - ETA: 0s - loss: 0.8265 - accuracy: 0.6091WARNING:tensorflow:Can save best model only with val_acc available, skipping.\n",
      "99/99 [==============================] - 3s 35ms/step - loss: 0.8265 - accuracy: 0.6091 - val_loss: 0.7549 - val_accuracy: 0.7182\n",
      "Epoch 5/10\n",
      "99/99 [==============================] - ETA: 0s - loss: 0.8056 - accuracy: 0.6182WARNING:tensorflow:Can save best model only with val_acc available, skipping.\n",
      "99/99 [==============================] - 3s 35ms/step - loss: 0.8056 - accuracy: 0.6182 - val_loss: 0.8179 - val_accuracy: 0.6455\n",
      "Epoch 6/10\n",
      "99/99 [==============================] - ETA: 0s - loss: 0.8179 - accuracy: 0.6222WARNING:tensorflow:Can save best model only with val_acc available, skipping.\n",
      "99/99 [==============================] - 3s 35ms/step - loss: 0.8179 - accuracy: 0.6222 - val_loss: 0.7415 - val_accuracy: 0.6727\n",
      "Epoch 7/10\n",
      "99/99 [==============================] - ETA: 0s - loss: 0.7793 - accuracy: 0.6354WARNING:tensorflow:Can save best model only with val_acc available, skipping.\n",
      "99/99 [==============================] - 3s 35ms/step - loss: 0.7793 - accuracy: 0.6354 - val_loss: 0.7502 - val_accuracy: 0.6727\n",
      "Epoch 8/10\n",
      "99/99 [==============================] - ETA: 0s - loss: 0.7688 - accuracy: 0.6455WARNING:tensorflow:Can save best model only with val_acc available, skipping.\n",
      "99/99 [==============================] - 3s 35ms/step - loss: 0.7688 - accuracy: 0.6455 - val_loss: 0.7645 - val_accuracy: 0.6727\n",
      "Epoch 9/10\n",
      "99/99 [==============================] - ETA: 0s - loss: 0.7565 - accuracy: 0.6485WARNING:tensorflow:Can save best model only with val_acc available, skipping.\n",
      "99/99 [==============================] - 3s 35ms/step - loss: 0.7565 - accuracy: 0.6485 - val_loss: 0.7837 - val_accuracy: 0.6727\n",
      "Epoch 10/10\n",
      "25/99 [======>.......................] - ETA: 2s - loss: 0.6998 - accuracy: 0.6600"
     ]
    }
   ],
   "source": [
    "#모델의 설정, 컴파일, 실행\n",
    "for train, test in skf.split(X,Y):\n",
    "    from tensorflow.keras.callbacks import EarlyStopping, ModelCheckpoint\n",
    "    es = EarlyStopping(monitor='val_loss',mode='min',verbose=1,patience=4)\n",
    "    mc = ModelCheckpoint('best_model.h5',monitor='val_acc',mode='max',verbose=1,save_best_only=True)\n",
    "\n",
    "    model1 = Sequential()\n",
    "    model1.add(Embedding(max_words, 64))\n",
    "    model1.add(LSTM(128,activation='tanh'))\n",
    "    model1.add(Dense(3, activation='softmax'))\n",
    "    model1.compile(optimizer='rmsprop', loss='categorical_crossentropy', metrics=['accuracy'])\n",
    "    history = model1.fit(X[train],Y[train], epochs=10, batch_size=10, callbacks=[es,mc], validation_split=0.1)\n",
    "    k_accuracy = '%.4f'%(model1.evaluate(X[test],Y[test])[1])\n",
    "    accuracy.append(k_accuracy)"
   ]
  },
  {
   "cell_type": "code",
   "execution_count": 36,
   "metadata": {},
   "outputs": [
    {
     "name": "stdout",
     "output_type": "stream",
     "text": [
      "281/281 [==============================] - 0s 683us/step\n",
      "\n",
      " 테스트 정확도 : 57.65%\n"
     ]
    }
   ],
   "source": [
    "print(\"\\n 테스트 정확도 : {:.2f}%\".format(model.evaluate(X_test,y_test_cata)[1]*100))"
   ]
  }
 ],
 "metadata": {
  "kernelspec": {
   "display_name": "Python 3",
   "language": "python",
   "name": "python3"
  },
  "language_info": {
   "codemirror_mode": {
    "name": "ipython",
    "version": 3
   },
   "file_extension": ".py",
   "mimetype": "text/x-python",
   "name": "python",
   "nbconvert_exporter": "python",
   "pygments_lexer": "ipython3",
   "version": "3.8.3"
  }
 },
 "nbformat": 4,
 "nbformat_minor": 4
}
