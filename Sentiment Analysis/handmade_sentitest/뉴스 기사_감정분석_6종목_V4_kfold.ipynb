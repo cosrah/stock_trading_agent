{
 "cells": [
  {
   "cell_type": "code",
   "execution_count": 64,
   "metadata": {},
   "outputs": [],
   "source": [
    "from keras.models import Sequential\n",
    "from keras.layers import Embedding, Dense, LSTM\n",
    "from sklearn.preprocessing import LabelEncoder\n",
    "from sklearn.model_selection import KFold\n",
    "from keras.preprocessing.sequence import pad_sequences"
   ]
  },
  {
   "cell_type": "code",
   "execution_count": 65,
   "metadata": {},
   "outputs": [],
   "source": [
    "import pandas as pd\n",
    "import numpy as np\n",
    "import tensorflow as tf"
   ]
  },
  {
   "cell_type": "markdown",
   "metadata": {},
   "source": [
    "# 데이터 불러오기\n",
    "\n",
    "- Human Labeling된 데이터인 SKT , 현대백화점, 현대모비스, S-Oil, 기업은행, 셀트리온 데이터 셋을 이용하여 각 정확도를 올린다.\n",
    "\n",
    "- 순서\n",
    "    1. 데이터 불러오기\n",
    "    2. 데이터 분리\n",
    "    3. Title 의 토큰화 및 불용어 제거\n",
    "    4. Label 의 원핫인코딩\n",
    "    5. 길이가 다른 title의 정형화\n",
    "    6. LSTM을 통한 딥러닝\n",
    "    7. 정확도 확인"
   ]
  },
  {
   "cell_type": "code",
   "execution_count": 66,
   "metadata": {},
   "outputs": [],
   "source": [
    "df_skt = pd.read_csv('./trainingset/SKT_traindata_482.csv')\n",
    "df_train_skt = df_skt.iloc[:200]\n",
    "df_test_skt = df_skt.iloc[200:]"
   ]
  },
  {
   "cell_type": "code",
   "execution_count": 67,
   "metadata": {},
   "outputs": [
    {
     "data": {
      "text/html": [
       "<div>\n",
       "<style scoped>\n",
       "    .dataframe tbody tr th:only-of-type {\n",
       "        vertical-align: middle;\n",
       "    }\n",
       "\n",
       "    .dataframe tbody tr th {\n",
       "        vertical-align: top;\n",
       "    }\n",
       "\n",
       "    .dataframe thead th {\n",
       "        text-align: right;\n",
       "    }\n",
       "</style>\n",
       "<table border=\"1\" class=\"dataframe\">\n",
       "  <thead>\n",
       "    <tr style=\"text-align: right;\">\n",
       "      <th></th>\n",
       "      <th>id</th>\n",
       "      <th>Title</th>\n",
       "      <th>label</th>\n",
       "    </tr>\n",
       "  </thead>\n",
       "  <tbody>\n",
       "    <tr>\n",
       "      <th>200</th>\n",
       "      <td>0</td>\n",
       "      <td>정부, 구글 지도 해외 반출 불허 구글이 보완책 수용 안해 (상보)</td>\n",
       "      <td>0</td>\n",
       "    </tr>\n",
       "    <tr>\n",
       "      <th>201</th>\n",
       "      <td>1</td>\n",
       "      <td>미래부, 2차 유료방송 발전방안 공개토론회 개최</td>\n",
       "      <td>0</td>\n",
       "    </tr>\n",
       "    <tr>\n",
       "      <th>202</th>\n",
       "      <td>2</td>\n",
       "      <td>SKT, 전용폰 구입 고객에 T1 롤드컵 우승 기념품 증정</td>\n",
       "      <td>1</td>\n",
       "    </tr>\n",
       "    <tr>\n",
       "      <th>203</th>\n",
       "      <td>3</td>\n",
       "      <td>'갤S7'사면 페이백 50만원 준다더니제2의 거성 모바일 사태?</td>\n",
       "      <td>0</td>\n",
       "    </tr>\n",
       "    <tr>\n",
       "      <th>204</th>\n",
       "      <td>4</td>\n",
       "      <td>케이블TV 가입자도 내년 1월부터 SKT 요금할인받는다</td>\n",
       "      <td>1</td>\n",
       "    </tr>\n",
       "    <tr>\n",
       "      <th>...</th>\n",
       "      <td>...</td>\n",
       "      <td>...</td>\n",
       "      <td>...</td>\n",
       "    </tr>\n",
       "    <tr>\n",
       "      <th>476</th>\n",
       "      <td>78</td>\n",
       "      <td>스웨덴 에릭슨\"4차 산업혁명 협력할 韓 스타트업 찾습니다 ,0\\r\\n4187,SKT...</td>\n",
       "      <td>1</td>\n",
       "    </tr>\n",
       "    <tr>\n",
       "      <th>477</th>\n",
       "      <td>79</td>\n",
       "      <td>CJ헬로비전 작년 영업이익 59.4% 감소한 429억원…\"M&amp;A 등 불확실성 해소,...</td>\n",
       "      <td>1</td>\n",
       "    </tr>\n",
       "    <tr>\n",
       "      <th>478</th>\n",
       "      <td>80</td>\n",
       "      <td>SKT 2019년까지 11조원 투자</td>\n",
       "      <td>1</td>\n",
       "    </tr>\n",
       "    <tr>\n",
       "      <th>479</th>\n",
       "      <td>81</td>\n",
       "      <td>통신사 커버리지맵 정확도 SKT 1위 '오차 0%'</td>\n",
       "      <td>1</td>\n",
       "    </tr>\n",
       "    <tr>\n",
       "      <th>480</th>\n",
       "      <td>82</td>\n",
       "      <td>크리스마스 맞이 스마트폰 가격 인하…\"연말 특수 기대,1\\r\\n4384,CJ헬로비전...</td>\n",
       "      <td>1</td>\n",
       "    </tr>\n",
       "  </tbody>\n",
       "</table>\n",
       "<p>281 rows × 3 columns</p>\n",
       "</div>"
      ],
      "text/plain": [
       "     id                                              Title  label\n",
       "200   0              정부, 구글 지도 해외 반출 불허 구글이 보완책 수용 안해 (상보)      0\n",
       "201   1                         미래부, 2차 유료방송 발전방안 공개토론회 개최      0\n",
       "202   2                   SKT, 전용폰 구입 고객에 T1 롤드컵 우승 기념품 증정      1\n",
       "203   3                '갤S7'사면 페이백 50만원 준다더니제2의 거성 모바일 사태?      0\n",
       "204   4                     케이블TV 가입자도 내년 1월부터 SKT 요금할인받는다      1\n",
       "..   ..                                                ...    ...\n",
       "476  78  스웨덴 에릭슨\"4차 산업혁명 협력할 韓 스타트업 찾습니다 ,0\\r\\n4187,SKT...      1\n",
       "477  79  CJ헬로비전 작년 영업이익 59.4% 감소한 429억원…\"M&A 등 불확실성 해소,...      1\n",
       "478  80                                SKT 2019년까지 11조원 투자      1\n",
       "479  81                       통신사 커버리지맵 정확도 SKT 1위 '오차 0%'      1\n",
       "480  82  크리스마스 맞이 스마트폰 가격 인하…\"연말 특수 기대,1\\r\\n4384,CJ헬로비전...      1\n",
       "\n",
       "[281 rows x 3 columns]"
      ]
     },
     "execution_count": 67,
     "metadata": {},
     "output_type": "execute_result"
    }
   ],
   "source": [
    "df_test_skt"
   ]
  },
  {
   "cell_type": "code",
   "execution_count": 68,
   "metadata": {},
   "outputs": [],
   "source": [
    "df_mobis = pd.read_csv('./trainingset/현대모비스_traindata_200.csv', encoding = 'CP949')\n",
    "# df_mobis"
   ]
  },
  {
   "cell_type": "code",
   "execution_count": 69,
   "metadata": {},
   "outputs": [],
   "source": [
    "df_hb = pd.read_csv('./trainingset/현대백화점_traindata_200.csv')\n",
    "# df_hb"
   ]
  },
  {
   "cell_type": "code",
   "execution_count": 70,
   "metadata": {},
   "outputs": [],
   "source": [
    "df_S_Oil = pd.read_csv('./trainingset/S-Oil_traindata_200.csv')\n",
    "df_S_Oil = df_S_Oil.head(200)\n",
    "# df_S_Oil.head(200)"
   ]
  },
  {
   "cell_type": "code",
   "execution_count": 71,
   "metadata": {},
   "outputs": [],
   "source": [
    "df_IBK = pd.read_csv('./trainingset/기업은행_traindata_200.csv')\n",
    "# df_IBK"
   ]
  },
  {
   "cell_type": "code",
   "execution_count": 72,
   "metadata": {},
   "outputs": [],
   "source": [
    "df_celt = pd.read_csv('./trainingset/셀트리온_traindata_200.csv')\n",
    "df_celt=df_celt.head(200)\n",
    "#df_celt"
   ]
  },
  {
   "cell_type": "code",
   "execution_count": 73,
   "metadata": {},
   "outputs": [],
   "source": [
    "df_KAL = pd.read_csv('./trainingset/대한항공_testdata_300.csv', header=None)\n",
    "df_celt=df_celt.head(200)\n",
    "# df_KAL=df_KAL.head(300)\n",
    "df_KAL=df_KAL.head(299)\n",
    "df_KAL.columns = ['id','Title','label']\n",
    "# df_KAL"
   ]
  },
  {
   "cell_type": "code",
   "execution_count": 74,
   "metadata": {},
   "outputs": [],
   "source": [
    "df = pd.concat([df_train_skt, df_mobis, df_hb, df_S_Oil,df_IBK,df_celt])"
   ]
  },
  {
   "cell_type": "code",
   "execution_count": 75,
   "metadata": {},
   "outputs": [
    {
     "data": {
      "text/html": [
       "<div>\n",
       "<style scoped>\n",
       "    .dataframe tbody tr th:only-of-type {\n",
       "        vertical-align: middle;\n",
       "    }\n",
       "\n",
       "    .dataframe tbody tr th {\n",
       "        vertical-align: top;\n",
       "    }\n",
       "\n",
       "    .dataframe thead th {\n",
       "        text-align: right;\n",
       "    }\n",
       "</style>\n",
       "<table border=\"1\" class=\"dataframe\">\n",
       "  <thead>\n",
       "    <tr style=\"text-align: right;\">\n",
       "      <th></th>\n",
       "      <th>id</th>\n",
       "      <th>Title</th>\n",
       "      <th>label</th>\n",
       "    </tr>\n",
       "  </thead>\n",
       "  <tbody>\n",
       "    <tr>\n",
       "      <th>0</th>\n",
       "      <td>0.0</td>\n",
       "      <td>국민안전로봇 2021년까지 개발…'로봇물고기' 전철 피할까?</td>\n",
       "      <td>0</td>\n",
       "    </tr>\n",
       "    <tr>\n",
       "      <th>1</th>\n",
       "      <td>1.0</td>\n",
       "      <td>'국정원 해킹 의혹' 상임위 앞두고 與野 전초전</td>\n",
       "      <td>0</td>\n",
       "    </tr>\n",
       "    <tr>\n",
       "      <th>2</th>\n",
       "      <td>2.0</td>\n",
       "      <td>인터넷티비(TV)결합상품 인터넷가입 비교사이트 통해 통신사별 장단점 비교해야 유리</td>\n",
       "      <td>0</td>\n",
       "    </tr>\n",
       "    <tr>\n",
       "      <th>3</th>\n",
       "      <td>3.0</td>\n",
       "      <td>SKT LG KT 인터넷가입 비교사이트 ‘펭귄통신’ 설치 당일 현금지원 이벤트</td>\n",
       "      <td>0</td>\n",
       "    </tr>\n",
       "    <tr>\n",
       "      <th>4</th>\n",
       "      <td>4.0</td>\n",
       "      <td>설 연휴 고향 가는 길 언제 출발해야 덜 막힐까</td>\n",
       "      <td>0</td>\n",
       "    </tr>\n",
       "    <tr>\n",
       "      <th>...</th>\n",
       "      <td>...</td>\n",
       "      <td>...</td>\n",
       "      <td>...</td>\n",
       "    </tr>\n",
       "    <tr>\n",
       "      <th>195</th>\n",
       "      <td>1172.0</td>\n",
       "      <td>원 이퀴티 파트너스 포, 엘.피., 셀트리온헬스케어 주식 631만주 장내매도</td>\n",
       "      <td>-1</td>\n",
       "    </tr>\n",
       "    <tr>\n",
       "      <th>196</th>\n",
       "      <td>1630.0</td>\n",
       "      <td>코스닥, 장 초반 하락세…640선 또 '위태'</td>\n",
       "      <td>-1</td>\n",
       "    </tr>\n",
       "    <tr>\n",
       "      <th>197</th>\n",
       "      <td>696.0</td>\n",
       "      <td>“ 3000% ”터질 바이오 단돈 3천원대! 2019년 마지막 新대장 바이오 온다!</td>\n",
       "      <td>1</td>\n",
       "    </tr>\n",
       "    <tr>\n",
       "      <th>198</th>\n",
       "      <td>1563.0</td>\n",
       "      <td>코스닥, 개인 '사자'에 700 향해 ↑</td>\n",
       "      <td>1</td>\n",
       "    </tr>\n",
       "    <tr>\n",
       "      <th>199</th>\n",
       "      <td>2215.0</td>\n",
       "      <td>남북정상회담 D-1, 코스피 장중 2470선 회복… SK하이닉스 4%대 강세</td>\n",
       "      <td>1</td>\n",
       "    </tr>\n",
       "  </tbody>\n",
       "</table>\n",
       "<p>1222 rows × 3 columns</p>\n",
       "</div>"
      ],
      "text/plain": [
       "         id                                           Title label\n",
       "0       0.0               국민안전로봇 2021년까지 개발…'로봇물고기' 전철 피할까?     0\n",
       "1       1.0                      '국정원 해킹 의혹' 상임위 앞두고 與野 전초전     0\n",
       "2       2.0   인터넷티비(TV)결합상품 인터넷가입 비교사이트 통해 통신사별 장단점 비교해야 유리     0\n",
       "3       3.0     SKT LG KT 인터넷가입 비교사이트 ‘펭귄통신’ 설치 당일 현금지원 이벤트     0\n",
       "4       4.0                      설 연휴 고향 가는 길 언제 출발해야 덜 막힐까     0\n",
       "..      ...                                             ...   ...\n",
       "195  1172.0      원 이퀴티 파트너스 포, 엘.피., 셀트리온헬스케어 주식 631만주 장내매도    -1\n",
       "196  1630.0                       코스닥, 장 초반 하락세…640선 또 '위태'    -1\n",
       "197   696.0  “ 3000% ”터질 바이오 단돈 3천원대! 2019년 마지막 新대장 바이오 온다!     1\n",
       "198  1563.0                          코스닥, 개인 '사자'에 700 향해 ↑     1\n",
       "199  2215.0      남북정상회담 D-1, 코스피 장중 2470선 회복… SK하이닉스 4%대 강세     1\n",
       "\n",
       "[1222 rows x 3 columns]"
      ]
     },
     "execution_count": 75,
     "metadata": {},
     "output_type": "execute_result"
    }
   ],
   "source": [
    "df = df[['id','Title','label']]\n",
    "df"
   ]
  },
  {
   "cell_type": "code",
   "execution_count": 76,
   "metadata": {},
   "outputs": [],
   "source": [
    "from sklearn.model_selection import train_test_split"
   ]
  },
  {
   "cell_type": "markdown",
   "metadata": {},
   "source": [
    "## 데이터셋 구성\n",
    "- Train Dataset : skt 200개, 모비스 200개, 현백 200개, 에쓰오일 200개, 기업은행 200개, 셀트리온 200개\n",
    "- Test Dataset : skt 282개"
   ]
  },
  {
   "cell_type": "code",
   "execution_count": 77,
   "metadata": {},
   "outputs": [],
   "source": [
    "# Train 데이터와 Test 데이터 분리\n",
    "X_train = df['Title']\n",
    "y_train = df['label']\n",
    "X_test = df_test_skt['Title']\n",
    "y_test = df_test_skt['label']\n",
    "# X_train, X_test, y_train, y_test = train_test_split(X, y, test_size = 0.2, random_state = 2)"
   ]
  },
  {
   "cell_type": "code",
   "execution_count": 78,
   "metadata": {},
   "outputs": [],
   "source": [
    "# 문장을 나누기 위한 Stopwords 선정\n",
    "stopwords = ['의', '가', '이', '은', '들', '는', '좀', '잘', '걍', '과', '도', '를', '으로', '자', '에', '와', '한', '하다']"
   ]
  },
  {
   "cell_type": "code",
   "execution_count": 79,
   "metadata": {
    "scrolled": true
   },
   "outputs": [],
   "source": [
    "#!pip3 install konlpy"
   ]
  },
  {
   "cell_type": "code",
   "execution_count": 80,
   "metadata": {},
   "outputs": [],
   "source": [
    "# Sentence Tokenizing\n",
    "\n",
    "import konlpy\n",
    "from konlpy.tag import Okt\n",
    "\n",
    "okt = Okt()\n",
    "X_train_token = []\n",
    "for sentence in X_train:\n",
    "    temp_X = [] \n",
    "    temp_X = okt.morphs(sentence, stem=True) # 토큰화\n",
    "    temp_X = [word for word in temp_X if not word in stopwords] # 불용어 제거\n",
    "    X_train_token.append(temp_X)\n",
    "\n",
    "X_test_token = []\n",
    "for sentence in X_test:\n",
    "    temp_X = []\n",
    "    temp_X = okt.morphs(sentence, stem=True) # 토큰화\n",
    "    temp_X = [word for word in temp_X if not word in stopwords] # 불용어 제거\n",
    "    X_test_token.append(temp_X)"
   ]
  },
  {
   "cell_type": "markdown",
   "metadata": {},
   "source": [
    "### 단어길이 추출"
   ]
  },
  {
   "cell_type": "code",
   "execution_count": 81,
   "metadata": {},
   "outputs": [
    {
     "data": {
      "text/plain": [
       "66"
      ]
     },
     "execution_count": 81,
     "metadata": {},
     "output_type": "execute_result"
    }
   ],
   "source": [
    "li_train = []\n",
    "# li_train.append(1)\n",
    "# li_train.append(2)\n",
    "for i in range(len(X_train_token)):\n",
    "   li_train.append(len(X_train_token[i]))\n",
    "max(li_train)\n",
    "\n",
    "li_test = []\n",
    "# li_train.append(1)\n",
    "# li_train.append(2)\n",
    "for i in range(len(X_test_token)):\n",
    "   li_test.append(len(X_test_token[i]))\n",
    "max(li_test)\n"
   ]
  },
  {
   "cell_type": "markdown",
   "metadata": {},
   "source": [
    "### max_words를 35000에서 100으로 줄임(test 길이 중 가장 큰것은 66)"
   ]
  },
  {
   "cell_type": "code",
   "execution_count": 82,
   "metadata": {},
   "outputs": [],
   "source": [
    "from keras.preprocessing.text import Tokenizer\n",
    "max_words = 100\n",
    "tokenizer = Tokenizer(num_words = max_words)\n",
    "tokenizer.fit_on_texts(X_train_token) \n",
    "X_train_token = tokenizer.texts_to_sequences(X_train_token) \n",
    "X_test_token = tokenizer.texts_to_sequences(X_test_token)"
   ]
  },
  {
   "cell_type": "markdown",
   "metadata": {},
   "source": [
    "### One-Hot encoding 2가지 방법 - 2번째 방법 사용 (to_categorize)"
   ]
  },
  {
   "cell_type": "code",
   "execution_count": 83,
   "metadata": {},
   "outputs": [],
   "source": [
    "# 1. \n",
    "import numpy as np\n",
    "y_train_encode = []\n",
    "y_test_encode = []\n",
    "for i in range(len(y_train)):\n",
    "    if y_train.iloc[i] == 1:\n",
    "        y_train_encode.append([0, 0, 1]) \n",
    "    elif y_train.iloc[i] == 0:\n",
    "        y_train_encode.append([0, 1, 0]) \n",
    "    elif y_train.iloc[i] == -1:\n",
    "        y_train_encode.append([1, 0, 0]) \n",
    "        \n",
    "for i in range(len(y_test)):\n",
    "    if y_test.iloc[i] == 1:\n",
    "        y_test_encode.append([0, 0, 1]) \n",
    "    elif y_test.iloc[i] == 0:\n",
    "        y_test_encode.append([0, 1, 0])\n",
    "    elif y_test.iloc[i] == -1:\n",
    "        y_test_encode.append([1, 0, 0]) \n",
    "        \n",
    "y_train_encode=np.array(y_train_encode)\n",
    "y_test_encode=np.array(y_test_encode)"
   ]
  },
  {
   "cell_type": "code",
   "execution_count": 84,
   "metadata": {},
   "outputs": [
    {
     "data": {
      "text/plain": [
       "1022"
      ]
     },
     "execution_count": 84,
     "metadata": {},
     "output_type": "execute_result"
    }
   ],
   "source": [
    "len(y_train_encode)"
   ]
  },
  {
   "cell_type": "code",
   "execution_count": 85,
   "metadata": {},
   "outputs": [],
   "source": [
    "# 2. \n",
    "# to_categorical 방법은 0 1 -1 순서로 인코딩된다!\n",
    "from keras.utils import to_categorical\n",
    "\n",
    "y_train_cata = to_categorical(y_train, num_classes = 3)\n",
    "y_test_cata = to_categorical(y_test, num_classes = 3)"
   ]
  },
  {
   "cell_type": "code",
   "execution_count": 61,
   "metadata": {},
   "outputs": [
    {
     "data": {
      "text/plain": [
       "array([[1., 0., 0.],\n",
       "       [1., 0., 0.],\n",
       "       [1., 0., 0.],\n",
       "       ...,\n",
       "       [0., 1., 0.],\n",
       "       [0., 1., 0.],\n",
       "       [0., 1., 0.]], dtype=float32)"
      ]
     },
     "execution_count": 61,
     "metadata": {},
     "output_type": "execute_result"
    }
   ],
   "source": [
    "y_train_cata"
   ]
  },
  {
   "cell_type": "markdown",
   "metadata": {},
   "source": [
    "### max_len 20 to 100으로 변경 ; 단어 길이 고려"
   ]
  },
  {
   "cell_type": "code",
   "execution_count": 86,
   "metadata": {},
   "outputs": [],
   "source": [
    "max_len = 100 # pad_sequesces이용, 전체 데이터의 길이를 20로 맞춘다\n",
    "X_train = pad_sequences(X_train_token, maxlen=max_len)\n",
    "X_test = pad_sequences(X_test_token, maxlen=max_len)"
   ]
  },
  {
   "cell_type": "markdown",
   "metadata": {},
   "source": [
    "### 모델 저장1\n",
    "import os\n",
    "from tensorflow.keras.callbacks import EarlyStopping, ModelCheckpoint\n",
    "\n",
    "\n",
    "MODEL_DIR = './ModelCheckpoint/'\n",
    "if not os.path.exists(MODEL_DIR):\n",
    "    os.mkdir(MODEL_DIR)\n",
    "    \n",
    "mdpath = './ModelCheckpoint/{epoch:02d}-{val_loss:.4f}.hdf5'\n",
    "mc = ModelCheckpoint(filepath=mdpath,monitor='val_acc',mode='max',verbose=1,save_best_only=True)\n",
    "es = EarlyStopping(monitor='val_loss',patience=10,mode='min',verbose=1)\n",
    "\n",
    "model = Sequential()\n",
    "model.add(Embedding(max_words, 64))\n",
    "model.add(LSTM(128))\n",
    "model.add(Dense(3, activation='softmax'))\n",
    "model.compile(optimizer='rmsprop', loss='categorical_crossentropy', metrics=['accuracy'])\n",
    "history = model.fit(X_train, y_train_cata, epochs=10, batch_size=10, callbacks=[es,mc], validation_split=0.1)"
   ]
  },
  {
   "cell_type": "markdown",
   "metadata": {},
   "source": [
    "### 모델 저장2\n",
    "from keras.models import load_model\n",
    "##### 모델 컴퓨터에 저장\n",
    "model.save('모델이름')\n",
    "##### 모델 불러오기\n",
    "del model # 테스트를 위해 메모리 내의 모델을 삭제\n",
    "model = load_model('모델명')"
   ]
  },
  {
   "cell_type": "markdown",
   "metadata": {},
   "source": [
    "### LSTM 모델"
   ]
  },
  {
   "cell_type": "markdown",
   "metadata": {},
   "source": [
    "### earlystopping과 modelcheckpoint 추가\n",
    "### embedding 64로 변경"
   ]
  },
  {
   "cell_type": "code",
   "execution_count": 87,
   "metadata": {},
   "outputs": [
    {
     "name": "stdout",
     "output_type": "stream",
     "text": [
      "Requirement already satisfied: tensorflow in c:\\users\\admin\\anaconda3\\lib\\site-packages (2.3.0)\n",
      "Requirement already satisfied: tensorflow-estimator<2.4.0,>=2.3.0 in c:\\users\\admin\\anaconda3\\lib\\site-packages (from tensorflow) (2.3.0)\n",
      "Requirement already satisfied: wrapt>=1.11.1 in c:\\users\\admin\\anaconda3\\lib\\site-packages (from tensorflow) (1.11.2)\n",
      "Requirement already satisfied: keras-preprocessing<1.2,>=1.1.1 in c:\\users\\admin\\anaconda3\\lib\\site-packages (from tensorflow) (1.1.2)\n",
      "Requirement already satisfied: numpy<1.19.0,>=1.16.0 in c:\\users\\admin\\anaconda3\\lib\\site-packages (from tensorflow) (1.18.1)\n",
      "Requirement already satisfied: opt-einsum>=2.3.2 in c:\\users\\admin\\anaconda3\\lib\\site-packages (from tensorflow) (3.3.0)\n",
      "Requirement already satisfied: termcolor>=1.1.0 in c:\\users\\admin\\anaconda3\\lib\\site-packages (from tensorflow) (1.1.0)\n",
      "Requirement already satisfied: wheel>=0.26 in c:\\users\\admin\\anaconda3\\lib\\site-packages (from tensorflow) (0.34.2)\n",
      "Requirement already satisfied: grpcio>=1.8.6 in c:\\users\\admin\\anaconda3\\lib\\site-packages (from tensorflow) (1.32.0)\n",
      "Requirement already satisfied: tensorboard<3,>=2.3.0 in c:\\users\\admin\\anaconda3\\lib\\site-packages (from tensorflow) (2.3.0)\n",
      "Requirement already satisfied: absl-py>=0.7.0 in c:\\users\\admin\\anaconda3\\lib\\site-packages (from tensorflow) (0.10.0)\n",
      "Requirement already satisfied: h5py<2.11.0,>=2.10.0 in c:\\users\\admin\\anaconda3\\lib\\site-packages (from tensorflow) (2.10.0)\n",
      "Requirement already satisfied: six>=1.12.0 in c:\\users\\admin\\anaconda3\\lib\\site-packages (from tensorflow) (1.14.0)\n",
      "Requirement already satisfied: protobuf>=3.9.2 in c:\\users\\admin\\anaconda3\\lib\\site-packages (from tensorflow) (3.13.0)\n",
      "Requirement already satisfied: gast==0.3.3 in c:\\users\\admin\\anaconda3\\lib\\site-packages (from tensorflow) (0.3.3)\n",
      "Requirement already satisfied: google-pasta>=0.1.8 in c:\\users\\admin\\anaconda3\\lib\\site-packages (from tensorflow) (0.2.0)\n",
      "Requirement already satisfied: scipy==1.4.1 in c:\\users\\admin\\anaconda3\\lib\\site-packages (from tensorflow) (1.4.1)\n",
      "Requirement already satisfied: astunparse==1.6.3 in c:\\users\\admin\\anaconda3\\lib\\site-packages (from tensorflow) (1.6.3)\n",
      "Requirement already satisfied: google-auth<2,>=1.6.3 in c:\\users\\admin\\anaconda3\\lib\\site-packages (from tensorboard<3,>=2.3.0->tensorflow) (1.21.2)\n",
      "Requirement already satisfied: requests<3,>=2.21.0 in c:\\users\\admin\\anaconda3\\lib\\site-packages (from tensorboard<3,>=2.3.0->tensorflow) (2.22.0)\n",
      "Requirement already satisfied: markdown>=2.6.8 in c:\\users\\admin\\anaconda3\\lib\\site-packages (from tensorboard<3,>=2.3.0->tensorflow) (3.2.2)\n",
      "Requirement already satisfied: google-auth-oauthlib<0.5,>=0.4.1 in c:\\users\\admin\\anaconda3\\lib\\site-packages (from tensorboard<3,>=2.3.0->tensorflow) (0.4.1)\n",
      "Requirement already satisfied: setuptools>=41.0.0 in c:\\users\\admin\\anaconda3\\lib\\site-packages (from tensorboard<3,>=2.3.0->tensorflow) (45.2.0.post20200210)\n",
      "Requirement already satisfied: tensorboard-plugin-wit>=1.6.0 in c:\\users\\admin\\anaconda3\\lib\\site-packages (from tensorboard<3,>=2.3.0->tensorflow) (1.7.0)\n",
      "Requirement already satisfied: werkzeug>=0.11.15 in c:\\users\\admin\\anaconda3\\lib\\site-packages (from tensorboard<3,>=2.3.0->tensorflow) (1.0.0)\n",
      "Requirement already satisfied: rsa<5,>=3.1.4; python_version >= \"3.5\" in c:\\users\\admin\\anaconda3\\lib\\site-packages (from google-auth<2,>=1.6.3->tensorboard<3,>=2.3.0->tensorflow) (4.6)\n",
      "Requirement already satisfied: pyasn1-modules>=0.2.1 in c:\\users\\admin\\anaconda3\\lib\\site-packages (from google-auth<2,>=1.6.3->tensorboard<3,>=2.3.0->tensorflow) (0.2.8)\n",
      "Requirement already satisfied: cachetools<5.0,>=2.0.0 in c:\\users\\admin\\anaconda3\\lib\\site-packages (from google-auth<2,>=1.6.3->tensorboard<3,>=2.3.0->tensorflow) (4.1.1)\n",
      "Requirement already satisfied: urllib3!=1.25.0,!=1.25.1,<1.26,>=1.21.1 in c:\\users\\admin\\anaconda3\\lib\\site-packages (from requests<3,>=2.21.0->tensorboard<3,>=2.3.0->tensorflow) (1.25.8)\n",
      "Requirement already satisfied: certifi>=2017.4.17 in c:\\users\\admin\\anaconda3\\lib\\site-packages (from requests<3,>=2.21.0->tensorboard<3,>=2.3.0->tensorflow) (2020.6.20)\n",
      "Requirement already satisfied: chardet<3.1.0,>=3.0.2 in c:\\users\\admin\\anaconda3\\lib\\site-packages (from requests<3,>=2.21.0->tensorboard<3,>=2.3.0->tensorflow) (3.0.4)\n",
      "Requirement already satisfied: idna<2.9,>=2.5 in c:\\users\\admin\\anaconda3\\lib\\site-packages (from requests<3,>=2.21.0->tensorboard<3,>=2.3.0->tensorflow) (2.8)\n",
      "Requirement already satisfied: importlib-metadata; python_version < \"3.8\" in c:\\users\\admin\\anaconda3\\lib\\site-packages (from markdown>=2.6.8->tensorboard<3,>=2.3.0->tensorflow) (1.5.0)\n",
      "Requirement already satisfied: requests-oauthlib>=0.7.0 in c:\\users\\admin\\anaconda3\\lib\\site-packages (from google-auth-oauthlib<0.5,>=0.4.1->tensorboard<3,>=2.3.0->tensorflow) (1.3.0)\n",
      "Requirement already satisfied: pyasn1>=0.1.3 in c:\\users\\admin\\anaconda3\\lib\\site-packages (from rsa<5,>=3.1.4; python_version >= \"3.5\"->google-auth<2,>=1.6.3->tensorboard<3,>=2.3.0->tensorflow) (0.4.8)\n",
      "Requirement already satisfied: zipp>=0.5 in c:\\users\\admin\\anaconda3\\lib\\site-packages (from importlib-metadata; python_version < \"3.8\"->markdown>=2.6.8->tensorboard<3,>=2.3.0->tensorflow) (2.2.0)\n",
      "Requirement already satisfied: oauthlib>=3.0.0 in c:\\users\\admin\\anaconda3\\lib\\site-packages (from requests-oauthlib>=0.7.0->google-auth-oauthlib<0.5,>=0.4.1->tensorboard<3,>=2.3.0->tensorflow) (3.1.0)\n"
     ]
    }
   ],
   "source": [
    "!pip install tensorflow"
   ]
  },
  {
   "cell_type": "code",
   "execution_count": 88,
   "metadata": {
    "scrolled": true
   },
   "outputs": [
    {
     "name": "stdout",
     "output_type": "stream",
     "text": [
      "Epoch 1/10\n",
      "110/110 [==============================] - ETA: 0s - loss: 1.0156 - accuracy: 0.5259WARNING:tensorflow:Can save best model only with val_acc available, skipping.\n",
      "110/110 [==============================] - 20s 181ms/step - loss: 1.0156 - accuracy: 0.5259 - val_loss: 1.0142 - val_accuracy: 0.5447\n",
      "Epoch 2/10\n",
      "110/110 [==============================] - ETA: 0s - loss: 0.9093 - accuracy: 0.5696WARNING:tensorflow:Can save best model only with val_acc available, skipping.\n",
      "110/110 [==============================] - 20s 179ms/step - loss: 0.9093 - accuracy: 0.5696 - val_loss: 0.8125 - val_accuracy: 0.6748\n",
      "Epoch 3/10\n",
      "110/110 [==============================] - ETA: 0s - loss: 0.8566 - accuracy: 0.6005WARNING:tensorflow:Can save best model only with val_acc available, skipping.\n",
      "110/110 [==============================] - 20s 179ms/step - loss: 0.8566 - accuracy: 0.6005 - val_loss: 0.7414 - val_accuracy: 0.7073\n",
      "Epoch 4/10\n",
      "110/110 [==============================] - ETA: 0s - loss: 0.8247 - accuracy: 0.6197WARNING:tensorflow:Can save best model only with val_acc available, skipping.\n",
      "110/110 [==============================] - 20s 177ms/step - loss: 0.8247 - accuracy: 0.6197 - val_loss: 0.7374 - val_accuracy: 0.7073\n",
      "Epoch 5/10\n",
      "110/110 [==============================] - ETA: 0s - loss: 0.8075 - accuracy: 0.6160WARNING:tensorflow:Can save best model only with val_acc available, skipping.\n",
      "110/110 [==============================] - 20s 181ms/step - loss: 0.8075 - accuracy: 0.6160 - val_loss: 0.6991 - val_accuracy: 0.7236\n",
      "Epoch 6/10\n",
      "110/110 [==============================] - ETA: 0s - loss: 0.7972 - accuracy: 0.6297WARNING:tensorflow:Can save best model only with val_acc available, skipping.\n",
      "110/110 [==============================] - 19s 177ms/step - loss: 0.7972 - accuracy: 0.6297 - val_loss: 0.7939 - val_accuracy: 0.6667\n",
      "Epoch 7/10\n",
      "110/110 [==============================] - ETA: 0s - loss: 0.7843 - accuracy: 0.6342WARNING:tensorflow:Can save best model only with val_acc available, skipping.\n",
      "110/110 [==============================] - 19s 175ms/step - loss: 0.7843 - accuracy: 0.6342 - val_loss: 0.7652 - val_accuracy: 0.6667\n",
      "Epoch 8/10\n",
      "110/110 [==============================] - ETA: 0s - loss: 0.8468 - accuracy: 0.6406WARNING:tensorflow:Can save best model only with val_acc available, skipping.\n",
      "110/110 [==============================] - 19s 174ms/step - loss: 0.8468 - accuracy: 0.6406 - val_loss: 0.7565 - val_accuracy: 0.6911\n",
      "Epoch 9/10\n",
      "110/110 [==============================] - ETA: 0s - loss: 0.7642 - accuracy: 0.6406WARNING:tensorflow:Can save best model only with val_acc available, skipping.\n",
      "110/110 [==============================] - 19s 175ms/step - loss: 0.7642 - accuracy: 0.6406 - val_loss: 0.8095 - val_accuracy: 0.6585\n",
      "Epoch 00009: early stopping\n"
     ]
    }
   ],
   "source": [
    "from tensorflow.keras.callbacks import EarlyStopping, ModelCheckpoint\n",
    "es = EarlyStopping(monitor='val_loss',mode='min',verbose=1,patience=4)\n",
    "mc = ModelCheckpoint('best_model.h5',monitor='val_acc',mode='max',verbose=1,save_best_only=True)\n",
    "\n",
    "model = Sequential()\n",
    "model.add(Embedding(max_words, 64))\n",
    "model.add(LSTM(128))\n",
    "model.add(Dense(3, activation='softmax'))\n",
    "model.compile(optimizer='rmsprop', loss='categorical_crossentropy', metrics=['accuracy'])\n",
    "history = model.fit(X_train, y_train_cata, epochs=10, batch_size=10, callbacks=[es,mc], validation_split=0.1)"
   ]
  },
  {
   "cell_type": "code",
   "execution_count": 89,
   "metadata": {},
   "outputs": [
    {
     "name": "stdout",
     "output_type": "stream",
     "text": [
      "9/9 [==============================] - 1s 58ms/step - loss: 0.9475 - accuracy: 0.5979\n",
      "\n",
      " 테스트 정확도 : 59.79%\n"
     ]
    }
   ],
   "source": [
    "print(\"\\n 테스트 정확도 : {:.2f}%\".format(model.evaluate(X_test,y_test_cata)[1]*100))"
   ]
  },
  {
   "cell_type": "markdown",
   "metadata": {},
   "source": [
    "## KFOLD 검증"
   ]
  },
  {
   "cell_type": "code",
   "execution_count": 90,
   "metadata": {},
   "outputs": [],
   "source": [
    "#seed 값 설정\n",
    "seed = 1\n",
    "np.random.seed(seed)\n",
    "#tf.set_random_seed(seed)"
   ]
  },
  {
   "cell_type": "code",
   "execution_count": 91,
   "metadata": {},
   "outputs": [],
   "source": [
    "X=X_train\n",
    "Y=y_train_cata"
   ]
  },
  {
   "cell_type": "code",
   "execution_count": 92,
   "metadata": {},
   "outputs": [],
   "source": [
    "#10개의 파일로 쪼갬\n",
    "n_fold = 15"
   ]
  },
  {
   "cell_type": "code",
   "execution_count": 93,
   "metadata": {},
   "outputs": [],
   "source": [
    "skf =KFold(n_splits=n_fold, shuffle=True,random_state=seed)"
   ]
  },
  {
   "cell_type": "code",
   "execution_count": 94,
   "metadata": {},
   "outputs": [],
   "source": [
    "#빈 accuracy 배열\n",
    "accuracy =[]"
   ]
  },
  {
   "cell_type": "code",
   "execution_count": 95,
   "metadata": {},
   "outputs": [
    {
     "name": "stdout",
     "output_type": "stream",
     "text": [
      "Epoch 1/10\n",
      "103/103 [==============================] - ETA: 0s - loss: 1.0119 - accuracy: 0.5263WARNING:tensorflow:Can save best model only with val_acc available, skipping.\n",
      "103/103 [==============================] - 17s 164ms/step - loss: 1.0119 - accuracy: 0.5263 - val_loss: 1.0121 - val_accuracy: 0.5439\n",
      "Epoch 2/10\n",
      "103/103 [==============================] - ETA: 0s - loss: 0.9175 - accuracy: 0.5556WARNING:tensorflow:Can save best model only with val_acc available, skipping.\n",
      "103/103 [==============================] - 16s 152ms/step - loss: 0.9175 - accuracy: 0.5556 - val_loss: 0.8029 - val_accuracy: 0.6842\n",
      "Epoch 3/10\n",
      "103/103 [==============================] - ETA: 0s - loss: 0.8575 - accuracy: 0.6033WARNING:tensorflow:Can save best model only with val_acc available, skipping.\n",
      "103/103 [==============================] - 15s 148ms/step - loss: 0.8575 - accuracy: 0.6033 - val_loss: 0.7073 - val_accuracy: 0.7456\n",
      "Epoch 4/10\n",
      "103/103 [==============================] - ETA: 0s - loss: 0.8260 - accuracy: 0.6238WARNING:tensorflow:Can save best model only with val_acc available, skipping.\n",
      "103/103 [==============================] - 14s 137ms/step - loss: 0.8260 - accuracy: 0.6238 - val_loss: 0.8150 - val_accuracy: 0.6930\n",
      "Epoch 5/10\n",
      "103/103 [==============================] - ETA: 0s - loss: 0.8089 - accuracy: 0.6345WARNING:tensorflow:Can save best model only with val_acc available, skipping.\n",
      "103/103 [==============================] - 15s 150ms/step - loss: 0.8089 - accuracy: 0.6345 - val_loss: 0.7488 - val_accuracy: 0.7105\n",
      "Epoch 6/10\n",
      "103/103 [==============================] - ETA: 0s - loss: 0.7912 - accuracy: 0.6316WARNING:tensorflow:Can save best model only with val_acc available, skipping.\n",
      "103/103 [==============================] - 16s 152ms/step - loss: 0.7912 - accuracy: 0.6316 - val_loss: 0.7132 - val_accuracy: 0.7018\n",
      "Epoch 7/10\n",
      "103/103 [==============================] - ETA: 0s - loss: 0.7832 - accuracy: 0.6335WARNING:tensorflow:Can save best model only with val_acc available, skipping.\n",
      "103/103 [==============================] - 16s 152ms/step - loss: 0.7832 - accuracy: 0.6335 - val_loss: 0.7844 - val_accuracy: 0.6754\n",
      "Epoch 00007: early stopping\n",
      "3/3 [==============================] - 0s 36ms/step - loss: 0.8492 - accuracy: 0.6220\n",
      "Epoch 1/10\n",
      "103/103 [==============================] - ETA: 0s - loss: 0.9995 - accuracy: 0.5351WARNING:tensorflow:Can save best model only with val_acc available, skipping.\n",
      "103/103 [==============================] - 16s 151ms/step - loss: 0.9995 - accuracy: 0.5351 - val_loss: 0.9860 - val_accuracy: 0.5439\n",
      "Epoch 2/10\n",
      "103/103 [==============================] - ETA: 0s - loss: 0.9078 - accuracy: 0.5673WARNING:tensorflow:Can save best model only with val_acc available, skipping.\n",
      "103/103 [==============================] - 15s 142ms/step - loss: 0.9078 - accuracy: 0.5673 - val_loss: 0.8053 - val_accuracy: 0.7193\n",
      "Epoch 3/10\n",
      "103/103 [==============================] - ETA: 0s - loss: 0.8550 - accuracy: 0.5984WARNING:tensorflow:Can save best model only with val_acc available, skipping.\n",
      "103/103 [==============================] - 15s 144ms/step - loss: 0.8550 - accuracy: 0.5984 - val_loss: 0.7484 - val_accuracy: 0.7368\n",
      "Epoch 4/10\n",
      "103/103 [==============================] - ETA: 0s - loss: 0.8278 - accuracy: 0.6101WARNING:tensorflow:Can save best model only with val_acc available, skipping.\n",
      "103/103 [==============================] - 15s 146ms/step - loss: 0.8278 - accuracy: 0.6101 - val_loss: 0.7462 - val_accuracy: 0.7018\n",
      "Epoch 5/10\n",
      "103/103 [==============================] - ETA: 0s - loss: 0.9009 - accuracy: 0.6023WARNING:tensorflow:Can save best model only with val_acc available, skipping.\n",
      "103/103 [==============================] - 15s 145ms/step - loss: 0.9009 - accuracy: 0.6023 - val_loss: 0.7072 - val_accuracy: 0.7193\n",
      "Epoch 6/10\n",
      "103/103 [==============================] - ETA: 0s - loss: 0.8205 - accuracy: 0.6072WARNING:tensorflow:Can save best model only with val_acc available, skipping.\n",
      "103/103 [==============================] - 15s 142ms/step - loss: 0.8205 - accuracy: 0.6072 - val_loss: 0.6847 - val_accuracy: 0.7193\n",
      "Epoch 7/10\n",
      "103/103 [==============================] - ETA: 0s - loss: 0.7904 - accuracy: 0.6257WARNING:tensorflow:Can save best model only with val_acc available, skipping.\n",
      "103/103 [==============================] - 15s 144ms/step - loss: 0.7904 - accuracy: 0.6257 - val_loss: 0.6976 - val_accuracy: 0.7456\n",
      "Epoch 8/10\n",
      "103/103 [==============================] - ETA: 0s - loss: 0.7743 - accuracy: 0.6179WARNING:tensorflow:Can save best model only with val_acc available, skipping.\n",
      "103/103 [==============================] - 15s 145ms/step - loss: 0.7743 - accuracy: 0.6179 - val_loss: 0.7321 - val_accuracy: 0.7281\n",
      "Epoch 9/10\n",
      "103/103 [==============================] - ETA: 0s - loss: 0.7720 - accuracy: 0.6296WARNING:tensorflow:Can save best model only with val_acc available, skipping.\n",
      "103/103 [==============================] - 15s 141ms/step - loss: 0.7720 - accuracy: 0.6296 - val_loss: 0.6907 - val_accuracy: 0.7456\n",
      "Epoch 10/10\n",
      "103/103 [==============================] - ETA: 0s - loss: 0.7608 - accuracy: 0.6452WARNING:tensorflow:Can save best model only with val_acc available, skipping.\n",
      "103/103 [==============================] - 15s 144ms/step - loss: 0.7608 - accuracy: 0.6452 - val_loss: 0.7556 - val_accuracy: 0.7018\n",
      "Epoch 00010: early stopping\n",
      "3/3 [==============================] - 0s 14ms/step - loss: 0.9645 - accuracy: 0.5732\n",
      "Epoch 1/10\n",
      "103/103 [==============================] - ETA: 0s - loss: 1.0140 - accuracy: 0.5292WARNING:tensorflow:Can save best model only with val_acc available, skipping.\n",
      "103/103 [==============================] - 14s 134ms/step - loss: 1.0140 - accuracy: 0.5292 - val_loss: 0.9989 - val_accuracy: 0.5526\n",
      "Epoch 2/10\n",
      "103/103 [==============================] - ETA: 0s - loss: 0.9202 - accuracy: 0.5517WARNING:tensorflow:Can save best model only with val_acc available, skipping.\n",
      "103/103 [==============================] - 14s 135ms/step - loss: 0.9202 - accuracy: 0.5517 - val_loss: 0.8088 - val_accuracy: 0.7105\n",
      "Epoch 3/10\n",
      "103/103 [==============================] - ETA: 0s - loss: 0.9250 - accuracy: 0.5955WARNING:tensorflow:Can save best model only with val_acc available, skipping.\n",
      "103/103 [==============================] - 14s 134ms/step - loss: 0.9250 - accuracy: 0.5955 - val_loss: 0.7801 - val_accuracy: 0.7105\n",
      "Epoch 4/10\n",
      "103/103 [==============================] - ETA: 0s - loss: 0.8237 - accuracy: 0.6160WARNING:tensorflow:Can save best model only with val_acc available, skipping.\n",
      "103/103 [==============================] - 14s 136ms/step - loss: 0.8237 - accuracy: 0.6160 - val_loss: 0.7210 - val_accuracy: 0.6930\n",
      "Epoch 5/10\n",
      "103/103 [==============================] - ETA: 0s - loss: 1.1955 - accuracy: 0.5858WARNING:tensorflow:Can save best model only with val_acc available, skipping.\n",
      "103/103 [==============================] - 14s 135ms/step - loss: 1.1955 - accuracy: 0.5858 - val_loss: 0.7587 - val_accuracy: 0.7105\n",
      "Epoch 6/10\n",
      "103/103 [==============================] - ETA: 0s - loss: 0.7925 - accuracy: 0.6248WARNING:tensorflow:Can save best model only with val_acc available, skipping.\n",
      "103/103 [==============================] - 14s 136ms/step - loss: 0.7925 - accuracy: 0.6248 - val_loss: 0.7697 - val_accuracy: 0.6842\n",
      "Epoch 7/10\n",
      "103/103 [==============================] - ETA: 0s - loss: 0.7851 - accuracy: 0.6228WARNING:tensorflow:Can save best model only with val_acc available, skipping.\n",
      "103/103 [==============================] - 14s 136ms/step - loss: 0.7851 - accuracy: 0.6228 - val_loss: 0.7340 - val_accuracy: 0.6842\n",
      "Epoch 8/10\n",
      "103/103 [==============================] - ETA: 0s - loss: 0.7712 - accuracy: 0.6355WARNING:tensorflow:Can save best model only with val_acc available, skipping.\n",
      "103/103 [==============================] - 14s 133ms/step - loss: 0.7712 - accuracy: 0.6355 - val_loss: 0.8463 - val_accuracy: 0.6754\n",
      "Epoch 00008: early stopping\n",
      "3/3 [==============================] - 0s 31ms/step - loss: 0.9145 - accuracy: 0.6098\n",
      "Epoch 1/10\n",
      "103/103 [==============================] - ETA: 0s - loss: 1.0075 - accuracy: 0.5253WARNING:tensorflow:Can save best model only with val_acc available, skipping.\n",
      "103/103 [==============================] - 15s 144ms/step - loss: 1.0075 - accuracy: 0.5253 - val_loss: 0.9784 - val_accuracy: 0.5439\n"
     ]
    },
    {
     "name": "stdout",
     "output_type": "stream",
     "text": [
      "Epoch 2/10\n",
      "103/103 [==============================] - ETA: 0s - loss: 0.9193 - accuracy: 0.5614WARNING:tensorflow:Can save best model only with val_acc available, skipping.\n",
      "103/103 [==============================] - 15s 141ms/step - loss: 0.9193 - accuracy: 0.5614 - val_loss: 0.7945 - val_accuracy: 0.6842\n",
      "Epoch 3/10\n",
      "103/103 [==============================] - ETA: 0s - loss: 0.8537 - accuracy: 0.6082WARNING:tensorflow:Can save best model only with val_acc available, skipping.\n",
      "103/103 [==============================] - 14s 140ms/step - loss: 0.8537 - accuracy: 0.6082 - val_loss: 0.7736 - val_accuracy: 0.6842\n",
      "Epoch 4/10\n",
      "103/103 [==============================] - ETA: 0s - loss: 0.8307 - accuracy: 0.6072WARNING:tensorflow:Can save best model only with val_acc available, skipping.\n",
      "103/103 [==============================] - 15s 143ms/step - loss: 0.8307 - accuracy: 0.6072 - val_loss: 0.7433 - val_accuracy: 0.6930\n",
      "Epoch 5/10\n",
      "103/103 [==============================] - ETA: 0s - loss: 0.8096 - accuracy: 0.6228WARNING:tensorflow:Can save best model only with val_acc available, skipping.\n",
      "103/103 [==============================] - 14s 137ms/step - loss: 0.8096 - accuracy: 0.6228 - val_loss: 0.7330 - val_accuracy: 0.7193\n",
      "Epoch 6/10\n",
      "103/103 [==============================] - ETA: 0s - loss: 0.8170 - accuracy: 0.6189WARNING:tensorflow:Can save best model only with val_acc available, skipping.\n",
      "103/103 [==============================] - 15s 143ms/step - loss: 0.8170 - accuracy: 0.6189 - val_loss: 0.7363 - val_accuracy: 0.7105\n",
      "Epoch 7/10\n",
      "103/103 [==============================] - ETA: 0s - loss: 0.7812 - accuracy: 0.6326WARNING:tensorflow:Can save best model only with val_acc available, skipping.\n",
      "103/103 [==============================] - 14s 140ms/step - loss: 0.7812 - accuracy: 0.6326 - val_loss: 0.7787 - val_accuracy: 0.6842\n",
      "Epoch 8/10\n",
      "103/103 [==============================] - ETA: 0s - loss: 0.7774 - accuracy: 0.6423WARNING:tensorflow:Can save best model only with val_acc available, skipping.\n",
      "103/103 [==============================] - 14s 141ms/step - loss: 0.7774 - accuracy: 0.6423 - val_loss: 0.7613 - val_accuracy: 0.6930\n",
      "Epoch 9/10\n",
      "103/103 [==============================] - ETA: 0s - loss: 0.7668 - accuracy: 0.6452WARNING:tensorflow:Can save best model only with val_acc available, skipping.\n",
      "103/103 [==============================] - 15s 142ms/step - loss: 0.7668 - accuracy: 0.6452 - val_loss: 0.7829 - val_accuracy: 0.7193\n",
      "Epoch 00009: early stopping\n",
      "3/3 [==============================] - 0s 33ms/step - loss: 0.8730 - accuracy: 0.5732\n",
      "Epoch 1/10\n",
      "102/103 [============================>.] - ETA: 0s - loss: 1.0030 - accuracy: 0.5304WARNING:tensorflow:Can save best model only with val_acc available, skipping.\n",
      "103/103 [==============================] - 15s 141ms/step - loss: 1.0032 - accuracy: 0.5292 - val_loss: 1.0059 - val_accuracy: 0.6053\n",
      "Epoch 2/10\n",
      "103/103 [==============================] - ETA: 0s - loss: 0.9135 - accuracy: 0.5565WARNING:tensorflow:Can save best model only with val_acc available, skipping.\n",
      "103/103 [==============================] - 14s 136ms/step - loss: 0.9135 - accuracy: 0.5565 - val_loss: 0.8586 - val_accuracy: 0.6754\n",
      "Epoch 3/10\n",
      "102/103 [============================>.] - ETA: 0s - loss: 0.8577 - accuracy: 0.5892WARNING:tensorflow:Can save best model only with val_acc available, skipping.\n",
      "103/103 [==============================] - 14s 133ms/step - loss: 0.8591 - accuracy: 0.5887 - val_loss: 0.7251 - val_accuracy: 0.7281\n",
      "Epoch 4/10\n",
      "103/103 [==============================] - ETA: 0s - loss: 0.8428 - accuracy: 0.6053WARNING:tensorflow:Can save best model only with val_acc available, skipping.\n",
      "103/103 [==============================] - 14s 136ms/step - loss: 0.8428 - accuracy: 0.6053 - val_loss: 0.6967 - val_accuracy: 0.7018\n",
      "Epoch 5/10\n",
      "103/103 [==============================] - ETA: 0s - loss: 0.8125 - accuracy: 0.6170WARNING:tensorflow:Can save best model only with val_acc available, skipping.\n",
      "103/103 [==============================] - 14s 135ms/step - loss: 0.8125 - accuracy: 0.6170 - val_loss: 0.7570 - val_accuracy: 0.6930\n",
      "Epoch 6/10\n",
      "103/103 [==============================] - ETA: 0s - loss: 0.7958 - accuracy: 0.6296WARNING:tensorflow:Can save best model only with val_acc available, skipping.\n",
      "103/103 [==============================] - 14s 135ms/step - loss: 0.7958 - accuracy: 0.6296 - val_loss: 0.7875 - val_accuracy: 0.6491\n",
      "Epoch 7/10\n",
      "103/103 [==============================] - ETA: 0s - loss: 0.7834 - accuracy: 0.6559WARNING:tensorflow:Can save best model only with val_acc available, skipping.\n",
      "103/103 [==============================] - 14s 136ms/step - loss: 0.7834 - accuracy: 0.6559 - val_loss: 0.8891 - val_accuracy: 0.6404\n",
      "Epoch 8/10\n",
      "103/103 [==============================] - ETA: 0s - loss: 0.7804 - accuracy: 0.6335WARNING:tensorflow:Can save best model only with val_acc available, skipping.\n",
      "103/103 [==============================] - 13s 131ms/step - loss: 0.7804 - accuracy: 0.6335 - val_loss: 0.7580 - val_accuracy: 0.6754\n",
      "Epoch 00008: early stopping\n",
      "3/3 [==============================] - 0s 30ms/step - loss: 0.8046 - accuracy: 0.6829\n",
      "Epoch 1/10\n",
      "103/103 [==============================] - ETA: 0s - loss: 1.0007 - accuracy: 0.5302WARNING:tensorflow:Can save best model only with val_acc available, skipping.\n",
      "103/103 [==============================] - 15s 146ms/step - loss: 1.0007 - accuracy: 0.5302 - val_loss: 0.9859 - val_accuracy: 0.6053\n",
      "Epoch 2/10\n",
      "103/103 [==============================] - ETA: 0s - loss: 0.9044 - accuracy: 0.5692WARNING:tensorflow:Can save best model only with val_acc available, skipping.\n",
      "103/103 [==============================] - 13s 126ms/step - loss: 0.9044 - accuracy: 0.5692 - val_loss: 0.8006 - val_accuracy: 0.7105\n",
      "Epoch 3/10\n",
      "103/103 [==============================] - ETA: 0s - loss: 0.8475 - accuracy: 0.6150WARNING:tensorflow:Can save best model only with val_acc available, skipping.\n",
      "103/103 [==============================] - 14s 136ms/step - loss: 0.8475 - accuracy: 0.6150 - val_loss: 0.7685 - val_accuracy: 0.7193\n",
      "Epoch 4/10\n",
      "103/103 [==============================] - ETA: 0s - loss: 0.8289 - accuracy: 0.6111WARNING:tensorflow:Can save best model only with val_acc available, skipping.\n",
      "103/103 [==============================] - 13s 128ms/step - loss: 0.8289 - accuracy: 0.6111 - val_loss: 0.6985 - val_accuracy: 0.7281\n",
      "Epoch 5/10\n",
      "103/103 [==============================] - ETA: 0s - loss: 0.8139 - accuracy: 0.6238WARNING:tensorflow:Can save best model only with val_acc available, skipping.\n",
      "103/103 [==============================] - 14s 135ms/step - loss: 0.8139 - accuracy: 0.6238 - val_loss: 0.7591 - val_accuracy: 0.7018\n",
      "Epoch 6/10\n",
      "103/103 [==============================] - ETA: 0s - loss: 0.7948 - accuracy: 0.6355WARNING:tensorflow:Can save best model only with val_acc available, skipping.\n",
      "103/103 [==============================] - 14s 135ms/step - loss: 0.7948 - accuracy: 0.6355 - val_loss: 0.7558 - val_accuracy: 0.6491\n",
      "Epoch 7/10\n",
      "103/103 [==============================] - ETA: 0s - loss: 0.7805 - accuracy: 0.6394WARNING:tensorflow:Can save best model only with val_acc available, skipping.\n",
      "103/103 [==============================] - 14s 139ms/step - loss: 0.7805 - accuracy: 0.6394 - val_loss: 0.7412 - val_accuracy: 0.6930\n",
      "Epoch 8/10\n",
      "103/103 [==============================] - ETA: 0s - loss: 0.7711 - accuracy: 0.6413WARNING:tensorflow:Can save best model only with val_acc available, skipping.\n",
      "103/103 [==============================] - 14s 133ms/step - loss: 0.7711 - accuracy: 0.6413 - val_loss: 0.7677 - val_accuracy: 0.6754\n",
      "Epoch 00008: early stopping\n",
      "3/3 [==============================] - 0s 35ms/step - loss: 0.8915 - accuracy: 0.5122\n",
      "Epoch 1/10\n",
      "103/103 [==============================] - ETA: 0s - loss: 1.0071 - accuracy: 0.5302WARNING:tensorflow:Can save best model only with val_acc available, skipping.\n",
      "103/103 [==============================] - 15s 145ms/step - loss: 1.0071 - accuracy: 0.5302 - val_loss: 0.9769 - val_accuracy: 0.5614\n",
      "Epoch 2/10\n",
      "103/103 [==============================] - ETA: 0s - loss: 0.9101 - accuracy: 0.5643WARNING:tensorflow:Can save best model only with val_acc available, skipping.\n",
      "103/103 [==============================] - 14s 136ms/step - loss: 0.9101 - accuracy: 0.5643 - val_loss: 0.7985 - val_accuracy: 0.6667\n"
     ]
    },
    {
     "name": "stdout",
     "output_type": "stream",
     "text": [
      "Epoch 3/10\n",
      "103/103 [==============================] - ETA: 0s - loss: 0.8544 - accuracy: 0.5945WARNING:tensorflow:Can save best model only with val_acc available, skipping.\n",
      "103/103 [==============================] - 14s 138ms/step - loss: 0.8544 - accuracy: 0.5945 - val_loss: 0.7919 - val_accuracy: 0.6754\n",
      "Epoch 4/10\n",
      "103/103 [==============================] - ETA: 0s - loss: 0.8268 - accuracy: 0.6062WARNING:tensorflow:Can save best model only with val_acc available, skipping.\n",
      "103/103 [==============================] - 14s 136ms/step - loss: 0.8268 - accuracy: 0.6062 - val_loss: 0.7385 - val_accuracy: 0.6930\n",
      "Epoch 5/10\n",
      "103/103 [==============================] - ETA: 0s - loss: 0.8104 - accuracy: 0.6150WARNING:tensorflow:Can save best model only with val_acc available, skipping.\n",
      "103/103 [==============================] - 14s 138ms/step - loss: 0.8104 - accuracy: 0.6150 - val_loss: 0.7434 - val_accuracy: 0.6667\n",
      "Epoch 6/10\n",
      "103/103 [==============================] - ETA: 0s - loss: 0.7928 - accuracy: 0.6306WARNING:tensorflow:Can save best model only with val_acc available, skipping.\n",
      "103/103 [==============================] - 14s 132ms/step - loss: 0.7928 - accuracy: 0.6306 - val_loss: 0.8075 - val_accuracy: 0.6404\n",
      "Epoch 7/10\n",
      "103/103 [==============================] - ETA: 0s - loss: 0.7759 - accuracy: 0.6374WARNING:tensorflow:Can save best model only with val_acc available, skipping.\n",
      "103/103 [==============================] - 14s 137ms/step - loss: 0.7759 - accuracy: 0.6374 - val_loss: 0.8637 - val_accuracy: 0.6404\n",
      "Epoch 8/10\n",
      "103/103 [==============================] - ETA: 0s - loss: 0.7711 - accuracy: 0.6413WARNING:tensorflow:Can save best model only with val_acc available, skipping.\n",
      "103/103 [==============================] - 14s 137ms/step - loss: 0.7711 - accuracy: 0.6413 - val_loss: 0.7895 - val_accuracy: 0.6842\n",
      "Epoch 00008: early stopping\n",
      "3/3 [==============================] - 0s 13ms/step - loss: 0.9166 - accuracy: 0.5000\n",
      "Epoch 1/10\n",
      "103/103 [==============================] - ETA: 0s - loss: 1.0110 - accuracy: 0.5312WARNING:tensorflow:Can save best model only with val_acc available, skipping.\n",
      "103/103 [==============================] - 16s 157ms/step - loss: 1.0110 - accuracy: 0.5312 - val_loss: 1.0184 - val_accuracy: 0.5217\n",
      "Epoch 2/10\n",
      "103/103 [==============================] - ETA: 0s - loss: 0.9195 - accuracy: 0.5604WARNING:tensorflow:Can save best model only with val_acc available, skipping.\n",
      "103/103 [==============================] - 16s 152ms/step - loss: 0.9195 - accuracy: 0.5604 - val_loss: 0.8149 - val_accuracy: 0.7043\n",
      "Epoch 3/10\n",
      "103/103 [==============================] - ETA: 0s - loss: 0.8513 - accuracy: 0.5984WARNING:tensorflow:Can save best model only with val_acc available, skipping.\n",
      "103/103 [==============================] - 16s 153ms/step - loss: 0.8513 - accuracy: 0.5984 - val_loss: 0.7934 - val_accuracy: 0.7304\n",
      "Epoch 4/10\n",
      "103/103 [==============================] - ETA: 0s - loss: 0.8248 - accuracy: 0.6004WARNING:tensorflow:Can save best model only with val_acc available, skipping.\n",
      "103/103 [==============================] - 16s 152ms/step - loss: 0.8248 - accuracy: 0.6004 - val_loss: 0.7014 - val_accuracy: 0.7043\n",
      "Epoch 5/10\n",
      "103/103 [==============================] - ETA: 0s - loss: 0.8011 - accuracy: 0.6218WARNING:tensorflow:Can save best model only with val_acc available, skipping.\n",
      "103/103 [==============================] - 16s 152ms/step - loss: 0.8011 - accuracy: 0.6218 - val_loss: 0.7356 - val_accuracy: 0.6870\n",
      "Epoch 6/10\n",
      "103/103 [==============================] - ETA: 0s - loss: 0.7928 - accuracy: 0.6335WARNING:tensorflow:Can save best model only with val_acc available, skipping.\n",
      "103/103 [==============================] - 16s 151ms/step - loss: 0.7928 - accuracy: 0.6335 - val_loss: 0.7734 - val_accuracy: 0.6696\n",
      "Epoch 7/10\n",
      "103/103 [==============================] - ETA: 0s - loss: 0.7778 - accuracy: 0.6355WARNING:tensorflow:Can save best model only with val_acc available, skipping.\n",
      "103/103 [==============================] - 16s 151ms/step - loss: 0.7778 - accuracy: 0.6355 - val_loss: 0.7747 - val_accuracy: 0.6435\n",
      "Epoch 8/10\n",
      "103/103 [==============================] - ETA: 0s - loss: 0.7654 - accuracy: 0.6374WARNING:tensorflow:Can save best model only with val_acc available, skipping.\n",
      "103/103 [==============================] - 16s 152ms/step - loss: 0.7654 - accuracy: 0.6374 - val_loss: 0.7981 - val_accuracy: 0.6696\n",
      "Epoch 00008: early stopping\n",
      "3/3 [==============================] - 0s 16ms/step - loss: 0.9005 - accuracy: 0.5926\n",
      "Epoch 1/10\n",
      "103/103 [==============================] - ETA: 0s - loss: 1.0169 - accuracy: 0.5185WARNING:tensorflow:Can save best model only with val_acc available, skipping.\n",
      "103/103 [==============================] - 16s 156ms/step - loss: 1.0169 - accuracy: 0.5185 - val_loss: 1.0180 - val_accuracy: 0.5565\n",
      "Epoch 2/10\n",
      "103/103 [==============================] - ETA: 0s - loss: 0.9140 - accuracy: 0.5575WARNING:tensorflow:Can save best model only with val_acc available, skipping.\n",
      "103/103 [==============================] - 15s 149ms/step - loss: 0.9140 - accuracy: 0.5575 - val_loss: 0.8110 - val_accuracy: 0.7130\n",
      "Epoch 3/10\n",
      "103/103 [==============================] - ETA: 0s - loss: 0.8455 - accuracy: 0.5984WARNING:tensorflow:Can save best model only with val_acc available, skipping.\n",
      "103/103 [==============================] - 15s 150ms/step - loss: 0.8455 - accuracy: 0.5984 - val_loss: 0.7336 - val_accuracy: 0.7043\n",
      "Epoch 4/10\n",
      "103/103 [==============================] - ETA: 0s - loss: 0.8469 - accuracy: 0.6238WARNING:tensorflow:Can save best model only with val_acc available, skipping.\n",
      "103/103 [==============================] - 15s 150ms/step - loss: 0.8469 - accuracy: 0.6238 - val_loss: 0.7381 - val_accuracy: 0.7130\n",
      "Epoch 5/10\n",
      "103/103 [==============================] - ETA: 0s - loss: 0.8007 - accuracy: 0.6287WARNING:tensorflow:Can save best model only with val_acc available, skipping.\n",
      "103/103 [==============================] - 15s 149ms/step - loss: 0.8007 - accuracy: 0.6287 - val_loss: 0.7150 - val_accuracy: 0.7304\n",
      "Epoch 6/10\n",
      "103/103 [==============================] - ETA: 0s - loss: 0.7847 - accuracy: 0.6433WARNING:tensorflow:Can save best model only with val_acc available, skipping.\n",
      "103/103 [==============================] - 15s 149ms/step - loss: 0.7847 - accuracy: 0.6433 - val_loss: 0.7164 - val_accuracy: 0.7304\n",
      "Epoch 7/10\n",
      "103/103 [==============================] - ETA: 0s - loss: 0.7694 - accuracy: 0.6530WARNING:tensorflow:Can save best model only with val_acc available, skipping.\n",
      "103/103 [==============================] - 15s 149ms/step - loss: 0.7694 - accuracy: 0.6530 - val_loss: 0.7427 - val_accuracy: 0.7304\n",
      "Epoch 8/10\n",
      "103/103 [==============================] - ETA: 0s - loss: 0.7625 - accuracy: 0.6540WARNING:tensorflow:Can save best model only with val_acc available, skipping.\n",
      "103/103 [==============================] - 15s 147ms/step - loss: 0.7625 - accuracy: 0.6540 - val_loss: 0.7633 - val_accuracy: 0.6696\n",
      "Epoch 9/10\n",
      "103/103 [==============================] - ETA: 0s - loss: 0.7422 - accuracy: 0.6657WARNING:tensorflow:Can save best model only with val_acc available, skipping.\n",
      "103/103 [==============================] - 15s 149ms/step - loss: 0.7422 - accuracy: 0.6657 - val_loss: 0.7697 - val_accuracy: 0.6696\n",
      "Epoch 00009: early stopping\n",
      "3/3 [==============================] - 0s 36ms/step - loss: 1.1696 - accuracy: 0.5062\n",
      "Epoch 1/10\n",
      "103/103 [==============================] - ETA: 0s - loss: 1.0054 - accuracy: 0.5273WARNING:tensorflow:Can save best model only with val_acc available, skipping.\n",
      "103/103 [==============================] - 16s 151ms/step - loss: 1.0054 - accuracy: 0.5273 - val_loss: 1.0244 - val_accuracy: 0.5478\n",
      "Epoch 2/10\n",
      "103/103 [==============================] - ETA: 0s - loss: 0.9147 - accuracy: 0.5585WARNING:tensorflow:Can save best model only with val_acc available, skipping.\n",
      "103/103 [==============================] - 15s 143ms/step - loss: 0.9147 - accuracy: 0.5585 - val_loss: 0.7761 - val_accuracy: 0.6957\n",
      "Epoch 3/10\n",
      "103/103 [==============================] - ETA: 0s - loss: 0.8522 - accuracy: 0.6062WARNING:tensorflow:Can save best model only with val_acc available, skipping.\n",
      "103/103 [==============================] - 14s 141ms/step - loss: 0.8522 - accuracy: 0.6062 - val_loss: 0.7718 - val_accuracy: 0.7043\n"
     ]
    },
    {
     "name": "stdout",
     "output_type": "stream",
     "text": [
      "Epoch 4/10\n",
      "103/103 [==============================] - ETA: 0s - loss: 0.8210 - accuracy: 0.6033WARNING:tensorflow:Can save best model only with val_acc available, skipping.\n",
      "103/103 [==============================] - 14s 139ms/step - loss: 0.8210 - accuracy: 0.6033 - val_loss: 0.8792 - val_accuracy: 0.6609\n",
      "Epoch 5/10\n",
      "103/103 [==============================] - ETA: 0s - loss: 0.8024 - accuracy: 0.6277WARNING:tensorflow:Can save best model only with val_acc available, skipping.\n",
      "103/103 [==============================] - 14s 140ms/step - loss: 0.8024 - accuracy: 0.6277 - val_loss: 0.7784 - val_accuracy: 0.6783\n",
      "Epoch 6/10\n",
      "103/103 [==============================] - ETA: 0s - loss: 0.7804 - accuracy: 0.6423WARNING:tensorflow:Can save best model only with val_acc available, skipping.\n",
      "103/103 [==============================] - 15s 141ms/step - loss: 0.7804 - accuracy: 0.6423 - val_loss: 0.7769 - val_accuracy: 0.6609\n",
      "Epoch 7/10\n",
      "103/103 [==============================] - ETA: 0s - loss: 0.7797 - accuracy: 0.6423WARNING:tensorflow:Can save best model only with val_acc available, skipping.\n",
      "103/103 [==============================] - 15s 144ms/step - loss: 0.7797 - accuracy: 0.6423 - val_loss: 0.7870 - val_accuracy: 0.7043\n",
      "Epoch 00007: early stopping\n",
      "3/3 [==============================] - 0s 36ms/step - loss: 0.9702 - accuracy: 0.5309\n",
      "Epoch 1/10\n",
      "103/103 [==============================] - ETA: 0s - loss: 1.0031 - accuracy: 0.5224WARNING:tensorflow:Can save best model only with val_acc available, skipping.\n",
      "103/103 [==============================] - 15s 148ms/step - loss: 1.0031 - accuracy: 0.5224 - val_loss: 0.9648 - val_accuracy: 0.6087\n",
      "Epoch 2/10\n",
      "103/103 [==============================] - ETA: 0s - loss: 0.9062 - accuracy: 0.5595WARNING:tensorflow:Can save best model only with val_acc available, skipping.\n",
      "103/103 [==============================] - 16s 155ms/step - loss: 0.9062 - accuracy: 0.5595 - val_loss: 0.8139 - val_accuracy: 0.6435\n",
      "Epoch 3/10\n",
      "103/103 [==============================] - ETA: 0s - loss: 0.8601 - accuracy: 0.5867WARNING:tensorflow:Can save best model only with val_acc available, skipping.\n",
      "103/103 [==============================] - 16s 156ms/step - loss: 0.8601 - accuracy: 0.5867 - val_loss: 0.7654 - val_accuracy: 0.6609\n",
      "Epoch 4/10\n",
      "103/103 [==============================] - ETA: 0s - loss: 0.8390 - accuracy: 0.5955WARNING:tensorflow:Can save best model only with val_acc available, skipping.\n",
      "103/103 [==============================] - 15s 147ms/step - loss: 0.8390 - accuracy: 0.5955 - val_loss: 0.7084 - val_accuracy: 0.7130\n",
      "Epoch 5/10\n",
      "103/103 [==============================] - ETA: 0s - loss: 0.8135 - accuracy: 0.6121WARNING:tensorflow:Can save best model only with val_acc available, skipping.\n",
      "103/103 [==============================] - 16s 158ms/step - loss: 0.8135 - accuracy: 0.6121 - val_loss: 0.7635 - val_accuracy: 0.6783\n",
      "Epoch 6/10\n",
      "103/103 [==============================] - ETA: 0s - loss: 0.8054 - accuracy: 0.6345WARNING:tensorflow:Can save best model only with val_acc available, skipping.\n",
      "103/103 [==============================] - 16s 156ms/step - loss: 0.8054 - accuracy: 0.6345 - val_loss: 0.7175 - val_accuracy: 0.6870\n",
      "Epoch 7/10\n",
      "103/103 [==============================] - ETA: 0s - loss: 0.7906 - accuracy: 0.6384WARNING:tensorflow:Can save best model only with val_acc available, skipping.\n",
      "103/103 [==============================] - 16s 156ms/step - loss: 0.7906 - accuracy: 0.6384 - val_loss: 0.7093 - val_accuracy: 0.6957\n",
      "Epoch 8/10\n",
      "103/103 [==============================] - ETA: 0s - loss: 0.7812 - accuracy: 0.6481WARNING:tensorflow:Can save best model only with val_acc available, skipping.\n",
      "103/103 [==============================] - 16s 155ms/step - loss: 0.7812 - accuracy: 0.6481 - val_loss: 0.7186 - val_accuracy: 0.6957\n",
      "Epoch 00008: early stopping\n",
      "3/3 [==============================] - 0s 35ms/step - loss: 0.8502 - accuracy: 0.5432\n",
      "Epoch 1/10\n",
      "103/103 [==============================] - ETA: 0s - loss: 1.0155 - accuracy: 0.5244WARNING:tensorflow:Can save best model only with val_acc available, skipping.\n",
      "103/103 [==============================] - 17s 162ms/step - loss: 1.0155 - accuracy: 0.5244 - val_loss: 1.0122 - val_accuracy: 0.5304\n",
      "Epoch 2/10\n",
      "103/103 [==============================] - ETA: 0s - loss: 0.9150 - accuracy: 0.5536WARNING:tensorflow:Can save best model only with val_acc available, skipping.\n",
      "103/103 [==============================] - 16s 154ms/step - loss: 0.9150 - accuracy: 0.5536 - val_loss: 0.8771 - val_accuracy: 0.6174\n",
      "Epoch 3/10\n",
      "103/103 [==============================] - ETA: 0s - loss: 0.8486 - accuracy: 0.6043WARNING:tensorflow:Can save best model only with val_acc available, skipping.\n",
      "103/103 [==============================] - 16s 155ms/step - loss: 0.8486 - accuracy: 0.6043 - val_loss: 0.7729 - val_accuracy: 0.6696\n",
      "Epoch 4/10\n",
      "103/103 [==============================] - ETA: 0s - loss: 0.9049 - accuracy: 0.6101WARNING:tensorflow:Can save best model only with val_acc available, skipping.\n",
      "103/103 [==============================] - 16s 155ms/step - loss: 0.9049 - accuracy: 0.6101 - val_loss: 0.8201 - val_accuracy: 0.6348\n",
      "Epoch 5/10\n",
      "103/103 [==============================] - ETA: 0s - loss: 0.8054 - accuracy: 0.6209WARNING:tensorflow:Can save best model only with val_acc available, skipping.\n",
      "103/103 [==============================] - 16s 159ms/step - loss: 0.8054 - accuracy: 0.6209 - val_loss: 0.7932 - val_accuracy: 0.6522\n",
      "Epoch 6/10\n",
      "103/103 [==============================] - ETA: 0s - loss: 0.7837 - accuracy: 0.6296WARNING:tensorflow:Can save best model only with val_acc available, skipping.\n",
      "103/103 [==============================] - 16s 158ms/step - loss: 0.7837 - accuracy: 0.6296 - val_loss: 0.7669 - val_accuracy: 0.6609\n",
      "Epoch 7/10\n",
      "103/103 [==============================] - ETA: 0s - loss: 0.7768 - accuracy: 0.6257WARNING:tensorflow:Can save best model only with val_acc available, skipping.\n",
      "103/103 [==============================] - 16s 158ms/step - loss: 0.7768 - accuracy: 0.6257 - val_loss: 0.8303 - val_accuracy: 0.6348\n",
      "Epoch 8/10\n",
      "103/103 [==============================] - ETA: 0s - loss: 0.8120 - accuracy: 0.6131WARNING:tensorflow:Can save best model only with val_acc available, skipping.\n",
      "103/103 [==============================] - 16s 157ms/step - loss: 0.8120 - accuracy: 0.6131 - val_loss: 0.8212 - val_accuracy: 0.6261\n",
      "Epoch 9/10\n",
      "103/103 [==============================] - ETA: 0s - loss: 0.7548 - accuracy: 0.6491WARNING:tensorflow:Can save best model only with val_acc available, skipping.\n",
      "103/103 [==============================] - 16s 153ms/step - loss: 0.7548 - accuracy: 0.6491 - val_loss: 0.9150 - val_accuracy: 0.6000\n",
      "Epoch 10/10\n",
      "103/103 [==============================] - ETA: 0s - loss: 0.7522 - accuracy: 0.6423WARNING:tensorflow:Can save best model only with val_acc available, skipping.\n",
      "103/103 [==============================] - 16s 153ms/step - loss: 0.7522 - accuracy: 0.6423 - val_loss: 0.8355 - val_accuracy: 0.6261\n",
      "Epoch 00010: early stopping\n",
      "3/3 [==============================] - 0s 34ms/step - loss: 0.9304 - accuracy: 0.6049\n",
      "Epoch 1/10\n",
      "103/103 [==============================] - ETA: 0s - loss: 1.0301 - accuracy: 0.5331WARNING:tensorflow:Can save best model only with val_acc available, skipping.\n",
      "103/103 [==============================] - 17s 166ms/step - loss: 1.0301 - accuracy: 0.5331 - val_loss: 1.0049 - val_accuracy: 0.5478\n",
      "Epoch 2/10\n",
      "103/103 [==============================] - ETA: 0s - loss: 0.9153 - accuracy: 0.5673WARNING:tensorflow:Can save best model only with val_acc available, skipping.\n",
      "103/103 [==============================] - 16s 159ms/step - loss: 0.9153 - accuracy: 0.5673 - val_loss: 0.8514 - val_accuracy: 0.7043\n",
      "Epoch 3/10\n",
      "103/103 [==============================] - ETA: 0s - loss: 0.8571 - accuracy: 0.5975WARNING:tensorflow:Can save best model only with val_acc available, skipping.\n",
      "103/103 [==============================] - 16s 156ms/step - loss: 0.8571 - accuracy: 0.5975 - val_loss: 0.7544 - val_accuracy: 0.6870\n",
      "Epoch 4/10\n",
      "103/103 [==============================] - ETA: 0s - loss: 0.8292 - accuracy: 0.6189WARNING:tensorflow:Can save best model only with val_acc available, skipping.\n",
      "103/103 [==============================] - 16s 158ms/step - loss: 0.8292 - accuracy: 0.6189 - val_loss: 0.7717 - val_accuracy: 0.6696\n"
     ]
    },
    {
     "name": "stdout",
     "output_type": "stream",
     "text": [
      "Epoch 5/10\n",
      "103/103 [==============================] - ETA: 0s - loss: 0.7989 - accuracy: 0.6335WARNING:tensorflow:Can save best model only with val_acc available, skipping.\n",
      "103/103 [==============================] - 17s 160ms/step - loss: 0.7989 - accuracy: 0.6335 - val_loss: 0.7471 - val_accuracy: 0.7130\n",
      "Epoch 6/10\n",
      "103/103 [==============================] - ETA: 0s - loss: 0.7902 - accuracy: 0.6170WARNING:tensorflow:Can save best model only with val_acc available, skipping.\n",
      "103/103 [==============================] - 16s 156ms/step - loss: 0.7902 - accuracy: 0.6170 - val_loss: 0.7531 - val_accuracy: 0.6609\n",
      "Epoch 7/10\n",
      "103/103 [==============================] - ETA: 0s - loss: 0.7804 - accuracy: 0.6248WARNING:tensorflow:Can save best model only with val_acc available, skipping.\n",
      "103/103 [==============================] - 16s 160ms/step - loss: 0.7804 - accuracy: 0.6248 - val_loss: 0.7969 - val_accuracy: 0.6522\n",
      "Epoch 8/10\n",
      "103/103 [==============================] - ETA: 0s - loss: 0.7769 - accuracy: 0.6345WARNING:tensorflow:Can save best model only with val_acc available, skipping.\n",
      "103/103 [==============================] - 17s 161ms/step - loss: 0.7769 - accuracy: 0.6345 - val_loss: 0.8036 - val_accuracy: 0.6870\n",
      "Epoch 9/10\n",
      "103/103 [==============================] - ETA: 0s - loss: 0.7658 - accuracy: 0.6316WARNING:tensorflow:Can save best model only with val_acc available, skipping.\n",
      "103/103 [==============================] - 16s 158ms/step - loss: 0.7658 - accuracy: 0.6316 - val_loss: 0.7810 - val_accuracy: 0.6957\n",
      "Epoch 00009: early stopping\n",
      "3/3 [==============================] - 0s 38ms/step - loss: 0.8327 - accuracy: 0.6543\n",
      "Epoch 1/10\n",
      "103/103 [==============================] - ETA: 0s - loss: 1.0310 - accuracy: 0.5244WARNING:tensorflow:Can save best model only with val_acc available, skipping.\n",
      "103/103 [==============================] - 17s 165ms/step - loss: 1.0310 - accuracy: 0.5244 - val_loss: 1.0111 - val_accuracy: 0.5478\n",
      "Epoch 2/10\n",
      "103/103 [==============================] - ETA: 0s - loss: 0.9209 - accuracy: 0.5536WARNING:tensorflow:Can save best model only with val_acc available, skipping.\n",
      "103/103 [==============================] - 16s 152ms/step - loss: 0.9209 - accuracy: 0.5536 - val_loss: 0.7925 - val_accuracy: 0.7304\n",
      "Epoch 3/10\n",
      "103/103 [==============================] - ETA: 0s - loss: 0.8572 - accuracy: 0.5887WARNING:tensorflow:Can save best model only with val_acc available, skipping.\n",
      "103/103 [==============================] - 17s 163ms/step - loss: 0.8572 - accuracy: 0.5887 - val_loss: 0.7842 - val_accuracy: 0.6870\n",
      "Epoch 4/10\n",
      "103/103 [==============================] - ETA: 0s - loss: 0.8343 - accuracy: 0.6092WARNING:tensorflow:Can save best model only with val_acc available, skipping.\n",
      "103/103 [==============================] - 17s 162ms/step - loss: 0.8343 - accuracy: 0.6092 - val_loss: 0.6967 - val_accuracy: 0.7043\n",
      "Epoch 5/10\n",
      "103/103 [==============================] - ETA: 0s - loss: 0.8085 - accuracy: 0.6179WARNING:tensorflow:Can save best model only with val_acc available, skipping.\n",
      "103/103 [==============================] - 16s 159ms/step - loss: 0.8085 - accuracy: 0.6179 - val_loss: 0.7478 - val_accuracy: 0.7043\n",
      "Epoch 6/10\n",
      "103/103 [==============================] - ETA: 0s - loss: 0.7903 - accuracy: 0.6277WARNING:tensorflow:Can save best model only with val_acc available, skipping.\n",
      "103/103 [==============================] - 16s 160ms/step - loss: 0.7903 - accuracy: 0.6277 - val_loss: 0.7622 - val_accuracy: 0.6870\n",
      "Epoch 7/10\n",
      "103/103 [==============================] - ETA: 0s - loss: 0.7801 - accuracy: 0.6365WARNING:tensorflow:Can save best model only with val_acc available, skipping.\n",
      "103/103 [==============================] - 16s 160ms/step - loss: 0.7801 - accuracy: 0.6365 - val_loss: 0.7373 - val_accuracy: 0.6870\n",
      "Epoch 8/10\n",
      "103/103 [==============================] - ETA: 0s - loss: 0.8155 - accuracy: 0.6365WARNING:tensorflow:Can save best model only with val_acc available, skipping.\n",
      "103/103 [==============================] - 16s 155ms/step - loss: 0.8155 - accuracy: 0.6365 - val_loss: 0.7581 - val_accuracy: 0.6870\n",
      "Epoch 00008: early stopping\n",
      "3/3 [==============================] - 0s 41ms/step - loss: 0.8568 - accuracy: 0.6543\n",
      "Epoch 1/10\n",
      "103/103 [==============================] - ETA: 0s - loss: 1.0113 - accuracy: 0.5361WARNING:tensorflow:Can save best model only with val_acc available, skipping.\n",
      "103/103 [==============================] - 16s 157ms/step - loss: 1.0113 - accuracy: 0.5361 - val_loss: 1.0005 - val_accuracy: 0.5826\n",
      "Epoch 2/10\n",
      "103/103 [==============================] - ETA: 0s - loss: 0.9218 - accuracy: 0.5575WARNING:tensorflow:Can save best model only with val_acc available, skipping.\n",
      "103/103 [==============================] - 15s 149ms/step - loss: 0.9218 - accuracy: 0.5575 - val_loss: 0.8236 - val_accuracy: 0.6522\n",
      "Epoch 3/10\n",
      "103/103 [==============================] - ETA: 0s - loss: 0.8498 - accuracy: 0.6053WARNING:tensorflow:Can save best model only with val_acc available, skipping.\n",
      "103/103 [==============================] - 17s 162ms/step - loss: 0.8498 - accuracy: 0.6053 - val_loss: 0.7695 - val_accuracy: 0.6870\n",
      "Epoch 4/10\n",
      "103/103 [==============================] - ETA: 0s - loss: 0.8127 - accuracy: 0.6199WARNING:tensorflow:Can save best model only with val_acc available, skipping.\n",
      "103/103 [==============================] - 15s 148ms/step - loss: 0.8127 - accuracy: 0.6199 - val_loss: 0.7366 - val_accuracy: 0.7043\n",
      "Epoch 5/10\n",
      "103/103 [==============================] - ETA: 0s - loss: 0.8022 - accuracy: 0.6248WARNING:tensorflow:Can save best model only with val_acc available, skipping.\n",
      "103/103 [==============================] - 17s 162ms/step - loss: 0.8022 - accuracy: 0.6248 - val_loss: 0.7543 - val_accuracy: 0.6696\n",
      "Epoch 6/10\n",
      "103/103 [==============================] - ETA: 0s - loss: 0.7843 - accuracy: 0.6326WARNING:tensorflow:Can save best model only with val_acc available, skipping.\n",
      "103/103 [==============================] - 16s 160ms/step - loss: 0.7843 - accuracy: 0.6326 - val_loss: 0.7323 - val_accuracy: 0.6870\n",
      "Epoch 7/10\n",
      "103/103 [==============================] - ETA: 0s - loss: 0.7756 - accuracy: 0.6413WARNING:tensorflow:Can save best model only with val_acc available, skipping.\n",
      "103/103 [==============================] - 16s 159ms/step - loss: 0.7756 - accuracy: 0.6413 - val_loss: 0.7310 - val_accuracy: 0.6783\n",
      "Epoch 8/10\n",
      "103/103 [==============================] - ETA: 0s - loss: 0.7663 - accuracy: 0.6267WARNING:tensorflow:Can save best model only with val_acc available, skipping.\n",
      "103/103 [==============================] - 17s 161ms/step - loss: 0.7663 - accuracy: 0.6267 - val_loss: 0.8376 - val_accuracy: 0.7130\n",
      "Epoch 9/10\n",
      "103/103 [==============================] - ETA: 0s - loss: 0.7513 - accuracy: 0.6481WARNING:tensorflow:Can save best model only with val_acc available, skipping.\n",
      "103/103 [==============================] - 16s 155ms/step - loss: 0.7513 - accuracy: 0.6481 - val_loss: 0.7517 - val_accuracy: 0.6957\n",
      "Epoch 10/10\n",
      "103/103 [==============================] - ETA: 0s - loss: 0.7490 - accuracy: 0.6618 ETA: 0s - loss: 0.7493 - accuracy: WARNING:tensorflow:Can save best model only with val_acc available, skipping.\n",
      "103/103 [==============================] - 17s 161ms/step - loss: 0.7490 - accuracy: 0.6618 - val_loss: 0.7706 - val_accuracy: 0.6957\n",
      "3/3 [==============================] - 0s 41ms/step - loss: 0.9786 - accuracy: 0.4815\n"
     ]
    }
   ],
   "source": [
    "#모델의 설정, 컴파일, 실행\n",
    "for train, test in skf.split(X,Y):\n",
    "    from tensorflow.keras.callbacks import EarlyStopping, ModelCheckpoint\n",
    "    es = EarlyStopping(monitor='val_loss',mode='min',verbose=1,patience=4)\n",
    "    mc = ModelCheckpoint('best_model.h5',monitor='val_acc',mode='max',verbose=1,save_best_only=True)\n",
    "\n",
    "    model1 = Sequential()\n",
    "    model1.add(Embedding(max_words, 64))\n",
    "    model1.add(LSTM(128))\n",
    "    model1.add(Dense(3, activation='softmax'))\n",
    "    model1.compile(optimizer='rmsprop', loss='categorical_crossentropy', metrics=['accuracy'])\n",
    "    history = model1.fit(X[train],Y[train], epochs=10, batch_size=10, callbacks=[es,mc], validation_split=0.1)\n",
    "    k_accuracy = '%.4f'%(model1.evaluate(X[test],Y[test])[1])\n",
    "    accuracy.append(k_accuracy)"
   ]
  },
  {
   "cell_type": "code",
   "execution_count": 96,
   "metadata": {},
   "outputs": [
    {
     "name": "stdout",
     "output_type": "stream",
     "text": [
      "9/9 [==============================] - 1s 59ms/step - loss: 0.9758 - accuracy: 0.5872\n",
      "\n",
      " 테스트 정확도 : 58.72%\n"
     ]
    }
   ],
   "source": [
    "print(\"\\n 테스트 정확도 : {:.2f}%\".format(model1.evaluate(X_test,y_test_cata)[1]*100))"
   ]
  }
 ],
 "metadata": {
  "kernelspec": {
   "display_name": "Python 3",
   "language": "python",
   "name": "python3"
  },
  "language_info": {
   "codemirror_mode": {
    "name": "ipython",
    "version": 3
   },
   "file_extension": ".py",
   "mimetype": "text/x-python",
   "name": "python",
   "nbconvert_exporter": "python",
   "pygments_lexer": "ipython3",
   "version": "3.7.6"
  }
 },
 "nbformat": 4,
 "nbformat_minor": 4
}
