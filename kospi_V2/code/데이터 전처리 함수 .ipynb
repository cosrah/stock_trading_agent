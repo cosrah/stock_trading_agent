{
 "cells": [
  {
   "cell_type": "code",
   "execution_count": null,
   "metadata": {},
   "outputs": [],
   "source": [
    "import pandas as pd\n",
    "import numpy as np"
   ]
  },
  {
   "cell_type": "code",
   "execution_count": null,
   "metadata": {},
   "outputs": [],
   "source": [
    "COLUMNS_CHART_DATA = ['date', 'open', 'high', 'low', 'close', 'volume']\n",
    "\n",
    "COLUMNS_TRAINING_DATA_V1 = [\n",
    "    'open_lastclose_ratio', 'high_close_ratio', 'low_close_ratio',\n",
    "    'close_lastclose_ratio', 'volume_lastvolume_ratio',\n",
    "    'close_ma5_ratio', 'volume_ma5_ratio',\n",
    "    'close_ma10_ratio', 'volume_ma10_ratio',\n",
    "    'close_ma20_ratio', 'volume_ma20_ratio',\n",
    "    'close_ma60_ratio', 'volume_ma60_ratio',\n",
    "    'close_ma120_ratio', 'volume_ma120_ratio',\n",
    "]"
   ]
  },
  {
   "cell_type": "code",
   "execution_count": null,
   "metadata": {},
   "outputs": [],
   "source": [
    "COLUMNS_TRAINING_DATA_V1_RICH = [\n",
    "    'open_lastclose_ratio', 'high_close_ratio', 'low_close_ratio',\n",
    "    'close_lastclose_ratio', 'volume_lastvolume_ratio',\n",
    "    'close_ma5_ratio', 'volume_ma5_ratio',\n",
    "    'close_ma10_ratio', 'volume_ma10_ratio',\n",
    "    'close_ma20_ratio', 'volume_ma20_ratio',\n",
    "    'close_ma60_ratio', 'volume_ma60_ratio',\n",
    "    'close_ma120_ratio', 'volume_ma120_ratio',\n",
    "    'inst_lastinst_ratio', 'frgn_lastfrgn_ratio',\n",
    "    'inst_ma5_ratio', 'frgn_ma5_ratio',\n",
    "    'inst_ma10_ratio', 'frgn_ma10_ratio',\n",
    "    'inst_ma20_ratio', 'frgn_ma20_ratio',\n",
    "    'inst_ma60_ratio', 'frgn_ma60_ratio',\n",
    "    'inst_ma120_ratio', 'frgn_ma120_ratio',\n",
    "]"
   ]
  },
  {
   "cell_type": "code",
   "execution_count": null,
   "metadata": {},
   "outputs": [],
   "source": [
    "COLUMNS_TRAINING_DATA_V2 = [\n",
    "    'per', 'pbr', 'roe',\n",
    "    'open_lastclose_ratio', 'high_close_ratio', 'low_close_ratio',\n",
    "    'close_lastclose_ratio', 'volume_lastvolume_ratio',\n",
    "    'close_ma5_ratio', 'volume_ma5_ratio',\n",
    "    'close_ma10_ratio', 'volume_ma10_ratio',\n",
    "    'close_ma20_ratio', 'volume_ma20_ratio',\n",
    "    'close_ma60_ratio', 'volume_ma60_ratio',\n",
    "    'close_ma120_ratio', 'volume_ma120_ratio',\n",
    "    'market_kospi_ma5_ratio', 'market_kospi_ma20_ratio', \n",
    "    'market_kospi_ma60_ratio', 'market_kospi_ma120_ratio', \n",
    "    'bond_k3y_ma5_ratio', 'bond_k3y_ma20_ratio', \n",
    "    'bond_k3y_ma60_ratio', 'bond_k3y_ma120_ratio'\n",
    "]"
   ]
  },
  {
   "cell_type": "code",
   "execution_count": null,
   "metadata": {},
   "outputs": [],
   "source": [
    "def preprocess(data, ver='v1'):\n",
    "    windows = [5, 10, 20, 60, 120]\n",
    "    for window in windows:\n",
    "        data['close_ma{}'.format(window)] = \\\n",
    "            data['close'].rolling(window).mean()\n",
    "        data['volume_ma{}'.format(window)] = \\\n",
    "            data['volume'].rolling(window).mean()\n",
    "        data['close_ma%d_ratio' % window] = \\\n",
    "            (data['close'] - data['close_ma%d' % window]) \\\n",
    "            / data['close_ma%d' % window]\n",
    "        data['volume_ma%d_ratio' % window] = \\\n",
    "            (data['volume'] - data['volume_ma%d' % window]) \\\n",
    "            / data['volume_ma%d' % window]"
   ]
  },
  {
   "cell_type": "code",
   "execution_count": null,
   "metadata": {},
   "outputs": [],
   "source": [
    "        if ver == 'v1.rich':\n",
    "            data['inst_ma{}'.format(window)] = \\\n",
    "                data['close'].rolling(window).mean()\n",
    "            data['frgn_ma{}'.format(window)] = \\\n",
    "                data['volume'].rolling(window).mean()\n",
    "            data['inst_ma%d_ratio' % window] = \\\n",
    "                (data['close'] - data['inst_ma%d' % window]) \\\n",
    "                / data['inst_ma%d' % window]\n",
    "            data['frgn_ma%d_ratio' % window] = \\\n",
    "                (data['volume'] - data['frgn_ma%d' % window]) \\\n",
    "                / data['frgn_ma%d' % window]\n"
   ]
  },
  {
   "cell_type": "code",
   "execution_count": null,
   "metadata": {},
   "outputs": [],
   "source": [
    "    data['open_lastclose_ratio'] = np.zeros(len(data))\n",
    "    data.loc[1:, 'open_lastclose_ratio'] = \\\n",
    "        (data['open'][1:].values - data['close'][:-1].values) \\\n",
    "        / data['close'][:-1].values\n",
    "    data['high_close_ratio'] = \\\n",
    "        (data['high'].values - data['close'].values) \\\n",
    "        / data['close'].values\n",
    "    data['low_close_ratio'] = \\\n",
    "        (data['low'].values - data['close'].values) \\\n",
    "        / data['close'].values\n",
    "    data['close_lastclose_ratio'] = np.zeros(len(data))\n",
    "    data.loc[1:, 'close_lastclose_ratio'] = \\\n",
    "        (data['close'][1:].values - data['close'][:-1].values) \\\n",
    "        / data['close'][:-1].values\n",
    "    data['volume_lastvolume_ratio'] = np.zeros(len(data))\n",
    "    data.loc[1:, 'volume_lastvolume_ratio'] = \\\n",
    "        (data['volume'][1:].values - data['volume'][:-1].values) \\\n",
    "        / data['volume'][:-1] \\\n",
    "            .replace(to_replace=0, method='ffill') \\\n",
    "            .replace(to_replace=0, method='bfill').values"
   ]
  },
  {
   "cell_type": "code",
   "execution_count": null,
   "metadata": {},
   "outputs": [],
   "source": [
    "    if ver == 'v1.rich':\n",
    "        data['inst_lastinst_ratio'] = np.zeros(len(data))\n",
    "        data.loc[1:, 'inst_lastinst_ratio'] = \\\n",
    "            (data['inst'][1:].values - data['inst'][:-1].values) \\\n",
    "            / data['inst'][:-1] \\\n",
    "                .replace(to_replace=0, method='ffill') \\\n",
    "                .replace(to_replace=0, method='bfill').values\n",
    "        data['frgn_lastfrgn_ratio'] = np.zeros(len(data))\n",
    "        data.loc[1:, 'frgn_lastfrgn_ratio'] = \\\n",
    "            (data['frgn'][1:].values - data['frgn'][:-1].values) \\\n",
    "            / data['frgn'][:-1] \\\n",
    "                .replace(to_replace=0, method='ffill') \\\n",
    "                .replace(to_replace=0, method='bfill').values\n",
    "\n",
    "    return data\n"
   ]
  },
  {
   "cell_type": "code",
   "execution_count": null,
   "metadata": {},
   "outputs": [],
   "source": [
    "def load_data(fpath, date_from, date_to, ver='v2'):\n",
    "    header = None if ver == 'v1' else 0\n",
    "    data = pd.read_csv(fpath, thousands=',', header=header, \n",
    "        converters={'date': lambda x: str(x)})"
   ]
  },
  {
   "cell_type": "code",
   "execution_count": null,
   "metadata": {},
   "outputs": [],
   "source": [
    "    if ver == 'v1':\n",
    "        data.columns = ['date', 'open', 'high', 'low', 'close', 'volume']\n",
    "\n",
    "    # 데이터 전처리\n",
    "    data = preprocess(data)\n",
    "    \n",
    "    # 기간 필터링\n",
    "    data['date'] = data['date'].str.replace('-', '')\n",
    "    data = data[(data['date'] >= date_from) & (data['date'] <= date_to)]\n",
    "    data = data.dropna()"
   ]
  },
  {
   "cell_type": "code",
   "execution_count": null,
   "metadata": {},
   "outputs": [],
   "source": [
    "    # 차트 데이터 분리\n",
    "    chart_data = data[COLUMNS_CHART_DATA]\n",
    "\n",
    "    # 학습 데이터 분리\n",
    "    training_data = None\n",
    "    if ver == 'v1':\n",
    "        training_data = data[COLUMNS_TRAINING_DATA_V1]\n",
    "    elif ver == 'v1.rich':\n",
    "        training_data = data[COLUMNS_TRAINING_DATA_V1_RICH]\n",
    "    elif ver == 'v2':\n",
    "        data.loc[:, ['per', 'pbr', 'roe']] = \\\n",
    "            data[['per', 'pbr', 'roe']].apply(lambda x: x / 100)\n",
    "        training_data = data[COLUMNS_TRAINING_DATA_V2]\n",
    "        training_data = training_data.apply(np.tanh)\n",
    "    else:\n",
    "        raise Exception('Invalid version.')\n",
    "    \n",
    "    return chart_data, training_data"
   ]
  },
  {
   "cell_type": "code",
   "execution_count": null,
   "metadata": {},
   "outputs": [],
   "source": []
  },
  {
   "cell_type": "code",
   "execution_count": null,
   "metadata": {},
   "outputs": [],
   "source": []
  },
  {
   "cell_type": "code",
   "execution_count": null,
   "metadata": {},
   "outputs": [],
   "source": []
  }
 ],
 "metadata": {
  "kernelspec": {
   "display_name": "Python 3",
   "language": "python",
   "name": "python3"
  },
  "language_info": {
   "codemirror_mode": {
    "name": "ipython",
    "version": 3
   },
   "file_extension": ".py",
   "mimetype": "text/x-python",
   "name": "python",
   "nbconvert_exporter": "python",
   "pygments_lexer": "ipython3",
   "version": "3.7.9"
  }
 },
 "nbformat": 4,
 "nbformat_minor": 4
}
