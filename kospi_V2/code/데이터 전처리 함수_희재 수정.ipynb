{
 "cells": [
  {
   "cell_type": "code",
   "execution_count": 1,
   "metadata": {},
   "outputs": [],
   "source": [
    "import pandas as pd\n",
    "import numpy as np"
   ]
  },
  {
   "cell_type": "code",
   "execution_count": 18,
   "metadata": {},
   "outputs": [],
   "source": [
    "COLUMNS_CHART_DATA = ['date', 'open', 'high', 'low', 'close', 'volume']\n",
    "\n",
    "COLUMNS_TRAINING_DATA_V1 = [\n",
    "    'open_lastclose_ratio', 'high_close_ratio', 'low_close_ratio',\n",
    "    'close_lastclose_ratio', 'volume_lastvolume_ratio',\n",
    "    'close_ma5_ratio', 'volume_ma5_ratio',\n",
    "    'close_ma10_ratio', 'volume_ma10_ratio',\n",
    "    'close_ma20_ratio', 'volume_ma20_ratio',\n",
    "    'close_ma60_ratio', 'volume_ma60_ratio',\n",
    "    'close_ma120_ratio', 'volume_ma120_ratio',\n",
    "]\n",
    "\n",
    "COLUMNS_TRAINING_DATA_V1_RICH = [\n",
    "    'open_lastclose_ratio', 'high_close_ratio', 'low_close_ratio',\n",
    "    'close_lastclose_ratio', 'volume_lastvolume_ratio',\n",
    "    'close_ma5_ratio', 'volume_ma5_ratio',\n",
    "    'close_ma10_ratio', 'volume_ma10_ratio',\n",
    "    'close_ma20_ratio', 'volume_ma20_ratio',\n",
    "    'close_ma60_ratio', 'volume_ma60_ratio',\n",
    "    'close_ma120_ratio', 'volume_ma120_ratio',\n",
    "    'inst_lastinst_ratio', 'frgn_lastfrgn_ratio',\n",
    "    'inst_ma5_ratio', 'frgn_ma5_ratio',\n",
    "    'inst_ma10_ratio', 'frgn_ma10_ratio',\n",
    "    'inst_ma20_ratio', 'frgn_ma20_ratio',\n",
    "    'inst_ma60_ratio', 'frgn_ma60_ratio',\n",
    "    'inst_ma120_ratio', 'frgn_ma120_ratio',\n",
    "]\n",
    "\n",
    "COLUMNS_TRAINING_DATA_V2 = [\n",
    "    'per', 'pbr', 'roe',\n",
    "    'open_lastclose_ratio', 'high_close_ratio', 'low_close_ratio',\n",
    "    'close_lastclose_ratio', 'volume_lastvolume_ratio',\n",
    "    'close_ma5_ratio', 'volume_ma5_ratio',\n",
    "    'close_ma10_ratio', 'volume_ma10_ratio',\n",
    "    'close_ma20_ratio', 'volume_ma20_ratio',\n",
    "    'close_ma60_ratio', 'volume_ma60_ratio',\n",
    "    'close_ma120_ratio', 'volume_ma120_ratio',\n",
    "    'market_kospi_ma5_ratio', 'market_kospi_ma20_ratio', \n",
    "    'market_kospi_ma60_ratio', 'market_kospi_ma120_ratio', \n",
    "    'bond_k3y_ma5_ratio', 'bond_k3y_ma20_ratio', \n",
    "    'bond_k3y_ma60_ratio', 'bond_k3y_ma120_ratio'\n",
    "]"
   ]
  },
  {
   "cell_type": "code",
   "execution_count": 19,
   "metadata": {},
   "outputs": [],
   "source": [
    "def preprocess(data):\n",
    "    windows = [5, 10, 20, 60, 120]\n",
    "    for window in windows:\n",
    "        data['close_ma{}'.format(window)] = \\\n",
    "            data['Close'].rolling(window).mean()\n",
    "        data['volume_ma{}'.format(window)] = \\\n",
    "            data['Volume'].rolling(window).mean()\n",
    "        data['close_ma%d_ratio' % window] = \\\n",
    "            (data['Close'] - data['close_ma%d' % window]) \\\n",
    "            / data['close_ma%d' % window]\n",
    "        data['volume_ma%d_ratio' % window] = \\\n",
    "            (data['Volume'] - data['volume_ma%d' % window]) \\\n",
    "            / data['volume_ma%d' % window]\n",
    "\n",
    "    data['open_lastclose_ratio'] = np.zeros(len(data))\n",
    "    data.loc[1:, 'open_lastclose_ratio'] = \\\n",
    "        (data['Open'][1:].values - data['Close'][:-1].values) \\\n",
    "        / data['Close'][:-1].values\n",
    "    data['high_close_ratio'] = \\\n",
    "        (data['High'].values - data['Close'].values) \\\n",
    "        / data['Close'].values\n",
    "    data['low_close_ratio'] = \\\n",
    "        (data['Low'].values - data['Close'].values) \\\n",
    "        / data['Close'].values\n",
    "    data['close_lastclose_ratio'] = np.zeros(len(data))\n",
    "    data.loc[1:, 'close_lastclose_ratio'] = \\\n",
    "        (data['Close'][1:].values - data['Close'][:-1].values) \\\n",
    "        / data['Close'][:-1].values\n",
    "    data['volume_lastvolume_ratio'] = np.zeros(len(data))\n",
    "    data.loc[1:, 'volume_lastvolume_ratio'] = \\\n",
    "        (data['Volume'][1:].values - data['Volume'][:-1].values) \\\n",
    "        / data['Volume'][:-1] \\\n",
    "            .replace(to_replace=0, method='ffill') \\\n",
    "            .replace(to_replace=0, method='bfill').values\n",
    "\n",
    "    return data"
   ]
  },
  {
   "cell_type": "markdown",
   "metadata": {},
   "source": [
    "## V2 csv파일 생성"
   ]
  },
  {
   "cell_type": "code",
   "execution_count": 24,
   "metadata": {},
   "outputs": [],
   "source": [
    "kospi20=['LG전자','이마트','기아차','SK하이닉스','한국전력',\\\n",
    "'현대백화점','셀트리온','KB금융','LG화학','아모레퍼시픽','기업은행','현대모비스','대우조선해양','GS건설',\\\n",
    "'S-Oil','삼성전자','현대차','대한항공'] #'SK텔레콤','CJ제일제당'\n",
    "\n",
    "for kospi in kospi20:\n",
    "    v1 = pd.read_csv(\"../../kospi_V1/data/V1/{}_V1.csv\".format(kospi))\n",
    "    del v1['Unnamed: 0']\n",
    "    v2 = preprocess(v1)\n",
    "    v2.to_csv(\"../../kospi_V2/data/{}_V2.csv\".format(kospi), index=False)"
   ]
  },
  {
   "cell_type": "markdown",
   "metadata": {},
   "source": [
    "## V2 + "
   ]
  }
 ],
 "metadata": {
  "kernelspec": {
   "display_name": "Python 3",
   "language": "python",
   "name": "python3"
  },
  "language_info": {
   "codemirror_mode": {
    "name": "ipython",
    "version": 3
   },
   "file_extension": ".py",
   "mimetype": "text/x-python",
   "name": "python",
   "nbconvert_exporter": "python",
   "pygments_lexer": "ipython3",
   "version": "3.6.9"
  }
 },
 "nbformat": 4,
 "nbformat_minor": 4
}
