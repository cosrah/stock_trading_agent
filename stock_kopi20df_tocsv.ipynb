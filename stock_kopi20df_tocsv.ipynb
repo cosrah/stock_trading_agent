{
 "cells": [
  {
   "cell_type": "code",
   "execution_count": 1,
   "metadata": {},
   "outputs": [],
   "source": [
    "import pandas as pd\n",
    "import numpy as np"
   ]
  },
  {
   "cell_type": "code",
   "execution_count": 2,
   "metadata": {},
   "outputs": [],
   "source": [
    "stock_df = pd.read_csv('./stock_df/marcap-2014.csv')"
   ]
  },
  {
   "cell_type": "code",
   "execution_count": 4,
   "metadata": {},
   "outputs": [],
   "source": [
    "kospi20=['S-Oil','현대차','SK텔레콤','LG전자','이마트','기아차','SK하이닉스','한국전력','대한항공','현대백화점','셀트리온','KB금융','LG화학','아모레퍼시픽','기업은행','현대모비스','대우조선해양','GS건설', 'CJ제일제당','삼성전자']"
   ]
  },
  {
   "cell_type": "code",
   "execution_count": 15,
   "metadata": {},
   "outputs": [
    {
     "data": {
      "text/plain": [
       "['S-Oil',\n",
       " '현대차',\n",
       " 'SK텔레콤',\n",
       " 'LG전자',\n",
       " '이마트',\n",
       " '기아차',\n",
       " 'SK하이닉스',\n",
       " '한국전력',\n",
       " '대한항공',\n",
       " '현대백화점',\n",
       " '셀트리온',\n",
       " 'KB금융',\n",
       " 'LG화학',\n",
       " '아모레퍼시픽',\n",
       " '기업은행',\n",
       " '현대모비스',\n",
       " '대우조선해양',\n",
       " 'GS건설',\n",
       " 'CJ제일제당',\n",
       " '삼성전자']"
      ]
     },
     "execution_count": 15,
     "metadata": {},
     "output_type": "execute_result"
    }
   ],
   "source": [
    "kospi20"
   ]
  },
  {
   "cell_type": "code",
   "execution_count": 35,
   "metadata": {},
   "outputs": [],
   "source": [
    "kospi20=['S-Oil','현대차','SK텔레콤','LG전자','이마트','기아차','SK하이닉스','한국전력','대한항공','현대백화점','셀트리온','KB금융','LG화학','아모레퍼시픽','기업은행','현대모비스','대우조선해양','GS건설', 'CJ제일제당','삼성전자']\n",
    "for kospi in kospi20:\n",
    "    stock_df = pd.DataFrame(columns =['Date','Open', 'High', 'Low', 'Close', 'Volume'])\n",
    "    for year in range(2014,2020):\n",
    "        temp_df = pd.read_csv('./stock_df/marcap-{}.csv'.format(year))\n",
    "        temp_df = temp_df[temp_df['Name'] == kospi]\n",
    "        temp_df = temp_df[['Date','Open', 'High', 'Low', 'Close', 'Volume']]\n",
    "        stock_df = pd.concat([stock_df, temp_df])\n",
    "        stock_df.reset_index(drop = True, inplace = True)\n",
    "    stock_df.to_csv('./stock_df/stock_df/{}_stock.csv'.format(kospi))"
   ]
  },
  {
   "cell_type": "code",
   "execution_count": 29,
   "metadata": {},
   "outputs": [],
   "source": [
    "kospi20=['S-Oil','현대차','SK텔레콤','LG전자','이마트','기아차','SK하이닉스','한국전력','대한항공','현대백화점','셀트리온','KB금융','LG화학','아모레퍼시픽','기업은행','현대모비스','대우조선해양','GS건설', 'CJ제일제당','삼성전자']\n",
    "stock_df = pd.DataFrame(columns =['Date','Open', 'High', 'Low', 'Close', 'Volume'])\n",
    "for year in range(2014,2020):\n",
    "    temp_df = pd.read_csv('./stock_df/marcap-{}.csv'.format(year))\n",
    "    temp_df = temp_df[temp_df['Name'] == kospi]\n",
    "    temp_df = temp_df[['Date','Open', 'High', 'Low', 'Close', 'Volume']]\n",
    "    stock_df = pd.concat([stock_df, temp_df])"
   ]
  },
  {
   "cell_type": "code",
   "execution_count": null,
   "metadata": {},
   "outputs": [],
   "source": []
  }
 ],
 "metadata": {
  "kernelspec": {
   "display_name": "Python 3",
   "language": "python",
   "name": "python3"
  },
  "language_info": {
   "codemirror_mode": {
    "name": "ipython",
    "version": 3
   },
   "file_extension": ".py",
   "mimetype": "text/x-python",
   "name": "python",
   "nbconvert_exporter": "python",
   "pygments_lexer": "ipython3",
   "version": "3.8.3"
  }
 },
 "nbformat": 4,
 "nbformat_minor": 4
}
