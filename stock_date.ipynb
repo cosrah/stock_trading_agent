{
 "cells": [
  {
   "cell_type": "code",
   "execution_count": 1,
   "metadata": {},
   "outputs": [],
   "source": [
    "import pandas as pd"
   ]
  },
  {
   "cell_type": "code",
   "execution_count": 59,
   "metadata": {},
   "outputs": [],
   "source": [
    "stock_14 = pd.read_csv('./stock_df/marcap-2014.csv')\n",
    "stock_15 = pd.read_csv('./stock_df/marcap-2015.csv')\n",
    "stock_16 = pd.read_csv('./stock_df/marcap-2016.csv')\n",
    "stock_17 = pd.read_csv('./stock_df/marcap-2017.csv')\n",
    "stock_18 = pd.read_csv('./stock_df/marcap-2018.csv')\n",
    "stock_19 = pd.read_csv('./stock_df/marcap-2019.csv')\n",
    "stock_20 = pd.read_csv('./stock_df/marcap-2020.csv')"
   ]
  },
  {
   "cell_type": "code",
   "execution_count": 60,
   "metadata": {},
   "outputs": [],
   "source": [
    "date_2014 = stock_14.drop_duplicates('Date',keep='first')['Date']\n",
    "date_2015 = stock_15.drop_duplicates('Date',keep='first')['Date']\n",
    "date_2016 = stock_16.drop_duplicates('Date',keep='first')['Date']\n",
    "date_2017 = stock_17.drop_duplicates('Date',keep='first')['Date']\n",
    "date_2018 = stock_18.drop_duplicates('Date',keep='first')['Date']\n",
    "date_2019 = stock_19.drop_duplicates('Date',keep='first')['Date']\n",
    "date_2020 = stock_20.drop_duplicates('Date',keep='first')['Date']\n"
   ]
  },
  {
   "cell_type": "code",
   "execution_count": 63,
   "metadata": {},
   "outputs": [],
   "source": [
    "stock_date = pd.concat([date_2014,date_2015,date_2016,date_2017,date_2018,date_2019,date_2020])"
   ]
  }
 ],
 "metadata": {
  "kernelspec": {
   "display_name": "Python 3",
   "language": "python",
   "name": "python3"
  },
  "language_info": {
   "codemirror_mode": {
    "name": "ipython",
    "version": 3
   },
   "file_extension": ".py",
   "mimetype": "text/x-python",
   "name": "python",
   "nbconvert_exporter": "python",
   "pygments_lexer": "ipython3",
   "version": "3.8.3"
  }
 },
 "nbformat": 4,
 "nbformat_minor": 4
}
