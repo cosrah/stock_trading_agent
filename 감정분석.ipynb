{
 "cells": [
  {
   "cell_type": "code",
   "execution_count": 6,
   "metadata": {},
   "outputs": [
    {
     "name": "stdout",
     "output_type": "stream",
     "text": [
      "Collecting konlpy\n",
      "  Downloading konlpy-0.5.2-py2.py3-none-any.whl (19.4 MB)\n",
      "Requirement already satisfied: numpy>=1.6 in c:\\users\\10\\anaconda3\\lib\\site-packages (from konlpy) (1.18.5)\n",
      "Collecting tweepy>=3.7.0\n",
      "  Downloading tweepy-3.9.0-py2.py3-none-any.whl (30 kB)\n",
      "Collecting beautifulsoup4==4.6.0\n",
      "  Downloading beautifulsoup4-4.6.0-py3-none-any.whl (86 kB)\n",
      "Collecting JPype1>=0.7.0\n",
      "  Downloading JPype1-1.0.2-cp38-cp38-win_amd64.whl (1.6 MB)\n",
      "Requirement already satisfied: colorama in c:\\users\\10\\anaconda3\\lib\\site-packages (from konlpy) (0.4.3)\n",
      "Requirement already satisfied: lxml>=4.1.0 in c:\\users\\10\\anaconda3\\lib\\site-packages (from konlpy) (4.5.2)\n",
      "Requirement already satisfied: six>=1.10.0 in c:\\users\\10\\anaconda3\\lib\\site-packages (from tweepy>=3.7.0->konlpy) (1.15.0)\n",
      "Requirement already satisfied: requests[socks]>=2.11.1 in c:\\users\\10\\anaconda3\\lib\\site-packages (from tweepy>=3.7.0->konlpy) (2.24.0)\n",
      "Collecting requests-oauthlib>=0.7.0\n",
      "  Using cached requests_oauthlib-1.3.0-py2.py3-none-any.whl (23 kB)\n",
      "Requirement already satisfied: certifi>=2017.4.17 in c:\\users\\10\\anaconda3\\lib\\site-packages (from requests[socks]>=2.11.1->tweepy>=3.7.0->konlpy) (2020.6.20)\n",
      "Requirement already satisfied: urllib3!=1.25.0,!=1.25.1,<1.26,>=1.21.1 in c:\\users\\10\\anaconda3\\lib\\site-packages (from requests[socks]>=2.11.1->tweepy>=3.7.0->konlpy) (1.25.9)\n",
      "Requirement already satisfied: chardet<4,>=3.0.2 in c:\\users\\10\\anaconda3\\lib\\site-packages (from requests[socks]>=2.11.1->tweepy>=3.7.0->konlpy) (3.0.4)\n",
      "Requirement already satisfied: idna<3,>=2.5 in c:\\users\\10\\anaconda3\\lib\\site-packages (from requests[socks]>=2.11.1->tweepy>=3.7.0->konlpy) (2.10)\n",
      "Requirement already satisfied: PySocks!=1.5.7,>=1.5.6; extra == \"socks\" in c:\\users\\10\\anaconda3\\lib\\site-packages (from requests[socks]>=2.11.1->tweepy>=3.7.0->konlpy) (1.7.1)\n",
      "Collecting oauthlib>=3.0.0\n",
      "  Using cached oauthlib-3.1.0-py2.py3-none-any.whl (147 kB)\n",
      "Installing collected packages: oauthlib, requests-oauthlib, tweepy, beautifulsoup4, JPype1, konlpy\n",
      "  Attempting uninstall: beautifulsoup4\n",
      "    Found existing installation: beautifulsoup4 4.9.1\n",
      "    Uninstalling beautifulsoup4-4.9.1:\n",
      "      Successfully uninstalled beautifulsoup4-4.9.1\n",
      "Successfully installed JPype1-1.0.2 beautifulsoup4-4.6.0 konlpy-0.5.2 oauthlib-3.1.0 requests-oauthlib-1.3.0 tweepy-3.9.0\n"
     ]
    }
   ],
   "source": [
    "!pip install konlpy"
   ]
  },
  {
   "cell_type": "code",
   "execution_count": 7,
   "metadata": {
    "scrolled": true
   },
   "outputs": [],
   "source": [
    "import pandas as pd\n",
    "import numpy as np\n",
    "import konlpy\n",
    "from konlpy.tag import Okt\n",
    "from collections import Counter"
   ]
  },
  {
   "cell_type": "code",
   "execution_count": 2,
   "metadata": {},
   "outputs": [],
   "source": [
    "kospi20=['S-Oil','현대차','SK텔레콤','LG전자','이마트','기아차','SK하이닉스','한국전력','대한항공','현대백화점','셀트리온','KB금융','LG화학','아모레퍼시픽','기업은행','현대모비스','대우조선해양','GS건설', 'CJ제일제당','삼성전자']"
   ]
  },
  {
   "cell_type": "code",
   "execution_count": 3,
   "metadata": {},
   "outputs": [],
   "source": [
    "stopwords = ['의', '가', '이', '은', '들', '는', '좀', '잘', '걍', '과', '도', '를', '으로', '자', '에', '와', '한', '하다']"
   ]
  },
  {
   "cell_type": "code",
   "execution_count": null,
   "metadata": {},
   "outputs": [],
   "source": [
    "import konlpy\n",
    "from konlpy.tag import Okt\n",
    "\n",
    "okt = Okt()\n",
    "#test_data_cj\n",
    "X_test = []\n",
    "test_data_cj = test_data_cj.dropna()\n",
    "for sentence in test_data_cj['Title']:\n",
    "  #print(sentence)\n",
    "  #break;\n",
    "    if sentence is not None:\n",
    "        temp_X = []\n",
    "        temp_X = okt.morphs(sentence, stem=True) # 토큰화\n",
    "        temp_X = [word for word in temp_X if not word in stopwords] # 불용어 제거\n",
    "        X_test.append(temp_X)"
   ]
  },
  {
   "cell_type": "code",
   "execution_count": null,
   "metadata": {},
   "outputs": [],
   "source": [
    "words = []\n",
    "for tokens in X_test:\n",
    "    for token in tokens:  \n",
    "        words.append(token)\n",
    "\n",
    "\n",
    "#X_test"
   ]
  },
  {
   "cell_type": "code",
   "execution_count": null,
   "metadata": {},
   "outputs": [],
   "source": [
    "from collections import Counter\n",
    "\n",
    "count = Counter(words)\n",
    "\n",
    "tag_count = []\n",
    "tags = []\n",
    "\n",
    "for n, c in count.most_common(500):\n",
    "    dics = {'tag': n, 'count': c}\n",
    "\n",
    "    if len(dics['tag']) >= 2 and len(tags) <= 250:\n",
    "        tag_count.append(dics)\n",
    "        tags.append(dics['tag'])\n",
    "\n",
    "for tag in tag_count:\n",
    "    print(\" {:<14}\".format(tag['tag']), end='\\t')\n",
    "    print(\"{}\".format(tag['count']))"
   ]
  },
  {
   "cell_type": "code",
   "execution_count": 8,
   "metadata": {},
   "outputs": [],
   "source": [
    "for kospi in ['S-Oil','삼성전자']:\n",
    "    kospi_df = pd.read_csv('./article_df/selected20/{}_df.csv'.format(kospi))\n",
    "    okt = Okt()\n",
    "    #test_data_cj\n",
    "    X_test = []\n",
    "    kos = kospi_df.dropna()\n",
    "    for sentence in kos['Title']:\n",
    "      #print(sentence)\n",
    "      #break;\n",
    "        if sentence is not None:\n",
    "            temp_X = []\n",
    "            temp_X = okt.morphs(sentence, stem=True) # 토큰화\n",
    "            temp_X = [word for word in temp_X if not word in stopwords] # 불용어 제거\n",
    "            X_test.append(temp_X)\n",
    "    words = []\n",
    "    for tokens in X_test:\n",
    "        for token in tokens:  \n",
    "            words.append(token)\n",
    "\n",
    "    count = Counter(words)\n",
    "\n",
    "    tag_count = []\n",
    "    tags = []\n",
    "\n",
    "    for n, c in count.most_common(500):\n",
    "        dics = {'tag': n, 'count': c}\n",
    "\n",
    "        if len(dics['tag']) >= 2 and len(tags) <= 250:\n",
    "            tag_count.append(dics)\n",
    "            tags.append(dics['tag'])\n",
    "\n",
    "#     for tag in tag_count:\n",
    "#         print(\" {:<14}\".format(tag['tag']), end='\\t')\n",
    "#         print(\"{}\".format(tag['count']))\n",
    "    "
   ]
  }
 ],
 "metadata": {
  "kernelspec": {
   "display_name": "Python 3",
   "language": "python",
   "name": "python3"
  },
  "language_info": {
   "codemirror_mode": {
    "name": "ipython",
    "version": 3
   },
   "file_extension": ".py",
   "mimetype": "text/x-python",
   "name": "python",
   "nbconvert_exporter": "python",
   "pygments_lexer": "ipython3",
   "version": "3.8.3"
  }
 },
 "nbformat": 4,
 "nbformat_minor": 4
}
